{
 "cells": [
  {
   "cell_type": "markdown",
   "metadata": {},
   "source": [
    "Neuromorphic engineering I"
   ]
  },
  {
   "cell_type": "markdown",
   "metadata": {},
   "source": [
    "## Lab 10: Silicon Synaptic Circuits"
   ]
  },
  {
   "cell_type": "markdown",
   "metadata": {},
   "source": [
    "Team member 1: \n",
    "\n",
    "Team member 2: \n",
    "\n",
    "Date:"
   ]
  },
  {
   "cell_type": "markdown",
   "metadata": {},
   "source": [
    "----------------------------------------------------------------------------------------------------------------------"
   ]
  },
  {
   "cell_type": "markdown",
   "metadata": {},
   "source": [
    "This week, we will see how synaptic circuits generate currents when stimulated by voltage pulses. Specifically we will measure the response of the synapse to a single pulse, and to a sequence of spikes.\n",
    "\n",
    "The objectives of this lab are to:\n",
    "- Analyze log-domain synapse circuits.\n",
    "- Measure the response properties of the diff-pair integrator (DPI)."
   ]
  },
  {
   "cell_type": "markdown",
   "metadata": {},
   "source": [
    "## 1 Reading"
   ]
  },
  {
   "cell_type": "markdown",
   "metadata": {},
   "source": [
    "The following papers give usefull insight on the subject:\n",
    "\n",
    "- [**Bartolozzi, Indiveri, 2007**  Synaptic dynamics in analog VLSI](https://doi.org/10.1162/neco.2007.19.10.2581)\n",
    "\n"
   ]
  },
  {
   "cell_type": "markdown",
   "metadata": {},
   "source": [
    "## 2 Prelab"
   ]
  },
  {
   "cell_type": "markdown",
   "metadata": {},
   "source": [
    "<div id=\"fig:02:wta-schematic\"\n",
    "    style=\" border-radius: 5px;\n",
    "                border: 1px solid rgba(0,0,0,0.1);\n",
    "                padding: 1em;\n",
    "    \">\n",
    "\n",
    "![DPI synapse](figs/DPIsynapse.png)\n",
    "\n",
    "**Figure 1**: Schematic of a Differential Pair Integrator (DPI) circuit\n",
    "\n",
    "</div>"
   ]
  },
  {
   "cell_type": "markdown",
   "metadata": {},
   "source": [
    "All of the following prelab questions refer to the circuit schematic shown in **Figure 1**."
   ]
  },
  {
   "cell_type": "markdown",
   "metadata": {},
   "source": [
    "* <font color=#108ee9> Write the equations characterizing\n",
    "$I_{\\rm w}, I_{\\rm thr} , I_{\\rm in}, I_{\\tau}, I_{\\rm syn}, I_C$\n",
    "assuming all corresponding FETs are in saturation and operate in weak-inversion.\n",
    "</font>"
   ]
  },
  {
   "cell_type": "markdown",
   "metadata": {},
   "source": [
    "<div markdown=\"1\" style=\" border: 1px dashed magenta; border-radius: 5px; /*background-color: #d1a2a2; */ margin: 1em 0 1em 0em; padding: 1em 1em 0.5em 1em\">\n",
    "\n",
    "\n",
    "</div>"
   ]
  },
  {
   "cell_type": "markdown",
   "metadata": {},
   "source": [
    "* <font color=#108ee9> What is the time constant of the circuit? </div>"
   ]
  },
  {
   "cell_type": "markdown",
   "metadata": {},
   "source": [
    "<div markdown=\"1\" style=\" border: 1px dashed magenta; border-radius: 5px; /*background-color: #d1a2a2; */ margin: 1em 0 1em 0em; padding: 1em 1em 0.5em 1em\">\n",
    "\n",
    "\n",
    "</div>"
   ]
  },
  {
   "cell_type": "markdown",
   "metadata": {},
   "source": [
    "* <font color=#108ee9> Derive the circuit's response to a step input assuming\n",
    "\n",
    "</font>\n",
    "\n",
    "$$\n",
    "\\left\\{\n",
    "\\begin{split}\n",
    "& I_{w}(t < 0) = 0 \\\\\n",
    "& I_{w}(t > 0) \\gg I_{\\tau}\n",
    "\\end{split}\n",
    "\\right.\n",
    "$$"
   ]
  },
  {
   "cell_type": "markdown",
   "metadata": {},
   "source": [
    "<div markdown=\"1\" style=\" border: 1px dashed magenta; border-radius: 5px; /*background-color: #d1a2a2; */ margin: 1em 0 1em 0em; padding: 1em 1em 0.5em 1em\">\n",
    "\n",
    "\n",
    "\n",
    "</div>"
   ]
  },
  {
   "cell_type": "markdown",
   "metadata": {},
   "source": [
    "* <font color=#108ee9> Derive the circuit's response to a step input assuming\n",
    "</font>\n",
    "\n",
    "$$\n",
    "\\left\\{\n",
    "\\begin{split}\n",
    "& I_{w}(t < 0) \\gg I_{\\tau} \\\\\n",
    "& I_{w}(t > 0) = 0\n",
    "\\end{split}\n",
    "\\right.\n",
    "$$"
   ]
  },
  {
   "cell_type": "markdown",
   "metadata": {},
   "source": [
    "\n",
    "<div markdown=\"1\" style=\" border: 1px dashed magenta; border-radius: 5px; /*background-color: #d1a2a2; */ margin: 1em 0 1em 0em; padding: 1em 1em 0.5em 1em\">\n",
    "\n",
    "\n",
    "</div>"
   ]
  },
  {
   "cell_type": "markdown",
   "metadata": {},
   "source": [
    "* Suppose we stimulate the circuit with a regular spike train\n",
    "of frequency $f$ (high enough). <font color=#108ee9> What happens to $I_{\\rm syn}$\n",
    "in steady-state (average value)? </font>"
   ]
  },
  {
   "cell_type": "markdown",
   "metadata": {},
   "source": [
    "\n",
    "<div markdown=\"1\" style=\" border: 1px dashed magenta; border-radius: 5px; /*background-color: #d1a2a2; */ margin: 1em 0 1em 0em; padding: 1em 1em 0.5em 1em\">\n",
    "\n",
    "\n",
    "</div>"
   ]
  },
  {
   "cell_type": "markdown",
   "metadata": {},
   "source": [
    "* <font color=#108ee9> In what conditions (tau and thr) is the step response dependent only on $I_{w}$?\n",
    "</font>"
   ]
  },
  {
   "cell_type": "markdown",
   "metadata": {},
   "source": [
    "<div markdown=\"1\" style=\" border: 1px dashed magenta; border-radius: 5px; /*background-color: #d1a2a2; */ margin: 1em 0 1em 0em; padding: 1em 1em 0.5em 1em\">\n",
    "\n",
    "\n",
    "\n",
    "</div>"
   ]
  },
  {
   "cell_type": "markdown",
   "metadata": {},
   "source": [
    "# 3 Setup"
   ]
  },
  {
   "cell_type": "markdown",
   "metadata": {},
   "source": [
    "Import necessary python libraries. The cell below may be collapsed."
   ]
  },
  {
   "cell_type": "code",
   "execution_count": null,
   "metadata": {
    "tags": []
   },
   "outputs": [],
   "source": [
    "import time # for time.sleep(seconds)\n",
    "import numpy as np # numpy for arrays etc\n",
    "from scipy import stats, interpolate # for stats.linregress\n",
    "import matplotlib\n",
    "import matplotlib.pyplot as plt # for plotting\n",
    "import matplotlib\n",
    "plt.rcParams.update({'font.size': 10}) # make the detault font size larger for your readers\n",
    "matplotlib.rcParams['pdf.fonttype'] = 42 # save fonts as type that are not outlined in illustrator or other drawing programs\n",
    "from engineering_notation import EngNumber as ef # format numbers in engineering format quickly, e.g. ef(2e-9)='2n' https://pypi.org/project/engineering-notation/\n",
    "from pathlib import Path # used for saving data\n",
    "\n",
    "datapath = Path('data/dpi') # make a data folder to save your data called data/lab5\n",
    "datapath.mkdir(parents=True, exist_ok=True)\n",
    "from jupyter_save_load_vars import savevars, loadvars\n",
    "from tqdm import tqdm\n",
    "\n",
    "from IPython.display import display, Markdown, Latex, clear_output\n",
    "\n",
    "import pyplane # for type hinting of biasgen constants\n",
    "from ne1 import Coach # import Coach() class\n",
    "import logging\n",
    "# below lines are notebook magic for debugging, you can uncomment them when debugging the Coach() class\n",
    "# %load_ext autoreload\n",
    "# %autoreload explicit\n",
    "# %aimport ne1"
   ]
  },
  {
   "cell_type": "code",
   "execution_count": null,
   "metadata": {},
   "outputs": [],
   "source": [
    "# create a Plane object and open the communication\n",
    "c=Coach(logging_level=logging.INFO) # NOTE change to INFO to reduce clutter - create a Coach object called p; you will use it to talk to class chip, change to logging.DEBUG for troubleshooting\n",
    "c.open()"
   ]
  },
  {
   "cell_type": "markdown",
   "metadata": {},
   "source": [
    "## 3.1 Chip configuration"
   ]
  },
  {
   "cell_type": "markdown",
   "metadata": {},
   "source": [
    "* To measure DPI synapse:"
   ]
  },
  {
   "cell_type": "code",
   "execution_count": null,
   "metadata": {},
   "outputs": [],
   "source": [
    "c.setup_dpi()"
   ]
  },
  {
   "cell_type": "markdown",
   "metadata": {},
   "source": [
    "## 3.2 C2F"
   ]
  },
  {
   "cell_type": "markdown",
   "metadata": {},
   "source": [
    "* To set up the C2F circuit:"
   ]
  },
  {
   "cell_type": "code",
   "execution_count": null,
   "metadata": {},
   "outputs": [],
   "source": [
    "c.setup_c2f()\n",
    "# we also need to setup the output rail-to-rail buffer\n",
    "c.setup_r2r_buffer()\n",
    "# calibration of the c2f\n",
    "C2F = c.DPI_C2F(c)"
   ]
  },
  {
   "cell_type": "markdown",
   "metadata": {},
   "source": [
    "# 4 DPI synapse"
   ]
  },
  {
   "cell_type": "markdown",
   "metadata": {},
   "source": [
    "The **DPI synapse** receives a voltage pulse train, $V_{pulse}$, as input and\n",
    "outputs a corresponding synaptic current, $I_{syn}$. Additionally, the synaptic voltage, $V_{syn}$, is provided.\n",
    "Bias parameters $V_{weight}$ & $V_{tau}$ affect the amplitude and decay of the response, while $V_{thr}$ acts as an additional weight bias. $C_{syn}$ sizing was chosen for a capacitance of 2pF. "
   ]
  },
  {
   "cell_type": "markdown",
   "metadata": {},
   "source": [
    "<div id=\"fig:02:wta-schematic\"\n",
    "    style=\" border-radius: 5px;\n",
    "                border: 1px solid rgba(0,0,0,0.1);\n",
    "                padding: 1em;\n",
    "    \">\n",
    "    \n",
    "![CoACH DPI synapse circuit](figs/coachDPIsynapse.png)\n",
    "\n",
    "**Figure 2: Schematic of the DPI circuit present on the CoACH board**\n",
    "\n",
    "</div>"
   ]
  },
  {
   "cell_type": "markdown",
   "metadata": {},
   "source": [
    "**$$\n",
    "\\begin{alignedat}{4}\n",
    "& V_{\\rm syn}  && = {\\rm DPI\\_VSYN\\_VO} && = \\quad && {\\rm ADC[14]}\n",
    "\\\\\n",
    "& I_{\\rm syn} && = {\\rm DPI\\_ISYN1\\_UO} && = &&  {\\rm C2F[9]}\n",
    "\\end{alignedat}\n",
    "$$**"
   ]
  },
  {
   "cell_type": "markdown",
   "metadata": {},
   "source": [
    "The task of this exercise it to tune the parameters and observe the behavior of the DPI synapse."
   ]
  },
  {
   "cell_type": "markdown",
   "metadata": {},
   "source": [
    "## 4.1 Basic impulse response"
   ]
  },
  {
   "cell_type": "markdown",
   "metadata": {},
   "source": [
    "- **Set parameters**"
   ]
  },
  {
   "cell_type": "markdown",
   "metadata": {},
   "source": [
    "Do you still remember how the bias gen works? \n",
    "\n",
    "The DPI is a current mode circuit, so it is useful to think in terms of the biases not simply as the voltages\n",
    "applied to the gates, but as the current that are being mirrored through the respective devices."
   ]
  },
  {
   "cell_type": "markdown",
   "metadata": {},
   "source": [
    "* <font color=#108ee9> What are the resulting currents on the CoACH board set from the cell below? </font>"
   ]
  },
  {
   "cell_type": "code",
   "execution_count": null,
   "metadata": {},
   "outputs": [],
   "source": [
    "c.set_bias(\n",
    "    pyplane.Coach.BiasAddress.DPI_VTAU_P,\n",
    "    pyplane.Coach.BiasType.P,\n",
    "    pyplane.Coach.BiasGenMasterCurrent.I60pA,\n",
    "    25\n",
    ")\n",
    "\n",
    "c.set_bias(\n",
    "    pyplane.Coach.BiasAddress.DPI_VTHR_N,\n",
    "    pyplane.Coach.BiasType.P,\n",
    "    pyplane.Coach.BiasGenMasterCurrent.I60pA,\n",
    "    30\n",
    ")\n",
    "\n",
    "c.set_bias(\n",
    "    pyplane.Coach.BiasAddress.DPI_VWEIGHT_N,\n",
    "    pyplane.Coach.BiasType.N,\n",
    "    pyplane.Coach.BiasGenMasterCurrent.I30nA,\n",
    "    100\n",
    ")\n",
    "\n",
    "c.set_bias(\n",
    "    pyplane.Coach.BiasAddress.PEX_VTAU_N,\n",
    "    pyplane.Coach.BiasType.N,\n",
    "    pyplane.Coach.BiasGenMasterCurrent.I60pA,\n",
    "    10\n",
    ")"
   ]
  },
  {
   "cell_type": "markdown",
   "metadata": {},
   "source": [
    "<div markdown=\"1\" style=\" border: 1px dashed magenta; border-radius: 5px; /*background-color: #d1a2a2; */ margin: 1em 0 1em 0em; padding: 1em 1em 0.5em 1em\">\n",
    "\n",
    "\n",
    "\n",
    "</div>"
   ]
  },
  {
   "cell_type": "markdown",
   "metadata": {},
   "source": [
    "- **Data acquisition**"
   ]
  },
  {
   "cell_type": "markdown",
   "metadata": {},
   "source": [
    "In the data acquisition phase of each section of this lab, we will measure the response of the DPI synapse to two\n",
    "input pulses, collecting 10 samples per pulse response and recording the output."
   ]
  },
  {
   "cell_type": "code",
   "execution_count": null,
   "metadata": {},
   "outputs": [],
   "source": [
    "N_pulses = 2 # for each trial, send 2 input pulses\n",
    "N_samples_per_pulse = 15 # for each input pulse, sample 10 points\n",
    "\n",
    "N_samples = N_pulses*N_samples_per_pulse\n",
    "\n",
    "dT = 0.02 # delta t between the samples, DO NOT CHANGE\n",
    "\n",
    "t = np.arange(N_samples)*dT\n",
    "vsyn = np.zeros(N_samples)\n",
    "isyn = np.zeros(N_samples)\n",
    "\n",
    "for k in tqdm(range(N_pulses)):\n",
    "    c.send_dpi_pulse()\n",
    "    \n",
    "    for i in range(N_samples_per_pulse):\n",
    "        vsyn[k*N_samples_per_pulse+i] += c.measure_dpi_vsyn()\n",
    "        isyn[k*N_samples_per_pulse+i] += c.measure_c2f_freqs(duration=dT)[9]"
   ]
  },
  {
   "cell_type": "markdown",
   "metadata": {},
   "source": [
    "- **Plot the data**"
   ]
  },
  {
   "cell_type": "code",
   "execution_count": null,
   "metadata": {
    "scrolled": true
   },
   "outputs": [],
   "source": [
    "plt.plot(t, vsyn, '-*')\n",
    "plt.xlabel('$t$ [s]')\n",
    "plt.ylabel('$V_{\\\\rm syn}$ [V]')\n",
    "plt.title('Figure 3: Synaptic voltage when applying pulses at $t = 0$s and $t = 0.3$s')\n",
    "plt.grid()\n",
    "plt.show()\n",
    "\n",
    "plt.plot(t, C2F.f2i(isyn),'-*')\n",
    "plt.xlabel('$t$ [s]')\n",
    "plt.ylabel('$I_{\\\\rm syn}$ [A]')\n",
    "plt.title('Figure 4: Synaptic current when applying pulses at $t = 0$s and $t = 0.3$s')\n",
    "plt.grid()\n",
    "plt.show()"
   ]
  },
  {
   "cell_type": "code",
   "execution_count": null,
   "metadata": {},
   "outputs": [],
   "source": [
    "# if the data looks nice, save it!\n",
    "savevars(datapath/'baseline')"
   ]
  },
  {
   "cell_type": "code",
   "execution_count": null,
   "metadata": {},
   "outputs": [],
   "source": [
    "# maybe you need to load your saved data?\n",
    "loadvars(datapath/'baseline')"
   ]
  },
  {
   "cell_type": "markdown",
   "metadata": {},
   "source": [
    " * <font color=#108ee9> How fine should our measurement be in time to be able to see the exponential behaviour\n",
    "   of $I_{\\rm syn}$? </font>"
   ]
  },
  {
   "cell_type": "markdown",
   "metadata": {},
   "source": [
    "<div markdown=\"1\" style=\" border: 1px dashed magenta; border-radius: 5px; /*background-color: #d1a2a2; */ margin: 1em 0 1em 0em; padding: 1em 1em 0.5em 1em\">\n",
    "\n",
    "</div>"
   ]
  },
  {
   "cell_type": "markdown",
   "metadata": {},
   "source": [
    "## 4.2 Different $I_{\\rm weight}$"
   ]
  },
  {
   "cell_type": "markdown",
   "metadata": {},
   "source": [
    "All the following exercise sections are identical to the one just completed. The only difference is we try to \n",
    "probe the behaviour of the device with different biasing conditions."
   ]
  },
  {
   "cell_type": "code",
   "execution_count": null,
   "metadata": {},
   "outputs": [],
   "source": [
    "# alias to the bias values set in the previous block\n",
    "c.set_dpi_baseline()\n",
    "\n",
    "fine_values = [20, 50, 100]"
   ]
  },
  {
   "cell_type": "markdown",
   "metadata": {},
   "source": [
    "- **Data acquisition**"
   ]
  },
  {
   "cell_type": "code",
   "execution_count": null,
   "metadata": {},
   "outputs": [],
   "source": [
    "N_pulses = 2 # for each trial, send 2 input pulses\n",
    "N_samples_per_pulse = 15 # for each input pulse, sample 10 points\n",
    "\n",
    "N_samples = N_pulses*N_samples_per_pulse\n",
    "\n",
    "dT = 0.02 # delta t between the samples, DO NOT CHANGE\n",
    "\n",
    "t = np.arange(N_samples)*dT\n",
    "vsyn = np.zeros([N_samples, len(fine_values)])\n",
    "isyn = np.zeros([N_samples, len(fine_values)])\n",
    "\n",
    "for idx, f in tqdm(enumerate(fine_values)):\n",
    "    c.set_bias(\n",
    "        pyplane.Coach.BiasAddress.DPI_VWEIGHT_N,\n",
    "        pyplane.Coach.BiasType.N,\n",
    "        pyplane.Coach.BiasGenMasterCurrent.I30nA,\n",
    "        f\n",
    "    )\n",
    "    time.sleep(0.1)\n",
    "    for k in range(N_pulses):\n",
    "        c.send_dpi_pulse()\n",
    "        \n",
    "        for i in range(N_samples_per_pulse):\n",
    "            vsyn[k*N_samples_per_pulse+i, idx] += c.measure_dpi_vsyn()\n",
    "            isyn[k*N_samples_per_pulse+i, idx] += c.measure_c2f_freqs(duration=dT)[9]"
   ]
  },
  {
   "cell_type": "markdown",
   "metadata": {},
   "source": [
    "* Plot data"
   ]
  },
  {
   "cell_type": "code",
   "execution_count": null,
   "metadata": {
    "scrolled": true
   },
   "outputs": [],
   "source": [
    "for idx, f in enumerate(fine_values):\n",
    "    plt.plot(t, vsyn[:,idx], '-*')\n",
    "plt.xlabel('$t$ [s]')\n",
    "plt.ylabel('$V_{\\\\rm syn}$ [V]')\n",
    "plt.title('Figure 5: Synaptic voltage when applying pulses at $t = 0$s and $t = 0.3$s')\n",
    "plt.legend([f\"$I_{{w}} = {ef(30e-9 * i * 3 / 255)}A$\" for i in fine_values])\n",
    "plt.grid()\n",
    "plt.show()\n",
    "\n",
    "for idx, f in enumerate(fine_values):\n",
    "    plt.plot(t, C2F.f2i(isyn[:,idx]),'-*')\n",
    "plt.xlabel('$t$ [s]')\n",
    "plt.ylabel('$I_{\\\\rm syn}$ [A]')\n",
    "plt.legend([f\"$I_{{w}} = {ef(30e-9 * i * 3 / 255)}A$\" for i in fine_values])\n",
    "plt.title('Figure 6: Synaptic current when applying pulses at $t = 0$s and $t = 0.3$s')\n",
    "plt.grid()\n",
    "plt.show()"
   ]
  },
  {
   "cell_type": "code",
   "execution_count": null,
   "metadata": {},
   "outputs": [],
   "source": [
    "# if the data looks nice, save it!\n",
    "savevars(datapath/'iweight')"
   ]
  },
  {
   "cell_type": "code",
   "execution_count": null,
   "metadata": {},
   "outputs": [],
   "source": [
    "# maybe you need to load your saved data?\n",
    "loadvars(datapath/'iweight')"
   ]
  },
  {
   "cell_type": "markdown",
   "metadata": {},
   "source": [
    "Figures 5 and 6 confirm the behaviour expected from theory:\n",
    "the larger $I_w$ (i.e. the weight of the synapse), the larger the current generated at the\n",
    "output, corresponding to a larger decrease in the voltage driving the gate of the output\n",
    "transistor. If the C2F characteristic were to be linear, Figure 6 would also confirm the\n",
    "linear dependency of the current to $I_w$, given that approximately doubling $I_w$ causes a\n",
    "doubling in the output current."
   ]
  },
  {
   "cell_type": "markdown",
   "metadata": {},
   "source": [
    "## 4.3 Different $I_{tau}$"
   ]
  },
  {
   "cell_type": "code",
   "execution_count": null,
   "metadata": {},
   "outputs": [],
   "source": [
    "# alias to the bias values set in the previous block\n",
    "c.set_dpi_baseline()\n",
    "\n",
    "fine_values = [2, 5, 10]"
   ]
  },
  {
   "cell_type": "markdown",
   "metadata": {},
   "source": [
    "- **Data acquisition**"
   ]
  },
  {
   "cell_type": "code",
   "execution_count": null,
   "metadata": {},
   "outputs": [],
   "source": [
    "N_pulses = 2 # for each trial, send 2 input pulses\n",
    "N_samples_per_pulse = 15 # for each input pulse, sample 10 points\n",
    "\n",
    "N_samples = N_pulses*N_samples_per_pulse\n",
    "\n",
    "dT = 0.02 # delta t between the samples, DO NOT CHANGE\n",
    "\n",
    "t = np.arange(N_samples)*dT\n",
    "vsyn = np.zeros([N_samples, len(fine_values)])\n",
    "isyn = np.zeros([N_samples, len(fine_values)])\n",
    "\n",
    "for idx, f in tqdm(enumerate(fine_values)):\n",
    "    c.set_bias(\n",
    "        pyplane.Coach.BiasAddress.DPI_VTAU_P,\n",
    "        pyplane.Coach.BiasType.P,\n",
    "        pyplane.Coach.BiasGenMasterCurrent.I60pA,\n",
    "        f\n",
    "    ) \n",
    "    time.sleep(0.1)\n",
    "    for k in range(N_pulses):\n",
    "        c.send_dpi_pulse()\n",
    "        \n",
    "        for i in range(N_samples_per_pulse):\n",
    "            vsyn[k*N_samples_per_pulse+i, idx] += c.measure_dpi_vsyn()\n",
    "            isyn[k*N_samples_per_pulse+i, idx] += c.measure_c2f_freqs(duration=dT)[9]"
   ]
  },
  {
   "cell_type": "markdown",
   "metadata": {},
   "source": [
    "* Plot data"
   ]
  },
  {
   "cell_type": "code",
   "execution_count": null,
   "metadata": {
    "scrolled": true
   },
   "outputs": [],
   "source": [
    "for idx, f in enumerate(fine_values):\n",
    "    plt.plot(t, vsyn[:,idx], '-*')\n",
    "plt.xlabel('$t$ [s]')\n",
    "plt.ylabel('$V_{\\\\rm syn}$ [V]')\n",
    "plt.title('Figure 7: Synaptic voltage when applying pulses at $t = 0$s and $t = 0.3$s')\n",
    "plt.legend([f\"$I_{{\\\\tau}} = {ef(60e-12 * i * 3 / 255)}A$\" for i in fine_values])\n",
    "plt.grid()\n",
    "\n",
    "plt.show()\n",
    "\n",
    "for idx, f in enumerate(fine_values):\n",
    "    plt.plot(t, C2F.f2i(isyn[:,idx]),'-*')\n",
    "plt.xlabel('$t$ [s]')\n",
    "plt.ylabel('$I_{\\\\rm syn}$ [A]')\n",
    "plt.legend([f\"$I_{{\\\\tau}} = {ef(60e-12 * i * 3 / 255)}A$\" for i in fine_values])\n",
    "plt.title('Figure 8: Synaptic current when applying pulses at $t = 0$s and $t = 0.3$s')\n",
    "plt.grid()\n",
    "plt.show()"
   ]
  },
  {
   "cell_type": "code",
   "execution_count": null,
   "metadata": {},
   "outputs": [],
   "source": [
    "# if the data looks nice, save it!\n",
    "savevars(datapath/'itau')"
   ]
  },
  {
   "cell_type": "code",
   "execution_count": null,
   "metadata": {},
   "outputs": [],
   "source": [
    "# maybe you need to load your saved data?\n",
    "loadvars(datapath/'itau')"
   ]
  },
  {
   "cell_type": "markdown",
   "metadata": {},
   "source": [
    "As you should have shown in the prelab, given the formula\n",
    "$$\\tau = \\frac{C \\cdot U_T}{\\kappa \\cdot I_{\\tau}}$$\n",
    "smaller values of $I_{\\tau}$ result in larger time costants.\n",
    "\n",
    "We can see this in Figure 8, where smaller $\\tau$ lead to currents that show longer\n",
    "exponential decay. Additionally, it should be noted that the chosen small $I_\\tau$ value is such that $V_{syn}$ is not able to saturate between consecutive spikes."
   ]
  },
  {
   "cell_type": "markdown",
   "metadata": {},
   "source": [
    "## 4.4 Different $I_{thr}$"
   ]
  },
  {
   "cell_type": "code",
   "execution_count": null,
   "metadata": {},
   "outputs": [],
   "source": [
    "# alias to the bias values set in the previous block\n",
    "c.set_dpi_baseline()\n",
    "\n",
    "fine_values = [5, 10, 20]"
   ]
  },
  {
   "cell_type": "markdown",
   "metadata": {},
   "source": [
    "- **Data acquisition**"
   ]
  },
  {
   "cell_type": "code",
   "execution_count": null,
   "metadata": {},
   "outputs": [],
   "source": [
    "N_pulses = 2 # for each trial, send 2 input pulses\n",
    "N_samples_per_pulse = 15 # for each input pulse, sample 10 points\n",
    "\n",
    "N_samples = N_pulses*N_samples_per_pulse\n",
    "\n",
    "dT = 0.02 # delta t between the samples, DO NOT CHANGE\n",
    "\n",
    "t = np.arange(N_samples)*dT\n",
    "vsyn = np.zeros([N_samples, len(fine_values)])\n",
    "isyn = np.zeros([N_samples, len(fine_values)])\n",
    "\n",
    "for idx, f in tqdm(enumerate(fine_values)):\n",
    "    c.set_bias(\n",
    "        pyplane.Coach.BiasAddress.DPI_VTHR_N,\n",
    "        pyplane.Coach.BiasType.P,\n",
    "        pyplane.Coach.BiasGenMasterCurrent.I60pA,\n",
    "        f\n",
    "    )\n",
    "    time.sleep(0.1)\n",
    "    for k in range(N_pulses):\n",
    "        c.send_dpi_pulse()\n",
    "        \n",
    "        for i in range(N_samples_per_pulse):\n",
    "            vsyn[k*N_samples_per_pulse+i, idx] += c.measure_dpi_vsyn()\n",
    "            isyn[k*N_samples_per_pulse+i, idx] += c.measure_c2f_freqs(duration=dT)[9]"
   ]
  },
  {
   "cell_type": "markdown",
   "metadata": {},
   "source": [
    "* Plot data"
   ]
  },
  {
   "cell_type": "code",
   "execution_count": null,
   "metadata": {
    "scrolled": true
   },
   "outputs": [],
   "source": [
    "for idx, f in enumerate(fine_values):\n",
    "    plt.plot(t, vsyn[:,idx], '-*')\n",
    "plt.xlabel('$t$ [s]')\n",
    "plt.ylabel('$V_{\\\\rm syn}$ [V]')\n",
    "plt.title('Figure 9: Synaptic voltage when applying pulses at $t = 0$s and $t = 0.3$s')\n",
    "plt.legend([f\"$I_{{\\\\rm thr}} = {ef(60e-12 * i * 3 / 255)}A$\" for i in fine_values])\n",
    "plt.grid()\n",
    "plt.show()\n",
    "\n",
    "for idx, f in enumerate(fine_values):\n",
    "    plt.plot(t, C2F.f2i(isyn[:,idx]),'-*')\n",
    "plt.xlabel('$t$ [s]')\n",
    "plt.ylabel('$I_{\\\\rm syn}$ [A]')\n",
    "plt.legend([f\"$I_{{\\\\rm thr}} = {ef(60e-12 * i * 3 / 255)}A$\" for i in fine_values])\n",
    "plt.title('Figure 10: Synaptic current when applying pulses at $t = 0$s and $t = 0.3$s')\n",
    "plt.grid()\n",
    "plt.show()"
   ]
  },
  {
   "cell_type": "code",
   "execution_count": null,
   "metadata": {},
   "outputs": [],
   "source": [
    "# if the data looks nice, save it!\n",
    "savevars(datapath/'iweight')"
   ]
  },
  {
   "cell_type": "code",
   "execution_count": null,
   "metadata": {},
   "outputs": [],
   "source": [
    "# maybe you need to load your saved data?\n",
    "loadvars(datapath/'iweight')"
   ]
  },
  {
   "cell_type": "markdown",
   "metadata": {},
   "source": [
    "## 4.5 Different pulse width"
   ]
  },
  {
   "cell_type": "code",
   "execution_count": null,
   "metadata": {},
   "outputs": [],
   "source": [
    "# alias to the bias values set in the previous block\n",
    "c.set_dpi_baseline()\n",
    "\n",
    "fine_values = [2, 5, 15]"
   ]
  },
  {
   "cell_type": "markdown",
   "metadata": {},
   "source": [
    "- **Data acquisition**"
   ]
  },
  {
   "cell_type": "code",
   "execution_count": null,
   "metadata": {},
   "outputs": [],
   "source": [
    "N_pulses = 2 # for each trial, send 2 input pulses\n",
    "N_samples_per_pulse = 15 # for each input pulse, sample 10 points\n",
    "\n",
    "N_samples = N_pulses*N_samples_per_pulse\n",
    "\n",
    "dT = 0.02 # delta t between the samples, DO NOT CHANGE\n",
    "\n",
    "t = np.arange(N_samples)*dT\n",
    "vsyn = np.zeros([N_samples, len(fine_values)])\n",
    "isyn = np.zeros([N_samples, len(fine_values)])\n",
    "\n",
    "for idx, f in tqdm(enumerate(fine_values)):\n",
    "    c.set_bias(\n",
    "        pyplane.Coach.BiasAddress.PEX_VTAU_N,\n",
    "        pyplane.Coach.BiasType.N,\n",
    "        pyplane.Coach.BiasGenMasterCurrent.I60pA,\n",
    "        f\n",
    "    ) \n",
    "    time.sleep(0.1)\n",
    "    for k in range(N_pulses):\n",
    "        c.send_dpi_pulse()\n",
    "        \n",
    "        for i in range(N_samples_per_pulse):\n",
    "            vsyn[k*N_samples_per_pulse+i, idx] += c.measure_dpi_vsyn()\n",
    "            isyn[k*N_samples_per_pulse+i, idx] += c.measure_c2f_freqs(duration=dT)[9]"
   ]
  },
  {
   "cell_type": "markdown",
   "metadata": {},
   "source": [
    "* Plot data"
   ]
  },
  {
   "cell_type": "code",
   "execution_count": null,
   "metadata": {
    "scrolled": true
   },
   "outputs": [],
   "source": [
    "for idx, f in enumerate(fine_values):\n",
    "    plt.plot(t, vsyn[:,idx], '-*')\n",
    "plt.xlabel('$t$ [s]')\n",
    "plt.ylabel('$V_{\\\\rm syn}$ [V]')\n",
    "plt.title('Figure 11: Synaptic voltage when applying pulses at $t = 0$s and $t = 0.3$s')\n",
    "plt.legend([f\"$I_{{\\\\tau ex}} = {ef(60e-12 * i * 3 / 255)}A$\" for i in fine_values])\n",
    "plt.grid()\n",
    "\n",
    "plt.show()\n",
    "\n",
    "for idx, f in enumerate(fine_values):\n",
    "    plt.plot(t, C2F.f2i(isyn[:,idx]),'-*')\n",
    "plt.xlabel('$t$ [s]')\n",
    "plt.ylabel('$I_{\\\\rm syn}$ [A]')\n",
    "plt.legend([f\"$I_{{\\\\tau ex}} = {ef(60e-12 * i * 3 / 255)}A$\" for i in fine_values])\n",
    "plt.title('Figure 12: Synaptic current when applying pulses at $t = 0$s and $t = 0.3$s')\n",
    "plt.grid()\n",
    "plt.show()"
   ]
  },
  {
   "cell_type": "code",
   "execution_count": null,
   "metadata": {},
   "outputs": [],
   "source": [
    "# if the data looks nice, save it!\n",
    "savevars(datapath/'weight')"
   ]
  },
  {
   "cell_type": "code",
   "execution_count": null,
   "metadata": {},
   "outputs": [],
   "source": [
    "# maybe you need to load your saved data?\n",
    "loadvars(datapath/'weight')"
   ]
  },
  {
   "cell_type": "markdown",
   "metadata": {},
   "source": [
    "Figure 11 shows well the different pulse widths reflected on $V_{syn}$:\n",
    "the longer the pulse width, the larger the decrease in $V_{syn}$\n",
    "(and, in case the lower bound is reached, the longer its duration).\n",
    "\n",
    "Figure 12 shows the current $I_{syn}$ response to different pulse widths and, as we expect,\n",
    "whenever $V_{syn}$ reaches the lower bound, the output current maintains a steady output too,\n",
    "until the gate voltage of the output transistor starts increasing again, at the end of the\n",
    "input pulse."
   ]
  },
  {
   "cell_type": "markdown",
   "metadata": {},
   "source": []
  },
  {
   "cell_type": "markdown",
   "metadata": {},
   "source": [
    "## 5 Postlab - What we expect you to learn"
   ]
  },
  {
   "cell_type": "markdown",
   "metadata": {},
   "source": [
    "There is no specific postlab for this exercise."
   ]
  },
  {
   "cell_type": "markdown",
   "metadata": {},
   "source": [
    "Please see the [NE1 exam preparation guide](https://drive.google.com/file/d/1nOq3UbcEv_ik425VBYqcH9hAET7FyIeP/view?usp=drive_link)\n"
   ]
  }
 ],
 "metadata": {
  "kernelspec": {
   "display_name": "NE1",
   "language": "python",
   "name": "ne1"
  },
  "language_info": {
   "codemirror_mode": {
    "name": "ipython",
    "version": 3
   },
   "file_extension": ".py",
   "mimetype": "text/x-python",
   "name": "python",
   "nbconvert_exporter": "python",
   "pygments_lexer": "ipython3",
   "version": "3.11.6"
  }
 },
 "nbformat": 4,
 "nbformat_minor": 4
}
