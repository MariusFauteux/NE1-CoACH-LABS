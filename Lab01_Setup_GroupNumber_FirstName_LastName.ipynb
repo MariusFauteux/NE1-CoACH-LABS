{
 "cells": [
  {
   "cell_type": "markdown",
   "metadata": {},
   "source": [
    "Neuromorphic engineering I"
   ]
  },
  {
   "cell_type": "markdown",
   "metadata": {},
   "source": [
    "## Lab 1: Automated Data Acquisition and Analysis\n",
    "1. **`git pull` the exercises** before starting this notebook! Make sure you are really starting with the authoritative version of the exercise. See [pull changes in the README](./readme.md#clone-the-exercises).\n",
    "2. **Make a copy of the exercise to work on.** Name it _Lab1_<yourname>_<yourgroupnumber>.ipynb_.  Make sure you put the copy in the same folder (CoACH-labs). It will not work in a different folder because it will not be able in import the *Coach* class."
   ]
  },
  {
   "cell_type": "markdown",
   "metadata": {},
   "source": [
    "CoACH chip number:\n",
    "\n",
    "Team member 1:\n",
    "\n",
    "Team member 2:\n",
    "\n",
    "Date:\n",
    "\n",
    "Group number (if you have been given one by your TA):"
   ]
  },
  {
   "cell_type": "markdown",
   "metadata": {},
   "source": [
    "-------------------------------------------------------------------------------------------------------------------"
   ]
  },
  {
   "cell_type": "markdown",
   "metadata": {},
   "source": [
    "**If you only have USB-C output, bring also a USB-C to USB-A adaptor.** We only have a few USB-A-micro cables.\n",
    "\n",
    "The objectives of this lab are as follows:\n",
    "\n",
    "- To become acquainted with the experimental board setup.\n",
    "\n",
    "- To become acquainted with Python for data acquisition and manipulation.\n",
    "\n",
    "- To measure and characterize a NFET.\n",
    "\n",
    "The aim of this first lab is to familiarize everyone with the lab equipment and software."
   ]
  },
  {
   "cell_type": "markdown",
   "metadata": {},
   "source": [
    "# 1. Getting started"
   ]
  },
  {
   "cell_type": "markdown",
   "metadata": {},
   "source": [
    "## 1.1 Class chip documentation\n",
    "\n",
    "You can find the documentation for the classchip here in this [classchip documentation google drive folder](https://drive.google.com/drive/u/0/folders/1VBPKVfS9zwu_I2ExR1D0jU2eCSgleoQG). See also the [notes about the Coach chip](./readme.md#coach-chip) in the README."
   ]
  },
  {
   "cell_type": "markdown",
   "metadata": {},
   "source": [
    "## 1.2 Python"
   ]
  },
  {
   "cell_type": "markdown",
   "metadata": {},
   "source": [
    "If you are new to Python, you can find a detailed tutorial at the link: https://docs.python.org/3/tutorial/ . \n",
    "\n",
    "In particular the concepts in _3. An Informal Introduction to Python_ and in _4. More Control FLow Tools_ will be useful for the exercises you will have to solve. "
   ]
  },
  {
   "cell_type": "markdown",
   "metadata": {},
   "source": [
    "## 1.3 Report"
   ]
  },
  {
   "cell_type": "markdown",
   "metadata": {
    "tags": []
   },
   "source": [
    "Upload your notebook (notebook prelab + notebook work + notebook postlab) in HTML or PDF format as an individual to the course dropbox. Make sure that the markdowns are ran and the generated figures are shown.\n",
    "\n",
    "The deadline is the beginning of the next lab.\n",
    "\n",
    "There is no prelab for this week, but from the next week on you should complete the prelab before you come to the exercise."
   ]
  },
  {
   "cell_type": "markdown",
   "metadata": {},
   "source": [
    "# 2. Exercise setup\n",
    "See the CoACH-labs [README](https://code.ini.uzh.ch/CoACH/CoACH-labs/-/blob/master/readme.md) for detailed instructions on setting up your computer to do the exercises."
   ]
  },
  {
   "cell_type": "markdown",
   "metadata": {},
   "source": [
    "* You may want to install all the necessary requirements (python libraries)"
   ]
  },
  {
   "cell_type": "code",
   "execution_count": null,
   "metadata": {},
   "outputs": [],
   "source": [
    "import sys\n",
    "!{sys.executable} -m pip install -r requirements.txt"
   ]
  },
  {
   "cell_type": "markdown",
   "metadata": {},
   "source": [
    "If you installed new libraries, you probably have to restart the notebook kernel"
   ]
  },
  {
   "cell_type": "markdown",
   "metadata": {},
   "source": [
    "\n",
    "* <font color=#108ee9>Run the block below to import libraries and setup a _datapath_ variable for saving your data later.</font>"
   ]
  },
  {
   "cell_type": "code",
   "execution_count": 1,
   "metadata": {},
   "outputs": [],
   "source": [
    "import time # for time.sleep(seconds)\n",
    "import numpy as np # numpy for arrays etc\n",
    "from scipy import stats # for stats.linregress\n",
    "import matplotlib.pyplot as plt # for plotting\n",
    "import matplotlib\n",
    "plt.rcParams.update({'font.size': 14}) # make the detault font size larger for your readers\n",
    "matplotlib.rcParams['pdf.fonttype'] = 42 # save fonts as type that are not outlined in illustrator or other drawing programs\n",
    "from engineering_notation import EngNumber as ef # format numbers in engineering format quickly, e.g. ef(2e-9)='2n'\n",
    "from pathlib import Path # used for saving data\n",
    "\n",
    "datapath = Path('data/lab1') # make a data folder to save your data called data/lab1\n",
    "datapath.mkdir(parents=True, exist_ok=True)\n",
    "from jupyter_save_load_vars import savevars, loadvars\n",
    "\n",
    "from ne1 import Coach # import Coach() class\n",
    "p=Coach() # create a Coach object called p; you will use it to talk to class chip"
   ]
  },
  {
   "cell_type": "markdown",
   "metadata": {},
   "source": [
    "### 2.1.1 Saving and loading data\n",
    "Use the blocks below to save and load your data"
   ]
  },
  {
   "cell_type": "code",
   "execution_count": null,
   "metadata": {},
   "outputs": [],
   "source": [
    "loadvars(datapath/'lab1') # tries to load data from the file data/lab1/lab1.dill. (In the preamble we defined datapath as the Path data/lab1)\n",
    "#savevars(datapath/'lab1') # use can use this later to save your data"
   ]
  },
  {
   "cell_type": "markdown",
   "metadata": {},
   "source": [
    "## 2.2  Making plots"
   ]
  },
  {
   "cell_type": "markdown",
   "metadata": {},
   "source": [
    "* <font color=#108ee9>Plot a Sine curve from 0 to 2pi  with 200 points.</font> (Hint: Do not forget to properly label the axis and add figure legends when necessary.)"
   ]
  },
  {
   "cell_type": "code",
   "execution_count": null,
   "metadata": {},
   "outputs": [],
   "source": [
    "import numpy as np\n",
    "import matplotlib.pyplot as plt\n",
    "x = np.arange(0,np.pi*2,.1) # make a vector of x values start, stop, step\n",
    "y = np.sin(x)  # take the sin of the values\n",
    "plt.plot(x, y, '-o') # plot the points with o symbol and connecting line\n",
    "plt.xlabel('x')\n",
    "plt.ylabel('y')\n",
    "plt.grid()\n",
    "plt.show()"
   ]
  },
  {
   "cell_type": "markdown",
   "metadata": {},
   "source": [
    "* <font color=#108ee9>Add a plot of a Cosine</font> (Use the same range to the Sine plot, but set a different point marker and color.)"
   ]
  },
  {
   "cell_type": "code",
   "execution_count": null,
   "metadata": {},
   "outputs": [],
   "source": [
    "plt.plot(x, y, 'r-o') # plot the points with o symbol and connecting line\n",
    "plt.xlabel('x')\n",
    "plt.ylabel('y')\n",
    "y2=np.cos(x)\n",
    "plt.plot(x,y2,'b-x')\n",
    "plt.grid()\n",
    "plt.show()"
   ]
  },
  {
   "cell_type": "markdown",
   "metadata": {},
   "source": [
    "* <font color=#108ee9>Make a plot of the equation $ I_{ds} = I_0 e^{\\frac{\\kappa}{U_T} V_g}$ using the following parameters. Generate two plots, one with linear scaling and one with log scaling on the y axis. Put the right labels on both x axis and y axis.</font> (Hint: use `plt.semilogy`)"
   ]
  },
  {
   "cell_type": "code",
   "execution_count": null,
   "metadata": {},
   "outputs": [],
   "source": [
    "Vg = np.arange(0, 1, 0.001)\n",
    "I0 = 1e-13\n",
    "k = 0.6\n",
    "UT = 25e-3"
   ]
  },
  {
   "cell_type": "code",
   "execution_count": null,
   "metadata": {},
   "outputs": [],
   "source": [
    "Ids = ..."
   ]
  },
  {
   "cell_type": "markdown",
   "metadata": {},
   "source": [
    "* See the section 2.1.1 about saving and loading data "
   ]
  },
  {
   "cell_type": "markdown",
   "metadata": {},
   "source": [
    "## 2.4 Fitting data with a line"
   ]
  },
  {
   "cell_type": "markdown",
   "metadata": {},
   "source": [
    "Sometimes you may need to find the relationship between data using regression. \n",
    "* <font color=#108ee9>Try to extract the slope and intercept of the following given data using linear regression with `np.polyfit`</font>"
   ]
  },
  {
   "cell_type": "code",
   "execution_count": null,
   "metadata": {},
   "outputs": [],
   "source": [
    "x = np.array([1, 3, 5, 7])\n",
    "y = np.array([ 6, 3, 9, 5 ])\n",
    "m, b = ...\n",
    "# compare the orignial data points and the fitted line"
   ]
  },
  {
   "cell_type": "markdown",
   "metadata": {},
   "source": [
    "-------------------------------------------------------------------------------------------------------------------"
   ]
  },
  {
   "cell_type": "markdown",
   "metadata": {},
   "source": [
    "# 3 Experiments"
   ]
  },
  {
   "cell_type": "markdown",
   "metadata": {},
   "source": [
    "From now on you will be using the real board!"
   ]
  },
  {
   "cell_type": "markdown",
   "metadata": {},
   "source": [
    "Verify that the LEDs of your board are on as in photos shown in the Coach-labs README."
   ]
  },
  {
   "cell_type": "code",
   "execution_count": null,
   "metadata": {},
   "outputs": [],
   "source": [
    "# try to open the CoACH board\n",
    "p.open()"
   ]
  },
  {
   "cell_type": "markdown",
   "metadata": {},
   "source": [
    "You should have see the current firmware version printed above, e.g. (1,12,4) which means firmware version 1.12.4. If your firmware is newer that is fine.\n",
    "\n",
    "Make sure all these steps are executed correctly.\n",
    "\n",
    "If the above step fails, check the [Coach Chip troubleshooting hints](https://code.ini.uzh.ch/CoACH/CoACH-labs/-/blob/master/readme.md#troubleshooting-your-coach-chip-setup)."
   ]
  },
  {
   "cell_type": "code",
   "execution_count": null,
   "metadata": {},
   "outputs": [],
   "source": [
    "# if anything goes wrong, come back here and reset the chip\n",
    "p.reset_soft()"
   ]
  },
  {
   "cell_type": "markdown",
   "metadata": {},
   "source": [
    "## 3.3 Basic function operation"
   ]
  },
  {
   "cell_type": "markdown",
   "metadata": {},
   "source": [
    "You can set and read voltage using function p.set_voltage and p.read_voltage.\n",
    "\n",
    "Very importantly, all voltage you set on this board must be between 0 and 1.8 V!"
   ]
  },
  {
   "cell_type": "code",
   "execution_count": 1,
   "metadata": {},
   "outputs": [
    {
     "data": {
      "image/png": "[encoded data removed]",
      "image/svg+xml": [
       "<?xml version=\"1.0\" encoding=\"utf-8\" standalone=\"no\"?>\n",
       "<!DOCTYPE svg PUBLIC \"-//W3C//DTD SVG 1.1//EN\"\n",
       "  \"http://www.w3.org/Graphics/SVG/1.1/DTD/svg11.dtd\">\n",
       "<svg xmlns:xlink=\"http://www.w3.org/1999/xlink\" width=\"113.074688pt\" height=\"105.35pt\" viewBox=\"0 0 113.074688 105.35\" xmlns=\"http://www.w3.org/2000/svg\" version=\"1.1\">\n",
       " <metadata>\n",
       "  <rdf:RDF xmlns:dc=\"http://purl.org/dc/elements/1.1/\" xmlns:cc=\"http://creativecommons.org/ns#\" xmlns:rdf=\"http://www.w3.org/1999/02/22-rdf-syntax-ns#\">\n",
       "   <cc:Work>\n",
       "    <dc:type rdf:resource=\"http://purl.org/dc/dcmitype/StillImage\"/>\n",
       "    <dc:date>2023-10-11T17:51:09.038236</dc:date>\n",
       "    <dc:format>image/svg+xml</dc:format>\n",
       "    <dc:creator>\n",
       "     <cc:Agent>\n",
       "      <dc:title>Matplotlib v3.7.3, https://matplotlib.org/</dc:title>\n",
       "     </cc:Agent>\n",
       "    </dc:creator>\n",
       "   </cc:Work>\n",
       "  </rdf:RDF>\n",
       " </metadata>\n",
       " <defs>\n",
       "  <style type=\"text/css\">*{stroke-linejoin: round; stroke-linecap: butt}</style>\n",
       " </defs>\n",
       " <g id=\"figure_1\">\n",
       "  <g id=\"patch_1\">\n",
       "   <path d=\"M 0 105.35 \n",
       "L 113.074688 105.35 \n",
       "L 113.074688 0 \n",
       "L 0 0 \n",
       "z\n",
       "\" style=\"fill: #ffffff\"/>\n",
       "  </g>\n",
       "  <g id=\"axes_1\">\n",
       "   <g id=\"line2d_1\">\n",
       "    <path d=\"M 56.149688 31.255 \n",
       "L 56.149688 44.005 \n",
       "L 76.549688 44.005 \n",
       "L 76.549688 64.405 \n",
       "L 56.149688 64.405 \n",
       "L 56.149688 77.155 \n",
       "\" clip-path=\"url(#pd74b3f89dd)\" style=\"fill: none; stroke: #000000; stroke-width: 2; stroke-linecap: round\"/>\n",
       "   </g>\n",
       "   <g id=\"line2d_2\">\n",
       "    <path d=\"M 84.199688 44.005 \n",
       "L 84.199688 64.405 \n",
       "\" clip-path=\"url(#pd74b3f89dd)\" style=\"fill: none; stroke: #000000; stroke-width: 2; stroke-linecap: round\"/>\n",
       "   </g>\n",
       "   <g id=\"line2d_3\">\n",
       "    <path d=\"M 84.199688 54.205 \n",
       "L 100.519688 54.205 \n",
       "\" clip-path=\"url(#pd74b3f89dd)\" style=\"fill: none; stroke: #000000; stroke-width: 2; stroke-linecap: round\"/>\n",
       "   </g>\n",
       "   <g id=\"patch_2\">\n",
       "    <path d=\"M 100.519688 56.5 \n",
       "C 101.128329 56.5 101.712123 56.258184 102.142498 55.82781 \n",
       "C 102.572872 55.397436 102.814688 54.813641 102.814688 54.205 \n",
       "C 102.814688 53.596359 102.572872 53.012564 102.142498 52.58219 \n",
       "C 101.712123 52.151816 101.128329 51.91 100.519688 51.91 \n",
       "C 99.911046 51.91 99.327252 52.151816 98.896877 52.58219 \n",
       "C 98.466503 53.012564 98.224688 53.596359 98.224688 54.205 \n",
       "C 98.224688 54.813641 98.466503 55.397436 98.896877 55.82781 \n",
       "C 99.327252 56.258184 99.911046 56.5 100.519688 56.5 \n",
       "z\n",
       "\" clip-path=\"url(#pd74b3f89dd)\" style=\"stroke: #000000; stroke-width: 2; stroke-linejoin: miter\"/>\n",
       "   </g>\n",
       "   <g id=\"text_1\">\n",
       "    <!-- gate=AIN0 -->\n",
       "    <g transform=\"translate(18.775 58.068125) scale(0.14 -0.14)\">\n",
       "     <defs>\n",
       "      <path id=\"DejaVuSans-67\" d=\"M 2906 1791 \n",
       "Q 2906 2416 2648 2759 \n",
       "Q 2391 3103 1925 3103 \n",
       "Q 1463 3103 1205 2759 \n",
       "Q 947 2416 947 1791 \n",
       "Q 947 1169 1205 825 \n",
       "Q 1463 481 1925 481 \n",
       "Q 2391 481 2648 825 \n",
       "Q 2906 1169 2906 1791 \n",
       "z\n",
       "M 3481 434 \n",
       "Q 3481 -459 3084 -895 \n",
       "Q 2688 -1331 1869 -1331 \n",
       "Q 1566 -1331 1297 -1286 \n",
       "Q 1028 -1241 775 -1147 \n",
       "L 775 -588 \n",
       "Q 1028 -725 1275 -790 \n",
       "Q 1522 -856 1778 -856 \n",
       "Q 2344 -856 2625 -561 \n",
       "Q 2906 -266 2906 331 \n",
       "L 2906 616 \n",
       "Q 2728 306 2450 153 \n",
       "Q 2172 0 1784 0 \n",
       "Q 1141 0 747 490 \n",
       "Q 353 981 353 1791 \n",
       "Q 353 2603 747 3093 \n",
       "Q 1141 3584 1784 3584 \n",
       "Q 2172 3584 2450 3431 \n",
       "Q 2728 3278 2906 2969 \n",
       "L 2906 3500 \n",
       "L 3481 3500 \n",
       "L 3481 434 \n",
       "z\n",
       "\" transform=\"scale(0.015625)\"/>\n",
       "      <path id=\"DejaVuSans-61\" d=\"M 2194 1759 \n",
       "Q 1497 1759 1228 1600 \n",
       "Q 959 1441 959 1056 \n",
       "Q 959 750 1161 570 \n",
       "Q 1363 391 1709 391 \n",
       "Q 2188 391 2477 730 \n",
       "Q 2766 1069 2766 1631 \n",
       "L 2766 1759 \n",
       "L 2194 1759 \n",
       "z\n",
       "M 3341 1997 \n",
       "L 3341 0 \n",
       "L 2766 0 \n",
       "L 2766 531 \n",
       "Q 2569 213 2275 61 \n",
       "Q 1981 -91 1556 -91 \n",
       "Q 1019 -91 701 211 \n",
       "Q 384 513 384 1019 \n",
       "Q 384 1609 779 1909 \n",
       "Q 1175 2209 1959 2209 \n",
       "L 2766 2209 \n",
       "L 2766 2266 \n",
       "Q 2766 2663 2505 2880 \n",
       "Q 2244 3097 1772 3097 \n",
       "Q 1472 3097 1187 3025 \n",
       "Q 903 2953 641 2809 \n",
       "L 641 3341 \n",
       "Q 956 3463 1253 3523 \n",
       "Q 1550 3584 1831 3584 \n",
       "Q 2591 3584 2966 3190 \n",
       "Q 3341 2797 3341 1997 \n",
       "z\n",
       "\" transform=\"scale(0.015625)\"/>\n",
       "      <path id=\"DejaVuSans-74\" d=\"M 1172 4494 \n",
       "L 1172 3500 \n",
       "L 2356 3500 \n",
       "L 2356 3053 \n",
       "L 1172 3053 \n",
       "L 1172 1153 \n",
       "Q 1172 725 1289 603 \n",
       "Q 1406 481 1766 481 \n",
       "L 2356 481 \n",
       "L 2356 0 \n",
       "L 1766 0 \n",
       "Q 1100 0 847 248 \n",
       "Q 594 497 594 1153 \n",
       "L 594 3053 \n",
       "L 172 3053 \n",
       "L 172 3500 \n",
       "L 594 3500 \n",
       "L 594 4494 \n",
       "L 1172 4494 \n",
       "z\n",
       "\" transform=\"scale(0.015625)\"/>\n",
       "      <path id=\"DejaVuSans-65\" d=\"M 3597 1894 \n",
       "L 3597 1613 \n",
       "L 953 1613 \n",
       "Q 991 1019 1311 708 \n",
       "Q 1631 397 2203 397 \n",
       "Q 2534 397 2845 478 \n",
       "Q 3156 559 3463 722 \n",
       "L 3463 178 \n",
       "Q 3153 47 2828 -22 \n",
       "Q 2503 -91 2169 -91 \n",
       "Q 1331 -91 842 396 \n",
       "Q 353 884 353 1716 \n",
       "Q 353 2575 817 3079 \n",
       "Q 1281 3584 2069 3584 \n",
       "Q 2775 3584 3186 3129 \n",
       "Q 3597 2675 3597 1894 \n",
       "z\n",
       "M 3022 2063 \n",
       "Q 3016 2534 2758 2815 \n",
       "Q 2500 3097 2075 3097 \n",
       "Q 1594 3097 1305 2825 \n",
       "Q 1016 2553 972 2059 \n",
       "L 3022 2063 \n",
       "z\n",
       "\" transform=\"scale(0.015625)\"/>\n",
       "      <path id=\"DejaVuSans-3d\" d=\"M 678 2906 \n",
       "L 4684 2906 \n",
       "L 4684 2381 \n",
       "L 678 2381 \n",
       "L 678 2906 \n",
       "z\n",
       "M 678 1631 \n",
       "L 4684 1631 \n",
       "L 4684 1100 \n",
       "L 678 1100 \n",
       "L 678 1631 \n",
       "z\n",
       "\" transform=\"scale(0.015625)\"/>\n",
       "      <path id=\"DejaVuSans-41\" d=\"M 2188 4044 \n",
       "L 1331 1722 \n",
       "L 3047 1722 \n",
       "L 2188 4044 \n",
       "z\n",
       "M 1831 4666 \n",
       "L 2547 4666 \n",
       "L 4325 0 \n",
       "L 3669 0 \n",
       "L 3244 1197 \n",
       "L 1141 1197 \n",
       "L 716 0 \n",
       "L 50 0 \n",
       "L 1831 4666 \n",
       "z\n",
       "\" transform=\"scale(0.015625)\"/>\n",
       "      <path id=\"DejaVuSans-49\" d=\"M 628 4666 \n",
       "L 1259 4666 \n",
       "L 1259 0 \n",
       "L 628 0 \n",
       "L 628 4666 \n",
       "z\n",
       "\" transform=\"scale(0.015625)\"/>\n",
       "      <path id=\"DejaVuSans-4e\" d=\"M 628 4666 \n",
       "L 1478 4666 \n",
       "L 3547 763 \n",
       "L 3547 4666 \n",
       "L 4159 4666 \n",
       "L 4159 0 \n",
       "L 3309 0 \n",
       "L 1241 3903 \n",
       "L 1241 0 \n",
       "L 628 0 \n",
       "L 628 4666 \n",
       "z\n",
       "\" transform=\"scale(0.015625)\"/>\n",
       "      <path id=\"DejaVuSans-30\" d=\"M 2034 4250 \n",
       "Q 1547 4250 1301 3770 \n",
       "Q 1056 3291 1056 2328 \n",
       "Q 1056 1369 1301 889 \n",
       "Q 1547 409 2034 409 \n",
       "Q 2525 409 2770 889 \n",
       "Q 3016 1369 3016 2328 \n",
       "Q 3016 3291 2770 3770 \n",
       "Q 2525 4250 2034 4250 \n",
       "z\n",
       "M 2034 4750 \n",
       "Q 2819 4750 3233 4129 \n",
       "Q 3647 3509 3647 2328 \n",
       "Q 3647 1150 3233 529 \n",
       "Q 2819 -91 2034 -91 \n",
       "Q 1250 -91 836 529 \n",
       "Q 422 1150 422 2328 \n",
       "Q 422 3509 836 4129 \n",
       "Q 1250 4750 2034 4750 \n",
       "z\n",
       "\" transform=\"scale(0.015625)\"/>\n",
       "     </defs>\n",
       "     <use xlink:href=\"#DejaVuSans-67\"/>\n",
       "     <use xlink:href=\"#DejaVuSans-61\" x=\"63.476562\"/>\n",
       "     <use xlink:href=\"#DejaVuSans-74\" x=\"124.755859\"/>\n",
       "     <use xlink:href=\"#DejaVuSans-65\" x=\"163.964844\"/>\n",
       "     <use xlink:href=\"#DejaVuSans-3d\" x=\"225.488281\"/>\n",
       "     <use xlink:href=\"#DejaVuSans-41\" x=\"309.277344\"/>\n",
       "     <use xlink:href=\"#DejaVuSans-49\" x=\"377.685547\"/>\n",
       "     <use xlink:href=\"#DejaVuSans-4e\" x=\"407.177734\"/>\n",
       "     <use xlink:href=\"#DejaVuSans-30\" x=\"481.982422\"/>\n",
       "    </g>\n",
       "   </g>\n",
       "   <g id=\"patch_3\">\n",
       "    <path d=\"M 56.149688 33.55 \n",
       "C 56.758329 33.55 57.342123 33.308184 57.772498 32.87781 \n",
       "C 58.202872 32.447436 58.444688 31.863641 58.444688 31.255 \n",
       "C 58.444688 30.646359 58.202872 30.062564 57.772498 29.63219 \n",
       "C 57.342123 29.201816 56.758329 28.96 56.149688 28.96 \n",
       "C 55.541046 28.96 54.957252 29.201816 54.526877 29.63219 \n",
       "C 54.096503 30.062564 53.854688 30.646359 53.854688 31.255 \n",
       "C 53.854688 31.863641 54.096503 32.447436 54.526877 32.87781 \n",
       "C 54.957252 33.308184 55.541046 33.55 56.149688 33.55 \n",
       "z\n",
       "\" clip-path=\"url(#pd74b3f89dd)\" style=\"stroke: #000000; stroke-width: 2; stroke-linejoin: miter\"/>\n",
       "   </g>\n",
       "   <g id=\"text_2\">\n",
       "    <!-- drain=GO22 -->\n",
       "    <g transform=\"translate(12.45 22.988437) scale(0.14 -0.14)\">\n",
       "     <defs>\n",
       "      <path id=\"DejaVuSans-64\" d=\"M 2906 2969 \n",
       "L 2906 4863 \n",
       "L 3481 4863 \n",
       "L 3481 0 \n",
       "L 2906 0 \n",
       "L 2906 525 \n",
       "Q 2725 213 2448 61 \n",
       "Q 2172 -91 1784 -91 \n",
       "Q 1150 -91 751 415 \n",
       "Q 353 922 353 1747 \n",
       "Q 353 2572 751 3078 \n",
       "Q 1150 3584 1784 3584 \n",
       "Q 2172 3584 2448 3432 \n",
       "Q 2725 3281 2906 2969 \n",
       "z\n",
       "M 947 1747 \n",
       "Q 947 1113 1208 752 \n",
       "Q 1469 391 1925 391 \n",
       "Q 2381 391 2643 752 \n",
       "Q 2906 1113 2906 1747 \n",
       "Q 2906 2381 2643 2742 \n",
       "Q 2381 3103 1925 3103 \n",
       "Q 1469 3103 1208 2742 \n",
       "Q 947 2381 947 1747 \n",
       "z\n",
       "\" transform=\"scale(0.015625)\"/>\n",
       "      <path id=\"DejaVuSans-72\" d=\"M 2631 2963 \n",
       "Q 2534 3019 2420 3045 \n",
       "Q 2306 3072 2169 3072 \n",
       "Q 1681 3072 1420 2755 \n",
       "Q 1159 2438 1159 1844 \n",
       "L 1159 0 \n",
       "L 581 0 \n",
       "L 581 3500 \n",
       "L 1159 3500 \n",
       "L 1159 2956 \n",
       "Q 1341 3275 1631 3429 \n",
       "Q 1922 3584 2338 3584 \n",
       "Q 2397 3584 2469 3576 \n",
       "Q 2541 3569 2628 3553 \n",
       "L 2631 2963 \n",
       "z\n",
       "\" transform=\"scale(0.015625)\"/>\n",
       "      <path id=\"DejaVuSans-69\" d=\"M 603 3500 \n",
       "L 1178 3500 \n",
       "L 1178 0 \n",
       "L 603 0 \n",
       "L 603 3500 \n",
       "z\n",
       "M 603 4863 \n",
       "L 1178 4863 \n",
       "L 1178 4134 \n",
       "L 603 4134 \n",
       "L 603 4863 \n",
       "z\n",
       "\" transform=\"scale(0.015625)\"/>\n",
       "      <path id=\"DejaVuSans-6e\" d=\"M 3513 2113 \n",
       "L 3513 0 \n",
       "L 2938 0 \n",
       "L 2938 2094 \n",
       "Q 2938 2591 2744 2837 \n",
       "Q 2550 3084 2163 3084 \n",
       "Q 1697 3084 1428 2787 \n",
       "Q 1159 2491 1159 1978 \n",
       "L 1159 0 \n",
       "L 581 0 \n",
       "L 581 3500 \n",
       "L 1159 3500 \n",
       "L 1159 2956 \n",
       "Q 1366 3272 1645 3428 \n",
       "Q 1925 3584 2291 3584 \n",
       "Q 2894 3584 3203 3211 \n",
       "Q 3513 2838 3513 2113 \n",
       "z\n",
       "\" transform=\"scale(0.015625)\"/>\n",
       "      <path id=\"DejaVuSans-47\" d=\"M 3809 666 \n",
       "L 3809 1919 \n",
       "L 2778 1919 \n",
       "L 2778 2438 \n",
       "L 4434 2438 \n",
       "L 4434 434 \n",
       "Q 4069 175 3628 42 \n",
       "Q 3188 -91 2688 -91 \n",
       "Q 1594 -91 976 548 \n",
       "Q 359 1188 359 2328 \n",
       "Q 359 3472 976 4111 \n",
       "Q 1594 4750 2688 4750 \n",
       "Q 3144 4750 3555 4637 \n",
       "Q 3966 4525 4313 4306 \n",
       "L 4313 3634 \n",
       "Q 3963 3931 3569 4081 \n",
       "Q 3175 4231 2741 4231 \n",
       "Q 1884 4231 1454 3753 \n",
       "Q 1025 3275 1025 2328 \n",
       "Q 1025 1384 1454 906 \n",
       "Q 1884 428 2741 428 \n",
       "Q 3075 428 3337 486 \n",
       "Q 3600 544 3809 666 \n",
       "z\n",
       "\" transform=\"scale(0.015625)\"/>\n",
       "      <path id=\"DejaVuSans-4f\" d=\"M 2522 4238 \n",
       "Q 1834 4238 1429 3725 \n",
       "Q 1025 3213 1025 2328 \n",
       "Q 1025 1447 1429 934 \n",
       "Q 1834 422 2522 422 \n",
       "Q 3209 422 3611 934 \n",
       "Q 4013 1447 4013 2328 \n",
       "Q 4013 3213 3611 3725 \n",
       "Q 3209 4238 2522 4238 \n",
       "z\n",
       "M 2522 4750 \n",
       "Q 3503 4750 4090 4092 \n",
       "Q 4678 3434 4678 2328 \n",
       "Q 4678 1225 4090 567 \n",
       "Q 3503 -91 2522 -91 \n",
       "Q 1538 -91 948 565 \n",
       "Q 359 1222 359 2328 \n",
       "Q 359 3434 948 4092 \n",
       "Q 1538 4750 2522 4750 \n",
       "z\n",
       "\" transform=\"scale(0.015625)\"/>\n",
       "      <path id=\"DejaVuSans-32\" d=\"M 1228 531 \n",
       "L 3431 531 \n",
       "L 3431 0 \n",
       "L 469 0 \n",
       "L 469 531 \n",
       "Q 828 903 1448 1529 \n",
       "Q 2069 2156 2228 2338 \n",
       "Q 2531 2678 2651 2914 \n",
       "Q 2772 3150 2772 3378 \n",
       "Q 2772 3750 2511 3984 \n",
       "Q 2250 4219 1831 4219 \n",
       "Q 1534 4219 1204 4116 \n",
       "Q 875 4013 500 3803 \n",
       "L 500 4441 \n",
       "Q 881 4594 1212 4672 \n",
       "Q 1544 4750 1819 4750 \n",
       "Q 2544 4750 2975 4387 \n",
       "Q 3406 4025 3406 3419 \n",
       "Q 3406 3131 3298 2873 \n",
       "Q 3191 2616 2906 2266 \n",
       "Q 2828 2175 2409 1742 \n",
       "Q 1991 1309 1228 531 \n",
       "z\n",
       "\" transform=\"scale(0.015625)\"/>\n",
       "     </defs>\n",
       "     <use xlink:href=\"#DejaVuSans-64\"/>\n",
       "     <use xlink:href=\"#DejaVuSans-72\" x=\"63.476562\"/>\n",
       "     <use xlink:href=\"#DejaVuSans-61\" x=\"104.589844\"/>\n",
       "     <use xlink:href=\"#DejaVuSans-69\" x=\"165.869141\"/>\n",
       "     <use xlink:href=\"#DejaVuSans-6e\" x=\"193.652344\"/>\n",
       "     <use xlink:href=\"#DejaVuSans-3d\" x=\"257.03125\"/>\n",
       "     <use xlink:href=\"#DejaVuSans-47\" x=\"340.820312\"/>\n",
       "     <use xlink:href=\"#DejaVuSans-4f\" x=\"418.310547\"/>\n",
       "     <use xlink:href=\"#DejaVuSans-32\" x=\"497.021484\"/>\n",
       "     <use xlink:href=\"#DejaVuSans-32\" x=\"560.644531\"/>\n",
       "    </g>\n",
       "   </g>\n",
       "   <g id=\"patch_4\">\n",
       "    <path d=\"M 56.149688 79.45 \n",
       "C 56.758329 79.45 57.342123 79.208184 57.772498 78.77781 \n",
       "C 58.202872 78.347436 58.444688 77.763641 58.444688 77.155 \n",
       "C 58.444688 76.546359 58.202872 75.962564 57.772498 75.53219 \n",
       "C 57.342123 75.101816 56.758329 74.86 56.149688 74.86 \n",
       "C 55.541046 74.86 54.957252 75.101816 54.526877 75.53219 \n",
       "C 54.096503 75.962564 53.854688 76.546359 53.854688 77.155 \n",
       "C 53.854688 77.763641 54.096503 78.347436 54.526877 78.77781 \n",
       "C 54.957252 79.208184 55.541046 79.45 56.149688 79.45 \n",
       "z\n",
       "\" clip-path=\"url(#pd74b3f89dd)\" style=\"stroke: #000000; stroke-width: 2; stroke-linejoin: miter\"/>\n",
       "   </g>\n",
       "   <g id=\"text_3\">\n",
       "    <!-- source=GO20 -->\n",
       "    <g transform=\"translate(7.2 93.147812) scale(0.14 -0.14)\">\n",
       "     <defs>\n",
       "      <path id=\"DejaVuSans-73\" d=\"M 2834 3397 \n",
       "L 2834 2853 \n",
       "Q 2591 2978 2328 3040 \n",
       "Q 2066 3103 1784 3103 \n",
       "Q 1356 3103 1142 2972 \n",
       "Q 928 2841 928 2578 \n",
       "Q 928 2378 1081 2264 \n",
       "Q 1234 2150 1697 2047 \n",
       "L 1894 2003 \n",
       "Q 2506 1872 2764 1633 \n",
       "Q 3022 1394 3022 966 \n",
       "Q 3022 478 2636 193 \n",
       "Q 2250 -91 1575 -91 \n",
       "Q 1294 -91 989 -36 \n",
       "Q 684 19 347 128 \n",
       "L 347 722 \n",
       "Q 666 556 975 473 \n",
       "Q 1284 391 1588 391 \n",
       "Q 1994 391 2212 530 \n",
       "Q 2431 669 2431 922 \n",
       "Q 2431 1156 2273 1281 \n",
       "Q 2116 1406 1581 1522 \n",
       "L 1381 1569 \n",
       "Q 847 1681 609 1914 \n",
       "Q 372 2147 372 2553 \n",
       "Q 372 3047 722 3315 \n",
       "Q 1072 3584 1716 3584 \n",
       "Q 2034 3584 2315 3537 \n",
       "Q 2597 3491 2834 3397 \n",
       "z\n",
       "\" transform=\"scale(0.015625)\"/>\n",
       "      <path id=\"DejaVuSans-6f\" d=\"M 1959 3097 \n",
       "Q 1497 3097 1228 2736 \n",
       "Q 959 2375 959 1747 \n",
       "Q 959 1119 1226 758 \n",
       "Q 1494 397 1959 397 \n",
       "Q 2419 397 2687 759 \n",
       "Q 2956 1122 2956 1747 \n",
       "Q 2956 2369 2687 2733 \n",
       "Q 2419 3097 1959 3097 \n",
       "z\n",
       "M 1959 3584 \n",
       "Q 2709 3584 3137 3096 \n",
       "Q 3566 2609 3566 1747 \n",
       "Q 3566 888 3137 398 \n",
       "Q 2709 -91 1959 -91 \n",
       "Q 1206 -91 779 398 \n",
       "Q 353 888 353 1747 \n",
       "Q 353 2609 779 3096 \n",
       "Q 1206 3584 1959 3584 \n",
       "z\n",
       "\" transform=\"scale(0.015625)\"/>\n",
       "      <path id=\"DejaVuSans-75\" d=\"M 544 1381 \n",
       "L 544 3500 \n",
       "L 1119 3500 \n",
       "L 1119 1403 \n",
       "Q 1119 906 1312 657 \n",
       "Q 1506 409 1894 409 \n",
       "Q 2359 409 2629 706 \n",
       "Q 2900 1003 2900 1516 \n",
       "L 2900 3500 \n",
       "L 3475 3500 \n",
       "L 3475 0 \n",
       "L 2900 0 \n",
       "L 2900 538 \n",
       "Q 2691 219 2414 64 \n",
       "Q 2138 -91 1772 -91 \n",
       "Q 1169 -91 856 284 \n",
       "Q 544 659 544 1381 \n",
       "z\n",
       "M 1991 3584 \n",
       "L 1991 3584 \n",
       "z\n",
       "\" transform=\"scale(0.015625)\"/>\n",
       "      <path id=\"DejaVuSans-63\" d=\"M 3122 3366 \n",
       "L 3122 2828 \n",
       "Q 2878 2963 2633 3030 \n",
       "Q 2388 3097 2138 3097 \n",
       "Q 1578 3097 1268 2742 \n",
       "Q 959 2388 959 1747 \n",
       "Q 959 1106 1268 751 \n",
       "Q 1578 397 2138 397 \n",
       "Q 2388 397 2633 464 \n",
       "Q 2878 531 3122 666 \n",
       "L 3122 134 \n",
       "Q 2881 22 2623 -34 \n",
       "Q 2366 -91 2075 -91 \n",
       "Q 1284 -91 818 406 \n",
       "Q 353 903 353 1747 \n",
       "Q 353 2603 823 3093 \n",
       "Q 1294 3584 2113 3584 \n",
       "Q 2378 3584 2631 3529 \n",
       "Q 2884 3475 3122 3366 \n",
       "z\n",
       "\" transform=\"scale(0.015625)\"/>\n",
       "     </defs>\n",
       "     <use xlink:href=\"#DejaVuSans-73\"/>\n",
       "     <use xlink:href=\"#DejaVuSans-6f\" x=\"52.099609\"/>\n",
       "     <use xlink:href=\"#DejaVuSans-75\" x=\"113.28125\"/>\n",
       "     <use xlink:href=\"#DejaVuSans-72\" x=\"176.660156\"/>\n",
       "     <use xlink:href=\"#DejaVuSans-63\" x=\"215.523438\"/>\n",
       "     <use xlink:href=\"#DejaVuSans-65\" x=\"270.503906\"/>\n",
       "     <use xlink:href=\"#DejaVuSans-3d\" x=\"332.027344\"/>\n",
       "     <use xlink:href=\"#DejaVuSans-47\" x=\"415.816406\"/>\n",
       "     <use xlink:href=\"#DejaVuSans-4f\" x=\"493.306641\"/>\n",
       "     <use xlink:href=\"#DejaVuSans-32\" x=\"572.017578\"/>\n",
       "     <use xlink:href=\"#DejaVuSans-30\" x=\"635.640625\"/>\n",
       "    </g>\n",
       "   </g>\n",
       "  </g>\n",
       " </g>\n",
       " <defs>\n",
       "  <clipPath id=\"pd74b3f89dd\">\n",
       "   <rect x=\"11.473687\" y=\"7.2\" width=\"94.401\" height=\"90.95\"/>\n",
       "  </clipPath>\n",
       " </defs>\n",
       "</svg>\n"
      ],
      "text/plain": [
       "<schemdraw.backends.mpl.Figure object at 0x7f0bb019a070>"
      ]
     },
     "execution_count": 1,
     "metadata": {},
     "output_type": "execute_result"
    }
   ],
   "source": [
    "# uses schemdraw, you may have to install it in order to run it on your PC\n",
    "import schemdraw\n",
    "import schemdraw.elements as elm\n",
    "d = schemdraw.Drawing()\n",
    "Q = d.add(elm.NFet).reverse()\n",
    "d.add(elm.Dot, xy=Q.gate, lftlabel='gate=AIN0')\n",
    "d.add(elm.Dot, xy=Q.drain, toplabel='drain=GO22')\n",
    "d.add(elm.Dot, xy=Q.source, botlabel='source=GO20')\n",
    "d.draw()"
   ]
  },
  {
   "cell_type": "markdown",
   "metadata": {},
   "source": [
    "The above schematic shows you the names of the mux pins you need to use to measure the FET.\n",
    "\n",
    "For example: Read the current of the drain of the transistor. This current is read on mux channel GO22. \n",
    "Note this is G-Oh, not G-Zero. The O (Oh) character is wider than the 0 (zero)."
   ]
  },
  {
   "cell_type": "code",
   "execution_count": null,
   "metadata": {},
   "outputs": [],
   "source": [
    "I_d = p.measure_nfet_id()\n",
    "print(f'The measured drain current is {I_d:.3g} A') # note how the formatting is scientific with 3 digits of precision"
   ]
  },
  {
   "cell_type": "markdown",
   "metadata": {},
   "source": [
    "Do you think this current is reasonable? Why not? (Hint: you have not setup the multiplexors yet to connect the on-chip FET to the chip pins)"
   ]
  },
  {
   "cell_type": "markdown",
   "metadata": {},
   "source": [
    "* <font color=#108ee9>Read the sections</font> about [how FET currents are measured](https://code.ini.uzh.ch/CoACH/CoACH-labs/-/blob/master/readme.md#how-fet-currents-are-measured) and [how chip pin voltages are set](https://code.ini.uzh.ch/CoACH/CoACH-labs/-/blob/master/readme.md#how-voltages-are-supplied-to-coach-by-the-dacs) in the CoACH-labs README.  "
   ]
  },
  {
   "cell_type": "code",
   "execution_count": null,
   "metadata": {},
   "outputs": [],
   "source": [
    "p.setup_nfet()"
   ]
  },
  {
   "cell_type": "markdown",
   "metadata": {},
   "source": [
    "**Make sure the chip receives the event by a blink of LED1 (the red PCB LED closest to the Teensy), if it's not the case, the chip is dead.**"
   ]
  },
  {
   "cell_type": "markdown",
   "metadata": {},
   "source": [
    "* <font color=#108ee9>Now set source GO20 FET gate voltage</font> using the function introduced above:"
   ]
  },
  {
   "cell_type": "code",
   "execution_count": null,
   "metadata": {},
   "outputs": [],
   "source": [
    "vs_actual=p.set_nfet_vs(.62)\n",
    "print(vs_actual)"
   ]
  },
  {
   "cell_type": "markdown",
   "metadata": {},
   "source": [
    "* <font color=#108ee9>Set drain (GO22) voltage</font> to e.g. 1V and the source voltage (GO20) to 0V"
   ]
  },
  {
   "cell_type": "code",
   "execution_count": null,
   "metadata": {},
   "outputs": [],
   "source": [
    "p.set_nfet_vd(1)\n",
    "p.set_nfet_vs(0)"
   ]
  },
  {
   "cell_type": "markdown",
   "metadata": {},
   "source": [
    "Try first by setting gate voltage to zero (you can try different voltage between 0~1.8V to see different output current).\n",
    "\n",
    "* F<font color=#108ee9>ind the gate voltage V_g that first starts to make the current increase.</font> Note how big the offset current is; even at V_g=0 the current is tens of 10nA."
   ]
  },
  {
   "cell_type": "code",
   "execution_count": null,
   "metadata": {},
   "outputs": [],
   "source": [
    "V_g=.5\n",
    "p.set_nfet_vg(V_g)\n",
    "I_d = p.measure_nfet_id()\n",
    "print(f'With V_g={V_g:.3f}, the measured drain current is {I_d:.3g} A') # note how the formatting is scientific with 3 digits of precision"
   ]
  },
  {
   "cell_type": "markdown",
   "metadata": {},
   "source": [
    "* <font color=#108ee9>Set $V_g=0$ to measure the (big) offset current Idoffset</font>"
   ]
  },
  {
   "cell_type": "code",
   "execution_count": null,
   "metadata": {},
   "outputs": [],
   "source": [
    "p.set_nfet_vg(0)\n",
    "Id0 = p.measure_nfet_id()\n",
    "print(f'With Vg=0, the offset current Id0={Id0:.3g} A')"
   ]
  },
  {
   "cell_type": "markdown",
   "metadata": {},
   "source": [
    "Now you can try some challenging experiments!\n",
    "\n",
    "* <font color=#108ee9>Sweep gate voltage between 0~1V and see how the output current changes.</font>"
   ]
  },
  {
   "cell_type": "code",
   "execution_count": null,
   "metadata": {},
   "outputs": [],
   "source": [
    "# make a V_g array for the gate voltages ranging e.g. from 0.4V to 0.8V.\n",
    "# you can adjust this range to cover the realistic measurement range.\n",
    "import numpy as np\n",
    "n_samples=30\n",
    "vg_low=0\n",
    "vg_high=1\n",
    "Vg_set=np.linspace(vg_low,vg_high,n_samples) # make linear spacing with 100 points\n",
    "Vg_actual=np.zeros_like(Vg_set) #we will use this to hold the actual DAC values\n",
    "#Initialize current variables\n",
    "Id_meas=np.zeros(n_samples)\n",
    "import time\n",
    "#Read Ids at Vg sweep and wait for it to settle\n",
    "for n in range(n_samples):\n",
    "    Vg_actual[n]=p.set_nfet_vg(Vg_set[n])\n",
    "    time.sleep(0.05) # sleep a bit to let current settle\n",
    "    Id_meas[n]=p.measure_nfet_id()\n",
    "    if n%5==0: print(f'Vg={Vg_actual[n]:8.3f}V Id_meas={Id_meas[n]:.3g}A') # print only every 5th measurement"
   ]
  },
  {
   "cell_type": "markdown",
   "metadata": {},
   "source": [
    "* <font color=#108ee9>Now plot your data in linear (plt.plot) and log (plt.semilogy) scales:</font>"
   ]
  },
  {
   "cell_type": "code",
   "execution_count": null,
   "metadata": {},
   "outputs": [],
   "source": [
    "import matplotlib.pyplot as plt\n",
    "#Plot in linear scale\n",
    "plt.plot(Vg_actual, Id_meas,'-p')  #plot using line with points marked\n",
    "plt.xlabel('V_g (V)')\n",
    "plt.ylabel('I_d (A)')\n",
    "plt.title('Drain current vs gate voltage')\n",
    "plt.grid(True) # turn on grid\n",
    "plt.show() # render the plot\n",
    "\n"
   ]
  },
  {
   "cell_type": "markdown",
   "metadata": {},
   "source": [
    "* <font color=#108ee9>Inspect the plot above.</font> You should see something almost like a step function. Check the range over which you think the measurements are valid and change the limits of the measurement to cover just this range with a fine sweep of Vg. <font color=#108ee9>Plot your new data below.</font>\n"
   ]
  },
  {
   "cell_type": "code",
   "execution_count": null,
   "metadata": {},
   "outputs": [],
   "source": [
    "# make a V_g array for the gate voltages ranging e.g. from 0.4V to 0.8V.\n",
    "# you can adjust this range to cover the realistic measurement range.\n",
    "n_samples=100\n",
    "vg_low=.2  # TODO CHANGE HERE and next line to grab just the range you want\n",
    "vg_high=1\n",
    "Vg_set=np.linspace(vg_low,vg_high,n_samples) # make linear spacing with 100 points\n",
    "Vg_actual=np.zeros_like(Vg_set) #we will use this to hold the actual DAC values\n",
    "#Initialize current variables\n",
    "Id_meas=np.zeros(n_samples)\n",
    "import time\n",
    "#Read Ids at Vg sweep and wait for it to settle\n",
    "for n in range(n_samples):\n",
    "    Vg_actual[n]=p.set_nfet_vg(Vg_set[n])\n",
    "    time.sleep(0.05)\n",
    "    Id_meas[n]=p.measure_nfet_id()\n",
    "    if n%5==0:\n",
    "        print(f'Vg={Vg_actual[n]:8.3f}V Id_meas={Id_meas[n]:.3g}A')\n",
    "\n",
    "Id_corrected=Id_meas # -Id0 # if you want compute the actual current with offset subtracted\n",
    "\n",
    "#Plot in linear scale\n",
    "plt.plot(Vg_actual, Id_corrected,'-p')  #plot using line with points marked\n",
    "plt.xlabel('V_g (V)')\n",
    "plt.ylabel('I_d (A)')\n",
    "plt.title('Drain current vs gate voltage')\n",
    "plt.grid(True) # turn on grid\n",
    "plt.show() # render the plot"
   ]
  },
  {
   "cell_type": "markdown",
   "metadata": {},
   "source": [
    "Since the transistor drain current should be exponential in gate voltage in weak inversion/subtthreshold, <font color=#108ee9>replot your current on log scale using `np.semilogy`:</font>"
   ]
  },
  {
   "cell_type": "code",
   "execution_count": null,
   "metadata": {},
   "outputs": [],
   "source": [
    "#Plot in linear scale\n",
    "plt.semilogy(Vg_actual, Id_corrected,'-p')  #plot using line with points marked\n",
    "plt.xlabel('V_g (V)')\n",
    "plt.ylabel('I_d (A)')\n",
    "plt.title('Drain current vs gate voltage')\n",
    "plt.grid(True) # turn on grid\n",
    "plt.show() # render the plot"
   ]
  },
  {
   "cell_type": "markdown",
   "metadata": {},
   "source": [
    "<font color=#108ee9>If you have time, you can check the precision of the measurements (repeatability) by capturing the drain current curves e.g. 30 times and plotting these curves all together on one plot.</font> \n"
   ]
  },
  {
   "cell_type": "markdown",
   "metadata": {},
   "source": [
    "# 4.0 Save your precious data so you can replot it later"
   ]
  },
  {
   "cell_type": "code",
   "execution_count": null,
   "metadata": {},
   "outputs": [],
   "source": [
    "savevars(datapath/'lab1') # to save variables\n",
    "# loadvars(datapath/'lab1') # to load variables"
   ]
  },
  {
   "cell_type": "markdown",
   "metadata": {},
   "source": [
    "# 4. Clean up"
   ]
  },
  {
   "cell_type": "markdown",
   "metadata": {},
   "source": [
    "Well done! That's all the work with the CoACH chip for today.\n",
    "\n",
    "Remember you have to clean up in the end just as in a real lab!"
   ]
  },
  {
   "cell_type": "markdown",
   "metadata": {},
   "source": [
    "* Close you device and release memory by doing"
   ]
  },
  {
   "cell_type": "code",
   "execution_count": null,
   "metadata": {},
   "outputs": [],
   "source": [
    "p.close()"
   ]
  },
  {
   "cell_type": "markdown",
   "metadata": {},
   "source": [
    "* Save your changes\n",
    "* Download the files you need for the report to your own PC"
   ]
  },
  {
   "cell_type": "markdown",
   "metadata": {},
   "source": [
    "# 5. Postlab Questions"
   ]
  },
  {
   "cell_type": "markdown",
   "metadata": {},
   "source": [
    "1. <font color=#108ee9>Why is there no pin for the bulk of NFET? What is its voltage then?</font>"
   ]
  },
  {
   "cell_type": "markdown",
   "metadata": {},
   "source": []
  },
  {
   "cell_type": "markdown",
   "metadata": {},
   "source": [
    "2. <font color=#108ee9>How precise are the measurements of voltage and current using DAC? </font>\n",
    "   \n",
    "Try to be quantitative. Look at the README [How currents are measured](https://code.ini.uzh.ch/CoACH/CoACH-labs/-/blob/master/readme.md#how-fet-currents-are-measured) and [How voltages are supplied](https://code.ini.uzh.ch/CoACH/CoACH-labs/-/blob/master/readme.md#how-voltages-are-supplied-to-coach-by-the-dacs)."
   ]
  },
  {
   "cell_type": "markdown",
   "metadata": {},
   "source": []
  },
  {
   "cell_type": "markdown",
   "metadata": {},
   "source": [
    "3. <font color=#108ee9>Do you think building a \"computer\" whose inputs and outputs are analog voltage/current signals is a good idea? Why or why not?</font>"
   ]
  },
  {
   "cell_type": "markdown",
   "metadata": {},
   "source": []
  },
  {
   "cell_type": "markdown",
   "metadata": {},
   "source": [
    "## 6. Upload your report (this notebook)\n",
    "Upload your report to the course dropbox as either HTML or PDF (not pynb, which is hard for us to assess). You can export your notebook as HTML, e.g. in [vscode this way](https://code.visualstudio.com/docs/datascience/jupyter-notebooks#_export-your-jupyter-notebook). \n"
   ]
  },
  {
   "cell_type": "markdown",
   "metadata": {},
   "source": [
    "# 10 What we expect you to learn\n",
    "Please see the [NE1 exam preparation guide](https://drive.google.com/file/d/1nOq3UbcEv_ik425VBYqcH9hAET7FyIeP/view?usp=drive_link)"
   ]
  }
 ],
 "metadata": {
  "kernelspec": {
   "display_name": "Python 3.8.18 ('ne1')",
   "language": "python",
   "name": "python3"
  },
  "language_info": {
   "codemirror_mode": {
    "name": "ipython",
    "version": 3
   },
   "file_extension": ".py",
   "mimetype": "text/x-python",
   "name": "python",
   "nbconvert_exporter": "python",
   "pygments_lexer": "ipython3",
   "version": "3.8.18"
  },
  "vscode": {
   "interpreter": {
    "hash": "8ed8b578c66eb3211f3f72670f8cab7b9198c511e3dafce28af52df89e502cec"
   }
  }
 },
 "nbformat": 4,
 "nbformat_minor": 4
}
