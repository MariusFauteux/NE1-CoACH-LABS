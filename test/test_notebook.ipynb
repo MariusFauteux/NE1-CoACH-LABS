{
 "cells": [
  {
   "cell_type": "markdown",
   "metadata": {},
   "source": [
    "# Use this notebook for testing CoACH chip functionality"
   ]
  },
  {
   "cell_type": "code",
   "execution_count": 2,
   "metadata": {},
   "outputs": [
    {
     "name": "stderr",
     "output_type": "stream",
     "text": [
      "\u001b[0;36m[INFO]: 2023-10-19 14:46:01,755 - NE1 - Opened CoACH at /dev/ttyACM0 with firmware version (1, 12, 5) (File \"/home/tobi/Dropbox/GitLab/CoACH-labs/ne1.py\", line 145, in open)\u001b[0m\n",
      "\u001b[0;36m[INFO]: 2023-10-19 14:46:01,757 - NE1 - closing device (deleting pyplane.Plane() object (File \"/home/tobi/Dropbox/GitLab/CoACH-labs/ne1.py\", line 208, in close)\u001b[0m\n"
     ]
    }
   ],
   "source": [
    "from ne1 import Coach # import Coach() class\n",
    "import logging\n",
    "p=Coach(logging_level=logging.DEBUG) # NOTE change to INFO to reduce clutter - create a Coach object called p; you will use it to talk to class chip, change to logging.DEBUG for troubleshooting\n",
    "p.open()\n",
    "p.close()"
   ]
  }
 ],
 "metadata": {
  "kernelspec": {
   "display_name": "ne1",
   "language": "python",
   "name": "python3"
  },
  "language_info": {
   "codemirror_mode": {
    "name": "ipython",
    "version": 3
   },
   "file_extension": ".py",
   "mimetype": "text/x-python",
   "name": "python",
   "nbconvert_exporter": "python",
   "pygments_lexer": "ipython3",
   "version": "3.8.18"
  }
 },
 "nbformat": 4,
 "nbformat_minor": 2
}
