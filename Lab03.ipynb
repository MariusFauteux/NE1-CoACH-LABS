{
 "cells": [
  {
   "cell_type": "markdown",
   "metadata": {},
   "source": [
    "Neuromorphic engineering I"
   ]
  },
  {
   "cell_type": "markdown",
   "metadata": {},
   "source": [
    "## Lab 3: Transistor superthreshold saturation current and drain characteristics"
   ]
  },
  {
   "cell_type": "markdown",
   "metadata": {},
   "source": [
    "\n",
    "**Reminder: Did you `git pull` the exercises before starting this notebook?**"
   ]
  },
  {
   "cell_type": "markdown",
   "metadata": {},
   "source": [
    "Group number (if given one by TA):\n",
    "\n",
    "Team member 1:\n",
    "\n",
    "Team member 2:\n",
    "\n",
    "Date:\n",
    "\n",
    "CoACH Chip number:"
   ]
  },
  {
   "cell_type": "markdown",
   "metadata": {},
   "source": [
    "-------------------------------------------------------------------------------------------------------------------"
   ]
  },
  {
   "cell_type": "markdown",
   "metadata": {},
   "source": [
    "The objective of this lab is to understand _super-threshold_ ( also called _above-threshold_ or _strong inversion_ ) transistor operation and to understand transistor drain conductance characteristics, particularly _channel length modulation_.\n",
    "\n",
    "The specific experimental **objectives of this lab**  are as follows: \n",
    "1. To characterize drain current of a transistor as a function of gate voltage in superthreshold operation in the ohmic (triode) and saturation regions.\n",
    "2. To characterize the drain saturation properties in super-threshold.\n",
    "3. To characterize drain conductance (the Early effect) and how it scales with transistor length (may not be possible this year) and saturation drain current."
   ]
  },
  {
   "cell_type": "markdown",
   "metadata": {},
   "source": [
    "An intuitive and quantitative understanding of all these effects, along with the subthreshold behavior (last week), is useful for the design of effective circuits, especially analog design of high performance amplifiers."
   ]
  },
  {
   "cell_type": "markdown",
   "metadata": {},
   "source": [
    "# 1 Terminology"
   ]
  },
  {
   "cell_type": "markdown",
   "metadata": {},
   "source": [
    "- above-threshold = super-threshold =  strong inversion\n",
    "- sub-threshold = below-threshold = weak inversion\n",
    "- triode region = ohmic region = linear drain conductance behavior with small drain-source voltage\n",
    "- saturation = large $V_{\\rm ds}$ \n",
    "- $U_{\\rm T} \\equiv kT/q$ = thermal voltage = 25mV at room temperature\n",
    "- $V_{\\rm T}$ = threshold voltage = 0.4V to 0.8V depending on process\n",
    "- overdrive = $V_{\\rm ov} \\equiv V_{\\rm g}-V_{\\rm T}$\n"
   ]
  },
  {
   "cell_type": "markdown",
   "metadata": {},
   "source": [
    "# 2 Useful Quantities"
   ]
  },
  {
   "cell_type": "markdown",
   "metadata": {},
   "source": [
    "The following is a list of the physical parameters and constants we\n",
    "will be referring to in this lab, along with their values when\n",
    "appropriate. The units that are most natural for these quantities are\n",
    "also included; these units are not self--consistent, so make sure you\n",
    "convert the units when appropriate.\n"
   ]
  },
  {
   "cell_type": "markdown",
   "metadata": {},
   "source": [
    "* $\\epsilon_0$ :  Permittivity of vacuum = $8.86\\times10^{-12} \\rm{ F/m}$ \n",
    "* $\\epsilon_{Si}$ : Relative permittivity of ${\\rm Si}$ = $11.7\\epsilon_0$ \n",
    "* $\\epsilon_{ox}$ : Relative permittivity of ${\\rm SiO_2}$ = $3.9\\epsilon_0$ \n",
    "* $\\mu_n$ : electron surface mobility, ${\\rm cm^2/V/s}$ \n",
    "* $\\mu_p$ : hole surface mobility, ${\\rm cm^2/V/s}$\n",
    "* $C_{ox}$ : gate capacitance across the oxide per unit area,\n",
    "\t${\\rm fF/\\mu m^{2}}$ \n",
    "* $C_{dep}$ : capacitance of depletion region per unit area,\n",
    "\t${\\rm fF/\\mu m^{2}}$ \n",
    "* $t_{ox}$ : gate oxide thickness $\\approx$\n",
    "\t3.8 nm for the class chip in 180 nm techology.\n",
    "* $V_T$ : threshold voltage, V ($V_{T0}$ is $V_T$ when $V_s$ = 0).\n",
    "* $W$ : electrical width of transistor channel, $\\approx 4 \\mu {\\rm m}$ for both devices in this lab \n",
    "* $L$ : electrical length of transistor channel, $\\approx 4 \\mu {\\rm m}$ for both devices in this lab\n",
    "* $\\beta$ $\\equiv \\mu C_{ox} W/L,\\;\\mu{\\rm A/V^2}$ \n",
    "* $V_E$ : Early voltage, characterizes drain conductance. "
   ]
  },
  {
   "cell_type": "markdown",
   "metadata": {},
   "source": [
    "# 3 Prelab"
   ]
  },
  {
   "cell_type": "markdown",
   "metadata": {},
   "source": [
    "Write the expressions/eqations in LaTeX, like $V_{ov}$ = $V_{\\rm g}-V_{\\rm T}$, or insert images of handwritten expressions. (There are handy extensions available for markdown image insertion for some Jupyter workspaces.)"
   ]
  },
  {
   "cell_type": "markdown",
   "metadata": {},
   "source": [
    "* For nFET, write the most general expression for $I_{ds}$ above threshold in terms of $V_g,\\;V_s,\\;V_d$ (all voltages are referenced to the bulk), and the parameters and constants given above. Leave out the drain conductance Early effect in this equation. Assume $\\kappa=1$ and that $V_{Tn}>0$."
   ]
  },
  {
   "cell_type": "markdown",
   "metadata": {},
   "source": []
  },
  {
   "cell_type": "markdown",
   "metadata": {},
   "source": [
    "* For pFET, write the most general expression for $I_{ds}$ above threshold in terms of $V_g,\\;V_s,\\;V_d$ (all voltages are referenced to the bulk), and the parameters and constants given above. Leave out the drain conductance Early effect in this equation. Assume $\\kappa=1$ and that $V_{Tp}<0$."
   ]
  },
  {
   "cell_type": "markdown",
   "metadata": {},
   "source": []
  },
  {
   "cell_type": "markdown",
   "metadata": {},
   "source": [
    "- For nFET, sketch graphs of $I_{ds}$ vs the $V_d$ for several gate voltages $V_g$ above threshold, with $V_s=0$. Indicate the ohmic and saturation regions and the behavior of the saturation voltage $V_{dsat}$ as the gate overdrive voltage increases. "
   ]
  },
  {
   "cell_type": "markdown",
   "metadata": {},
   "source": []
  },
  {
   "cell_type": "markdown",
   "metadata": {},
   "source": [
    "- For nFET, derive an expression for the current $I_{ds}$ in the ohmic region in terms of $V_g$ and $V_{ds} \\equiv V_d-V_s,$. You may assume that $V_s=0.$ Sketch a graph of $I_{ds}$ vs $V_g,$ showing $V_{T0}$ and an expression for the slope."
   ]
  },
  {
   "cell_type": "markdown",
   "metadata": {},
   "source": []
  },
  {
   "cell_type": "markdown",
   "metadata": {},
   "source": [
    "- For nFET, state the drain voltage condition for above-threshold saturation and derive an expression for the saturation current $I_{dsat}$ in terms of $V_g$. Sketch a graph of $\\sqrt{I_{dsat}}$ vs $V_g$ with $V_s=0,$ showing $V_{T0}$ and an expression for the slope. Do not consider the Early effect here."
   ]
  },
  {
   "cell_type": "markdown",
   "metadata": {},
   "source": []
  },
  {
   "cell_type": "markdown",
   "metadata": {},
   "source": [
    "- Calculate $C_{ox}$ for the classchip from the [useful quantities](#2-useful-quantities). What is $C_{ox}$ per square micron in fF?\n"
   ]
  },
  {
   "cell_type": "markdown",
   "metadata": {},
   "source": []
  },
  {
   "cell_type": "markdown",
   "metadata": {},
   "source": [
    "- Write the expression for the drain current in saturation including the Early effect, using $I_{dsat}$ to  represent the saturation current in the absence of the Early effect.  Use $V_E$ to represent the Early voltage."
   ]
  },
  {
   "cell_type": "markdown",
   "metadata": {},
   "source": []
  },
  {
   "cell_type": "markdown",
   "metadata": {},
   "source": [
    "# 4 Setup"
   ]
  },
  {
   "cell_type": "markdown",
   "metadata": {},
   "source": [
    "You may want to install all the necessary requirements (python libraries)"
   ]
  },
  {
   "cell_type": "code",
   "execution_count": null,
   "metadata": {},
   "outputs": [],
   "source": [
    "import sys\n",
    "!{sys.executable} -m pip install -r requirements.txt"
   ]
  },
  {
   "cell_type": "markdown",
   "metadata": {},
   "source": [
    "If you installed new libraries, you probably have to restart the notebook kernel"
   ]
  },
  {
   "cell_type": "markdown",
   "metadata": {},
   "source": [
    "## 4.1 Connect the device"
   ]
  },
  {
   "cell_type": "markdown",
   "metadata": {},
   "source": [
    "Import necessary python libraries"
   ]
  },
  {
   "cell_type": "code",
   "execution_count": 1,
   "metadata": {},
   "outputs": [],
   "source": [
    "import time # for time.sleep(seconds)\n",
    "import numpy as np # numpy for arrays etc\n",
    "from scipy import stats # for stats.linregress\n",
    "import matplotlib\n",
    "import matplotlib.pyplot as plt # for plotting\n",
    "import matplotlib\n",
    "plt.rcParams.update({'font.size': 12}) # make the detault font size larger for your readers\n",
    "matplotlib.rcParams['pdf.fonttype'] = 42 # save fonts as type that are not outlined in illustrator or other drawing programs\n",
    "from engineering_notation import EngNumber as ef # format numbers in engineering format quickly, e.g. ef(2e-9)='2n'\n",
    "from pathlib import Path # used for saving data\n",
    "\n",
    "datapath = Path('data/lab3') # make a data folder to save your data called data/lab1\n",
    "datapath.mkdir(parents=True, exist_ok=True)\n",
    "from jupyter_save_load_vars import savevars, loadvars\n",
    "\n",
    "from ne1 import Coach # import Coach() class\n",
    "import logging\n",
    "coach=Coach(logging_level=logging.INFO) # create a Coach object called p; you will use it to talk to class chip, change to logging.DEBUG for troubleshooting\n",
    "# p.open()"
   ]
  },
  {
   "cell_type": "markdown",
   "metadata": {},
   "source": [
    "Now try to open the board"
   ]
  },
  {
   "cell_type": "code",
   "execution_count": 2,
   "metadata": {},
   "outputs": [
    {
     "name": "stderr",
     "output_type": "stream",
     "text": [
      "\u001b[0;36m[INFO]: 2023-10-10 15:21:39,041 - NE1 - Opened CoACH at /dev/ttyACM0 with firmware version (1, 12, 5) (File \"/root/GitLab/CoACH-labs/ne1.py\", line 133, in open)\u001b[0m\n"
     ]
    }
   ],
   "source": [
    "coach.open() # open the hardware interface to the board"
   ]
  },
  {
   "cell_type": "markdown",
   "metadata": {},
   "source": [
    "If the above step fails, close the board and start over with replugging the board\n"
   ]
  },
  {
   "cell_type": "code",
   "execution_count": null,
   "metadata": {},
   "outputs": [],
   "source": [
    "# p.close()"
   ]
  },
  {
   "cell_type": "markdown",
   "metadata": {},
   "source": [
    "<a id='config_nfet'></a>\n",
    "## 4.2 Configurations for N-FET"
   ]
  },
  {
   "cell_type": "code",
   "execution_count": null,
   "metadata": {
    "scrolled": true
   },
   "outputs": [],
   "source": [
    "# uses schemdraw, you may have to install it in order to run it on your PC\n",
    "import schemdraw\n",
    "import schemdraw.elements as elm\n",
    "d = schemdraw.Drawing()\n",
    "Q = d.add(elm.NFet, reverse=True)\n",
    "d.add(elm.Dot, xy=Q.gate, lftlabel='gate=AIN0')\n",
    "d.add(elm.Dot, xy=Q.drain, toplabel='drain=GO22')\n",
    "d.add(elm.Dot, xy=Q.source, botlabel='source=GO20')\n",
    "d.draw()"
   ]
  },
  {
   "cell_type": "markdown",
   "metadata": {},
   "source": [
    "To cancel out the leakage current and shunt resistance, you may need to do a subtraction in Section 5.1.\n",
    "\n",
    "$I_{ds} = I_{GO20} - I_{GO20}|_{V_{gs} = 0}$ "
   ]
  },
  {
   "cell_type": "markdown",
   "metadata": {},
   "source": [
    "Note: It's better to measure source because its leakage is constant in this lab"
   ]
  },
  {
   "cell_type": "markdown",
   "metadata": {},
   "source": [
    "* You have to set the input voltage demultiplexer by sending a configuration event:\n",
    "* Check the configuration is correct. If the measured result is not as expected, try sending the configration event again."
   ]
  },
  {
   "cell_type": "code",
   "execution_count": 3,
   "metadata": {},
   "outputs": [
    {
     "name": "stderr",
     "output_type": "stream",
     "text": [
      "\u001b[0;36m[INFO]: 2023-10-10 15:21:47,391 - NE1 - was already open (File \"/root/GitLab/CoACH-labs/ne1.py\", line 115, in open)\u001b[0m\n"
     ]
    },
    {
     "name": "stdout",
     "output_type": "stream",
     "text": [
      "The measured NFET currents are Is_n=146.48nA and Id_p=4u\n"
     ]
    }
   ],
   "source": [
    "coach.open() # open the CoACH board if you came back here\n",
    "coach.setup_nfet()\n",
    "vdd=1.8\n",
    "coach.set_nfet_vb(0) # does nothing; we cannot set it since it defines ground\n",
    "coach.set_nfet_vs(0)\n",
    "coach.set_nfet_vd(1)\n",
    "coach.set_nfet_vg(.5)\n",
    "Is_n=coach.measure_nfet_is()\n",
    "Id_n=coach.measure_nfet_id()\n",
    "print(f'The measured NFET currents are Is_n={ef(Is_n)}A and Id_p={ef(Id_n)}')\n",
    "coach.close()"
   ]
  },
  {
   "cell_type": "markdown",
   "metadata": {},
   "source": [
    "* Question: Check if the measured currents change with different gate voltages?"
   ]
  },
  {
   "cell_type": "markdown",
   "metadata": {},
   "source": [
    "<a id='config_pfet'></a>\n",
    "## 4.3 Configurations for P-FET"
   ]
  },
  {
   "cell_type": "code",
   "execution_count": null,
   "metadata": {
    "scrolled": true
   },
   "outputs": [],
   "source": [
    "# uses schemdraw, you may have to install it in order to run it on your PC\n",
    "import schemdraw\n",
    "import schemdraw.elements as elm\n",
    "d = schemdraw.Drawing()\n",
    "Q = d.add(elm.PFet, reverse=True, bulk=True)\n",
    "d.add(elm.Dot, xy=Q.gate, lftlabel='gate=AIN0')\n",
    "d.add(elm.Dot, xy=Q.bulk, rgtlabel='bulk=AIN1')\n",
    "d.add(elm.Dot, xy=Q.drain, botlabel='drain=GO21')\n",
    "d.add(elm.Dot, xy=Q.source, toplabel='source=GO23')\n",
    "d.draw()"
   ]
  },
  {
   "cell_type": "markdown",
   "metadata": {},
   "source": [
    "Hint: To cancel out the leakage current and shunt resistance, you may need to do a subtraction:\n",
    "\n",
    "$I_{ds} = I_{GO23} - I_{GO23}|_{V_{gs} = 0} $"
   ]
  },
  {
   "cell_type": "markdown",
   "metadata": {},
   "source": [
    "Note: Measure drain of PFET in this lab. \n",
    "Also think about the difference of $V_{gs}$ between PMOS and NMOS?"
   ]
  },
  {
   "cell_type": "code",
   "execution_count": 19,
   "metadata": {},
   "outputs": [
    {
     "name": "stderr",
     "output_type": "stream",
     "text": [
      "\u001b[0;36m[INFO]: 2023-10-10 15:31:22,489 - NE1 - Opened CoACH at /dev/ttyACM0 with firmware version (1, 12, 5) (File \"/root/GitLab/CoACH-labs/ne1.py\", line 133, in open)\u001b[0m\n"
     ]
    },
    {
     "name": "stdout",
     "output_type": "stream",
     "text": [
      "The measured PFET currents are Is_p=29.96uA and Id_p=30.13u\n"
     ]
    }
   ],
   "source": [
    "coach.open() # open the CoACH board if you came back here\n",
    "# p.open('/dev/ttyUSB0') # you might need this on WSL2 Ubuntu\n",
    "coach.setup_pfet()\n",
    "vdd=1.8 # define power supply since pfet is referenced to it\n",
    "coach.set_pfet_vb(vdd)\n",
    "coach.set_pfet_vs(vdd)\n",
    "coach.set_pfet_vd(0) # set drain below source and from vdd\n",
    "coach.set_pfet_vg(vdd-.5) # set gate below vdd\n",
    "Is_p=coach.measure_pfet_is() #measure source current (at vdd side)\n",
    "Id_p=coach.measure_pfet_id() # measure drain current (at lower voltage side)\n",
    "print(f'The measured PFET currents are Is_p={ef(Is_p)}A and Id_p={ef(Id_p)}')\n",
    "coach.close()"
   ]
  },
  {
   "cell_type": "markdown",
   "metadata": {},
   "source": [
    "# 5 Ohmic region of superthreshold tranconductance"
   ]
  },
  {
   "cell_type": "markdown",
   "metadata": {},
   "source": [
    "In this experiment you will characterize the *linear* dependence of the current on the gate\n",
    "voltage in the strong-inversion ohmic region, i.e. with $V_{ds}$ a small voltage for both NFET and PFET at the same time."
   ]
  },
  {
   "cell_type": "markdown",
   "metadata": {},
   "source": [
    "**(a)** Measure $I_{ds}$ as a function of $V_g$ in ohmic region, using small $V_{ds}$ and large range of $V_{gs}$"
   ]
  },
  {
   "cell_type": "markdown",
   "metadata": {},
   "source": [
    "* What will be the fixed value for source and drain voltages?\n"
   ]
  },
  {
   "cell_type": "markdown",
   "metadata": {},
   "source": [
    "* To get the quantized DAC voltages, record the returned value from _set_nfet_vX()_, e.g.\n",
    "```python\n",
    "    v=p.set_nfet_vg(1)\n",
    "```"
   ]
  },
  {
   "cell_type": "markdown",
   "metadata": {},
   "source": [
    "## Data acquisition function\n",
    "\n",
    "We may as well define a function `measure_n_and_p_fet_ids_vs_vgs` to measure both NFET and PFET drain currents vs a gate voltage array since we need to do this multiple times  \n"
   ]
  },
  {
   "cell_type": "code",
   "execution_count": 21,
   "metadata": {},
   "outputs": [],
   "source": [
    "def measure_n_and_p_fet_ids_vs_vgs(coach, vs, vd, vb, vg_arr):\n",
    "    \"\"\"Measure NFET and PFET Ids vs vg. The pfet voltages are relative to Vdd and positive.\n",
    "    \n",
    "    :param coach: the Coach() board object\n",
    "    :param vs: the Vs you want;\n",
    "    :param vd: the Vd you want\n",
    "    :param vb: the Vb (bulk) you want\n",
    "    :param vg_arr: a numpy.ndarray of gate voltages\n",
    "    :return: vgn_actual,id_n,is_n,   vgp_actual,id_p,is_p. \n",
    "        The actual gate voltages are quantized by the DACs.\n",
    "        Both source (is) and drain (id) currents are returned. Which one to use depends on the experiment\n",
    "    \"\"\"\n",
    "    coach.open()\n",
    "    vdd=1.8\n",
    "    vds=vd-vs\n",
    "    n_samples=vg_arr.size\n",
    "    vgn_actual=np.zeros_like(vg_arr) # for actual vgs of NFET\n",
    "    vgp_actual=np.zeros_like(vg_arr) # for actual vgs of PFET\n",
    "    id_n=np.zeros_like(vg_arr) # for NFET\n",
    "    is_n=np.zeros_like(vg_arr) \n",
    "    id_p=np.zeros_like(vg_arr) \n",
    "    is_p=np.zeros_like(vg_arr) \n",
    "    delay=.05\n",
    "    coach.setup_nfet()\n",
    "    print('*** NFET data')\n",
    "    for i,v in enumerate(vg_arr): # note how enumerate returns the index i and the gate voltage v\n",
    "        coach.set_nfet_vb(vb)\n",
    "        coach.set_nfet_vs(vs)\n",
    "        coach.set_nfet_vd(vd)\n",
    "        vgn_actual[i]=coach.set_nfet_vg(v)\n",
    "        time.sleep(delay)\n",
    "        is_n[i]=coach.measure_nfet_is()\n",
    "        id_n[i]=coach.measure_nfet_id()\n",
    "\n",
    "        if i%10==0:\n",
    "            print(f'NFET vgs={ef(v)}: id_n={ef(id_n[i])}, is_n={ef(is_n[i])}')\n",
    "\n",
    "    coach.setup_pfet()\n",
    "    print('*** PFET data')\n",
    "    for i,v in enumerate(vg_arr): # note how enumerate returns the index i and the gate voltage v\n",
    "        coach.set_pfet_vb(vdd-vb)\n",
    "        coach.set_pfet_vs(vdd-vs)\n",
    "        coach.set_pfet_vd(vdd-vd)\n",
    "        vgp_actual[i]=vdd-coach.set_pfet_vg(vdd-v) # store vsg from vdd\n",
    "        time.sleep(delay)\n",
    "        id_p[i]=coach.measure_pfet_id()\n",
    "        is_p[i]=coach.measure_pfet_is()\n",
    "        if i%10==0:\n",
    "            print(f'PFET vgs={ef(v)}: id_p={ef(id_p[i])}, is_p={ef(is_p[i])}')\n",
    "    coach.close()\n",
    "    # plot \n",
    "    plt.plot(vgn_actual,id_n, vgn_actual,is_n)\n",
    "    plt.plot(vgp_actual,id_p, vgp_actual,is_p)\n",
    "    plt.title(f'Ids vs Vgs for Vds={ef(vds)}V')\n",
    "    plt.ylabel('|$I_{ds}|$ (A)')\n",
    "    plt.xlabel('|$V_{gs}|$ (V)') # note absolute value here\n",
    "    plt.legend(['$I_d$ NFET','$I_s$ NFET','$I_d$ PFET','$I_s$ PFET'])\n",
    "    return vgn_actual,id_n,is_n, vgp_actual,id_p,is_p"
   ]
  },
  {
   "cell_type": "markdown",
   "metadata": {},
   "source": [
    "* Now do the actual measurement\n",
    "\n",
    "If the results do not look reasonable, see the [README](https://code.ini.uzh.ch/CoACH/CoACH-labs/-/blob/master/readme.md#how-fet-currents-are-measuredd) to check your current ADC gain settings.\n",
    "\n",
    "For these superthreshold measurements, you need to sweep from just below threshold to way above it, up to the limit of the current sensing of the CoACH board."
   ]
  },
  {
   "cell_type": "code",
   "execution_count": 23,
   "metadata": {},
   "outputs": [
    {
     "name": "stderr",
     "output_type": "stream",
     "text": [
      "\u001b[0;36m[INFO]: 2023-10-10 15:33:20,566 - NE1 - Opened CoACH at /dev/ttyACM0 with firmware version (1, 12, 5) (File \"/root/GitLab/CoACH-labs/ne1.py\", line 133, in open)\u001b[0m\n"
     ]
    },
    {
     "name": "stdout",
     "output_type": "stream",
     "text": [
      "NFET vgs=500m: ids_n=145.02n\n",
      "NFET vgs=601.01m: ids_n=552.98n\n",
      "NFET vgs=702.02m: ids_n=965.82n\n",
      "NFET vgs=803.03m: ids_n=999.02n\n",
      "NFET vgs=904.04m: ids_n=999.02n\n",
      "NFET vgs=1.01: ids_n=998.78n\n",
      "NFET vgs=1.11: ids_n=999.02n\n",
      "NFET vgs=1.21: ids_n=999.02n\n",
      "NFET vgs=1.31: ids_n=999.02n\n",
      "NFET vgs=1.41: ids_n=999.02n\n",
      "PFET vgs=500m: ids_p=78.86n\n",
      "PFET vgs=601.01m: ids_p=288.57n\n",
      "PFET vgs=702.02m: ids_p=540.53n\n",
      "PFET vgs=803.03m: ids_p=739.50n\n",
      "PFET vgs=904.04m: ids_p=856.69n\n",
      "PFET vgs=1.01: ids_p=944.09n\n",
      "PFET vgs=1.11: ids_p=961.18n\n",
      "PFET vgs=1.21: ids_p=999.02n\n",
      "PFET vgs=1.31: ids_p=999.02n\n",
      "PFET vgs=1.41: ids_p=998.78n\n"
     ]
    },
    {
     "data": {
      "text/plain": [
       "<matplotlib.legend.Legend at 0x7f80c4ddbc40>"
      ]
     },
     "execution_count": 23,
     "metadata": {},
     "output_type": "execute_result"
    },
    {
     "data": {
      "image/png": "[encoded data removed]",
      "text/plain": [
       "<Figure size 640x480 with 1 Axes>"
      ]
     },
     "metadata": {},
     "output_type": "display_data"
    }
   ],
   "source": [
    "n_samples=100\n",
    "vdd=1.8\n",
    "vs=0\n",
    "vd=.2 # NOTE play to get 'best' results\n",
    "vb=0\n",
    "vds=vd-vs\n",
    "vg_low=.5 # NOTE adjust to capture only range that current ADC can capture without saturating\n",
    "vg_high=vdd # NOTE adjust to capture only range that current ADC can capture without saturating\n",
    "vg_arr=np.linspace(vg_low,vg_high,n_samples)\n",
    "\n",
    "# NOTE that the limit of current measurement with default switch settings is 1uA, so if you do a sweep of Vg to vdd you will exceed this limit\n",
    "vgn_actual,id_n,is_n, vgp_actual,id_p,is_p = measure_n_and_p_fet_ids_vs_vgs(coach, vs,vd ,vb, vg_arr)\n",
    "\n",
    "# NOTE choose the ones that look best here\n",
    "ids_n=is_n\n",
    "ids_p=id_p \n"
   ]
  },
  {
   "cell_type": "code",
   "execution_count": null,
   "metadata": {},
   "outputs": [],
   "source": [
    "# if the data looks good, save it\n",
    "savevars(datapath/'ids-vs-vgs-ohmic', overwrite='yes')\n",
    "\n",
    "        "
   ]
  },
  {
   "cell_type": "code",
   "execution_count": null,
   "metadata": {},
   "outputs": [],
   "source": [
    "# plot \n",
    "plt.plot(vgn_actual,ids_n)\n",
    "plt.plot(vgp_actual,ids_p)\n",
    "plt.title(f'Fig. 5.1 Ids vs Vgs for ohmic Vds={ef(vds)}V')\n",
    "plt.ylabel('Ids (A)')\n",
    "plt.xlabel('Vgs (V)')\n",
    "plt.legend(['NFET','PFET'])\n"
   ]
  },
  {
   "cell_type": "code",
   "execution_count": null,
   "metadata": {},
   "outputs": [],
   "source": [
    "# extract the valid range\n",
    "def get_linear_range(vg:np.array,id:np.ndarray, range=[.1,.8]): # type hint for completion\n",
    "    \"\"\" gets the vg and id that line in range of the source data\n",
    "    \n",
    "    :param vg: the gate voltages\n",
    "    :param id: the drain currents\n",
    "    :param range: [low,high] the range as fractions 0-1 of selected id currents\n",
    "    :return: the selected vg,id\n",
    "    \"\"\"\n",
    "    imin=np.min(id); imax=np.max(id)\n",
    "    irange=imax-imin\n",
    "    ilow=irange*range[0]\n",
    "    ihigh=irange*range[1]\n",
    "    idx=np.where((id>ilow) & (id<ihigh))\n",
    "    if len(idx)==0:\n",
    "        print('no id values are between {ef(imin*factor)} and {ef(id<imax/factor)}; change factors')\n",
    "    return vg[idx], id[idx]\n",
    "\n",
    "# first, subtract the minimum measured current which we consider the leakage current\n",
    "idn_corr=ids_n-np.min(ids_n)\n",
    "idp_corr=ids_p-np.min(ids_p)\n",
    "\n",
    "vgn_lin,idn_lin=get_linear_range(vgn_actual,idn_corr)\n",
    "vgp_lin,idp_lin=get_linear_range(vgp_actual,idp_corr)\n",
    "\n",
    "# plot \n",
    "plt.plot(vgn_actual,idn_corr,'rx')\n",
    "plt.plot(vgp_actual,idp_corr,'go')\n",
    "plt.plot(vgn_lin,idn_lin,'r-')\n",
    "plt.plot(vgp_lin,idp_lin,'g-')\n",
    "plt.title(f'Fig. 5.2 Ids vs Vgs for ohmic Vds={ef(vds)}V')\n",
    "plt.ylabel('|$I_{ds}|$ (A)')\n",
    "plt.xlabel('|$V_{gs}|$ (V)') # note absolute value here\n",
    "plt.legend(['NFET','PFET','NFET fit range','PFET fit range'])\n",
    "\n"
   ]
  },
  {
   "cell_type": "markdown",
   "metadata": {},
   "source": [
    "(b) Now fit in the valid range (replace the lines showing your selected data with the actual fitted lines) to determine beta and VT0."
   ]
  },
  {
   "cell_type": "code",
   "execution_count": null,
   "metadata": {},
   "outputs": [],
   "source": [
    "# you can use code from lab2 to do this fit to  [vgn_actual,idn_corr] and [vgp_actual,idp_corr]\n",
    "# loadvars(datapath/'lab3', overwrite='yes',warn=False) # if you come back here\n",
    "\n",
    "# code from lab2 for fitting\n",
    "# fit=stats.linregress(x,y) # fit a line to them; see https://docs.scipy.org/doc/scipy/reference/generated/scipy.stats.linregress.html \n",
    "# idp_fit=np.exp(fit.intercept+x*fit.slope) # compute the fitted values on the gate voltage points\n",
    "# i0p=np.exp(fit.intercept) # compute current at Vg=0\n",
    "# # fit.slope is efolds/volt\n",
    "# U_T=25e-3 # thermal voltage in Volts\n",
    "# q=1.6e-19 # elementary change in Coulombs\n",
    "# v_per_efold_p=1/fit.slope # compute the volts for one \"e-fold\" (factor of increase of e)\n",
    "# # compute kappa from UT and v_per_efold\n",
    "# kappa=U_T/v_per_efold_p\n",
    "fit_n=stats.linregress(vgn_lin,idn_lin) # fit a line to them; see https://docs.scipy.org/doc/scipy/reference/generated/scipy.stats.linregress.html \n",
    "fit_p=stats.linregress(vgp_lin,idp_lin) # fit a line to them; see https://docs.scipy.org/doc/scipy/reference/generated/scipy.stats.linregress.html \n",
    "idn_fit=fit_n.intercept+vgn_lin*fit_n.slope # compute the fitted values on the gate voltage points\n",
    "idp_fit=fit_p.intercept+vgp_lin*fit_p.slope # compute the fitted values on the gate voltage points\n",
    "# units: fit.slope is A/V, fit.intercept is V\n",
    "# ids=beta*(vg-vt)*vds\n",
    "\n",
    "# plot \n",
    "plt.plot(vgn_actual,idn_corr,'rx')\n",
    "plt.plot(vgp_actual,idp_corr,'go')\n",
    "plt.plot(vgn_lin,idn_fit,'r-')\n",
    "plt.plot(vgp_lin,idp_fit,'g-')\n",
    "plt.title(f'Fig. 5.3 Fitted Ids vs Vgs for ohmic Vds={ef(vds)}V')\n",
    "plt.ylabel('|$I_{ds}|$ (A)')\n",
    "plt.xlabel('|$V_{gs}|$ (V)') # note absolute value here\n",
    "plt.legend(['NFET','PFET','NFET fit','PFET fit'])\n"
   ]
  },
  {
   "cell_type": "markdown",
   "metadata": {},
   "source": [
    "**(c)** Determine $V_{T0}$ and $\\beta$ for both devices by using your fit to estimate the threshold voltage $V_{T}$ and transconductance paramter $\\beta$, based on the expressions derived in the prelab"
   ]
  },
  {
   "cell_type": "code",
   "execution_count": null,
   "metadata": {},
   "outputs": [],
   "source": [
    "# V_T0 for N and P FETs, you fill in the computations here based on your fit parameters extracted above\n",
    "# units: fit.slope is A/V, fit.intercept is V\n",
    "# ids=beta*(vg-vt)*vds\n",
    "\n",
    "# vt0_n = ... # y=mx+b, m is slope, b is y-intercept, so x-intercept where y=0 is 0=mx+b, or x=-b/m\n",
    "# vt0_p=...\n",
    "# beta_n=...\n",
    "# beta_p=...\n",
    "\n",
    "# compute ratio\n",
    "beta_np_ratio=beta_n/beta_p\n",
    "print(f'V_TOn={vt0_n:.2f}V, beta_n={ef(beta_n)}A/V^2\\nV_TOp={vt0_p:.2f}V, beta_n={ef(beta_p)}A/V^2')\n",
    "print(f'Beta ratio NFET/PFET is {beta_np_ratio:.2f}')"
   ]
  },
  {
   "cell_type": "markdown",
   "metadata": {},
   "source": [
    "* Does the ratio between $\\beta$ for the 2 devices make sense based on the relative mobilities of electrons and holes? Please comment on your results."
   ]
  },
  {
   "cell_type": "markdown",
   "metadata": {},
   "source": []
  },
  {
   "cell_type": "markdown",
   "metadata": {},
   "source": [
    "* Is the relationship between $I_{ds}$ and $V_{gs}-V_T$ really linear? What is likely the cause of any discrepancy?"
   ]
  },
  {
   "cell_type": "markdown",
   "metadata": {},
   "source": []
  },
  {
   "cell_type": "markdown",
   "metadata": {},
   "source": [
    "## 5.1 Effective surface mobility (optional)"
   ]
  },
  {
   "cell_type": "markdown",
   "metadata": {},
   "source": [
    "Hint: Use the $V_{T0}$ you obtained in the last experiments but assume $\\beta$ changes with $V_{gs}$ (thus $\\mu_n$ and $\\mu_p$ changes). **No need to measure again.**"
   ]
  },
  {
   "cell_type": "code",
   "execution_count": null,
   "metadata": {},
   "outputs": [],
   "source": [
    "# plot mu vs Vgs for both devices in the same figure, i.e. the derivative of beta"
   ]
  },
  {
   "cell_type": "markdown",
   "metadata": {},
   "source": [
    "- Why does the mobility peak and then decay instead of remaining constant? "
   ]
  },
  {
   "cell_type": "markdown",
   "metadata": {},
   "source": []
  },
  {
   "cell_type": "markdown",
   "metadata": {},
   "source": [
    "- What is the ratio between the **peak** mobilities for electrons and holes?"
   ]
  },
  {
   "cell_type": "markdown",
   "metadata": {},
   "source": []
  },
  {
   "cell_type": "markdown",
   "metadata": {},
   "source": [
    "- How different are these values from the bulk mobilities for electrons (1350 ${\\rm cm^2/V/s}$) and holes (480 ${\\rm cm^2/V/s}$)? "
   ]
  },
  {
   "cell_type": "markdown",
   "metadata": {},
   "source": []
  },
  {
   "cell_type": "markdown",
   "metadata": {},
   "source": [
    "# 6 Drain Current in the saturation region"
   ]
  },
  {
   "cell_type": "markdown",
   "metadata": {},
   "source": [
    "In this experiment, repeat nearly exactly the same experiement but with a **large** $V_{ds}$, to measure the _quadratic_ dependence of the current on the gate\n",
    "voltage in the saturation region. "
   ]
  },
  {
   "cell_type": "markdown",
   "metadata": {},
   "source": [
    "* Repeat the experiments from Section 5 with a large $V_{ds}$.\n",
    "* Remember you should plot $\\sqrt(I_{ds}))$ vs. $V_{gs}$ to see if it behaves linearly as predicted."
   ]
  },
  {
   "cell_type": "code",
   "execution_count": null,
   "metadata": {},
   "outputs": [],
   "source": [
    "n_samples=100\n",
    "vdd=1.8\n",
    "vs=0\n",
    "vd=1 # NOTE play to get 'best' results\n",
    "vb=0\n",
    "vds_sat=vd-vs\n",
    "vg_low=.3 # NOTE adjust to capture only range that current ADC can capture without saturating\n",
    "vg_high=.75 # NOTE adjust to capture only range that current ADC can capture without saturating\n",
    "vg_arr=np.linspace(vg_low,vg_high,n_samples)\n",
    "\n",
    "# NOTE that the limit of current measurement with default switch settings is 1uA, so if you do a sweep of Vg to vdd you will exceed this limit\n",
    "vgn_actual_sat, ids_n_sat, is_n_sat, vgp_actual_sat, ids_p_sat, is_p_sat = measure_n_and_p_fet_ids_vs_vgs(coach, vs, vd, vb, vg_arr)\n"
   ]
  },
  {
   "cell_type": "code",
   "execution_count": null,
   "metadata": {},
   "outputs": [],
   "source": [
    "# plot \n",
    "plt.plot(vgn_actual_sat,np.sqrt(ids_n_sat),'r-x')\n",
    "plt.plot(vgp_actual_sat,np.sqrt(ids_p_sat),'g-o')\n",
    "plt.title(f'Fig. 6.1 sqrt(Ids) vs Vgs for Vds={ef(vds_sat)}V') # NOTE sqrt(Ids)\n",
    "plt.ylabel('$\\sqrt{I_{ds}}$ ($\\sqrt{A}$)')\n",
    "plt.xlabel('|$V_{gs}|$ (V)') # note absolute value here\n",
    "plt.legend(['NFET','PFET'])\n",
    "\n"
   ]
  },
  {
   "cell_type": "code",
   "execution_count": null,
   "metadata": {},
   "outputs": [],
   "source": [
    "# looks good?\n",
    "savevars(datapath/'ids-vs-vgs-saturation')"
   ]
  },
  {
   "cell_type": "markdown",
   "metadata": {},
   "source": [
    "* From this saturation data, extract $\\beta$ and $V_{T0}$"
   ]
  },
  {
   "cell_type": "code",
   "execution_count": null,
   "metadata": {},
   "outputs": [],
   "source": []
  },
  {
   "cell_type": "markdown",
   "metadata": {},
   "source": [
    "## 7 Comparisons of ohmic and saturation superthreshold transconductance models"
   ]
  },
  {
   "cell_type": "markdown",
   "metadata": {},
   "source": [
    "* Are the measurements of $V_{T0}$ and $\\beta$ from the saturation measurement consistent with the values obtained in the ohmic region? "
   ]
  },
  {
   "cell_type": "markdown",
   "metadata": {},
   "source": []
  },
  {
   "cell_type": "markdown",
   "metadata": {},
   "source": [
    "* Which is a better approximation, the linear one or the quadratic?"
   ]
  },
  {
   "cell_type": "markdown",
   "metadata": {},
   "source": []
  },
  {
   "cell_type": "markdown",
   "metadata": {},
   "source": [
    "# 7 Early effect - Channel length modulation - Drain conductance"
   ]
  },
  {
   "cell_type": "markdown",
   "metadata": {},
   "source": [
    "This experiment studies how Early voltage scales with transistor current; in particular, how valid are the simple assumptions about channel length modulation?\n",
    "\n",
    "The measurements are nearly identical to previous one, only for each curve you will fix $V_{gs}$ and sweep $V_{ds}$, always still measuring $I_{ds}$. \n",
    "\n",
    "For your convenience, we made a function `measure_n_and_p_fet_ids_vs_vds` to do the measurement:"
   ]
  },
  {
   "cell_type": "code",
   "execution_count": 3,
   "metadata": {},
   "outputs": [],
   "source": [
    "def measure_n_and_p_fet_ids_vs_vds(coach, vg_n, vg_p, vs, vb, vd_arr):\n",
    "    \"\"\"Measure NFET and PFET Ids vs Vds. The pfet voltages are set relative to Vdd and negated for you.\n",
    "    \n",
    "    :param coach: the Coach() board object\n",
    "    :param vg_n: the NFET gate voltage (abs value relative to bulk)\n",
    "    :param vg_p: the PFET gate voltage (abs value relative to bulk)\n",
    "    :param vs: the Vs you want;\n",
    "    :param vb: the Vb (bulk) you want\n",
    "    :param vd_arr: np.ndarray of drain voltages, (abs value relative to bulk)\n",
    "    :param measure_is: True to measure the source currents, False to measure drain currents. \n",
    "        It would seem to make more sense to measure source current because the voltage and hence leakage is fixed.\n",
    "    :return: vds_actual_n, ids_n, vgp_actual_n, ids_p. \n",
    "        The quantized Vds and Ids currents.\n",
    "    \"\"\"\n",
    "    measure_is=True # to change measurement from source to drain set False\n",
    "    # actually measure_is=True measures NFET at src and PFET at drain\n",
    "    coach.open()\n",
    "    vdd=1.8\n",
    "    ids_n=np.zeros_like(vd_arr) # for NFET\n",
    "    ids_p=np.zeros_like(vd_arr) # for NFET\n",
    "    vds_actual_n=np.zeros_like(vd_arr) # for NFET\n",
    "    vds_actual_p=np.zeros_like(vd_arr) # for NFET\n",
    "    delay=.01\n",
    "    n_avg=100 # NOTE sets how many current measurements are averaged for each point\n",
    "    print(f'averaging {n_avg} ids samples for each vds')\n",
    "\n",
    "    coach.setup_nfet()\n",
    "    vgn_actual=coach.set_nfet_vg(vg_n) # set gate bulk and src\n",
    "    coach.set_nfet_vb(vb)\n",
    "    coach.set_nfet_vs(vs)\n",
    "    for i,v in enumerate(vd_arr): # note how enumerate returns the index i and the gate voltage v\n",
    "        vds_actual_n[i]=coach.set_nfet_vd(v) # set drain\n",
    "        time.sleep(delay)\n",
    "        sum=0\n",
    "        for j in range(n_avg):\n",
    "            cur=(coach.measure_nfet_is() if measure_is else coach.measure_nfet_id())\n",
    "            # print(f'cur {i} is {ef(cur)}A')\n",
    "            sum+=cur\n",
    "        avg=sum/n_avg\n",
    "        ids_n[i]=avg\n",
    "        # print(f'      NFET ids_n[{i}] is {ef(ids_n[i])}A')\n",
    "        # ids_n[i]=coach.measure_nfet_is() if measure_is else coach.measure_nfet_id() # NOTE it might be better to measure Id here\n",
    "        if i%10==0:\n",
    "            print(f'NFET vg={ef(vg_n)}V vds={ef(v)}: ids_n={ef(ids_n[i])}')\n",
    "\n",
    "    coach.setup_pfet()\n",
    "    vgp_actual=vdd-coach.set_pfet_vg(vdd-vg_p) # store vsg from vdd\n",
    "    coach.set_pfet_vb(vdd-vb)\n",
    "    coach.set_pfet_vs(vdd-vs)\n",
    "    for i,v in enumerate(vd_arr): # note how enumerate returns the index i and the gate voltage v\n",
    "        vds_actual_p[i]=vdd-coach.set_pfet_vd(vdd-v)\n",
    "        time.sleep(delay)\n",
    "        sum=0\n",
    "        for j in range(n_avg):\n",
    "            cur=(coach.measure_pfet_id() if measure_is else coach.measure_pfet_is())\n",
    "            # print(f'PFET cur {i} is {ef(cur)}A')\n",
    "            sum+=cur\n",
    "        avg=sum/n_avg\n",
    "        ids_p[i]=avg\n",
    "        # print(f'      PFET ids_n[{i}] is {ef(ids_p[i])}A')\n",
    "        # ids_p[i]=coach.measure_pfet_id() if measure_is else coach.measure_pfet_is() # NOTE it might be better to measure Id here\n",
    "        if i%10==0:\n",
    "            print(f'PFET vg={ef(vg_p)}V vds={ef(v)}: ids_p={ef(ids_p[i])}')\n",
    "    coach.close()\n",
    "    ids_n=np.array(ids_n)\n",
    "    ids_p=np.array(ids_p) # make num,py arrays to return and plot\n",
    "\n",
    "    # subtract leakage at vds=0 from both curves\n",
    "    nleak=ids_n[0]\n",
    "    pleak=ids_p[0]\n",
    "    print(f'subtracting leakage Ids at Vds=0 of NFET: {ef(nleak)}A PFET {ef(pleak)}A')\n",
    "    ids_n-=nleak\n",
    "    ids_p-=pleak\n",
    "    \n",
    "    # plot \n",
    "    plt.plot(vds_actual_n,ids_n,'r-*')\n",
    "    plt.plot(vds_actual_p,ids_p,'g-*')\n",
    "    plt.title(f'Ids vs Vds for Vg_n={ef(vg_n-vs)}V Vg_p={ef(vg_p-vs)}V')\n",
    "    plt.ylabel('|$I_{ds}|$ (A)')\n",
    "    plt.xlabel('|$V_{ds}|$ (V)') # note absolute value here\n",
    "    plt.legend(['NFET','PFET'])\n",
    "    plt.show()\n",
    "    return vds_actual_n,ids_n,vds_actual_p,ids_p"
   ]
  },
  {
   "cell_type": "markdown",
   "metadata": {},
   "source": [
    "**(a)** Measure $I_{ds}$ vs $V_{ds}$ for different $V_{gs}$ spanning as large a range of drain currents as you can confidently measure"
   ]
  },
  {
   "cell_type": "markdown",
   "metadata": {},
   "source": [
    "Here is some measurement code for your convenience. You may need to adjust values; see NOTE"
   ]
  },
  {
   "cell_type": "code",
   "execution_count": 17,
   "metadata": {},
   "outputs": [
    {
     "name": "stderr",
     "output_type": "stream",
     "text": [
      "\u001b[0;36m[INFO]: 2023-10-10 12:53:36,924 - NE1 - Opened CoACH at /dev/ttyACM0 with firmware version (1, 12, 5) (File \"/root/GitLab/CoACH-labs/ne1.py\", line 126, in open)\u001b[0m\n",
      "\u001b[0;36m[INFO]: 2023-10-10 12:53:36,927 - NE1 - was already open (File \"/root/GitLab/CoACH-labs/ne1.py\", line 110, in open)\u001b[0m\n"
     ]
    },
    {
     "name": "stdout",
     "output_type": "stream",
     "text": [
      "averaging 100 ids samples for each vds\n",
      "NFET vg=900mV vds=0: ids_n=239.26n\n",
      "NFET vg=900mV vds=620.69m: ids_n=10.84u\n",
      "NFET vg=900mV vds=1.24: ids_n=11.11u\n",
      "PFET vg=800mV vds=0: ids_p=6.49u\n",
      "PFET vg=800mV vds=620.69m: ids_p=6.70u\n",
      "PFET vg=800mV vds=1.24: ids_p=6.70u\n",
      "subtracting leakage Ids at Vds=0 of NFET: 239.26nA PFET 6.49uA\n"
     ]
    },
    {
     "data": {
      "image/png": "[encoded data removed]",
      "text/plain": [
       "<Figure size 640x480 with 1 Axes>"
      ]
     },
     "metadata": {},
     "output_type": "display_data"
    },
    {
     "ename": "AttributeError",
     "evalue": "'NoneType' object has no attribute 'open'",
     "output_type": "error",
     "traceback": [
      "\u001b[0;31m---------------------------------------------------------------------------\u001b[0m",
      "\u001b[0;31mAttributeError\u001b[0m                            Traceback (most recent call last)",
      "\u001b[1;32m/root/GitLab/CoACH-labs/Lab3_AboveThr_GroupNumber_FirstName_LastName.ipynb Cell 97\u001b[0m line \u001b[0;36m<cell line: 16>\u001b[0;34m()\u001b[0m\n\u001b[1;32m     <a href='vscode-notebook-cell://wsl%2Bubuntu-20.04/root/GitLab/CoACH-labs/Lab3_AboveThr_GroupNumber_FirstName_LastName.ipynb#Y165sdnNjb2RlLXJlbW90ZQ%3D%3D?line=16'>17</a>\u001b[0m vgn\u001b[39m=\u001b[39mvg_arr_n[i]\n\u001b[1;32m     <a href='vscode-notebook-cell://wsl%2Bubuntu-20.04/root/GitLab/CoACH-labs/Lab3_AboveThr_GroupNumber_FirstName_LastName.ipynb#Y165sdnNjb2RlLXJlbW90ZQ%3D%3D?line=17'>18</a>\u001b[0m vgp\u001b[39m=\u001b[39mvg_arr_p[i]\n\u001b[0;32m---> <a href='vscode-notebook-cell://wsl%2Bubuntu-20.04/root/GitLab/CoACH-labs/Lab3_AboveThr_GroupNumber_FirstName_LastName.ipynb#Y165sdnNjb2RlLXJlbW90ZQ%3D%3D?line=18'>19</a>\u001b[0m vds_actual_n,ids_n,vds_actual_p,ids_p\u001b[39m=\u001b[39mmeasure_n_and_p_fet_ids_vs_vds(coach, vgn, vgp, vs, vb, vd_arr)\n\u001b[1;32m     <a href='vscode-notebook-cell://wsl%2Bubuntu-20.04/root/GitLab/CoACH-labs/Lab3_AboveThr_GroupNumber_FirstName_LastName.ipynb#Y165sdnNjb2RlLXJlbW90ZQ%3D%3D?line=19'>20</a>\u001b[0m idsnlist\u001b[39m.\u001b[39mappend(ids_n)\n\u001b[1;32m     <a href='vscode-notebook-cell://wsl%2Bubuntu-20.04/root/GitLab/CoACH-labs/Lab3_AboveThr_GroupNumber_FirstName_LastName.ipynb#Y165sdnNjb2RlLXJlbW90ZQ%3D%3D?line=20'>21</a>\u001b[0m idsplist\u001b[39m.\u001b[39mappend(ids_p)\n",
      "\u001b[1;32m/root/GitLab/CoACH-labs/Lab3_AboveThr_GroupNumber_FirstName_LastName.ipynb Cell 97\u001b[0m line \u001b[0;36mmeasure_n_and_p_fet_ids_vs_vds\u001b[0;34m(coach, vg_n, vg_p, vs, vb, vd_arr)\u001b[0m\n\u001b[1;32m     <a href='vscode-notebook-cell://wsl%2Bubuntu-20.04/root/GitLab/CoACH-labs/Lab3_AboveThr_GroupNumber_FirstName_LastName.ipynb#Y165sdnNjb2RlLXJlbW90ZQ%3D%3D?line=14'>15</a>\u001b[0m measure_is\u001b[39m=\u001b[39m\u001b[39mTrue\u001b[39;00m \u001b[39m# to change measurement from source to drain set False\u001b[39;00m\n\u001b[1;32m     <a href='vscode-notebook-cell://wsl%2Bubuntu-20.04/root/GitLab/CoACH-labs/Lab3_AboveThr_GroupNumber_FirstName_LastName.ipynb#Y165sdnNjb2RlLXJlbW90ZQ%3D%3D?line=15'>16</a>\u001b[0m \u001b[39m# actually measure_is=True measures NFET at src and PFET at drain\u001b[39;00m\n\u001b[0;32m---> <a href='vscode-notebook-cell://wsl%2Bubuntu-20.04/root/GitLab/CoACH-labs/Lab3_AboveThr_GroupNumber_FirstName_LastName.ipynb#Y165sdnNjb2RlLXJlbW90ZQ%3D%3D?line=16'>17</a>\u001b[0m coach\u001b[39m.\u001b[39;49mopen()\n\u001b[1;32m     <a href='vscode-notebook-cell://wsl%2Bubuntu-20.04/root/GitLab/CoACH-labs/Lab3_AboveThr_GroupNumber_FirstName_LastName.ipynb#Y165sdnNjb2RlLXJlbW90ZQ%3D%3D?line=17'>18</a>\u001b[0m vdd\u001b[39m=\u001b[39m\u001b[39m1.8\u001b[39m\n\u001b[1;32m     <a href='vscode-notebook-cell://wsl%2Bubuntu-20.04/root/GitLab/CoACH-labs/Lab3_AboveThr_GroupNumber_FirstName_LastName.ipynb#Y165sdnNjb2RlLXJlbW90ZQ%3D%3D?line=18'>19</a>\u001b[0m ids_n\u001b[39m=\u001b[39mnp\u001b[39m.\u001b[39mzeros_like(vd_arr) \u001b[39m# for NFET\u001b[39;00m\n",
      "File \u001b[0;32m~/GitLab/CoACH-labs/ne1.py:120\u001b[0m, in \u001b[0;36mCoach.open\u001b[0;34m(self, usbport)\u001b[0m\n\u001b[1;32m    118\u001b[0m \u001b[39mtry\u001b[39;00m:\n\u001b[1;32m    119\u001b[0m     log\u001b[39m.\u001b[39mdebug(\u001b[39mf\u001b[39m\u001b[39m'\u001b[39m\u001b[39mTrying to open \u001b[39m\u001b[39m{\u001b[39;00mdev\u001b[39m}\u001b[39;00m\u001b[39m'\u001b[39m)\n\u001b[0;32m--> 120\u001b[0m     \u001b[39mself\u001b[39;49m\u001b[39m.\u001b[39;49mp\u001b[39m.\u001b[39;49mopen(dev)  \u001b[39m# open the serial port\u001b[39;00m\n\u001b[1;32m    121\u001b[0m     fw_version \u001b[39m=\u001b[39m \u001b[39mself\u001b[39m\u001b[39m.\u001b[39mp\u001b[39m.\u001b[39mget_firmware_version()\n\u001b[1;32m    122\u001b[0m     \u001b[39mif\u001b[39;00m fw_version \u001b[39m==\u001b[39m (\u001b[39m255\u001b[39m, \u001b[39m255\u001b[39m, \u001b[39m255\u001b[39m):\n",
      "\u001b[0;31mAttributeError\u001b[0m: 'NoneType' object has no attribute 'open'"
     ]
    }
   ],
   "source": [
    "coach=Coach()\n",
    "coach.open()\n",
    "n_samples=30 # NOTE how many vds values\n",
    "vdd=1.8\n",
    "# NOTE that the limit of current measurement with default switch settings is 1uA, so if you do a sweep of Vg to vdd you will exceed this limit\n",
    "n_gate_voltages=8\n",
    "vg_arr_n=np.linspace(.9,1.5,n_gate_voltages) # NOTE you may need to play with these values\n",
    "vg_arr_p=np.linspace(.8,1.5,n_gate_voltages) # NOTE you may need to play with these values\n",
    "vd_arr=np.linspace(0,vdd,n_samples)\n",
    "vs=0\n",
    "vb=0\n",
    "vds=vd_arr-vs\n",
    "idsnlist=[]\n",
    "idsplist=[] # make arrays and stack at the end https://stackoverflow.com/questions/58083743/what-is-the-fastest-way-to-stack-numpy-arrays-in-a-loop\n",
    "\n",
    "for i in range(n_gate_voltages):\n",
    "    vgn=vg_arr_n[i]\n",
    "    vgp=vg_arr_p[i]\n",
    "    vds_actual_n,ids_n,vds_actual_p,ids_p=measure_n_and_p_fet_ids_vs_vds(coach, vgn, vgp, vs, vb, vd_arr)\n",
    "    idsnlist.append(ids_n)\n",
    "    idsplist.append(ids_p)\n",
    "ids_vs_vds_n=np.stack(idsnlist)\n",
    "ids_vs_vds_p=np.stack(idsplist)"
   ]
  },
  {
   "cell_type": "markdown",
   "metadata": {},
   "source": [
    "* Does the data make sense? If not change your parameters\n",
    "\n",
    "* When you have good looking data, plot it all together"
   ]
  },
  {
   "cell_type": "code",
   "execution_count": null,
   "metadata": {},
   "outputs": [],
   "source": [
    "# plots summarized Ids vs Vds data\n",
    "def plot_idsvds_curves(vg_arr, vds, ids_matrix, title):\n",
    "    plt.title(f'Fig. 7.1 {title} Ids vs Vd for various Idsat')\n",
    "    plt.ylabel('|$I_{ds}|$ (A)')\n",
    "    plt.xlabel('$V_{d}$ (V)') # note absolute value here\n",
    "    leg=[]\n",
    "    for i,v in enumerate(vg_arr):\n",
    "        plt.plot(vds,np.transpose(ids_matrix[i,:]),'-*')\n",
    "        leg.append(str(ef(v))+'V')\n",
    "    plt.legend(leg)\n",
    "    plt.show()\n",
    "plot_idsvds_curves(vg_arr_n,vds_actual_n, ids_vs_vds_n, 'NFET')\n",
    "plot_idsvds_curves(vg_arr_p,vdd-vds_actual_p,ids_vs_vds_p, 'PFET')\n"
   ]
  },
  {
   "cell_type": "markdown",
   "metadata": {},
   "source": [
    "* **(b)** Fit a line to the ”flat” part of each drain current curve. Select a range of drain voltages to fit the line and use the same range for each curve, because the Early effect is actually curved in reality, and what you are actually seeing might include the start of Drain Induced Barrier Lowering (DIBL) or impact ionization. This is a bit unlikely for such long (1$\\mu$m) FETs, but you can see if the slope increases for large $V_{ds}$.\n",
    "\n",
    "**You only need to do N-FET**  You can add the PFET if you are curious about it, because it appears to have a **much** higher Early voltage.\n",
    "\n",
    "* Compute the Early voltage from the fitted slope of I vs V and the I intercept\n",
    "* Plot the Early voltage vs drain current on a semilogx scale."
   ]
  },
  {
   "cell_type": "code",
   "execution_count": null,
   "metadata": {},
   "outputs": [],
   "source": [
    "# the data are vg_arr_n,vds_actual_n, ids_vs_vds_n\n",
    "idx=np.where(vds_actual_n>.3)\n",
    "vds=vds_actual_n[idx]\n",
    "ve_fits=[]\n",
    "id_sats=[]\n",
    "v_earlys=[]\n",
    "for i in range(ids_vs_vds_n.shape[0]): # for each drain curve\n",
    "    ids=np.squeeze(ids_vs_vds_n[i,idx]) # we have to squeeze (remove the singleton dimension for this stupid array)\n",
    "    ve_fit=np.polyfit(vds,ids,1) # compute linear fit, ve_fit[0] is the slope and ve_fit[1] is the y-intercept (id_sat)\n",
    "    ve_fits.append(ve_fit)\n",
    "    idsat=ve_fit[1] # Id_sat\n",
    "    didv=ve_fit[0] # d(I)/d(V)\n",
    "    id_sats.append(idsat)\n",
    "    vearly=idsat/didv # NOTE does this make sense?\n",
    "    v_earlys.append(vearly)\n",
    "\n",
    "plt.semilogx(id_sats,v_earlys,'-*')\n",
    "plt.title(f'Fig. 7.2 NFET Early voltage vs Saturation current')\n",
    "plt.xlabel('$I_{dsat}$ (A)')\n",
    "plt.ylabel('$V_{E}$ (V)')\n",
    "\n"
   ]
  },
  {
   "cell_type": "code",
   "execution_count": null,
   "metadata": {},
   "outputs": [],
   "source": [
    "savevars(datapath/'early')"
   ]
  },
  {
   "cell_type": "markdown",
   "metadata": {},
   "source": [
    "* Comment on your results: How constant is the Early voltage with drain current? Speculate on the reasons for your observations."
   ]
  },
  {
   "cell_type": "markdown",
   "metadata": {},
   "source": []
  },
  {
   "cell_type": "markdown",
   "metadata": {},
   "source": [
    "# 8 Saturation drain voltage\n",
    "\n",
    "* Can you see how the saturation voltage increases with the gate overdrive $V_{\\rm ov}$ in strong inversion? Please comment if the observation matches the model of $V_{\\rm dsat}$ or not. I.e. is it true quantitatively that $V_{\\rm dsat}=V_{\\rm ov}$?\n"
   ]
  },
  {
   "cell_type": "markdown",
   "metadata": {},
   "source": []
  },
  {
   "cell_type": "markdown",
   "metadata": {},
   "source": [
    "* Using your prior measurement of $V_{Tn}$, can you plot together with the $I_{ds}$ curves a curve showing the predicted  $V_{\\rm dsat}$ values?"
   ]
  },
  {
   "cell_type": "code",
   "execution_count": null,
   "metadata": {},
   "outputs": [],
   "source": []
  },
  {
   "cell_type": "markdown",
   "metadata": {},
   "source": [
    "# 9 Congratulations"
   ]
  },
  {
   "cell_type": "markdown",
   "metadata": {},
   "source": [
    "**If you completed this lab, you have done a lot!** This is one of the most time-consuming labs but also one of the most important, because practical and intuitive knowledge of transistor characteristics is crucial in understanding and synthesizing new circuits that work."
   ]
  },
  {
   "cell_type": "markdown",
   "metadata": {},
   "source": [
    "## Upload your report (this notebook)\n",
    "Upload your report to the course dropbox as either HTML or PDF (not pynb, which is hard for us to assess)."
   ]
  },
  {
   "cell_type": "markdown",
   "metadata": {},
   "source": [
    "## What we expect you to learn\n",
    "Please see the [NE1 exam preparation guide](https://drive.google.com/file/d/1nOq3UbcEv_ik425VBYqcH9hAET7FyIeP/view?usp=drive_link)\n"
   ]
  }
 ],
 "metadata": {
  "kernelspec": {
   "display_name": "Python 3.8.18 ('ne1')",
   "language": "python",
   "name": "python3"
  },
  "language_info": {
   "codemirror_mode": {
    "name": "ipython",
    "version": 3
   },
   "file_extension": ".py",
   "mimetype": "text/x-python",
   "name": "python",
   "nbconvert_exporter": "python",
   "pygments_lexer": "ipython3",
   "version": "3.8.18"
  },
  "vscode": {
   "interpreter": {
    "hash": "8ed8b578c66eb3211f3f72670f8cab7b9198c511e3dafce28af52df89e502cec"
   }
  }
 },
 "nbformat": 4,
 "nbformat_minor": 4
}
