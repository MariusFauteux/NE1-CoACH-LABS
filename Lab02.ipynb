{
 "cells": [
  {
   "cell_type": "markdown",
   "metadata": {},
   "source": [
    "Neuromorphic engineering I"
   ]
  },
  {
   "cell_type": "markdown",
   "metadata": {},
   "source": [
    "# Lab 2: Subthreshold Behavior of Transistors\n",
    "**Reminder: Did you `git pull` the exercises before starting this notebook?**"
   ]
  },
  {
   "cell_type": "markdown",
   "metadata": {},
   "source": [
    "Group number:\n",
    "\n",
    "Team member 1: Kalle Falk\n",
    "\n",
    "Team member 2: Marius \n",
    "\n",
    "\n",
    "Date:  7/10-2025\n",
    "\n",
    "CoACH chip number: 25\n"
   ]
  },
  {
   "cell_type": "markdown",
   "metadata": {},
   "source": [
    "-------------------------------------------------------------------------------------------------------------------"
   ]
  },
  {
   "cell_type": "markdown",
   "metadata": {},
   "source": [
    "In this lab exercise we will be investigating the subthreshold (weak inversion) behavior of\n",
    "isolated _p_-- and _n_--channel MOSFETs with $|V_{ds}|>4U_T$, i.e. when the drain is saturated. Specifically, we will\n",
    "\n",
    "* measure the currents through the transistors as a function of their gate voltage with a big $V_{ds}$\n",
    "* compare the characteristics of p and n-fet devices w.r.t. the drain current vs gate voltage transconductance ($\\kappa$) and compare the off current ($I_0$)\n"
   ]
  },
  {
   "cell_type": "markdown",
   "metadata": {},
   "source": [
    "## 1. Prelab"
   ]
  },
  {
   "cell_type": "markdown",
   "metadata": {},
   "source": [
    "Make sure you have studied the lecture material\n",
    "before attempting this prelab. The questions will also make much\n",
    "more sense if you read through the entire lab handout first.  _You are\n",
    "required to complete this prelab before you can begin taking data._\n"
   ]
  },
  {
   "cell_type": "markdown",
   "metadata": {},
   "source": [
    "### n- and p-fets, in an _n_ well Process"
   ]
  },
  {
   "cell_type": "markdown",
   "metadata": {},
   "source": [
    "A vertical section through the silicon with both n and p-fet transistors is shown in Figure 1.\n",
    "The class chip has a p-type substrate (like almost all chips nowadays) and both p- and n-wells.  \n",
    "The p-wells (not shown in the figure) are shorted to the p-substrate because the doping is of the same type.   \n",
    "\n",
    "Because we are grounding the substrate and we are connecting _n_--well to the power supply, $V_{dd}$ is positive.\n",
    "This positive voltage reverse biases the junction between the _n_--wells (which are tied to $V_{dd}$) and the substrate (which is tied to gnd).\n",
    "\n",
    "For this process, $V_{dd}$=1.8 V.\n"
   ]
  },
  {
   "attachments": {
    "image.png": {
     "image/png": "iVBORw0KGgoAAAANSUhEUgAAAl4AAACzCAYAAABYZBLzAAAgAElEQVR4nO3df1BTd7438O+/nTndkVHvmrG0dtLMwzNV0eHqszq2K7urlw5XrHYtt9gNuKMXpSJ03Q2PdxrFFbxT4tTi2kUfn0wLbS5QCe6FVqkldUEkWrIXfKzTSe+uu2KlW126OghaoXk/f+QHIQRIIDknJ3m/Zj5/FCHlfM+P75tzvt/vESAiIiIiWQilfwEiIiKiRMHgRURERCQTBi8iIiIimTB4EREREcmEwYuIiIhIJgxeRERERDJh8CIiIiKSCYMXERERkUwYvIiIiIhkwuBFREREJBMGLyIiIiKZMHgRERERyYTBi4iIiEgmDF5EREREMmHwIlVz3b0I05pkCGkl8ir+A632LnS1f4iashzohATddiuuD7tC/LQRDPRegeNyLwZC/REiIqIwMHiRit1FT+XzkKTnsLf1BobH/Nsg/lizBUliKYpbvkJoOWoADtNqCK0JjuGpv5uIiChcDF6kXoOdKFsoQVPcgv5gyepuG4wpEpKN7bgX0gcyeBERUXQxeFGM6oVVr4X2wPtoNW2GTggIIUGb9TpsfQ8AACM9lVgq0mCw3Q7tI1134DxVjuw0DYQQEEKDtOxDns/zhC4hPLUaJscA4LqDq/X/hkyt5P66di22H/k9+kJ+fElERDSKwYtilDt4CZGM9BIL2rq6YD9TCb1OgsZgw12M4FZzISSxCWbn/RA+z4VBxyGsEEuhN51Ce1cX7K3vwJCeDCnPij4XMP6Ol+dxpXYjjDVnYXd0orW2DNm6BUgvP49vmL2IiChMDF4UozzBa+FB2Ae9Cacf7cYVEHor+jCMPms+hNiCut6Hoz827IBJK/zuXAlPkPoOAz0nYTryIZz3vZ93B/ayVX5BKyB4DXaibGEy1lRdwej/YRh91u2QpEI03xqRpymIIsF1B87mN7A9XTd6bkjLsOm1atg9d5GJKPoYvChGeYKX3oo+39c8wUhvRR++w13bHmjEKpTZ74z+mGsAvZcdcDgccDjaUVOU5hesRjBwrRNNNVUwlRmQv2k1tL5g5vf53v/us0IvAkJc4KNIIjVw9aPLtB6S0GBZ3uuobe2Eo6sdZ2oOIFsnQeiKYL0eyp1jz8cN9OKy4wp6B/jHB1G4GLwoRk0VvABXnxV5UhJWmD7FYLCPcH2J5u0LPUFqGLfaypEupSCzqBxVNQ1otp1DnWHFFMFLC721V44NJooSFwZ7jmCNlIz0vWcDxie68PCP7+GlJDHxJJUghh0maPnHB9G0MHhRjJo6eMH1NWwlKyF022D+7E7AkhEjGOh5C1mS946W5/Oy69Dr+0bPo8uJgtfIFVSt0iClpNWvQxqE05wDKdUExwMO8iI1+DvsZashNL9CS3+wO1R/Q7txFUTyPrTfC+2YZvAimj4GL4pRIQQvAK5vzqM8PRlCux6GqgbY7F1w2Fth/W0xVkspWL061ROkPJ3Lsl+gpu0SHF1taKrcjmWSgEjegzN/6cc91z30VGZAJBeh5uIV9A7cR1/zq9D5BuR3orW6BOnSAmRVXUboD2aIoscdgrJhqj2C/GWeGbva9Sipv+JeCHikB5VLvZNSQuMa+BynyjYjTRodC5ZtsqFv2OX5/40+dteaHBgG4Bq4gvqS9Z5/k6BNfwVH2r4EV2YhGovBi2JUaMELcHcSzaYdSPcu+SA0SNu0F+85+nCnfR+StSY4hl0Y7vs9KvNWQhICQqQgs6QWnR9XIF0SkPKbcQsuDPYcw3qtBCEyUNlzL8hyEhkoOtbB5SQoZviCkJQBQ/VZ2LvOoaE8BzqRhh3NvXDdaka+pMFa8+f4LqRPvAOHKQNClwdTUxu6HN4/OHTIs16HC0HueD10oualFGizjKhp7YTDfha1ZTnQSZko77wd4gLGRImBwYuISMXcIUgzdvat6zqsW1Ig1prh/NIKvViA7Lo/+wWgwHXr/CeM/B09dUdwpNk5elf3gR1lC0bvbo0NXi4M2g9iodiIqqt+SxW7rsOap/P8UUNEXgxeREQqFny81QNcq9kMkbQbLdfOwqARWFBmx+iiEZ73kjrcM4Av1hQh2f8zXHdx7XwTaqoOocyQj02rdWMeK479f3qXdplgBjDfBEE0BoMXEZGKBQ9eD9Fbt8UdvPqvwZqng1hxCI7BYA/9hvF1cxGSfG9r+Apt+56DpM1CUflvUdPwAWwXa2GY8I6XN3jlw9rHhEU0FQYvIiIVm/JR43cj6Le9hhSxFHnmy+4B935cAw4cyVow+qixL8ijyXvtMCZPFLyAkatVWCVWosT29ejPPLwK83otUk1d4PKsRKMYvIiIVGziwfUr8GrLTXcQct1GZ3kmJJGCTMNvYbV1wuHohM16FEWrF0C3+lks9Qapu20wpmiwrLgabV0OdLWfQmX+KkhCILnkQ/zlm0EMe96TWlRzHpd7B+By9aJ5R9rogHz7WVQbMiBJ2aj6jEtOEPlj8CIiUjF38FqKbQd+jbxgy0l4BXllkJT2EozvdeHWnTYYk713sB6gr+1IwGedw8cVWZBECvKbbwKD3ahanwIhJCyt7MEIgi0nUYxjnTe5nARRAAYvintC8DCn+MXFTInUhT1SPBv+Kxzv7cWmNM34v3ATaB0qBi+KZwxeROrCHiluDeCzqmxI0krkVfwHWu1d7kUNK36OZVIy1lT+Ifj7DeMQgxfFMwYvInVhjxSvPLOQko3tuDfmHzyrUmv2wHY3tHWs1Y7Bi4iIYgV7pHjVZ4VeJGFlZTe+HfMP32Gg5yRMppPoGWDwIiIikhN7JFXyLFio3YuG1sPI1nnfI/gCym033LOIvvsCNc8vcL88+lgTLl4fmOB9aS4M93XgWFHG6GykzH9D/dU7nu8PtjhiwNf6rNCLZ3GgoQHlWSmelaoD342owbK8I2jr867oM4KBq++jJDPFM/5Mh/Ttb/n9e+QweBERUaxgj6RKo6/okNL3oLbtEhz2D1CpX+r3CHEEA1frULw62W9g/fMoLDOj+eJfRqeZ37+MqqwFkNJLUN3aia72/0RV0RpIuh2o+9MgQg9eSdDqnsP2N6vR8GEPbt/7AyrXLIAu+yAa2i6hq82CkvRkSOvNcD504eEf38NLSSnIMlaj1f4p7K0WlGWnQkqvQOc3IxFtLQYvoqnxPCGSB880VfIGn9Uos//d8zUX7rXvQ/K413Y8wO2r52D9v+UozErz3H1KRvq+c7jl+g53bXugEZmo7BkdmOvqb0VJigarqq5gJOTg5T+ebAT9LbuRJOWh5k/e1+x+hwHH/8F2fTla+m7BXrYaYs0xXH04eh/O1WdFnuRZJyiCVNGheNow8D13UtpmlJ36fNxq49P7fC301t6I/LqqxFm+k1LFeYJeWPXa8e+DlJYhu+x3cA7M9I82vv6Iok8NZxqNE/zi4J7dNNkFw4XhW/+FupIMSGI1yuw3cbVqPcSCctgf+Hc8noub3oq+kIOXf6c+AIdp9SQvx53g4ukp72tJIkUVHUqfFXqRjEzTh74XFzvsZ1FblgOdWIq8mqu4P/WnTPH5iRy8OMt3Kqo4T7zXjkwTWrzniaMTrbVlyNYlQZf3Hpz3ZxKiGbwo+tRwptE4UwWvB7jVXAhJbEbNtfFjply9dcgWWuitnysbvPRW9EWoRSajig5lomDk6oe9fC1E0g5Ybz4M/rM0Nc7ynZIqzpMJrx0juGt/HStECrZYr08wnpUoNqjhTKNxpr7j5X5p7QKsN1/F2O7ahUHHIawQaTDYvp70UaN7RmSw/5ens5oweA2jz7odkvRz1F3/dvT/az+IhWI9qq7+zR34Ul6DrX/E9+8PnWasl9bA5Lgb0dZSRYcyyR2p75xmrBVavFR3jR3KdHGW75RUcZ5M9kfbd5/DvFYD6aU6XOeJQjFMDWcajRPCo0bXV2jb95zn0UoNzrRf8nspbjKkNUfQM+gCBv+AyjXJkwyu/w5320uRIpZCX/kB7I5LaKvdg3RJTBK8ANc3v8feZRq/wfV12JulhZR1HJ/dd8HV14QduiTo9IfQ1H4R9tZ3YEhP9v17JCneofhmff4OpuxUzyPVFGSVt6LPO7ZoskeBww6YtAIagw13/We0tryOLK3kfjTrugPnqXJk+8YvaZCWfQg27yzRMZ/v7ry0B95Hq2kzdN7ZrFmvj36/qnjusL7wOmqrdmCZFGR2bsizfAEM30TnsWKka72zhf3fexjCHWBf+9ajpfyF0cVNh79EW+VWz+8nIC3bisq2Lz2P1eWb5TsRxc+TUPbjpHfLPT/vvXsZdLb1CAacv0NZ9jLPeFcBKe1lmLyzwSecsT3JuUsUJqXPNJqWEMd4Dd+E3fzamMHEQlqGTa9Vw+67oLuXfTiyfe0Ey0nA3WEEdNAtDXtH/19BQ8M0lpMoOoHOeFxOwjtwXspASe05dDk6caZyC3QiDQbbbb/vmSB4jVxB1aqksY9+pQXQPbcTb9Y04MOer3HPcQgrxFLoTafQ3tU1GmTzrOhzBX6+d4xdMtJLLGjr6oL9TCX0OskT7tTG0+EKMfoHRNv7KM9OhdC9iua+hwh5lq9vLFgGDNVnYe9qQ3NVMVZLS7Gl7gs8DCN4SdpUPLf9EGoaPkLP7b+hp/J5SLoclDecQ1fXOdSWZECScmB23pN1lu9EFD9PQtqPkwWvQfed9ElnW38K0wqN5w++S3DYz6LakAFJ2u7Zd8EnDk167hKFSekzjSjqFO9Q+qzQCwkLyzpHB3Dfa4cx2S9ohRu8xAoY2/s93+B5XHbkQ7+BxXdgL1s1Os4uWPBaeBD2Qe/396PduEK2cXeR5e2wN6Lq6ugILtdNK7YkabDW/DlGHyJONssXwF0bDJqAR5Kur2ErWQmxqgpXR0IPXiJ5H9rvedq3vwVFSVpk1zhHJ44MdKFq+zbsbfl/6JRxlu9EFD9PQtqP4QavgHF9Az2oM1Wh2ekdWuHCA3s5FvheuRQseE1x7hKFSYEz7QFuOSwwbhq91SukZdhktMBxK/S7HXw/GYVK8Q4lWKgadsCkDTF4BXvUOG7W1QgGrnWiqaYKpjID8jetdt/BnCx4jem8PJ2emoNX4GQO13+jZn0ykopa0B/05wJn+f7dMzZyFcrsd/y+z7/N74cevPzacvLrlbyzfCei+HkS0n4M91Hj+HPKNfAnnG96D1WmAzDkb8JqrQQxafCa4txVhOcPJbEFdb1+o3hd12HN00GITTA7/edB34bNkAbhu7M3lakmWNFMyHymuXD/s+PIkjRYlvc6als7PVOBX0feMs3ouKMQzDh4uQbQe/kPuNw7yViPkD6mF5cdV9A74/VjKFoU71BmGLzGDq4PfsflVls50qUUZBaVo6qmAc22c6gzrEjw4PVn1GUvQFLRB/g8pFm+vcoGL4XbXvHzZMr9OEXwChxcH2zs6a1z2Je+ANrMQpRX1aCh+RNcrPvVFHe8YjF4jXhmrgc88rxrg0Hjvou7vua/R/s2713ztWY4Q5pDwuAVTTKfaZ6U7n8LHsDYmXahPTefcfDy3EWY6V+TvPMW+xTvUGYSvMYtJxHsIui5SGbXodd3WnnOtUQKXpM8onoY0izf25M/alx5BD3fhjDLN0j7uh8bBsxMHexE2UINVlVdxGUZZ/lORPHzZEaPGoMsJxF0tnV+wF0i78LTagte3j/IkjwLXQOACw8cJqR67pSOudN7qxn5ksCCMjtCe67E4BVNMp9pnp258gh6vg24zzTQgzpTJep6/h78RwMweFGoFO9QQg5eoSygGuwi+De0G1dBLPsFatouwdHVhqbK7e5ZYcl7cOYv/biXEMEryKDslBK0fB3GLF/cdQ+Cn3BwfQizfIO1r+sW2vemQ/gNrm/Y+zySpGxUfTYg6yzfiSh+noSyH8NZQHXceefdd8+iuOYTdDkuob2pEvnLNBBiGUrO/BHf3HugmuCFB10wpUqQ8ptxCwBwH07zJojU11B1KMvvBoc3XKaiqOWvIX44g1c0yXymPcCfal6GJFKQaTgWMJvIX7COYezX3IFnKfIrXvecOIHTvgNn1UnQpu/Ge5/dgcsTunzjKLQmOHrDn3rs/h0Cx2IoPy2cxlK8Qwk5eIXyyqBgF8HAYz0FmSW16Py4AumScF+YEyF4JW/BAdPWCZYhQIizfOGexXvklQmWk8DUs3wnuisT7nISUZrlOxHFz5OQ9mMYrwwKet757wPPZ3d+iIr0ZAipEM23VBS8vOO2vAHLM75LY/gYfb41EwfhC2QBj9pdA1dQX7J+dDZ7+is44jseGbyiSfYzzTVwBXXFa/wG1qchq7Ac5uZLuO47aUINXgJCuxHGmrOwd51DQ3kOdCINO5p74fr2MqrWJiMpqxQN/i+RXnEIjkHX+Dte05p6HHjHS96XP0eT8hfhyImnbaFgpnpTAoVC+fOE+zE8D3CtZvPoQPq7Nhg0OuRZr8N11waDxjvO669oKUqFSDXB4X1DyUMnal5KgTbLiJrWztG761Imyjtvw8XgFVUKnWkuDN++ik+sJ1BW+DzSvH8Bppej7dZEfzEGC14arKm6Mjpmw3Ud1i0p7mnfXzUjX/L/dxfuXzuPU6fO49r9iYJXuFOPA4PX32V9+XM0KX8Rjpx42hYKhh12JCh/nnA/hss9GSQVRS1fecZ3eUKY5+6XlGdF33APKpf6r9HnfYvI2LF0vp/Jb8YtBq+oUvpMcxv+Gj11e5AueddLCTV4BY6t8vwFIBWi+euv0FmeCcm7UKLx8Ni7akGDV7hTjwN/j9iYFh4Jyl+EIyeetoWCYYcdCcqfJ9yPYfO8g3RBmQ2XzZv87mp5Hi9q9uDj/3oH68UCZNf92fO41hukgvdT7vZn8Iomec+0W83IlwKmuXq53FOG3Tt6usHrIXrrtkAk7UZL/wh8iyWaD8PoubPmu6sWQvCaeurxBMFLleNkxlL+Ihw58bQtRNHC80SFvOt2Zf0Kxpd1Y+5que+APYtfGPKg8Y33AiZ688lYDF7RJO+Z5llLRFpvhvNhQPQa/BSmFUmeAydIgPH8eyiPGqXna/DFn204ajqOlmu+9YbhulaD9d5wNWXwCmXqcWDwGpT15c/RFE8X4XjaFqJo4XmiRt6B8+4JGXnepTQA390wIcS4JZzcjyhXosT29ej3P7wK83otUk1deMDgFVUyn2nehR41WJb376g5044uRxfstgb8tmgNJOl5VPbchW96vG4LKs90wuF9r5kQIQyuX4FXW27CdbcNxpSk0YHx3n+XXkDVZ/eAEfdz7+SiGly83IuBaU09HsFITyWWijQU1ZzH5d4BfBcD08IjIZ4uwvG0LUTRwvNEjfzX7gpcrd4zqF4IvyUnvD/Wi+YdaRC6PJia2tDlmzjmXt6Ed7yiS5FXBvXZq/Ga/yuDhAZpm16D2X7TMwbKheG+cwFvg29Aw4FnA4JXJgymXyHTN+17I/b6pt4/QF/nCRSl6zyfEThd9i56qnLc4W1pJXp6pzP1eAQY7EbV+hQIIWFpZQ9GYmBaeCTE00WY20LRFC/7JF62A4ivbZlSfwuKksTYWYsARmc9Br6v1G38chLFONZ5k8tJyCCBjk4KRzxduLgtFE3xsk/iZTuA+NoWij88OimoeLpwcVsomuJln8TLdgDxtS0Uf3h0UlDxdOHitlA0xcs+iZftAOJrWyj+8OikoOLpwsVtoWiKl30SL9sBxNe2UPzh0UlBxdOFi9tC0RQv+yRetgOIr22h+JMwRydPxPBEsr0mXCE5gSqSbUmxhecKzxO1Y3vJK2FamwdWeNiZsEOh0PBc4XmidmwveSVMa/PACg87E3YoFBqeKzxP1I7tJa+EaW0eWOFhZ8IOhULDc4XnidqxveSVMK3NAys87EzYoVBoeK7wPFE7tpe8Eqa1eWCFh50JOxQKDc8Vnidqx/aSV8K0Ng+s8LAzYYdCoeG5wvNE7dhe8kqY1uaBFR52JuxQKDQ8V3ieqB3bS14J09o8sMLDzoQdCoWG5wrPE7Vje8krYVqbB1Z42JmwQ6HQ8FzheaJ2bC95JUxr88AKDzsTdigUGp4rPE/Uju0lr4RpbR5Y4WFnwg6FQsNzheeJ2rG95JUwrc0DKzzsTNihUGh4rvA8UTu2l7wSprV5YIWHnQk7FAoNzxWeJ2rH9pJXwrQ2D6zwsL1iE/dL7OE+iT3cJ+Fhe8krYVqbB1Z42F6xifsl9nCfxB7uk/CwveSVMK3NAys8bK/YxP0Se7hPYg/3SXjYXvJKmNbmgRUetlds4n6JPdwnsYf7JDxsL3klTGvzwAoP2ys2cb/EHu6T2MN9Eh62l7yi0tpKz4xhsVjxV2vWrEFubi5LxfXyyy/jn//5n7FhwwbVV0ZGBv7lX/5F8TaN51qzZo0s1xa5xUTMXbduneIX9UjV4cOHo95eGRkZim9npOqtt96KenvJ4fDhw4q3ZaRq3bp1SjfnOE6nE5s2bYLD4WCpuC5cuKD48R2pmjNnDiwWi+JtGs8lRExElIiLia2y2WyKn0SRqCeeeAI3btyIens1NTUpvq2RqLlz56K/vz/q7SWHGzdu4IknnlC8TSNRNptN6eYcx+l0YuvWrSFfsDdv3qx4O0aqVq5cqXgHGMl68cUXFW/TSNT8+fOj2k7x9MecEILBy09MbNXQ0JDiB0UkasWKFbK0V39/v+LbGomKxTsrM7FixQrF2zQSNTQ0pHRTjhNu8LJYLJg1a5bibRmJKi0tVTwsRbLMZnNc7Jvdu3dHtZ1sNhv+4R/+QfHtjES9+OKLDF5+Ymardu7cqfjBMdOqrq6Wrb1ycnIU396ZVlNTk2ztJYfq6mrF23SmtXPnTqWbMahwg5fD4cD8+fMVb8+Z1uzZs2Gz2RQPS5GsCxcuYN68eYq37UwqKSkJp0+fjnpbPfPMM4pv60xr1qxZMJvNDF5+Ymaruru7odFoFD9Iplvz5s2T9bGZzWZT/cUrFu+szER/fz8ee+wxxdt1ujV37lx0d3cr3YxBTSd47dixQ/E2nWk988wzigelaJTa983ixYtlaad4eNw4k0eyQsRMRImomNqqJ598UvGDZLqVk5Mja1sNDQ3h8ccfV3y7p1uxemdlptR8J/LJJ59UuvkmNJ3g1djYiDlz5ijertOt2bNn49ixY4qHpGiU2vfN4cOHZWmneJiMsGPHDgavADG1VWp9VDNr1ix0dHTI3l6vv/664ts+ndJoNHA6nbK3lxw6OjpUe+dWzkfl0yFE+AN0Fy9erHi7zqQuXLigeEiKVi1dulTx9p1OzZs3T9b9sm3bNsW3ebo100eyQsRURImYmNoqtQ4aX758uWLtpcbHjc8884wi7SWX5cuXK97G06lYn2EqRPjBS82PamZyp0ANdezYMVUOspd7v6j57uBMHpXbbDYsWbJE6ctOVMRU8AIAo9Go+MESTs2bN0/R6fdqa69Zs2bF5HIFkaTG8XdGo1HpZpvSkiVLwh5ortaB3LNnz5Zl8LbS9fTTTyve1uGWEpMd1Hh3cNasWTN6VN7Y2IiCggKlLztREXPBS213vZS626XW9pJryQ2lqe2uV6zf7QKAgoICNDY2hn0BLywsVLx9w62MjAzFQ5EcdezYMTz66KOKt3eopdRdSLW1kxACTz/99Iy22WKxoLi4WOnLTlTEXPAC3GO95s6dq/iBM1XFyiywt956SxV/1c+dOzdux3YF6u7uVs0xHOtju7yKi4untVK42u5Azp49e1oBU621evVqxds8lJo/f76iY+7UdHdwpne7HA4HKioqYLFYlL7sREVMBi8A2LBhg+IHz2Q1d+5cHDhwQOlmAuCe4Rjrr12aO3du3LweKFQHDhyI+fC1YcMGpZspZBaLBRUVFdO6iJeWlqpmPNHmzZsVD0Ny1unTp2M+GCclJeGdd95RtJ0sFguSkpIUb4tQKhJvW6ioqMDJkyeVvuxERcwGr1gOE7EUurzYXrEplsPXunXrVLWW2smTJ6cdvBwOdSxGmZycHNczGdUYvpKSkmJmWY8dO3ao4g+ISIxP1Ov1MfFEKRpiNngB7jBhMBhi6kCbN29ezN65GRoawtatW2NqOYN58+ahtrZW6aZRVKw9CtZoNHj11VdVFboA9+NbvV4/7Qv5hQsXYnqtwHnz5iXEgPrJwtfixYsxe/ZsxfeFt+bPn6/4na7AYziW/4CIZEjdsmVL3A5Nieng5XXx4kUsX75c0c5Lo9Fg3bp1qjgQbDZbTLRXTk6OLC8NVwOn04mcnBxFQ/G8efOwfPlyXLx4UenmmBan04mf//znEem4YumPOSHcA5ETOXT575/S0lLF/1CZPXs2tm3bFpN3Hy9cuIDc3NyYW2Ji3rx5EQ2pixYtUsWkn+lQRfDy8gYKOTuvWbNmYd26dYoskDoTQ0NDqK2txfLly2XtZObOnYucnBxVBFQldHR0YN26dbLuE41Gg+XLl6t+GY+hoSEIEf5aXsEqFjp3Idwd/O7du2Oyg1eybDYbCgsLFdlH27ZtU8X7Md955x0kJycrfgw/+uijeP755yPeZkKoKp6ERZVb1t3dHdWXanvH5BiNxrgIEB0dHVF9lc3cuXPx+OOP48CBA7zDFSKn0wmj0YjHH388qmPAdu7cGVfjJISITPDy79yV6Ky8d1TU0MErWRcuXMDhw4excuXKqA0snzNnDp5++mmUlpaqbn/43yGU+xHto48+ioyMjKjMwG1sbERGRobSl5uoUWXw8hoaGoLNZvOFsCeeeGLaB9ETTzyBJ598Ejt37kRHR4fqxr+Eor+/H01NTb4QFon2MhqNqrsbGEuGhobQ0dGBnTt34sknn5zxPvGGraamprg8hnNyciJ+obfZbCgtLcXTTz8d1cc3s2bNwvz581FYWKi6Dj4W6vTp0ygtLcXKlSt94XW6+2L27NlYvHgxdu/eHRdLd3gD6uLFi2WZ+bht27aotltjYyN27dql9OUmalQdvAI5nU5UV1cjNzcXTz31FIQQQd/V5v3a8uKhL+YAABGOSURBVOXLsXPnTtTW1sbFna1wDA0Nobu7G9XV1cjJyQmrvZqamnhnK0qcTidqa2uxc+dO3yKsk+2Tp556Cjk5Oaiurk6IY3i6a3mFWhaLBTt27MD8+fMjMqTB+xkvvvgizGaz4h10vJTNZoPZbMbu3bvxk5/8xBemAh+9+X9t+fLl2LZtG8xmc1wH39OnT6OkpCRiIcw7LGLjxo04duyYLI/FKyoqcPz4caUvN1ETV8Er0NDQEJxOZ9Ci8dhesWmifRKPd7SmUltbO6MlJcLtwEpLS5GRkRHyHRZvJ5+RkYGSkpKohkTW2LLZbGhsbBxXiTxp4fTp0zh8+DBefPFFJCcnY/bs2VMex9475ytXrsTu3bthsVhkH4O4f/9+WK1WpS83URPXwYuI4stHH32EgoICxToxi8WCgwcPwmAwwGAwYNeuXTAYDDh48CAsFktCd/Ks2C9vOK2oqPAdw9u2bYPBYEBpaSnMZnNMPHrNzc2N6z/4GbyISDWcTie2bNmieMfAYrGiV/G8lATA4EVEKhLJJSVYLFbs1YULFyBEfEeT+N46Ioo7S5Ys4SM9FitOq7GxETt37lT6MhNVDF5EpCq7du3ioHUWK07r6NGjOHTokNKXmahi8CIiVZFzZiOLxZK3DAYDPvroI6UvM1HF4EVEqjLTl2WzWKzYrY0bN8b1jEaAwYuIVKa/vx+LFi1SvINgsViRr3gfWA8weBGRCnGAPYsVf9XY2IjNmzcrfXmJOgYvIlIdo9HIV/CwWHFWFRUVOHHihNKXl6hj8CIi1Tlz5gwMBoPiHQWLxYpc5ebmoru7W+nLS9QxeBGR6ty4cQMLFy5UvKNgsViRKyFEQryDlsGLiFQpIyOD47xYrDgpi8WCn/3sZ0pfVmTB4EVEqvTGG29g//79incYLBZr5mUwGFBfX6/0ZUUWDF5EpErd3d1IT09XvMNgsVgzr4ULF+LGjRtKX1ZkweBFRKqVkZGBxsZGxTsNFos1/TKbzQnzmBFg8CIiFauvr+fsRhZL5ZWbm4v29nalLyeyYfAiItXq7++HEAI2m03xzoPFYoVfjY2NWLJkSULMZvRi8CIiVauvr+e7G1ksldaGDRtw5swZpS8jsmLwIvIz7DBBK1bD5BhQ+lehEA0NDSEjIwNHjx5VvBNhhVqX0FLxAoR4ARUtl+BoqUCmeAyZFR/GwO/GkqsqKiqg1+uVvoTIjsGLyM+Mg5drAL2X/4DLvQNwzeD3cA304rLjCnoHRmbwKYnD6XRi0aJFXNdLNcXglejV2NiIxYsXJ8xMRn8MXkR+Zhy8hh0waQW0JgeGlfw9EtCZM2eQnp6OCxcuKN6psKYqBq9ErtOnT2PhwoUJNaDeH4MXkR8GL3V74403sGHDBoavmC8Gr0StCxcuYMOGDTCbzUpfLhTD4EWxadgBk3YBXjC9g6r8VZCEgBApyCx5H1cnffz2AH1tR5C3TAMhBITQIb3Ygs8GRgAMo8+aDyHyYe3zxqKxX3MHnqXIr3gd+d7P0K5HSf0VDLgAwIXhvt+jMm+l53eSoE3fjfc+uwOXJ3S5/78CQmuCY7gXVr0W2gP1aCl/wRemXAOf41TZZqRJnu+VliHbZEPfsMvzO4x+jjfEuQauoL5kveffJGjTX8GRti9nFPDiUXFxMQfbT1qe0PPYNlRU/QJrH3/Efaw99mMUVJ3GxWA/82kDjD+Yg++99Bt84nDA4WjDu0X/C0Lo8NJvznq+px57lnwPc3J+A5vDAUd7Pf4994d4TAgI8Qge+8dN+OUJ7+czeCVieUPXG2+8ofRlQlEMXhSbfCEmGemGd9Bqv4i2hoPI1iVBt6MJfUEHULnw7WfHsFbSImtvHdq6umA/Uwm9ToMVpk8xGHLwEhDajTDWnIW96xwaynOgE2nY0dwL17eXUbU2GUlZpWhouwSH/QNU6pdCrDgEx6AryB0vd/CStKl4bvsh1DR8hJ7bf4PDlAGhy4OpqQ1djk60VpcgXdIhz3odLgS54/XQiZqXUqDNMqKmtRMO+1nUluVAJ2WivPP2jMaTxZuhoSH87Gc/4/peE5Y39Ag88o9bcPBENd59+038MvN/QMzZgqq2T4P8TDtqf7kK4vv/ihPnu3xBTAiB7289gfMOB7r+89f4oXgKLxw+A8dFK379Twvw2LNb8euqt/Hu22/hYEEGHn9kFQrebgWDV+IVQ9coBi+KTd7gteYYrj70xoqHuGndgSSxCWbn/SA/NIJbzYWQxEZUXb3n+do9XGtvwqn2a7gfcvDSYE3VFTz0fqzrOqxbUiBWVeHqV83Il/z/3YX7187j1KnzuHZ/4uAlkveh/Z53O/6OnrojONLshG8rHthRtmD058YGLxcG7QexcMx2eX6vPB2k/GbcmnGDxxdv+CooKOBjx3HlDT1pKHj7nOdrXTh/4l/xfW8QGvczXeh4+xU8JX6IPe93wPHJb/DS9xYgLU0HsWQP3v/0U3zym5fxvUfW4+AHnZ7v/RH2vH/e7zM+QMW6x/HIC4fxMYNXQhVD11gMXhSbJhgr5bpWg/UiFUUtX3oCk/eRnBZ6ay9c35xHeXoyhNAgLesVGN98B80X/+J5TBhq8AocW/UA12o2Q0iFaP76K3SWZ0ISAlLa8yg0Hoa5+RKuex9/ThS89Fb0+W+f6y6unW9CTdUhlBnysWm1bsxjxbG/x3DAtgaU1gQHnzeOMzQ0BL1ezzFf4yog9Hi+fundIjwmXkBFS6fvjpi7PIGorQq5c+bgB8aTaD/xr/j+nDy8+VYhdOI5/Po/W3Bi6yKIHxjR+OmlgJ8PqMeK8O4lBq9EKYau8Ri8KDZNFLx665AtUlHU8hWGb3/hd4J3w3n7gednb+HqJ1aY39yLwqw0SCIZ6fvO4ZZrusHrIXrrtkAk7UZL/wiAB7h99Rys5sMwFj6PNElASi9H263h0IKX6yu07XsOkjYLReW/RU3DB7BdrIVhwjtewX5vCsXQ0JBvwD2XmvDWVMHrIi62NuLdd9/1lAWNrXY4HGfxm5d0eGTdfhz53z/EI+sq0PL7KuTO0eGlQ4dQpPs+fmBswKcTfP6kvwODV1yWd/YiQ9dYDF4Um6b1qPEBem0nYDryEa75fsZzt0rkw9p3P0iAueMebxXCo0bp+Rp88WcbjpqOo+XaoO//6r4L577jFlLw6rNCLxYgu+7Po2Oz7rXDmDxR8AJGrlZhlViJEtvXoz/z8CrM67VINXXhwUzaOgHU19dj4cKFsFgsindGytdUwWvisPTx4ZfwvTmpSEvVYMmeenzqeXw4Jy0NqWIVflnbDofDgU/f34MlIhW5VWdHf/7iSRh/+Bh0RTWwM3jFfR09ehRCiIRdMmIyDF4UmyYZXJ/y6hl8HXQ0+Xe4216KFLEUetMptHc50NX2PsqzUyGtPYbPvh0Z/ffKD2B3XEJb7R6kSyKEwfUr8GrLTbjutsGYkgSd/hCa2i/B4f136QVUfXYPGOlB5VIJyUU1uHi5FwOuIMHrbhuMKRosK65GW5cDXe2nUOmZuZlc8iH+8s0ghnsqsVSkoajmvHsxVlcvmnekjQ7It59FtSEDkpSNqs+45EQouru7kZqaynFf0w5eDnR9cBD/9IiAEIuw9cQncDg60Wj8ifsR4lOv4O2OLvf3dn2Iwz/9nxCPr0PxGydQ8/Zb2J+7Ao88shZ73m8f/zsweMVN2Ww2FBQUICMjA06nU+nTPiYxeFFs8gSv5G2lMPmWbghhOYnhm+g8Vox0rTS6nMT2t9DW530M+SXaTJuh8y7JkPU6Whr2QjsmeGXCYPoVMr2fod2Ivac+94wTe4C+zhMoStd5Pj9wWYe76KnKcYe3pZXoGQk2xitgyQvtepTUn8PHFVmQRArym28Cg92oWp8CISQsrezBCIItJ1GMY503uZxEGIaGhnDo0CEsWrQI+/fvT9CXa08/ePlmM37vZfzmE/fsR/u7xdAJgTm5VWjz/95xy0nkYM/bZ7icRJyWzWaDwWCAEAJmszmhXnodLgYvik0RWoiUKJj+/n688cYbWLx4MXJzc2E2mxM0hLFY0y+bzYajR49iw4YNWLx4Md5880309/crfXrHPAYvik0MXiSDoaEhdHR0wGg0QgiBjRs3Yv/+/bBYLAn+OJLFGl82mw0WiwX79+9Heno6UlNTYTQa0dHRofSprCoMXhSbGLxIAU6nE/X19SgsLIQQAj/60Y9QUFCAiooKWCwWzoxkJUydPn0aFosFFRUV0Ov1+PGPfwwhBAoLC1FfX8/xWzPA4EVENIEbN26go6MDJ06cQGFhIZYsWQIhBH76059Cr9ejoqICFRUVaGxsRGNjo+KdJYsVTnmPW+9xrNfrsWnTJgghkJGRgV27dqG2thYdHR24ceOG0qdj3GDwIiIKk9PpRHd3N06ePIlDhw5h165dyMnJ8S0SumnTJuTm5vrullVUVODo0aO+jo53zljRqtOnT/uOs6NHj44JVbm5ub47V0II5OTkYNeuXTh+/DhOnjyJ7u5u3smSAYMXEVGEOZ1OOJ1OdHR0wGq1wmKxYN++fdi1a5dvqr2381u0aBG2bt2K3NzcMXfRKioqYDabfZ1oY2Mjx50lUNlstjH73mw2+46L/fv3+4LU1q1bx7wZICMjAwUFBSguLsahQ4dgsVhgtVp9oYrBSnkMXkREChoaGvJ1iN3d3bBaraivr/eFteLiYhQUFKCgoCDoK3i2bt06Jrjp9Xrs379/TIDzL//OPFhxdufU5X9XaaKaqP0NBoNvP3mDU2B4EkJgyZIlvv1eXFyMffv2wWKxoL6+flyQ4tIN6sLgRUSkUv39/b7O17+sVquvamtrYbFYYLFYcPz4cRQXF/vKewfOv7zj2MIpb3iYqvzDYbRry5YtIf9e4W6v966Sf+3atWtM2x4/ftzX7rW1tb798dFHHwXdZwxPiYPBi4iIps3/jp1ai6GH5MTgRURERCQTBi8iIiIimTB4EREREcmEwYuIiIhIJgxeRERERDJh8CIiIiKSCYMXERERkUwYvIiIiIhkwuBFREREJBMGLyIiIiKZMHjRDAyjz5o/yTvN8mHtGwb6rNBP9u4zvRV9U32P9/uU3mQiir5Jrwda6K29AHph1WunuP5cm+J7/K5TRDJh8KIZ8AavjTC1XITD4QioL3B72OW5iCYj0/RhkO9xwOG8jeHh23D6vnYRLaaN4z/XeRu8PBIlgEmvGd1w3n4AX/DKNKEl2HXF8QVuDz/AbWf36NdaTMgc97me6xSRTBi8aAa8wWuKvxj7rND7/kqN4OcSUXwK6ZrhCV7h3AkP+1pEFHkMXjQDDF5EFAUMXhTHGLxoYn1W6MWzONDwO5iyUz3jIVKQVd6KvmEXGLyIKGzDDpi0C/CC6R1U5a+C5LmuZJa8j6sDI+7vYfCiOMbgRRPzDnCVMlBSew5djk6cqdwCnUiDwXYbk4/x8o7DwJRjvC73DmDsCAsGL6K4NeyASSsgRDLSDe+g1X4RbQ0Hka1Lgm5HE/pcmPya4RvrOcUYr8u9GAgcusXgRTGAwYsm1meFXkhYWNaJQe/X7rXDmOy9cE02q9Hv4jbFjEWtyREwaJ7BiyhueYPXmmO4+tCbjB7ipnUHksQmmJ33J79m+O5wTTGrUWuCI/DyweBFMYDBiyYW7CI17IBJGxi8+KiRiELkCV6Bf3C5rtVgvUhFUctf+aiR4hqDF02MwYuIIm2i4NVbh2wGL0oADF40MQYvIoq0kB81MnhRfGLwoolFNHhNsoDquAUMGbyI4tYkg+tTXj2Dr32D60MMXhMuoOo3wceLwYtiAIMXTSyiwSucV3YweBHFLU/wSt5WClPeypkvJzHlq4X8MHhRDGDwIiIi+UwwxosoUTB4EREREcmEwYuIiIhIJgxeRERERDJh8CIiIiKSCYMXERERkUwYvIiIiIhkwuBFREREJBMGLyIiIiKZMHgRERERyYTBi4iIiEgmDF5EREREMmHwIiIiIpIJgxcRERGRTP4/Ph39FWo+IKcAAAAASUVORK5CYII="
    }
   },
   "cell_type": "markdown",
   "metadata": {
    "tags": []
   },
   "source": [
    "![image.png](attachment:image.png)\n",
    "\n",
    "<h4><center> Figure 1: a cross section through p-substrate chip. </center></h4>"
   ]
  },
  {
   "cell_type": "markdown",
   "metadata": {},
   "source": [
    "For the following questions assume an _n_--well process -- unless stated otherwise.\n",
    "\n",
    "**1.**<font color=#108ee9> Draw four-terminal symbols for native and well transistors and label all the terminals; use _d_ for drain, _s_ for source, _g_ for gate, _b_ for bulk, and _w_ for well.\n",
    "Indicate the direction of current flow that is consistent with your choice of drain and source</font> (you can drag the * .png file into the cell below)."
   ]
  },
  {
   "cell_type": "markdown",
   "metadata": {},
   "source": [
    "![image2.jpeg](image2.jpeg)"
   ]
  },
  {
   "cell_type": "markdown",
   "metadata": {},
   "source": [
    "**2.** <font color=#108ee9>Write the expressions for the subthreshold (weak inversion) current $I_{ds}$ for both types of\n",
    "transistors.</font>"
   ]
  },
  {
   "cell_type": "markdown",
   "metadata": {},
   "source": [
    "nMOS:\n",
    "$$ I_{ds} = I_0 \\, e^{\\kappa V_g / U_T} \\, e^{-V_s / U_T} \\, \\bigl(1 - e^{-V_{ds} / U_T}\\bigr) $$\n",
    "\n",
    "pMOS:\n",
    "$$ I_{sd} = I_0 \\, e^{\\kappa V_g / U_T} \\, e^{-V_d / U_T} \\, \\bigl(1 - e^{-V_{sd} / U_T}\\bigr) $$\n",
    "\n"
   ]
  },
  {
   "cell_type": "markdown",
   "metadata": {},
   "source": [
    "**3.** <font color=#108ee9>Write the expressions for the _saturation_ current of these\n",
    "transistors, that is, the value of the current when $|V_{ds}|\\gg\\frac{4kT}{q}$.</font>\n",
    "For the remaining questions you may assume that the transistor is in\n",
    "saturation."
   ]
  },
  {
   "cell_type": "markdown",
   "metadata": {},
   "source": [
    "nMOS:\n",
    "$$ I_{D,\\text{sat}} = I_0 \\, e^{\\kappa V_g / U_T} \\, e^{-V_s / U_T} $$\n",
    "\n",
    "pMOS:\n",
    "$$ I_{D,\\text{sat}} = I_0 \\, e^{\\kappa V_g / U_T} \\, e^{-V_d / U_T} $$\n"
   ]
  },
  {
   "cell_type": "markdown",
   "metadata": {},
   "source": [
    "**4.** <font color=#108ee9>For both transistors, write an expression for source voltage as a function of gate voltage if the channel current is constant and the transistor is in saturation. In each case, what is $$\\frac{\\mathrm{d}V_s}{\\mathrm{d}V_g}$$?</font>"
   ]
  },
  {
   "cell_type": "markdown",
   "metadata": {},
   "source": [
    "nMOS:\n",
    "$$ V_s = \\kappa V_g - U_T \\ln\\!\\left(\\frac{I_D}{I_0}\\right), \n",
    "\\quad \\frac{dV_s}{dV_g} = \\kappa $$\n",
    "\n",
    "pMOS:\n",
    "$$ V_s = -\\kappa V_g + V_d + U_T \\ln\\!\\left(\\frac{I_D}{I_0}\\right), \n",
    "\\quad \\frac{dV_s}{dV_g} = -\\kappa $$\n"
   ]
  },
  {
   "cell_type": "markdown",
   "metadata": {},
   "source": [
    "### ESD protection of CMOS Chips (need to know)"
   ]
  },
  {
   "cell_type": "markdown",
   "metadata": {},
   "source": [
    "All MOSFET chips are _extremely_ prone to damage by static electricity.\n",
    "The current through the transistors is controlled by an insulated\n",
    "gate.  \n",
    "\n",
    "Not so fun facts: **Even a few tens of volts can blow up the gate. A short walk\n",
    "across the room can build up kilovolts of static potential.**\n",
    "\n",
    "There are electrostatic discharge (ESD) protection structures on the chip inputs\n",
    "that are designed to leak off the static charge before it can damage\n",
    "the chip, but often this will not be enough.  \n",
    "\n",
    "There is one simple precautions that can definitely keep the chip safe.\n",
    "\n",
    "**When the PCB is not powered up always ground yourself to your computer ground (e.g. the outer shell of your USB connector)  before picking up\n",
    "or touching the board.** This will discharge the static charge. Of course this assumes your computer is plugged into the wall power with a grounded power cable. In general, try to make sure your body charge is discharged before you handle the PCB.\n"
   ]
  },
  {
   "cell_type": "markdown",
   "metadata": {},
   "source": [
    "### Experiments and Lab Reports"
   ]
  },
  {
   "cell_type": "markdown",
   "metadata": {},
   "source": [
    "For the following experiments, include in your lab reports, graphs of all theoretical and experimental curves.  Experimental data should be plotted in a point style so that individual data points are visible.\n",
    "Make sure you take enough data points and label your axes.\n",
    "The theoretical fit should be graphed on the same plot in a line style.\n",
    "\n",
    "Your written interpretation of the results and any anomalies are essential.\n",
    "Please do not just hand in the plots without any interpretation on your part. \n",
    "Your report does not need to be beautiful, but it should show that you understand what you are measuring.\n",
    "\n",
    "Remember that the purpose of this lab is to investigate _subthreshold_ transistor characteristics. Therefore, all voltage sweeps should span the measurable subthreshold regime while extending just far enough above threshold to show where the threshold is.\n",
    "\n",
    "Avoid these common mistakes in your report:\n",
    "\n",
    "- **Not discussing your data sufficiently.** Think about a publication. The readers want to understand your reasoning with you. They want to be able to reproduce your results.\n",
    "- **Not using cross-hair axes when 0,0 is relevant.** Use grid on to turn on grid, which will draw dotted lines from major ticks. See fontsize to make spacing readable.\n",
    "- **Forgetting to mention what your plot shows.**\n",
    "- **Not labeling your figures with a caption,** e.g., “Fig. 1: Transistor drain current vs. gate voltage, Experiment 1.”\n",
    "- **Insufficiently annotating your data.** It's OK to draw on your plots to indicate the slope of the curve, or the x / y intercepts.\n",
    "- **Using identical markers for all plots.** Your curves must be distinguishable when printed in black and white. Use e.g. plot(v,i,'o-',v,i2,'s-'), which labels one curve with circle markers and the other with square markers.\n",
    "- **Forgetting units on measurements,** e.g. “our conductance is 1.000653e-10”. What are the units?\n",
    "- **Giving your measurements too many digits of precision;** see previous error. Do your instruments really give you 7 digits of precision?\n"
   ]
  },
  {
   "cell_type": "markdown",
   "metadata": {},
   "source": [
    "## 2 Set up the experiment\n",
    "Load all the necessary libraries for this notebook, and define a 'datapath' variable to hold the path to your precious data that you will store and maybe load later"
   ]
  },
  {
   "cell_type": "code",
   "execution_count": 6,
   "metadata": {},
   "outputs": [],
   "source": [
    "# import the necessary library to communicate with the hardware\n",
    "import pyplane # to talk to CoACH board\n",
    "import time # for time.sleep(seconds)\n",
    "import numpy as np # numpy for arrays etc\n",
    "from scipy import stats # for stats.linregress\n",
    "import matplotlib.pyplot as plt # for plotting\n",
    "import matplotlib\n",
    "plt.rcParams.update({'font.size': 14}) # make the detault font size larger for your readers\n",
    "matplotlib.rcParams['pdf.fonttype'] = 42 # save fonts as type that are not outlined in illustrator or other drawing programs\n",
    "from engineering_notation import EngNumber as ef # format numbers in engineering format quickly, e.g. ef(2e-9)='2n'\n",
    "from pathlib import Path # used for saving data\n",
    "import tqdm # great for showing progress in loops\n",
    "from jupyter_save_load_vars import savevars,loadvars # to save and load your data\n",
    "\n",
    "datapath = Path('data/lab2') # make a data folder to save your data called data/lab2\n",
    "datapath.mkdir(parents=True, exist_ok=True)\n",
    "\n",
    "# below lines are notebook magic for debugging, you can uncomment them when debugging the Coach() class\n",
    "# %load_ext autoreload\n",
    "# %autoreload explicit\n",
    "# %aimport ne1\n",
    "from ne1 import * # savevars(file) saves your variables, loadvars() loads them back to workspace, other commands setup FETs for measurement etc\n"
   ]
  },
  {
   "cell_type": "markdown",
   "metadata": {},
   "source": [
    "## Saving and loading data\n",
    "Use the blocks below to save and load your data"
   ]
  },
  {
   "cell_type": "markdown",
   "metadata": {},
   "source": [
    "#### Saving data"
   ]
  },
  {
   "cell_type": "code",
   "execution_count": 7,
   "metadata": {},
   "outputs": [
    {
     "name": "stderr",
     "output_type": "stream",
     "text": [
      "\u001b[0;36m[INFO]: 2025-09-30 14:59:01,124 - saveloadvars - Saved to data/lab2/lab2.dill variables [ datapath timers times ] (File \"/Users/mariusfauteux/Documents/CoACH-labs/.conda/lib/python3.9/site-packages/jupyter_save_load_vars.py\", line 219, in savevars)\u001b[0m\n"
     ]
    }
   ],
   "source": [
    "# you probably don't want this the first time you work on lab... use it after you collect data\n",
    "savevars(datapath/'lab2')"
   ]
  },
  {
   "cell_type": "markdown",
   "metadata": {},
   "source": [
    "#### Loading previous data"
   ]
  },
  {
   "cell_type": "code",
   "execution_count": 18,
   "metadata": {},
   "outputs": [
    {
     "name": "stderr",
     "output_type": "stream",
     "text": [
      "\u001b[0;36m[INFO]: 2025-10-06 14:58:14,391 - saveloadvars - from /Users/jesperjorgen/Desktop/pappas comp/1UNI/ETH/NE1/CoACH-labs/data/lab2/lab2_final.dill loaded variables ['datapath', 'timers', 'times', 'vs_n', 'v', 'vd_n', 'vg_n', 'ids_n', 'I0n', 'n_samples', 'vgn_low', 'vgn_high', 'vgn_set', 'vgn_actual', 'idn_meas', 'isn_meas', 'delay', 'n', 'idn_corrected', 'idlog', 'vg_masked', 'vg0', 'vg1', 'x', 'y', 'fit', 'idn_fit', 'i0n', 'U_T', 'q', 'v_per_efold', 'kappa', 'kappa_n', 'v_per_efold_n', 'vdd', 'vb_p', 'vs_p', 'vd_p', 'vg_p', 'ids_p', 'I0p', 'vg_high', 'vg_low', 'vgp_set', 'vgp_actual', 'isp_meas', 'idp_meas', 'vsgp', 'pre', 'nfet_label', 'pfet_label', 'ut', 'log_in_smooth', 'k_n', 'i0p', 'kappa_p', 'v_per_efold_p', 'idp_fit', 'x2', 'y2'] (File \"/Users/jesperjorgen/Library/Python/3.9/lib/python/site-packages/jupyter_save_load_vars.py\", line 287, in loadvars)\u001b[0m\n",
      "\u001b[0;36m[INFO]: 2025-10-06 14:58:14,393 - saveloadvars - overwrote existing variables ['datapath'] (File \"/Users/jesperjorgen/Library/Python/3.9/lib/python/site-packages/jupyter_save_load_vars.py\", line 325, in loadvars)\u001b[0m\n"
     ]
    }
   ],
   "source": [
    "from jupyter_save_load_vars import savevars,loadvars # to save and load your data\n",
    "from pathlib import Path # used for saving data\n",
    "datapath = Path('CoACH-labs/data/lab2')\n",
    "loadvars('/Users/jesperjorgen/Desktop/pappas comp/1UNI/ETH/NE1/CoACH-labs/data/lab2/lab2_final.dill',overwrite='yes')\n",
    "# loadvars(datapath/'lab2') # use to prompt each variable overwrite"
   ]
  },
  {
   "cell_type": "markdown",
   "metadata": {},
   "source": [
    "### Connect the device"
   ]
  },
  {
   "cell_type": "code",
   "execution_count": 9,
   "metadata": {},
   "outputs": [
    {
     "name": "stderr",
     "output_type": "stream",
     "text": [
      "\u001b[0;36m[INFO]: 2025-09-30 14:59:02,188 - NE1 - Opened CoACH at /dev/cu.usbmodem76183401 with firmware version (1, 12, 5) (File \"/Users/mariusfauteux/Documents/NE1-CoACH-LABS/ne1.py\", line 175, in open)\u001b[0m\n"
     ]
    }
   ],
   "source": [
    "p=Coach() # make the coach object to do measurements\n",
    "p.open() # you might need to give a port name here, e.g. '/dev/ttyACM1'. Check your device port.\n",
    "\n",
    "# Note that if you plug out and plug in the USB device in a short time interval, the operating system might allocate a new name like ttyACM1, \n",
    "# then you may get error messages with open(...ttyACM0). So please avoid frenquently plugging in/out the board."
   ]
  },
  {
   "cell_type": "markdown",
   "metadata": {},
   "source": [
    "If you get any error, e.g.  `attempting to stat /dev/ttyACM0: No such file or directory`,  then make sure the CoACH board is connected (and maybe mapped through the virtual machine USB).\n",
    "\n",
    "Troubleshooting: See troubleshooting section at end of [readme.md](https://code.ini.uzh.ch/CoACH/CoACH-labs) and [Coach_Teensy_interface](https://code.ini.uzh.ch/CoACH/CoACH_Teensy_interface)"
   ]
  },
  {
   "cell_type": "code",
   "execution_count": 10,
   "metadata": {},
   "outputs": [
    {
     "data": {
      "text/plain": [
       "(1, 12, 5)"
      ]
     },
     "execution_count": 10,
     "metadata": {},
     "output_type": "execute_result"
    }
   ],
   "source": [
    "p.get_firmware_version() # you can use this cell to check if the board is still talking to your computer"
   ]
  },
  {
   "cell_type": "code",
   "execution_count": 99,
   "metadata": {},
   "outputs": [
    {
     "name": "stderr",
     "output_type": "stream",
     "text": [
      "\u001b[0;36m[INFO]: 2025-09-30 15:24:28,218 - NE1 - closing device (deleting pyplane.Plane() object (File \"/Users/mariusfauteux/Documents/NE1-CoACH-LABS/ne1.py\", line 250, in close)\u001b[0m\n"
     ]
    }
   ],
   "source": [
    "#use this cell to close the board and free resources\n",
    "p.close()"
   ]
  },
  {
   "cell_type": "code",
   "execution_count": 12,
   "metadata": {},
   "outputs": [],
   "source": [
    "# use this cell to try different types of resets\n",
    "# p.reset_soft()\n",
    "# p.reset_hard()"
   ]
  },
  {
   "cell_type": "code",
   "execution_count": 13,
   "metadata": {},
   "outputs": [],
   "source": [
    "# use this code block to reproduce timeout bug, \n",
    "# import time\n",
    "# while True:\n",
    "#     p.read_current(pyplane.AdcChannel.GO0_N)\n",
    "#     time.sleep(.01)"
   ]
  },
  {
   "cell_type": "markdown",
   "metadata": {},
   "source": [
    "### Recommendations to this lab\n",
    "\n",
    "* You do not need to follow the order, it is actually better to do all the measurement of one device together, e.g. 3.1 -> 4.1 -> 3.2 -> 4.2\n",
    "\n",
    "* **Please save the data as frequently as possible and use the loaded data for processing**"
   ]
  },
  {
   "cell_type": "markdown",
   "metadata": {},
   "source": [
    "## 3 Current as a Function of Gate Voltage"
   ]
  },
  {
   "cell_type": "markdown",
   "metadata": {},
   "source": [
    "### 3.1 N-FET saturation current $I_{ds}$ vs $V_{gs}$\n",
    "For the N-FET device on the CoACH chip, measure current $I_{ds}$ as a function of gate voltage $V_g$ for fixed source, bulk (substrate or well), and drain voltages. This experiment replicates the one you first did in lab1."
   ]
  },
  {
   "cell_type": "code",
   "execution_count": 14,
   "metadata": {
    "scrolled": true
   },
   "outputs": [
    {
     "data": {
      "image/png": "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",
      "image/svg+xml": [
       "<?xml version=\"1.0\" encoding=\"utf-8\" standalone=\"no\"?>\n",
       "<!DOCTYPE svg PUBLIC \"-//W3C//DTD SVG 1.1//EN\"\n",
       "  \"http://www.w3.org/Graphics/SVG/1.1/DTD/svg11.dtd\">\n",
       "<svg xmlns:xlink=\"http://www.w3.org/1999/xlink\" width=\"189.464375pt\" height=\"105.35pt\" viewBox=\"0 0 189.464375 105.35\" xmlns=\"http://www.w3.org/2000/svg\" version=\"1.1\">\n",
       " <metadata>\n",
       "  <rdf:RDF xmlns:dc=\"http://purl.org/dc/elements/1.1/\" xmlns:cc=\"http://creativecommons.org/ns#\" xmlns:rdf=\"http://www.w3.org/1999/02/22-rdf-syntax-ns#\">\n",
       "   <cc:Work>\n",
       "    <dc:type rdf:resource=\"http://purl.org/dc/dcmitype/StillImage\"/>\n",
       "    <dc:date>2025-09-30T14:59:02.839637</dc:date>\n",
       "    <dc:format>image/svg+xml</dc:format>\n",
       "    <dc:creator>\n",
       "     <cc:Agent>\n",
       "      <dc:title>Matplotlib v3.9.4, https://matplotlib.org/</dc:title>\n",
       "     </cc:Agent>\n",
       "    </dc:creator>\n",
       "   </cc:Work>\n",
       "  </rdf:RDF>\n",
       " </metadata>\n",
       " <defs>\n",
       "  <style type=\"text/css\">*{stroke-linejoin: round; stroke-linecap: butt}</style>\n",
       " </defs>\n",
       " <g id=\"figure_1\">\n",
       "  <g id=\"patch_1\">\n",
       "   <path d=\"M 0 105.35 \n",
       "L 189.464375 105.35 \n",
       "L 189.464375 0 \n",
       "L 0 0 \n",
       "z\n",
       "\" style=\"fill: #ffffff\"/>\n",
       "  </g>\n",
       "  <g id=\"axes_1\">\n",
       "   <g id=\"line2d_1\">\n",
       "    <path d=\"M 133.314688 77.155 \n",
       "L 133.314688 64.405 \n",
       "L 112.914688 64.405 \n",
       "L 112.914688 44.005 \n",
       "L 133.314688 44.005 \n",
       "L 133.314688 31.255 \n",
       "\" clip-path=\"url(#pedeaf535b1)\" style=\"fill: none; stroke: #000000; stroke-width: 2; stroke-linecap: round\"/>\n",
       "   </g>\n",
       "   <g id=\"line2d_2\">\n",
       "    <path d=\"M 105.264688 64.405 \n",
       "L 105.264688 44.005 \n",
       "\" clip-path=\"url(#pedeaf535b1)\" style=\"fill: none; stroke: #000000; stroke-width: 2; stroke-linecap: round\"/>\n",
       "   </g>\n",
       "   <g id=\"line2d_3\">\n",
       "    <path d=\"M 88.944688 54.205 \n",
       "L 105.264688 54.205 \n",
       "\" clip-path=\"url(#pedeaf535b1)\" style=\"fill: none; stroke: #000000; stroke-width: 2; stroke-linecap: round\"/>\n",
       "   </g>\n",
       "   <g id=\"patch_2\">\n",
       "    <path d=\"M 88.944688 56.5 \n",
       "C 89.553329 56.5 90.137123 56.258184 90.567498 55.82781 \n",
       "C 90.997872 55.397436 91.239688 54.813641 91.239688 54.205 \n",
       "C 91.239688 53.596359 90.997872 53.012564 90.567498 52.58219 \n",
       "C 90.137123 52.151816 89.553329 51.91 88.944688 51.91 \n",
       "C 88.336046 51.91 87.752252 52.151816 87.321877 52.58219 \n",
       "C 86.891503 53.012564 86.649688 53.596359 86.649688 54.205 \n",
       "C 86.649688 54.813641 86.891503 55.397436 87.321877 55.82781 \n",
       "C 87.752252 56.258184 88.336046 56.5 88.944688 56.5 \n",
       "z\n",
       "\" clip-path=\"url(#pedeaf535b1)\" style=\"stroke: #000000; stroke-width: 2; stroke-linejoin: miter\"/>\n",
       "   </g>\n",
       "   <g id=\"text_1\">\n",
       "    <!-- gate=AIN0 -->\n",
       "    <g transform=\"translate(7.2 58.068125) scale(0.14 -0.14)\">\n",
       "     <defs>\n",
       "      <path id=\"DejaVuSans-67\" d=\"M 2906 1791 \n",
       "Q 2906 2416 2648 2759 \n",
       "Q 2391 3103 1925 3103 \n",
       "Q 1463 3103 1205 2759 \n",
       "Q 947 2416 947 1791 \n",
       "Q 947 1169 1205 825 \n",
       "Q 1463 481 1925 481 \n",
       "Q 2391 481 2648 825 \n",
       "Q 2906 1169 2906 1791 \n",
       "z\n",
       "M 3481 434 \n",
       "Q 3481 -459 3084 -895 \n",
       "Q 2688 -1331 1869 -1331 \n",
       "Q 1566 -1331 1297 -1286 \n",
       "Q 1028 -1241 775 -1147 \n",
       "L 775 -588 \n",
       "Q 1028 -725 1275 -790 \n",
       "Q 1522 -856 1778 -856 \n",
       "Q 2344 -856 2625 -561 \n",
       "Q 2906 -266 2906 331 \n",
       "L 2906 616 \n",
       "Q 2728 306 2450 153 \n",
       "Q 2172 0 1784 0 \n",
       "Q 1141 0 747 490 \n",
       "Q 353 981 353 1791 \n",
       "Q 353 2603 747 3093 \n",
       "Q 1141 3584 1784 3584 \n",
       "Q 2172 3584 2450 3431 \n",
       "Q 2728 3278 2906 2969 \n",
       "L 2906 3500 \n",
       "L 3481 3500 \n",
       "L 3481 434 \n",
       "z\n",
       "\" transform=\"scale(0.015625)\"/>\n",
       "      <path id=\"DejaVuSans-61\" d=\"M 2194 1759 \n",
       "Q 1497 1759 1228 1600 \n",
       "Q 959 1441 959 1056 \n",
       "Q 959 750 1161 570 \n",
       "Q 1363 391 1709 391 \n",
       "Q 2188 391 2477 730 \n",
       "Q 2766 1069 2766 1631 \n",
       "L 2766 1759 \n",
       "L 2194 1759 \n",
       "z\n",
       "M 3341 1997 \n",
       "L 3341 0 \n",
       "L 2766 0 \n",
       "L 2766 531 \n",
       "Q 2569 213 2275 61 \n",
       "Q 1981 -91 1556 -91 \n",
       "Q 1019 -91 701 211 \n",
       "Q 384 513 384 1019 \n",
       "Q 384 1609 779 1909 \n",
       "Q 1175 2209 1959 2209 \n",
       "L 2766 2209 \n",
       "L 2766 2266 \n",
       "Q 2766 2663 2505 2880 \n",
       "Q 2244 3097 1772 3097 \n",
       "Q 1472 3097 1187 3025 \n",
       "Q 903 2953 641 2809 \n",
       "L 641 3341 \n",
       "Q 956 3463 1253 3523 \n",
       "Q 1550 3584 1831 3584 \n",
       "Q 2591 3584 2966 3190 \n",
       "Q 3341 2797 3341 1997 \n",
       "z\n",
       "\" transform=\"scale(0.015625)\"/>\n",
       "      <path id=\"DejaVuSans-74\" d=\"M 1172 4494 \n",
       "L 1172 3500 \n",
       "L 2356 3500 \n",
       "L 2356 3053 \n",
       "L 1172 3053 \n",
       "L 1172 1153 \n",
       "Q 1172 725 1289 603 \n",
       "Q 1406 481 1766 481 \n",
       "L 2356 481 \n",
       "L 2356 0 \n",
       "L 1766 0 \n",
       "Q 1100 0 847 248 \n",
       "Q 594 497 594 1153 \n",
       "L 594 3053 \n",
       "L 172 3053 \n",
       "L 172 3500 \n",
       "L 594 3500 \n",
       "L 594 4494 \n",
       "L 1172 4494 \n",
       "z\n",
       "\" transform=\"scale(0.015625)\"/>\n",
       "      <path id=\"DejaVuSans-65\" d=\"M 3597 1894 \n",
       "L 3597 1613 \n",
       "L 953 1613 \n",
       "Q 991 1019 1311 708 \n",
       "Q 1631 397 2203 397 \n",
       "Q 2534 397 2845 478 \n",
       "Q 3156 559 3463 722 \n",
       "L 3463 178 \n",
       "Q 3153 47 2828 -22 \n",
       "Q 2503 -91 2169 -91 \n",
       "Q 1331 -91 842 396 \n",
       "Q 353 884 353 1716 \n",
       "Q 353 2575 817 3079 \n",
       "Q 1281 3584 2069 3584 \n",
       "Q 2775 3584 3186 3129 \n",
       "Q 3597 2675 3597 1894 \n",
       "z\n",
       "M 3022 2063 \n",
       "Q 3016 2534 2758 2815 \n",
       "Q 2500 3097 2075 3097 \n",
       "Q 1594 3097 1305 2825 \n",
       "Q 1016 2553 972 2059 \n",
       "L 3022 2063 \n",
       "z\n",
       "\" transform=\"scale(0.015625)\"/>\n",
       "      <path id=\"DejaVuSans-3d\" d=\"M 678 2906 \n",
       "L 4684 2906 \n",
       "L 4684 2381 \n",
       "L 678 2381 \n",
       "L 678 2906 \n",
       "z\n",
       "M 678 1631 \n",
       "L 4684 1631 \n",
       "L 4684 1100 \n",
       "L 678 1100 \n",
       "L 678 1631 \n",
       "z\n",
       "\" transform=\"scale(0.015625)\"/>\n",
       "      <path id=\"DejaVuSans-41\" d=\"M 2188 4044 \n",
       "L 1331 1722 \n",
       "L 3047 1722 \n",
       "L 2188 4044 \n",
       "z\n",
       "M 1831 4666 \n",
       "L 2547 4666 \n",
       "L 4325 0 \n",
       "L 3669 0 \n",
       "L 3244 1197 \n",
       "L 1141 1197 \n",
       "L 716 0 \n",
       "L 50 0 \n",
       "L 1831 4666 \n",
       "z\n",
       "\" transform=\"scale(0.015625)\"/>\n",
       "      <path id=\"DejaVuSans-49\" d=\"M 628 4666 \n",
       "L 1259 4666 \n",
       "L 1259 0 \n",
       "L 628 0 \n",
       "L 628 4666 \n",
       "z\n",
       "\" transform=\"scale(0.015625)\"/>\n",
       "      <path id=\"DejaVuSans-4e\" d=\"M 628 4666 \n",
       "L 1478 4666 \n",
       "L 3547 763 \n",
       "L 3547 4666 \n",
       "L 4159 4666 \n",
       "L 4159 0 \n",
       "L 3309 0 \n",
       "L 1241 3903 \n",
       "L 1241 0 \n",
       "L 628 0 \n",
       "L 628 4666 \n",
       "z\n",
       "\" transform=\"scale(0.015625)\"/>\n",
       "      <path id=\"DejaVuSans-30\" d=\"M 2034 4250 \n",
       "Q 1547 4250 1301 3770 \n",
       "Q 1056 3291 1056 2328 \n",
       "Q 1056 1369 1301 889 \n",
       "Q 1547 409 2034 409 \n",
       "Q 2525 409 2770 889 \n",
       "Q 3016 1369 3016 2328 \n",
       "Q 3016 3291 2770 3770 \n",
       "Q 2525 4250 2034 4250 \n",
       "z\n",
       "M 2034 4750 \n",
       "Q 2819 4750 3233 4129 \n",
       "Q 3647 3509 3647 2328 \n",
       "Q 3647 1150 3233 529 \n",
       "Q 2819 -91 2034 -91 \n",
       "Q 1250 -91 836 529 \n",
       "Q 422 1150 422 2328 \n",
       "Q 422 3509 836 4129 \n",
       "Q 1250 4750 2034 4750 \n",
       "z\n",
       "\" transform=\"scale(0.015625)\"/>\n",
       "     </defs>\n",
       "     <use xlink:href=\"#DejaVuSans-67\"/>\n",
       "     <use xlink:href=\"#DejaVuSans-61\" x=\"63.476562\"/>\n",
       "     <use xlink:href=\"#DejaVuSans-74\" x=\"124.755859\"/>\n",
       "     <use xlink:href=\"#DejaVuSans-65\" x=\"163.964844\"/>\n",
       "     <use xlink:href=\"#DejaVuSans-3d\" x=\"225.488281\"/>\n",
       "     <use xlink:href=\"#DejaVuSans-41\" x=\"309.277344\"/>\n",
       "     <use xlink:href=\"#DejaVuSans-49\" x=\"377.685547\"/>\n",
       "     <use xlink:href=\"#DejaVuSans-4e\" x=\"407.177734\"/>\n",
       "     <use xlink:href=\"#DejaVuSans-30\" x=\"481.982422\"/>\n",
       "    </g>\n",
       "   </g>\n",
       "   <g id=\"patch_3\">\n",
       "    <path d=\"M 133.314688 33.55 \n",
       "C 133.923329 33.55 134.507123 33.308184 134.937498 32.87781 \n",
       "C 135.367872 32.447436 135.609688 31.863641 135.609688 31.255 \n",
       "C 135.609688 30.646359 135.367872 30.062564 134.937498 29.63219 \n",
       "C 134.507123 29.201816 133.923329 28.96 133.314688 28.96 \n",
       "C 132.706046 28.96 132.122252 29.201816 131.691877 29.63219 \n",
       "C 131.261503 30.062564 131.019688 30.646359 131.019688 31.255 \n",
       "C 131.019688 31.863641 131.261503 32.447436 131.691877 32.87781 \n",
       "C 132.122252 33.308184 132.706046 33.55 133.314688 33.55 \n",
       "z\n",
       "\" clip-path=\"url(#pedeaf535b1)\" style=\"stroke: #000000; stroke-width: 2; stroke-linejoin: miter\"/>\n",
       "   </g>\n",
       "   <g id=\"text_2\">\n",
       "    <!-- drain=GO22 -->\n",
       "    <g transform=\"translate(89.615 22.988437) scale(0.14 -0.14)\">\n",
       "     <defs>\n",
       "      <path id=\"DejaVuSans-64\" d=\"M 2906 2969 \n",
       "L 2906 4863 \n",
       "L 3481 4863 \n",
       "L 3481 0 \n",
       "L 2906 0 \n",
       "L 2906 525 \n",
       "Q 2725 213 2448 61 \n",
       "Q 2172 -91 1784 -91 \n",
       "Q 1150 -91 751 415 \n",
       "Q 353 922 353 1747 \n",
       "Q 353 2572 751 3078 \n",
       "Q 1150 3584 1784 3584 \n",
       "Q 2172 3584 2448 3432 \n",
       "Q 2725 3281 2906 2969 \n",
       "z\n",
       "M 947 1747 \n",
       "Q 947 1113 1208 752 \n",
       "Q 1469 391 1925 391 \n",
       "Q 2381 391 2643 752 \n",
       "Q 2906 1113 2906 1747 \n",
       "Q 2906 2381 2643 2742 \n",
       "Q 2381 3103 1925 3103 \n",
       "Q 1469 3103 1208 2742 \n",
       "Q 947 2381 947 1747 \n",
       "z\n",
       "\" transform=\"scale(0.015625)\"/>\n",
       "      <path id=\"DejaVuSans-72\" d=\"M 2631 2963 \n",
       "Q 2534 3019 2420 3045 \n",
       "Q 2306 3072 2169 3072 \n",
       "Q 1681 3072 1420 2755 \n",
       "Q 1159 2438 1159 1844 \n",
       "L 1159 0 \n",
       "L 581 0 \n",
       "L 581 3500 \n",
       "L 1159 3500 \n",
       "L 1159 2956 \n",
       "Q 1341 3275 1631 3429 \n",
       "Q 1922 3584 2338 3584 \n",
       "Q 2397 3584 2469 3576 \n",
       "Q 2541 3569 2628 3553 \n",
       "L 2631 2963 \n",
       "z\n",
       "\" transform=\"scale(0.015625)\"/>\n",
       "      <path id=\"DejaVuSans-69\" d=\"M 603 3500 \n",
       "L 1178 3500 \n",
       "L 1178 0 \n",
       "L 603 0 \n",
       "L 603 3500 \n",
       "z\n",
       "M 603 4863 \n",
       "L 1178 4863 \n",
       "L 1178 4134 \n",
       "L 603 4134 \n",
       "L 603 4863 \n",
       "z\n",
       "\" transform=\"scale(0.015625)\"/>\n",
       "      <path id=\"DejaVuSans-6e\" d=\"M 3513 2113 \n",
       "L 3513 0 \n",
       "L 2938 0 \n",
       "L 2938 2094 \n",
       "Q 2938 2591 2744 2837 \n",
       "Q 2550 3084 2163 3084 \n",
       "Q 1697 3084 1428 2787 \n",
       "Q 1159 2491 1159 1978 \n",
       "L 1159 0 \n",
       "L 581 0 \n",
       "L 581 3500 \n",
       "L 1159 3500 \n",
       "L 1159 2956 \n",
       "Q 1366 3272 1645 3428 \n",
       "Q 1925 3584 2291 3584 \n",
       "Q 2894 3584 3203 3211 \n",
       "Q 3513 2838 3513 2113 \n",
       "z\n",
       "\" transform=\"scale(0.015625)\"/>\n",
       "      <path id=\"DejaVuSans-47\" d=\"M 3809 666 \n",
       "L 3809 1919 \n",
       "L 2778 1919 \n",
       "L 2778 2438 \n",
       "L 4434 2438 \n",
       "L 4434 434 \n",
       "Q 4069 175 3628 42 \n",
       "Q 3188 -91 2688 -91 \n",
       "Q 1594 -91 976 548 \n",
       "Q 359 1188 359 2328 \n",
       "Q 359 3472 976 4111 \n",
       "Q 1594 4750 2688 4750 \n",
       "Q 3144 4750 3555 4637 \n",
       "Q 3966 4525 4313 4306 \n",
       "L 4313 3634 \n",
       "Q 3963 3931 3569 4081 \n",
       "Q 3175 4231 2741 4231 \n",
       "Q 1884 4231 1454 3753 \n",
       "Q 1025 3275 1025 2328 \n",
       "Q 1025 1384 1454 906 \n",
       "Q 1884 428 2741 428 \n",
       "Q 3075 428 3337 486 \n",
       "Q 3600 544 3809 666 \n",
       "z\n",
       "\" transform=\"scale(0.015625)\"/>\n",
       "      <path id=\"DejaVuSans-4f\" d=\"M 2522 4238 \n",
       "Q 1834 4238 1429 3725 \n",
       "Q 1025 3213 1025 2328 \n",
       "Q 1025 1447 1429 934 \n",
       "Q 1834 422 2522 422 \n",
       "Q 3209 422 3611 934 \n",
       "Q 4013 1447 4013 2328 \n",
       "Q 4013 3213 3611 3725 \n",
       "Q 3209 4238 2522 4238 \n",
       "z\n",
       "M 2522 4750 \n",
       "Q 3503 4750 4090 4092 \n",
       "Q 4678 3434 4678 2328 \n",
       "Q 4678 1225 4090 567 \n",
       "Q 3503 -91 2522 -91 \n",
       "Q 1538 -91 948 565 \n",
       "Q 359 1222 359 2328 \n",
       "Q 359 3434 948 4092 \n",
       "Q 1538 4750 2522 4750 \n",
       "z\n",
       "\" transform=\"scale(0.015625)\"/>\n",
       "      <path id=\"DejaVuSans-32\" d=\"M 1228 531 \n",
       "L 3431 531 \n",
       "L 3431 0 \n",
       "L 469 0 \n",
       "L 469 531 \n",
       "Q 828 903 1448 1529 \n",
       "Q 2069 2156 2228 2338 \n",
       "Q 2531 2678 2651 2914 \n",
       "Q 2772 3150 2772 3378 \n",
       "Q 2772 3750 2511 3984 \n",
       "Q 2250 4219 1831 4219 \n",
       "Q 1534 4219 1204 4116 \n",
       "Q 875 4013 500 3803 \n",
       "L 500 4441 \n",
       "Q 881 4594 1212 4672 \n",
       "Q 1544 4750 1819 4750 \n",
       "Q 2544 4750 2975 4387 \n",
       "Q 3406 4025 3406 3419 \n",
       "Q 3406 3131 3298 2873 \n",
       "Q 3191 2616 2906 2266 \n",
       "Q 2828 2175 2409 1742 \n",
       "Q 1991 1309 1228 531 \n",
       "z\n",
       "\" transform=\"scale(0.015625)\"/>\n",
       "     </defs>\n",
       "     <use xlink:href=\"#DejaVuSans-64\"/>\n",
       "     <use xlink:href=\"#DejaVuSans-72\" x=\"63.476562\"/>\n",
       "     <use xlink:href=\"#DejaVuSans-61\" x=\"104.589844\"/>\n",
       "     <use xlink:href=\"#DejaVuSans-69\" x=\"165.869141\"/>\n",
       "     <use xlink:href=\"#DejaVuSans-6e\" x=\"193.652344\"/>\n",
       "     <use xlink:href=\"#DejaVuSans-3d\" x=\"257.03125\"/>\n",
       "     <use xlink:href=\"#DejaVuSans-47\" x=\"340.820312\"/>\n",
       "     <use xlink:href=\"#DejaVuSans-4f\" x=\"418.310547\"/>\n",
       "     <use xlink:href=\"#DejaVuSans-32\" x=\"497.021484\"/>\n",
       "     <use xlink:href=\"#DejaVuSans-32\" x=\"560.644531\"/>\n",
       "    </g>\n",
       "   </g>\n",
       "   <g id=\"patch_4\">\n",
       "    <path d=\"M 133.314688 79.45 \n",
       "C 133.923329 79.45 134.507123 79.208184 134.937498 78.77781 \n",
       "C 135.367872 78.347436 135.609688 77.763641 135.609688 77.155 \n",
       "C 135.609688 76.546359 135.367872 75.962564 134.937498 75.53219 \n",
       "C 134.507123 75.101816 133.923329 74.86 133.314688 74.86 \n",
       "C 132.706046 74.86 132.122252 75.101816 131.691877 75.53219 \n",
       "C 131.261503 75.962564 131.019688 76.546359 131.019688 77.155 \n",
       "C 131.019688 77.763641 131.261503 78.347436 131.691877 78.77781 \n",
       "C 132.122252 79.208184 132.706046 79.45 133.314688 79.45 \n",
       "z\n",
       "\" clip-path=\"url(#pedeaf535b1)\" style=\"stroke: #000000; stroke-width: 2; stroke-linejoin: miter\"/>\n",
       "   </g>\n",
       "   <g id=\"text_3\">\n",
       "    <!-- source=GO20 -->\n",
       "    <g transform=\"translate(84.365 93.147812) scale(0.14 -0.14)\">\n",
       "     <defs>\n",
       "      <path id=\"DejaVuSans-73\" d=\"M 2834 3397 \n",
       "L 2834 2853 \n",
       "Q 2591 2978 2328 3040 \n",
       "Q 2066 3103 1784 3103 \n",
       "Q 1356 3103 1142 2972 \n",
       "Q 928 2841 928 2578 \n",
       "Q 928 2378 1081 2264 \n",
       "Q 1234 2150 1697 2047 \n",
       "L 1894 2003 \n",
       "Q 2506 1872 2764 1633 \n",
       "Q 3022 1394 3022 966 \n",
       "Q 3022 478 2636 193 \n",
       "Q 2250 -91 1575 -91 \n",
       "Q 1294 -91 989 -36 \n",
       "Q 684 19 347 128 \n",
       "L 347 722 \n",
       "Q 666 556 975 473 \n",
       "Q 1284 391 1588 391 \n",
       "Q 1994 391 2212 530 \n",
       "Q 2431 669 2431 922 \n",
       "Q 2431 1156 2273 1281 \n",
       "Q 2116 1406 1581 1522 \n",
       "L 1381 1569 \n",
       "Q 847 1681 609 1914 \n",
       "Q 372 2147 372 2553 \n",
       "Q 372 3047 722 3315 \n",
       "Q 1072 3584 1716 3584 \n",
       "Q 2034 3584 2315 3537 \n",
       "Q 2597 3491 2834 3397 \n",
       "z\n",
       "\" transform=\"scale(0.015625)\"/>\n",
       "      <path id=\"DejaVuSans-6f\" d=\"M 1959 3097 \n",
       "Q 1497 3097 1228 2736 \n",
       "Q 959 2375 959 1747 \n",
       "Q 959 1119 1226 758 \n",
       "Q 1494 397 1959 397 \n",
       "Q 2419 397 2687 759 \n",
       "Q 2956 1122 2956 1747 \n",
       "Q 2956 2369 2687 2733 \n",
       "Q 2419 3097 1959 3097 \n",
       "z\n",
       "M 1959 3584 \n",
       "Q 2709 3584 3137 3096 \n",
       "Q 3566 2609 3566 1747 \n",
       "Q 3566 888 3137 398 \n",
       "Q 2709 -91 1959 -91 \n",
       "Q 1206 -91 779 398 \n",
       "Q 353 888 353 1747 \n",
       "Q 353 2609 779 3096 \n",
       "Q 1206 3584 1959 3584 \n",
       "z\n",
       "\" transform=\"scale(0.015625)\"/>\n",
       "      <path id=\"DejaVuSans-75\" d=\"M 544 1381 \n",
       "L 544 3500 \n",
       "L 1119 3500 \n",
       "L 1119 1403 \n",
       "Q 1119 906 1312 657 \n",
       "Q 1506 409 1894 409 \n",
       "Q 2359 409 2629 706 \n",
       "Q 2900 1003 2900 1516 \n",
       "L 2900 3500 \n",
       "L 3475 3500 \n",
       "L 3475 0 \n",
       "L 2900 0 \n",
       "L 2900 538 \n",
       "Q 2691 219 2414 64 \n",
       "Q 2138 -91 1772 -91 \n",
       "Q 1169 -91 856 284 \n",
       "Q 544 659 544 1381 \n",
       "z\n",
       "M 1991 3584 \n",
       "L 1991 3584 \n",
       "z\n",
       "\" transform=\"scale(0.015625)\"/>\n",
       "      <path id=\"DejaVuSans-63\" d=\"M 3122 3366 \n",
       "L 3122 2828 \n",
       "Q 2878 2963 2633 3030 \n",
       "Q 2388 3097 2138 3097 \n",
       "Q 1578 3097 1268 2742 \n",
       "Q 959 2388 959 1747 \n",
       "Q 959 1106 1268 751 \n",
       "Q 1578 397 2138 397 \n",
       "Q 2388 397 2633 464 \n",
       "Q 2878 531 3122 666 \n",
       "L 3122 134 \n",
       "Q 2881 22 2623 -34 \n",
       "Q 2366 -91 2075 -91 \n",
       "Q 1284 -91 818 406 \n",
       "Q 353 903 353 1747 \n",
       "Q 353 2603 823 3093 \n",
       "Q 1294 3584 2113 3584 \n",
       "Q 2378 3584 2631 3529 \n",
       "Q 2884 3475 3122 3366 \n",
       "z\n",
       "\" transform=\"scale(0.015625)\"/>\n",
       "     </defs>\n",
       "     <use xlink:href=\"#DejaVuSans-73\"/>\n",
       "     <use xlink:href=\"#DejaVuSans-6f\" x=\"52.099609\"/>\n",
       "     <use xlink:href=\"#DejaVuSans-75\" x=\"113.28125\"/>\n",
       "     <use xlink:href=\"#DejaVuSans-72\" x=\"176.660156\"/>\n",
       "     <use xlink:href=\"#DejaVuSans-63\" x=\"215.523438\"/>\n",
       "     <use xlink:href=\"#DejaVuSans-65\" x=\"270.503906\"/>\n",
       "     <use xlink:href=\"#DejaVuSans-3d\" x=\"332.027344\"/>\n",
       "     <use xlink:href=\"#DejaVuSans-47\" x=\"415.816406\"/>\n",
       "     <use xlink:href=\"#DejaVuSans-4f\" x=\"493.306641\"/>\n",
       "     <use xlink:href=\"#DejaVuSans-32\" x=\"572.017578\"/>\n",
       "     <use xlink:href=\"#DejaVuSans-30\" x=\"635.640625\"/>\n",
       "    </g>\n",
       "   </g>\n",
       "  </g>\n",
       " </g>\n",
       " <defs>\n",
       "  <clipPath id=\"pedeaf535b1\">\n",
       "   <rect x=\"20.421087\" y=\"7.2\" width=\"160.6296\" height=\"90.95\"/>\n",
       "  </clipPath>\n",
       " </defs>\n",
       "</svg>\n"
      ],
      "text/plain": [
       "<schemdraw.backends.mpl.Figure object at 0x1365fbdc0>"
      ]
     },
     "execution_count": 14,
     "metadata": {},
     "output_type": "execute_result"
    }
   ],
   "source": [
    "# uses schemdraw, you may have to install it in order to run it on your PC\n",
    "import schemdraw\n",
    "import schemdraw.elements as elm\n",
    "d = schemdraw.Drawing()\n",
    "Q = d.add(elm.NFet, reverse=True)\n",
    "d.add(elm.Dot, xy=Q.gate, lftlabel='gate=AIN0')\n",
    "d.add(elm.Dot, xy=Q.drain, toplabel='drain=GO22')\n",
    "d.add(elm.Dot, xy=Q.source, botlabel='source=GO20')\n",
    "d.draw()"
   ]
  },
  {
   "cell_type": "markdown",
   "metadata": {},
   "source": []
  },
  {
   "cell_type": "markdown",
   "metadata": {},
   "source": [
    "* To select the NFET you will measure, you have to set the input voltage and output current demultiplexer by sending a configuration event :"
   ]
  },
  {
   "cell_type": "code",
   "execution_count": 15,
   "metadata": {},
   "outputs": [
    {
     "name": "stderr",
     "output_type": "stream",
     "text": [
      "\u001b[0;36m[INFO]: 2025-09-30 14:59:02,859 - NE1 - Opened CoACH at /dev/cu.usbmodem76183401 with firmware version (1, 12, 5) (File \"/Users/mariusfauteux/Documents/NE1-CoACH-LABS/ne1.py\", line 175, in open)\u001b[0m\n"
     ]
    }
   ],
   "source": [
    "# configure muxes to measure NFET\n",
    "p.setup_nfet()"
   ]
  },
  {
   "cell_type": "markdown",
   "metadata": {},
   "source": [
    "**Make sure the chip receives the event by a blink of LED1, if it's not the case, the chip is dead and you must replug it.**"
   ]
  },
  {
   "cell_type": "markdown",
   "metadata": {},
   "source": [
    "Hint: To cancel out the leakage current and shunt resistance (recall lab1), you may want to do a subtraction\n",
    "\n",
    "$I_{ds} = I_{GO20} - I_{GO20}|_{V_g = 0}$ "
   ]
  },
  {
   "cell_type": "markdown",
   "metadata": {},
   "source": [
    "What will be the fixed value for source, bulk (substrate or well), and drain voltages? \n",
    "  \n",
    "* <font color=#108ee9>We give you some values that don't make sense. **Correct the values below and set them to put the NFET in subthreshold current mode in saturation**.</font>"
   ]
  },
  {
   "cell_type": "code",
   "execution_count": 16,
   "metadata": {},
   "outputs": [
    {
     "name": "stdout",
     "output_type": "stream",
     "text": [
      "The source voltage is set to 0.000 V\n"
     ]
    }
   ],
   "source": [
    "# set source voltage\n",
    "vs_n = 0\n",
    "v=p.set_nfet_vs(vs_n)       \n",
    "print(f\"The source voltage is set to {v:.3f} V\")"
   ]
  },
  {
   "cell_type": "code",
   "execution_count": 17,
   "metadata": {},
   "outputs": [
    {
     "name": "stdout",
     "output_type": "stream",
     "text": [
      "The drain voltage is set to 0.399 V\n"
     ]
    }
   ],
   "source": [
    "# set drain voltage\n",
    "vd_n = 0.4 # Greater then 4*UT\n",
    "v=p.set_nfet_vd(vd_n)       \n",
    "print(f\"The drain voltage is set to {v:.3f} V\")"
   ]
  },
  {
   "cell_type": "code",
   "execution_count": 18,
   "metadata": {},
   "outputs": [
    {
     "name": "stdout",
     "output_type": "stream",
     "text": [
      "The trial gate voltage is set to 1.198 V\n"
     ]
    }
   ],
   "source": [
    "# set trial gate voltage\n",
    "vg_n = 1.2\n",
    "v=p.set_nfet_vg(vg_n)       \n",
    "print(f\"The trial gate voltage is set to {v:.3f} V\")"
   ]
  },
  {
   "cell_type": "code",
   "execution_count": 19,
   "metadata": {},
   "outputs": [
    {
     "name": "stdout",
     "output_type": "stream",
     "text": [
      "Ids is 980.47nA\n"
     ]
    }
   ],
   "source": [
    "# read Ids, from *Source* --> NOTE THAT THE ADC CHANNEL PIN CHANGES THE NAME FOR THE SOURCE\n",
    "ids_n = p.measure_nfet_id()\n",
    "print(f\"Ids is {ef(ids_n)}A\") # Note how ef() function formats engineering format; only a few digits of precision are relevant, right?"
   ]
  },
  {
   "cell_type": "markdown",
   "metadata": {},
   "source": [
    "#### Data acquisition for $I_{ds}$ vs $V_{gs}$ for NFET"
   ]
  },
  {
   "cell_type": "markdown",
   "metadata": {},
   "source": [
    "* <font color=#108ee9>Sweep the gate voltage over relevant exponential range of current and plot the data you collect on log scale for current, as you did in lab1.</font> \n",
    "\n",
    "Here is some code updated from lab1.\n",
    "\n",
    "Note how we measure both source $I_s$ and drain $I_d$ currents to see which looks better for analysis."
   ]
  },
  {
   "cell_type": "code",
   "execution_count": 82,
   "metadata": {},
   "outputs": [
    {
     "name": "stdout",
     "output_type": "stream",
     "text": [
      "The source voltage is set to 0.000V\n",
      "The drain voltage is set to 0.400V\n",
      "The starting gate voltage is set to 0.000V\n",
      "With Vg=0, the offset current I0n=20.75nA\n",
      "Vg=   0.399V idn_meas=24.90nA\n",
      "Vg=   0.413V idn_meas=38.82nA\n",
      "Vg=   0.429V idn_meas=26.86nA\n",
      "Vg=   0.445V idn_meas=54.44nA\n",
      "Vg=   0.459V idn_meas=83.74nA\n",
      "Vg=   0.475V idn_meas=133.30nA\n",
      "Vg=   0.489V idn_meas=146.24nA\n",
      "Vg=   0.505V idn_meas=185.55nA\n",
      "Vg=   0.519V idn_meas=230.96nA\n",
      "Vg=   0.535V idn_meas=307.86nA\n",
      "Vg=   0.551V idn_meas=358.89nA\n",
      "Vg=   0.565V idn_meas=471.92nA\n",
      "Vg=   0.581V idn_meas=556.15nA\n",
      "Vg=   0.595V idn_meas=639.89nA\n",
      "Vg=   0.611V idn_meas=760.50nA\n",
      "Vg=   0.625V idn_meas=847.90nA\n",
      "Vg=   0.640V idn_meas=981.45nA\n",
      "Vg=   0.655V idn_meas=989.01nA\n",
      "Vg=   0.670V idn_meas=987.79nA\n",
      "Vg=   0.686V idn_meas=990.48nA\n"
     ]
    },
    {
     "name": "stderr",
     "output_type": "stream",
     "text": [
      "\u001b[0;36m[INFO]: 2025-09-30 15:15:37,571 - NE1 - closing device (deleting pyplane.Plane() object (File \"/Users/mariusfauteux/Documents/NE1-CoACH-LABS/ne1.py\", line 250, in close)\u001b[0m\n"
     ]
    },
    {
     "data": {
      "image/png": "iVBORw0KGgoAAAANSUhEUgAAAowAAAHWCAYAAAD9ztjaAAAAOXRFWHRTb2Z0d2FyZQBNYXRwbG90bGliIHZlcnNpb24zLjkuNCwgaHR0cHM6Ly9tYXRwbG90bGliLm9yZy8ekN5oAAAACXBIWXMAAA9hAAAPYQGoP6dpAACTUElEQVR4nO3dB3xT5foH8F+S7g20lL3KRoYM2cgGERUVxYnguOrFcd17e914/15FvS5QceEWAUVkL2XvPVvKKtA90+T/ed7Tk6ZtkiZt07Tp7/v5pElPTk5O3pycPHnH8xqsVqsVREREREROGJ3dQUREREQkGDASERERkUsMGImIiIjIJQaMREREROQSA0YiIiIicokBIxERERG5xICRiIiIiFxiwEhERERELjFgJCIiIiKXGDASEVGVOXz4MAwGg7pQ1Xn22WdVmU6ZMqVCj2/VqpV6/NKlS1GbyP7Kfsv+k2/VyIBx6NChthPOHXfc4XS9EydO2NaTk5S9WbNm2e5zdfm///u/Eo9z5zFykX20/xB7evHk4C8oKMAHH3yAUaNGoWHDhggKCkK9evXQvn17XHTRRfj3v/+NDRs2eFzORJ6Qz5gc76U/M1Q+lp3mp59+UuVQ24KWmk7KVC6pqanV9pyffvqp+i4LDQ11+3kfffRR9Rj57vInCxYswNixYxEbG6vKo0OHDnjkkUeq9P1ITExEVFSU05hn6tSpanm/fv3c3qasK4+57bbb3Fo/ADXcxx9/jAcffBBt27at0OODg4PRu3dvp/c3bdrU4fLzzjsP0dHRTh/XtWtXdd2iRQsMHDiwzP1Hjx5Vb7Cz52/cuLFb+3/q1Cl1IG7atEn9L/vUsWNHFTTK9n/77Td1WbJkCRYtWuTWNokqQk5Qzz33HFq2bIl//etfvt6dWoVlVxwwSqAh9B/d5B4JRiQQcfTdIceWkNrHmJiYatmfiRMn4u6770ZGRga+/vprl5U7orCwEJ9//rktuPEXzzzzDJ5//nl1u0mTJuozvmvXLrz22muqXFatWoVmzZpV+nkkqJOydkbKVCrK/vrrL+zevVvFCa7IPsq64uabb3ZvJ6w10IUXXmiVXTOZTOp60qRJDtc7fvy4ul8uhw4dKnHfzJkz1fKWLVt69Nz69pYsWVKp1/DMM89U6PlLu+SSS9R24uPjrT/88IPVbDaXuH///v3WV1991fqPf/yjUs9DVB75TFTFMV0X1aWyk3Oxfh4t7aabblLL5fxIVcfZ96A9Ofaq4rvN3i233KK22bdv33LXnTdvnu17/dixY37x2ZlX9Jrk8vbbb1stFotafubMGeuIESPU8gEDBlT6eT755BO1rcsvv9zle922bVt13yOPPFLuNh966CG1bqdOndzejxrZJK27/vrrYTKZMGfOHGzcuBF1jTS5//rrr+r222+/jcsvv1yVh72EhAQ8/PDD+N///uejvSQiorpIr5mSmiqpsXJl5syZ6nrMmDGqJs4fPP300+r6uuuuw1133WXrt1u/fn1VuxgZGYnVq1erVsCKOn78OO6//37Vje2FF15wua5ecys1uVKjW9W1vTU6YOzUqRMmT54sP1Px2GOPoa45dOiQeu32TeCeysrKwiuvvKKaxaX/Q1hYmKqqlgNQDkRXfUiletvTTu32j5Xt//Of/0Tr1q1V03zpJqj9+/erJg15nyMiItSHS/btlltuwfLlyx0+t/xwuOmmm9SHJyQkRDW/DBkyRD2fxWKpUBlJGUtT2WWXXaZOZLKv8fHxqn+HfEDty8mdDv3OOqeXfuzvv/+u+qDGxcXBaDTaytvTMpT7pU+QvLdShn369FF95fLy8srsW+l9WLlyJS6++GI0aNBA9b3p1q0b3nnnHdtxp5PnHTZsmLp95MiRMn1yy+uTlp2dbet/IydQZ/bs2aPWCQgIUD+YdOnp6arpp0ePHupYkS4Z0jQnx/UDDzygysFT0oVD+gVLNw8pt759+9qaS50NEMjMzMTs2bNx7bXXquNWHivl1q5dO/U+yGe2NE/LLicnR71/0tVF+irL+y7v/+233+5w+67IZ0me4x//+IfL9fr376/We+ONN8rcJ192l156qfpMSLk3atQIEyZMwOLFi93eD/2408tXmlCd9emuSBlX9n2t6OfJlcGDB6vn+vbbb8vcd+WVV9qO87S0tDJ91uV55f4DBw64PK/oy3RynNiXq9zviHSZkmNDumTJ8SXlIp8j+Zx5YsCAAbamT2ffF+LMmTP45ZdfnDZ/ymuWJtwuXbqo87oca9LkvW3bNpfP743zgrsOHjxoGztw5513OuxCIK9BSPBYUbJt6QsplULh4eEu15XvRqlUSk5OxsKFC132uZTzqxx/EmO5zVqDm6Rffvll69GjR63BwcHq/8WLF9epJunt27fb9ufDDz/0+PFS7d+5c2f1eIPBoKqezz//fGtgYKBa1qBBA+vatWudlr+UoadNTvpjn3jiCWtsbKxqfujatau1R48e1lGjRtnWk20HBQWpdQMCAtQ63bt3t0ZFRallsp3SXnvtNfU65P7IyEi1frNmzWz7MmHChDJN9uXJzs62XnbZZbZtSJn07t3bmpCQYCsn+3Jw9dpLv/fS/Oas3P7zn/+o63r16ln79OljbdWqle153C3D2bNn2z4boaGh1vPOO8/apk0bq9FoVMv69+9vTU9Pd7oP8nyybv369dVrjouLs933wAMPlHjcXXfdpbYv98lzDhw4sMRl48aN5Zb1lClT1ONvv/12p+s8/vjjap2LLrrItkxegxy7+nEszS5SZvLZ0t8jTz8fM2bMsL3WmJgYtb0mTZrYXruz5ru5c+fajtmmTZtae/XqZe3YsaMqf1keHR1t/euvvypcdkeOHLF9ZuW9adGihTrOw8LCbMe9J+empUuX2l5jTk6Ow3X27t1raypMTk4ucd+9995rK6eGDRuqcpJjUl/25JNPltmeo8+InKvltco2ZHnz5s1LlMHEiRMrVcaVfV8r+nly5amnnlKPu+OOO0osLywsVJ85fT9/+umnEvevXLlSLZf3vrzzyscff6zKT9+WfI7ty1Xu1+mv/a233lJlI6+1Z8+e6tyjn1f79etnLSgosHpCukTJYxs3buz0/Pvf//5XrSPHTn5+fon7cnNzrSNHjrS9htatW6v3PCQkRL0PEgc4+i71xnnBE59//rl6DvkeK/2adLNmzVLrtGvXrkLP8eWXX6rH33DDDWU+W866H8i5U+6/6qqrnG73iiuuUOtceumlHu1PjQ8Yxf3336/+v+CCC+pUwCj9IeSEJdsJDw9X29y6das64bhj6NChtoN127ZttuUnTpywDh8+XN0nJ+TU1NQqDxjly0dOAvZfQBKciUWLFtlOwtOmTbOePXu2xDYkiJUTv72vv/7a9iXw6aefliiDv//+29Z34/nnn7d6Qu9TJdv99ttvS2xX9vezzz6zrlixwq3X7knAKCe0N954o8QJVi8fd8pQvlTkC1VOVv/3f/9nzcvLs62zZ88edeKUbdx8881O90G+MCRwtd+Hl156yXYClv6xVdmXSH7w6UGyfEk4Ot71LzV5v3V6cC1Bc+nPuQRBc+bMsa5evdrt/diyZYsqO9mm9OOxLzs5wct9+hdO6fPA7t27rd999501IyOjzJeXHiDIl5jel8mTspP9kOBQ1pMfMYcPH7bdJ+Ul/ZL0L13pI+UO2Q8JCORx33zzjcN19P0eO3aswy87OQ7fe+8922dDjpfp06fbggz53FRlH8aKlnFl3teKfp5c0d/z9u3bl1i+YcMGtVz/sXvPPfeUuF/OYbJcfmC5c14R5QURQv9sSRnceOONJc77ck7Wf5RIfzlPyPewXu7Sp88RqaiQ+//1r3+VuU9+dOg/hn7//XfbcvleGD9+vO09K/3Zqch5QX6clf7B5u5l/vz5JbalH4uugkH57tA/Q54G4qdOnVKfdbmcPn3a7YBRPo/6+b30d6uQbellWvrHil8EjCkpKbaaJzmReBIwurrISbm08h6jX+RgrY5BL3Iik2DG/rkjIiKsgwYNUidF+2DG3vLly23rS0BVmhxIeplK4FLVAaPUVpUORHXyq1bWmTx5sltlIB80/WQnA38cWb9+vfoCk7KyP9m7Il8w+uv4888/3XpMVQWMt912m9PHu1OGeq3Cm2++6fB+qZmXHxmlO5jb74N0WHdETsB6TURVBozyBS+1Jo6CDPvtSw2SfW2Y1EjKcvkirwpy3Mn2pFO6I3pgVpEfjvr7Urrm3p2yk9oQvZbIWY2FPghOanXcpX8hX3zxxQ7fE6nRkfulNsOe1LLL8n/+858Otyu1HnK/1MRV56AXZ2Vcmfe1op8nVyTI12tFk5KSbMtff/112yAJCVBLl5/+Q19+rHojYJTaWkfH1913320bWOEp/bh0VKu1efNm2/5JhYe9zMxM2/eQo8+3/GiQH5iOPjsVOS/on8OKXGaW+j6Uyo7yBvzs2LHD9nh3f+Tprr76avU4qfnWuRMwyvef3gpQuuJFSHnpA2k9DWJrdB9GnfSveuihh9TtJ5980mVnztKkf4b0BXJ06dy5s9PHSVodZ4+Ti7N0PFVNnmvHjh2qP4b+nNLHR/qevf7666qfjPQjse/rIubNm6euBw0apPrglCZ9o6QPi/26VUn6bjhKSyR9mfQBTE888YRb25IO1dL3S/pOycAfR3r16qXSGUhfD3dzUv7www+2/lvDhw9Hdbr11lsrXIbHjh1TqRqk/4mz7TRv3ly97/JZWbZsmcN1pk2b5nC5lIeo6v4/0qfqhhtuULc/++yzMvfrnbCvvvpq1Y9JJ++rmDt3rjr2K0vvgO6s7Mrr7ydl+vPPP6v+t9L/U/rQyudMLvv27VPr6GmwPPHNN9+oa/lcBgYGOlxH+r6JP//80+3t6n2UpM+spOmyJ+cR6RMo/UulX6JO0nLo5xTp7+yIfk7evn276hNXlSpSxhV9X6vq8+Tou0fOzaXfL/32+PHjVf9KKT/9fcnNzcWaNWvUbW+dk6QcHB1flfnc6/0SpZ/i2bNnHQ52kX6Fpfviy/En/RClj6qjspd+ic7ek4qcF6Q/cVFFmceXKaX6pEtfYyH9Jp2xP49JP253SZ96GewrKfVk8K8nZH/0x+hlb09fduONN6pj3hM1Pg+j7r777lOd8eVEJp1r9WCnPBJkyEHpKRmVXFPyhMlADOmMLhe9o62c4GQEtZzU5QQjneq3bNmiAkF98IAe+Dqjf3ilTKuadF52RO/ELD8C3E3eKq9L/4DKF4arjtVC8lPqJz9X9H3RT+rVyVn5uLOOXh7SuVkGzTizd+9eW3k44qz8pcO5cJXzq6IkeHnppZfUl/vp06fVgB/9vf3uu+9s65T+MnrzzTfVF610aJcBDfoPN/kSL505wBX5QaF/OUtHeUfatGmjAihHAwBkEJIEMOUFhPqx6An9fX333XfVoA9n++/qPXVEBovIAK61a9fiyy+/LJEHUg/cr7rqKvWlrdPPH7JMMjE4Ij+4pewliJJziOSkrQoVKePKvK9V9XlyRII+OW5lgJAc1zK4Q76PZHCKDDSR+1esWKHuv+aaa9R5XQbXyGfTW5US3vjcy/slk0rIe/DVV1/ZfozK6/3iiy+cjsbVv3ukLJwN6HB2HqzK80JFhBZ9XvLz852uIz8AdDKIyh3nzp1TA12kPN5///0K7ZuU9VtvvYX169erCie9DOUzpR/vFcmFWStqGIUU3lNPPaVuy8gv+zeiLpGTnpzcZdSenNRllhf9JGafWkf/0EvA7IyeANYbgYGzD79+svYkuax8gISMJpQTqrOL/jrc/SVXkX2pKuWNdnO1jl4e8sXiqjwkIHNVHs62LyO2RemR0lVBEg9LrYp8kcgXi05qk+T9kOCk9I8C+SL7+++/1QhA2bcff/xRJfOXHwVyDEsAajab3Xp++5oIGYnqjLP75CQrJ135HMr+S823nIv0Wgj51S7k9XlKf1/lh4yz91RO/p7WVggpu9I1u7Lf+ghe/X6d/lnSgwhHpHZCRoLar18VKlLGlXlfq+rz5IheSygTKwg5jmVfR4wYUeJ+fcS5fu3NFg9vfO6lxlJvPbCv1ZLav5SUFFXTJqlnSnPnOHN2X1WeFyqiXlHljKsfh3ptqwSv8mPFHVJzLyOYX3zxRVstqqe6d++Onj17lnk/9NtyDnbVwlrrA0a9Kl1OIklJSaq2sa6Tg/Dxxx+3HRhSg1D6xGifmqQ0PV1M6ZOonqbB2YlDUvVUlP6h8WTKJGmWENIsVZGmg6rcF/sUFt4oH0/KQ2p03CkPZ6k1fEWvQbQPXvTbejBQmtTISMuCnIDlV7P8epZ8bvJlJF0b3O3eoJddeUGOo/vksyTNunrTm9QIyXsgTY+VqVksvW8SNJT3npaeFqw8kyZNUvspgZgedMprkB9hUralg3T9nHDy5Emn25QvYyl/+/Urq6JlXJn31ZufJ2mGlbKRJntp6i0dEErNr9Q86cv1wFJPw1Sb6M3S0gImzez2AYp0JXL0w9yd48zVfZ6eF+T417s2eHpZsGBBmR+/Qt5bZz8Q9W4dEre42/wrr0NIwCsVPvYX++5lcluW3XvvvS7fD2mtkM+q1IRKC4P9fX4dMMqvGD1x5csvv1wmf1VdJU1OpavG9dxY+gfXVZOs5Dpz9AvU2QdVb5qpCMnzp5/03d2O3nQuX3QVzbXoal9c5QV09evcG+XjSXnID6fS/YW8yVXuSU9IECD9bOSLZefOnaocJWeYbL+8nGDyI0n6q95zzz2qWVu6joj33nvPrZoR+dKSpjOhN82UJn36HDVH6/n/JCmvo2YyOSnrJ/uKlJ3+vm7duhXeqA2RPnNCz0mo9xmVMi+9f/r5Q7oKlO4frZP3Tu9PXvoc4kx55VDRMq7M++rNz5MECdLPXEjTqd5/UQ8Y5XMgTahSxnJ+W7dunSqj2hgwyvt1wQUX2AJFCf71fqXOAhT9OJMfQM5qbvUfOFVxXiivlcrV5WSp873e7Um+d+0ra+zp/V3d6SJVmtRoy3PaX/QfaEJuyzJncZDU6ErNrqwjwa78AJPvXfmBIudgvw8YhSRzlepW+WBLok9/JjVV5dVWycGqzwdp3zdF+pQI6S8jJ6HSpFbtk08+KbFu6QBU73xdmnwIK0qq2PW5tSXod4f8upN+nHKwy9ziVUVPniuvs7zE0zppgtObIhyVj/Qx1WtIvEV+rcrJUYLn6dOno7rofXA8bQ4tTYIB/ZiToEV+9UrgIe+z1Bh4Qp/HXWqO3G0WlY7kwtmx9OGHH7p8/RJ0OCoDqSUtPajEk7KTwT5ixowZlS5jR/RgXMrb/svcUZAutSdt27ZVt6WfmCP6sScBlwwKcUd55VCZMq7o++rtz5MeHMrgQgksJLCyb2bV75eaSwmIpd+53re3uj+blaUHhtJvUYJGeT1yzteb4EuTz7zUMsoPE0fvmzTfV+Sc7+y8UJWDXhISEmyte476GkpAp/fLlhp+d23evNnpPtgnrdcn9nCWMF2+p/SBbLKOXtsr33vuNo+XYa2BSqfVKU3yIem5jfw5D6PkTpRE0o899phKAVM675jcL6ky5HkkD1bplAX2eRglCbju5MmTKgG0szyMer48SVPz1Vdf2ZZLqhPZFz2Hk6u0Os5S8ujb1/MwSg6yc+fOlbhfkvKWTgfwxRdflMgdqOcjtE+/ICmXnKWKcWbq1Klqu5JIV1L22JexvF5Jzlo6dZGevkNywdkfd5K3UFKi6OXjKq2OK+6UoSRklvdc3iNJ8F26DGXf5XNy5ZVXerwPztJ3SFoIPfeeHI+V8eOPP9py0UlCcrn90UcfOVz30Ucftb777rsqf6g9ec166onSue5csc/XJ9u2TzEiqUzk/XOUr09SUOjpKuS4sU/9I2mCJI+dJBt2lDbGnbKTNCx6SiNJ8+JoPfkcS5qcX375xeopeZ16cnY9DYqk53LGPg/j+++/b/tsSD5GSc1RkTyMkrZGTxDtKP1VZcq4ou9rZT5P7pDcf/r5VD/nlT7f2d8vydIdcZVWp1u3bg5TYXkyl3RVzNmclpZmSyWkX5eXQklP1i/ptP744w/bcnkPJPWdszyMVX1eqIi5RUnmXc0lLce6I/IZl9dUXoo+e+6k1bG3cOFCta6kb9LjpcrENrUyYBRDhgwpkSOpqgNGyY1VXiLP6pzpRS6Sr0pODJIFX7Lq68sliJKTe3kzvcht+5leJEhyNNOLfSZ4PaiUQEgSq8rJ+oMPPqhUwCgkOay+H3Itr0uSFstJw9lML/IlpX8hyH7I+pIDS/LF6QGop+Utgadku9dfjwTokqRXEoE7mulFyLEm6+n7LseKlK2UsQQ/eqJ5bwaMQhIxS244/QdDly5d1MmpQ4cOToP6ygSMQhLp6icgOZZkX+WyadMmqyfky1wvQ/3LRb5sHLGfiUfyOEoCf3mt+qwcUgbLli3z6Pnfeecd2zb12XbkOJf/5f3Tv1wln6k9mTlDf5wcq/JZ1B83ZswYW25CR1+S7pSd5PvTkxzrM6LIMS7HlX0+1vKODWf0XHv6RT7LrtjP9CJ526Sc7GcEkuCqNFfHmLw+PUG0bGfAgAGqDCZNmlQlZVzR97Winyd3SBDhamYXSYSun/fk8vPPP3v8uZRcuvrjJc+ifD9KudofJ9URMAr9/dG/d+wT0DsiwfiwYcNsj5HJKuT7Rs4JrmZ68cZ5oSIeLwp45SKzCkmeYT1Yls+vzN7kiP5+eJKT1NOAUX7c6blv5SLflaUrnupEwCgZ3L0ZMLpzqY7E3RI0yq9yqUmUBLsSKMkvBf1kKMloDx486PTxkhhVZu+Qg1gSfsvj5VeXZNx3lYBWfv2/8MILal35gpNf/RJEyq94dxJ3u/OFJjM6SPJVOYhlvyQgllq7W2+91WlC8l27dqmEqbKenBDkxC5fZFKbKsmMZZozT8kHSGYFkCmVZOoy+XKQbcqXxYsvvqgSxJcmz3PNNdeocpHykQBTThxZWVluJe52xZMyTExMtD788MMqeJaAXo4NCcTki1j2o3QgV9mAURK+y1R3clLXp3Z09SXkimxHf7yUpTOSlF1q1aQ2TGok5XnlhCxfjLINd06czn59Sy2AlJscS/IlpU+lpgezknTYUe2oTBMn+yCPk7KXZMxSO+YqMbW7ZSefPdmP0aNHq6BKjnF5Hnm9MtOIBBTOpvkrj5Sl/rzymXOWGN6e1KxJsKvvi3xG5MtaZgdxpLxjTCYjkM+afHac/dCraBlX5n2tyOfJXfoPcNle6dpLof9olfudvSeuPpcSGEjQaD+NZOkyqq6AUW+hcpVEvTQ55uX7Xo5xCfjkWJMyk1YzZ/vlrfNCRfz666+q1U5+GMj+y/fBgw8+6HCmleoMGMXTTz9te4x8p1eGQf5UrDGbiMj/SGdzGUAh/Vsl5Yqj5OlU+/B9JaqcWjfohYjImz766CPbKHoGFf6D7ytR5TBgJKI6R0YKS6oJ+2lG5fYHH3yA5557Tv0v09JR7cL3lch7as3UgEREVUXmM5cUKpK0WdJISR43yZ+p5+mTHGYVTW5LvsP3lch7GDASUZ0jOQ8lF6nkKZV8ZpLvTZI/jx49Wk1NJ3nTqipROVUfvq9E3sNBL0RERETkEvswEhEREZFLbJKuJjLtVHJyspoGiU0iREREtYM0xGZkZKgpao3GulvPxoCxmkiw6O58q0RERFSzJCYmolmzZqirGDBWE6lZ1A+4Ck/87URBQQEWLlyoOnYHBgZW6bb9DcvKMywv97Gs3Mey8gzLy7dlJaPsmzdvbvser6sYMFYTvRlagkVvBIxhYWFquzyZuMay8gzLy30sK/exrDzD8qoZZWWo493J6m5jPBERERG5hQEjEREREbnEgJGIiIiIXGLASEREREQuMWAkIiIiIpcYMLrp6NGjap7SevXqITw8HH369MGxY8d8vVtEREREXse0Om44c+YMBg0ahLFjx2LRokVqMvudO3ciODjY6+kBCgsL3VovICAAubm5bq1fl5hMJqahICIiqiQGjG549dVX0bp1a3zwwQe2ZQkJCV57PkkSmpKSgry8PLenLWrUqJFKCl7X80Q5IoF9bGxslee/JCIiqitqbMA4e/ZsrFixAhs2bMC2bduQn5+PmTNnYsqUKU4fs27dOjzzzDNYvXq1qnXr2rUr7r//ftWUXBlz585VtYtXXnml2qeWLVvisccewxVXXAFvBIvS1B0REaGCHKkdKy8IlHmqMzMz1WPq8jyXjgJpOQ7S0tJs3QdCQ0N9vVtERES1To0NGJ988kkcOXJEBU2NGzdWt11ZsmQJxowZg5CQEFxzzTVqCp/vv/8ekyZNUjVvDzzwQIX35dChQ3jvvfdUkCj79eeff+Kqq65SzzlkyBBUJalZlMBP5qt0t7ZQAkYJqOW1M2AsSQJEORaSkpJU2XI+byIiIs/V2Ojio48+wuHDh3H69GnccccdLtc1m8247bbbVLC0fPly1XQ8ffp0bNmyBe3bt8fjjz9eJuB89NFHVUDm6mIfkMkgF6m9PP/88/Hggw9i/PjxJZqoq4LUhkkzdHR0NJuWq5CUpZSplK0cK0REROQnNYwjR450e93FixfjwIEDmDp1Knr06GFbLkGCBIvSjP3pp5/i6aeftt0nNY6umrftSf/ADh06lFjWqVMn1fRdlfQBKxykUfX0MuWgICIiIj8KGD2xdOlSdT169Ogy90kztVi2bFmJ5XFxcerijgEDBmD//v0llu3du1f1ZfQG1i56r0ylXyMRUW2RW1AIa6HF+QqFBUB+FmDOAwxGIDxWTnjF98s5z8PvFDlPWqyAyViF30WyH7KPAPIKCxEUFAqD0aieq7LfebKNPLNFlVV4IL8/vcUvAsZ9+/ap63bt2jmsHZQ+gfo6FXHfffdh4MCBqpn7sssuU6l1ZCBM6SDUnjR/2o9ylsEserOzXByR5eqDarGoi7v0IEh/LJUl5SLlozdJO3sPqCS9nFhe5WNZua8ulZUefFkkMJIvXVPJnmD7TmaiWb1QhAaZSiw/mZ6Lt5ccwHcbkyFxW8NgE349twmFBblonLEdHSz7MMS8Bq1yd5V4XIo1GrsNbRAaHIj2phOIyDkGa3hDZEe3RYqpIdIys5CdnY2MAgNOF4Yh3JKJhGbx6BKWDuvZg8jLOIPAgnRkW0NwJrgZzFEtYA0IQaHVABTkICw7CTH5JxBszYHJYkaQwYyvgq5EcEQ9tDMmo5HlJKLyjsMME1IRjdTCIEQVnEbDwpMIRr7aR0lIl41gJFsaINnaAOlB8UB0M1iCIpCemYXM7FxkB9VHYXQrxEWHoU/eX2iTshjBOadQaAwqugQjtcCEtAIT8hBou/R+4OcqP7bqwnHqDoO1FlS5vPLKK2rAibNR0lKz+Mcff6igsG3btmXub9q0qRpFLKNlK+rHH3/EE088oQbASL/I5557DhMmTHC6/rPPPqvWKe3LL79EWFiYw8dILkUJcGVgRlBQUIX3lcqSQUEy+OnEiRPsx0hE1WJ/GvD5fhNS87VaL5PBip6xVoxuaoHBasH+/TvRI+9vbLEm4MrIXeictxknjfHYa2iD/XmRiLOeQ7zhHAywIg9BiEAOzjfuQ4ihbABjkYBOBiYYavxXuld923UWggKqdniGBNjXXXediiHqcno2v6hhrA6XX365urhLAlxJ6WNfwyiBoAS3zg44SbwtQY3UiMqIZ3dJzJ+RkaFGA7M5G07LVkZMS/cCGRg1atQo9hV185e1/BhjeZWPZVU3yyo9PQ1hYeHIMVvxx65T6NgoEp0CjmP9hr/x0p5QpBZq5/smSEF3wwE0P3sKIakpGGbchGaGFPUtfA2WArna9loXHkJrHMKYkhWOJeQGx+JM/Z5IDG6Lg8YWyGk6EO2axqF1tAmG0zthPb4FB05l4qdjkVifFoWGOIfzgk+gQ1gm6kdFIq5eFGJDgOCU7cg9th2bClpgq6U19libIyAiFtcM6oKESDOOHtiBzJOHEGA1w2SwwBgQDMS0QGBsKyAkBg2Or8D5219EVnhznAjviP2Gltid1wBbM6MRHWJC93r5aBNZiICYpjDVb4mQ6IaICg1CRKARKaeO4dSxg8g7k4hWAWeRfy4RpoJshISGITwkGIaskwhMPQRTQTq2Bp2PeeYLsANtEBsKxAZbEYICBCAPwSjAtec3RHRgIYKQj4s7j6nyY0tvIazr/CJglMEtwlkNorzZMqVfdSeLdjQTjBzAzg5iGZAhAZ+M9vYkPY7eDK0/1h/06tULGzduVIOZ2rRpU+ntSblI+UgtbnnvA5XF8nIfy6rulNXyzbtw/o/DkGqKwX9C78acMy1xi2k+ugR+hQGwYE2AAUkRbdE0OBem9ESX2zoYeh4WNrwFDQOz0TpvDxoGm9GkRQIMkY1htgLbN63Ded16IKDVAITEtkNTgwFNAfQrvaHGDYFuQyEJxC60WnEwJQvRoYFoEB7ktEIhLs+MmENn0CffgpGdGyI4QItWO54/sJwS6Adc+SDCDQbIVBZy0UYNlC82vjE6du3t1roDii6eNB9X5bFVm4/RquQXAaPed1GapCXQsCdNkNIcfcEFF/ho76gizcfbt29XQX5VBItERFUqaT2ObluBj1fk4NOgHERacvBa1uO4OaQlOkJL4ZZoiUNz42m0yNsHSHd2gwlo3A1o0BYpAfFIi+qAhP6XAWtmAHEd0abL5bjDSUBnLSjAkcQIdOkxTqIXt3dTAsSEuIhy14sIDsDwjvEeFECJJ6nY46jW8YuA8cILL8TLL7+MhQsXqqTd9n7//XfbOlQ76DP7DB482Ne7QkR1XHa+GUEmY/FgleyzKPzscrTIT8cnRSNyZUCI9E+UYNFqDMSh3k/iRLvr0bxRIXB4JRAaAzTvCwRHqvVjiy7KsMd99MqI6mDAOGLECFUTJQNK7rnnHlsuRmmifumll9QAksmTJ/t6N8lN0hQtStcWExFVp21Jabj+o7UIDjThnuFtcXnPZtj7xdPomZ+OAqsJgQYtr+tJY0MEXTEDsQd/hqH3VLRp2gu2tpGuE335Eoj8P2CUmV5Wrlxpq3HSl+k5FwcNGoRbb71V3ZZ+aXKf5FyUqfrspwaUGV7eeOMNtGrVyievY8aMGerChNHuk/nDBQNGIvI2i8UKo4N8g8mJB/D5rC9xq3k/duS3wlM/5+LDX5fjj4CvIflx3mzwLO4aloCgTZ8gPmEYTF1HAXIh8lM1NmCUYFFmZ7G3atUqddHpAaMYNmyYeoxM3/fNN9+ojq9du3bFq6++quaT9pVp06apiwy80QfnkGusYSSi6pBvtmDM/y1HcIARb1zVHec1jQZO7oT51wfQJHE1XrP7lpxvGAKzuQDBhgKcjr0AD//zLpV4Gl0v9vGrIKrjAeOsWbPUxRMysGXBggXwR5I6J6eg0Oko6Zz8QgTkm30+Sjo00FSp1D6SI3Hr1q0quC5vwIvMHy7lIrXLRETu2nU8HWsPnkHPFvVwKCVLJZR+9r1P8XiLXeiR/A0CUAiz1YgDxpZo0a4rQvfNwzjrcqAo1U3chFck9YKvXwZRtaqxASOVJMFi56e1ATw12c7nxyAsqOKH1Y4dO9QMOZIvsbzAc8uWLbjxxhsr/FxEVDdqEQOMknJMO5+sO3wWUz75G1n5hQg0WvFh4JsYatys9UdM1h6zoLAP3gm6Ba/fcjFCm0QBR9YA398CpB8DOl8GNGPrB9U9DBipVvZflFpVCS67d+9eTXtGRLXF2ax8zFx1SNUibklMQ2RIAKYMaIUuTaNw95ebkJefh5Eh+zHCvAKjTNo5JzeoPjYVtsam+IloO/AK/NAhzpaPEC37A3esBPb9AXQa79sXR+QjDBhrCWnqldo7Z8FTRnoGIqMia0STtDcCxtWrV6s5vaVWsU+fPmraRZmuqVu3bpV6PiLyL9JNZeqsddiSmGpbdiYrH9P/2KtuRyETv0VOR9uCPbZvwFxTOEIeO4j+BgP6O9twWH2gu+/6wxP5GgPGWkKaZ5019UrAaA4yqft9HTB6Y8CL9GmUKRWffPJJfPXVV2qk/NVXX42WLVsiJibGh3tLRDXNyv0pKlgMCTTi1ZENMOrAy8jIzcf0rHFYeKYBfop8Da0KDgDB0UDbEUDzCxDS6RImoCYqBwNGL2NaHfdJGUkNosy13bZtW9tyGWU+depUPProo+p/GQwjA13i4uJ8uLdEVBM8+O0WlVz7zQEFCPlhKiLym6K/cTTGdGqMy/6+G8g6jTAAr2ElXo6KhCk/AwiPAyb/AsR39vXuE9UaDBi9jGl13Ldr1y7k5OSgb9++tgEvMpe0pEv65JNPSqwruTfZf5Gobg9m+e+f+/DdhiQEoQBnDj2JpuZknI9kfBW0DtBaoIH4rkDzPsCm2VqwGBEP3DQXiOvg41dAVLswYKQaQ++/2LNnT9uyzZs3qyTs+nzhQnJsylzT9957r0/2k4h8JyO3AIt3n8J7f+5ClzN/YG7Qb+hqPAyYgRRrNOYXXoBrApcjyJoHdL0KuOS/QFAYMOQhYOcvQMdxQEwLX78MolqHASPVGDfddJO62JOaRgkQJT+j1CoKSeh+7tw51jAS1SFJZ7Pw+XffIz9xI9pZj+AT02Y0CTpbYp1nCm7CAms/XHj7f9DScApo2rO4b2JUE6DfHb7ZeSI/wICRarTevXurYPGxxx7DnXfeibVr1+Lhhx9GREQEEhISfL17RORtuek4svhDWP/+CI9JokS7RAyWsFgYs1PU7eMxvTDvRF9M7NUMLZs3ByAXIqoqDBipRmvRogXef/99PP3003j33XcxcOBAXH/99Vi/fn2lZpQhoprlTGYeXpy3C/3bNMDVfYqCvdx0ZPx3AFpmJ6p/sxGKwhYDEdmyO9C4O4xtRwH/PR/IPIHGkz/GSkM84qNCfPtCiPwUA0aq8W655RZ1ISL/9fQvOzBv63H8uOkY0nMLcMug1tj22QPolp2IE9Z6WNpwMi6dfB8iI+uVfODtywGrBYhqjGa+2nmiOoABIxER+dTvO05g67bNeCxgEbZYEvDiPCsSty7FM6e+BQzA0s4v4OqrbrBN71dCZLwvdpmozmHA6GXMw0hEVNLK/Wfw9g4TwtuexgXxVqR9fz8WB/2hzecMYHlhVzQ6eRZGoxV7G1+KayZxzngiX6vd04LUApKDcefOnVi3bp2vd4WIqEakxXno+23Yn27AXV+sR9Db3XG15TcVLFqa9oHVFIwhpm1obzym5nduf+Nbvt5lImINIxERVYv8bGDxCzi6dz8ezctFZGA2+ht3IMRQoO7e3f91dBzzD+DMAWDeA7AeWYWQy/+rzeFMRD7HgJGIiCqtoNCCp37ajiYxofjHkDYICbTLfyMWPgms/xhdAHSxu+u0NRrfFQ7Blf2Lmp0bJACTf4LBnA8EBFXviyAipxgwEhFRpe06no6v12npb2S6vucv64KhHRpqd+5ZoIJF8Zb5CsQ3qIfzwrPQcfTN2JzVAg1yzGgYFVpygwwWiWoUBoxEROSRU+m5+HztEQzv2BDnt9DS3BRarLb7j57NxpSZf6NDfBQmdgjEDZvugISDH5gvxtuWq/DrpAHYs24ZOjTtiVGBgT58JUTkLgaMRETkNgkM7/xiIzYcOYe3F+/HRec1wgOj20MPF5tHAG/U/wk9Tv6IgFQzLH8Z1YCWnZaWeM90HZ4d3wUJceHY4+PXQUSeYcBIRERu+2jFQRUsBgUYYS60YMH2E/hzeyImhazBnuCPEGw2A6dkInhtfRMKkW0Iw+EL38LKQYMRHhyg5ocnotqFASMREbmsUczMNSMqNAB7T2Zi+sK9avmLl52HnrEWbP/5TQw89yPikGYLEhHRCLjkLaBJD8Cch7DQGIwLifbp6yCiymHASEREDlksVtUXccW+FESHBsJkNCC/0IKJba246sR0GH7/Cm3NuSpQLAiuh8C8c0hrOwHRV/yH6XCI/AwDRi/jTC9EVFuCwy//PorYiGCMPa+RWjZz9WEVLIq0nAJEIhtPh8zF1OO/wZCUpz2wcXeg/90I7DIBMAWC9YhE/okBYzXM9CKX9PR0REfzVEpENdO/5+/CxysPqdsPjm6Psec1xmu/7Vb/Pzu+E0YWrkDc6mcRnHcWkN+/rQYDQx8FWg4EDA7meCYiv8KAkWqkXr16YePGjThw4ADatGnj690h8mufrTmsgsVg5MMME95YuBf/W34QeWYLLm9txk2HHoDhwGJt5dj2wKgXgPZjGCgS1SEMGKnGyc/Px/bt21GvXj0Gi0Re9tv243jmlx3oa9iFT8PfQlpEAvqffAgZuWa0DUnFGxkvwHD8OGAKBi58GBhwD5NqE9VBRl/vAFFp27ZtU0Fjz549fb0rRH7tz10ncfdXmzDQsA3fBL+AEHM64lM34aObemNoiyD8FP1/MGUeB2I7AHeuBoY8yGCRqI5iDSPVONIUrTdLE5F3LNlzCo/NXobrsQJPBH8FW+ZtAMO3PYrhwceAU3u1FDk3fA/ENPfl7hKRjzFgpBpnw4YN6poBI1HVy8wz45vF69B8zVNYGbARQYZCLVhsPxY4sR1ITwJ2/KCtHBQBXP8tg0UiYsBINQ9rGImq0NmDwJHVyO14BT79+zjeW7of080vY4Rpk7rbGn8eDD2uBy74h/wHJK0HDi4Fjm8B+k8DGnfz9SsgohqAAWNtYbUCBdmO77NYtPvyTYDRx91SA8MqNXLSbDZj69atKgURB7wQVdKZA7B+PAqG7DNY/us3eDnrdow1rsOIoE2wGAJgnTIPppb9Sj6mZX/tQkRkhwFjbSEB4UtNHN4lIWIMaojHk4Gg8Ao/fMeOHcjLy8OAAQNgYMoOIo/sP5WBjUdSkWsuREHGaYxfNwXxBWfUfaMLl+PfYTG4InAtkAcYB98HlA4WiYicYMBINQr7LxJVTEGhBZe/u1qlw5F8il8EvYR4YxKSrLH42jIKD5q+wvWWX1SwiPptgMEP+HqXiagWYcBYW6YGlKZeqb1zwGKxID0jA1GRkTDWhCbpKg4YpZn6xRdfxOeff45jx46hQYMGuOmmm/DSSy9VeneJaqPcgkK8s3i/GsASHmxCw8gQXNS1kQoWxYz4ueidthd5AZFIGfcl/nleL2B5I2Dlf7QNXPwmEBjq2xdBRLUKA8baMjWgNM86a+qVPoyBhdr9vg4YvTDg5YUXXsC8efMwa9YstGjRAgcPHsTp06d9uJdEvvX5ij2wLP8Pdlg6Yp21o1r23tID6rqnYS9GpGmjnIOv/gQ92vfVHjT8aW3Uc0g0kDDMdztPRLUSA0aqMaQWdsuWLYiKikLbtm1ty//44w9MmDABgwcPVv+3bNnSh3tJVL12JKfh2/VJuGt4W8RGBKPQYgVW/xcPB86BBUb83uxu/DvlQiSl5qqm6NcD/weDjHaWkc/tRxdvSH5MSuJtIqIKqN3VUeRXdu3ahZycHDXDi/2Al4svvhjPPPMMLrnkEtUsnZmZ6dP9JKrOpuc7Zm/ArNWH8eSP29WyZTsSMaFgnrpthAUXJb2FJR1+xJR+TXFfwPdIMB6HVZJtj/m3j/eeiPwJA0aqMfT+i6WnBHziiSfUdIH9+vXDs88+i86dOyMtLc1He0lUfd5degCJZ3PU7d92nMDSPadwaMkniDOkIz2oITDqecBgROCWz/Fszmu4PXC+Wtcw/k0gtJ6P956I/AkDRqoxZCCL1WrF9OnTy9wnQaIEjitWrEBiYiKSkpJ8so9E1eVwShbeX6b1S+zeXEuc9dh3WzAkZY66XdjnTmDgvcA1XwLGQGDPPBisRYPr2rCPIhFVLfZhpBrt1VdfRdOmTdG7d281GlyCyY4dO6oLkb+SH07//mkDEgoPYWzTbNzeqx5uPmdFcNYJtAs6hhxDGOoNvkVbucNFwFWzgG+u9/VuE5EfY8BINVpubq4aJX3kyBE1ynz48OH47bffYDKZfL1rRN6Z0clSiHk/zsb0xEcRFZwDSN7t34AvpVYxUOvbe7r9NWgho511ncYDV3wI/HAbEBwFmAJ99xqIyC8xYKQaTQa7yIXI72WeBr64Us3hPM5qgNFgRW5ANEIatVf5Ta1J62AqyEaBIQjNxt5X9vHdrgZi26k+jQwYiaiqMWAkIvKx9LMnEfX15cCpHep/CRYPxA5Dwp3f2oI/gzkPOLYBgTKYpV4Lxxtqcn517jYR1SEMGImIqklyag7OZeejS5Pi5uQ3f1yFkZumoZvxkG3Z8ahuSLhjTsmawoBgoOWA6t5lIiKFASMRUTXIMxdi4nurkZyWi9cndsNVjU/j2MK3MO3wPAQbC3DGGokfCgfDDBPG3/A2EBDk610mIrJhwEhEVA1+2nRMBYvi1x8+x5VBr6MpLIABSAxuh+dNd+GPs3Hq/gnBIT7eWyKikhgwetmMGTPURaa9I6K6yWKx4n/LD6rbXRoY8FLmR2qWliWF3TG//mT8+66peBvA/5YdRE5BIRpFMWAkopqFAaOXTZs2TV3S09NVWhgiqnsW7TqJg6ezEBkSgB/aL0DwpjM4aonDI8YH8N3kUQgK1NJE3Tuyna93lYjIIQaMNTRpL3mnTO3nqCaqLjOX7UQ8zuLR9pkI3jRTLdvX72XM7DEULRqE+Xr3iIjKxYCxBtGTURcUFCA0NNTXu+NXpEwFE36TN7U+vQimmW8BDRK0nIhpScjevxJfpR8ApJV5b9GKvaZgxLirfLy3RETuY8BYgwQGBiI4OBhpaWmIjIxkbVgV1i5KmUrZBgTwkCfvSTj1G4z5p4DkDbZlev1hIUwwhUYBzfsCo5732T4SEVUEvz1rmNjYWBw7dgxJSUmqz6MEkeUFjjLHcn5+vppGz2g0Vtu+1oZAUWoWJVjMzMxUc1ITVcaB05nYdTwdF53XGCZj2c9lVoEV4QC+NA9HkMGsUuWss3RETIdBeGriIESHM1UOEdVODBhrmKioKHWdkpKiAkd3A6OcnBzVjM1aybKkZlGCRSlbvWmayFP7TmbgivdWIyPXjEu6n8T0q7ojKMCoPn9bk9KwYs1qTLZkqTQ53xQOxRZrW7RqEIZnL+2CoR0a+nr3iYgqhQFjDSSBjR7cuJOOR9Zbvnw5hgwZomokqZj0WWSZUGWdzsjD1FnrVLAo5m5JRkZuAcZ1bYxPVx1Cp1O/4rmAWQg35OEsovDff16B4Kg4NIwMhtFBTSQRUW3DgLEGk0DHnWBHgiKz2YyQkBAGR0RVLDvfjH98vh5J53LQskEY7h/VHo98vxVL95xG7r5leDrgO/QN3K3WPRzcCXE3f4X68c19vdtERFWKASMRkQPS1Dx363G8Mn+XmqElOjQQM6f0QZu4CDSLMCB79vUYjI3auqYgWAY9iC1p7TGufjNf7zoRUZVjwEhE5GDe51s/XY8V+1LQGGfwdPgK9Ll8mgoWRa+T3wLYqAJFQ8/JMAy6H5awhsD8+b7edSIir2DASERUyrfrk1Sw2DrwLH4KexnRecnAko1A++VAYT6wYrpaz3DJW0CP67QHcUAVEfkxBoxERKVqF99dsl/VLP4S8Qoic5K1O87sB35/AgiJAnLTgIadgW6TfL27RETVggEjEdVp6w+fxX1zNqNxdCj6ta6v+ivmpp3CzyH/RmTOCaBea2Doo8CPdwAbZgLGotPmyGcBI2cOIqK6gQEjEdVZWakp2PLFE/gi70+EZuUByUCKNQa3BlnRHCeAmBbAlF+B6GbAye3A6rcBixloMQBoN9rXu09EVG0YMBJRnfHz5mP4bfsJ3DUsAV0OfoyAJW/gFks2YDdBUpwhXV1bgyJguG6OFiyK4U8Bh1cCJ7YDo18AmCSfiOoQBoxEVCf8sDEJ98/Zom4H7P4Fbwf8H4IB7LI0BwY9gE7d+wLv9betb7jyI6Bhp+INBAQDU+YDualAVBNfvAQiIp/hxMNE5PekVvGh77aq2+c1MOAJ06fq9vvmS/Bp19noNHoqEN8ZGa1GqeWWvncCHS4qu6GgMAaLRFQnsYbRy2bMmKEu7kzxR0RVb8ORc7jnq00otFgxsVczvB7xJQx/ncMRayP8EHUjvruki23dyInvASl7YGw50Kf7TERU07CG0cumTZuGnTt3Yt26db7eFaI6J99swaPfb0V+oQVjO8fh1fPPwvD3B+q+xtfNwM//GomoELvpNCPigFaD2D+RiKgU1jASkd/637IDwOndmBX6LS48tgeG2dqAFpw3EUEdRvp694iIag0GjETkN1J3LkHG6o9gajcc+QljkbL0XcwN+hwh1gIgD0BgOJAwDLjoVV/vKhFRrcKAkYhqHavVijtmb0B6jhkzp/ZBSKCWQDtpwXScl7ECSPoVhYsfwHMmq7Z+25EwDHsCaNQNMPG0R0TkKfZhJKJa569DZ/H7jpNYc/AM3l16wLbcbNbmc063hsFksCLfGoCzg5+D4bpvgaY9GSwSEVUQz55EVOvMWZdou/3+sgO4smdTtGwQblu2o+vDiGg7ENGREWiR0NlHe0lE5D8YMBJRrZKeW4D524+r221iw3EwJQvP/rID47s1QYPsfMAABJpM6NrjAl/vKhGR32DASES1ytwtycgrMGN2xDvoFW1C73P/wJI9p9Xlo0ArYAI6N47y9W4SEfkV9mEkIp86m5WPS99ZiZfn71KDWXTPz92Jie+txuu/78bqAykoKLSo5XPWJ2GIcRsGmdci9NgqvNdmrVoeYDQgIS5C3Q4L0gbBEBFR1WANIxH51Lxtx7E1KU1dAk1GPDimA9YdPotPVh1S968/cg4zlhxAbEQwxp4Xjy2JqZgV9Lvt8YNPfIb/G3cl2rVtj9aLPgDO+vDFEBH5KQaMRORTy/eett1+Z8l+xEYEqeZlMbhdrAoUZZ2UzDzMXnsUbQzJGGrcDNVZMa4jDKd3YULKh4C1HXBwibahmBa+ejlERH6JASMR+Yw0M685cEbdHt+tMX7dehzPzt2p/jcZDfj3hK5o0SBMrbdo50l88ddRXJL8OSCt0+3HAhc+DHw4DNj6TfFGhzwMtB7iq5dEROSX2IeRiHxmc2IqMvPMqBcWiLeuOR9DO8TZ7ru0exMVLAppqr6oa2PMvqEjJgWs0Fboe7uWW7HHDcUbvOg1YPgTnAuaiKiKsYaRiHxmRVFz9KB2capG8Vy2lnhb/HNoQtkHbPwMyM8EYjsAbYZqy0a/AASFAW2GAR3HVdu+ExHVJQwYichnlu9LsfVVFBHB2ujmoAAj2sVHllw5eTOw+EXtdr87i2sRw+oD416vzt0mIqpzGDASkU+kZudja1JqiYDxmQvrYbd5Hi6YcEfJlbPOAN/cCJhzgXajgZ43+WKXiYjqLPZhJKJqYy60ILegUN1etf8MLFagXcMINI4OVcvab/8/XHriv2j0fmcgtWj6v7wM4LupQNpRoH4b4IoPASNPXURE1Yk1jETkVeey8nHDx39h/6lM5Jm15Ntdm0bDCi1J95D2RQNdTmwDtnxZ/MBPxgA9JwN/fwBknwECw4FJXwChMT55HUREdRkDRiLyqlmrD2NHcnqJZduOpdluq+Zocx7ww+3agsY9gIIcIGUPsPRlbVn9BGD8m0B852rddyIi0jBgJCKvkebnz9ceUbdfuaIrxnRphPxCC5buOYU/dp5Sg1wGJMQCS54DTu0AwuOA678DjCatGTo9GRh4L9DtGsDE0xURka/wDExEXvPDxmNqruimMaGY2KuZmu8ZZw9iUu82mNSnRXFT9Kq3tNuXvAVEFDVRT/7ZdztOREQlsOc4EXmFxWLFRysPqts3D2qNAJMRWPIS8HZP4K/3i1f8+0NA+jN2uhToeLHvdpiIiJxiwEhEXrFkzykcPJ2FyJAATOrTHEhLKq5JXDFd66eYmwZs+1Zb1rdUKh0iIqox2CTtZTNmzFCXwkItlQiRX7MUAqd2wRLXCTOW7FeLrrugBSKCA4DfXgYK87T1sk4Dm2ZrtwuygbiOQMsBPtxxIiJyhTWMXjZt2jTs3LkT69at8/WuEHnfomeB9wdi7VcvYuPRVIQGmjBlYCvg1G5gc1HKnO7XaddS27juY+1275s5/zMRUQ3GGkYiqpR9JzPw6m+7cfhMNhal/1ct67bvXUmkiGcv7awl5f76BcBqATqO19Lj7F8EpBUl5g4MA7pN8u2LICIilxgwElGFFBRa8P7SA3h78X6VKicY+UCIdt9aSyeM69oIV/duDiT+Dez+FTAYgRFPA4GhQP9/arWR4rwrmYybiKiGY5M0Edlk55vx+ZrDOJWe63K9xLPZmPjeakz/Y68KFod1iMP3FxefTo5YG+Hly7tBNTLrgWGP64C4Dtrt3rcAIUVBYp9bvPZ6iIioarCGkYhs5m5JxlM/78BXfyfil7sG2pYXWqzIyS1Qt/86eBYPfrsFaTkFiA4NxHOXdsFlPZrAsPgF2/qX9WiK6LBAYO9C4MgqwBQMDH2s+IlCooCpC7TBL03Or94XSUREHmPASEQ2Gblmdb3zeDo+XnkINw9ogeRsYOR/ViAptWStY/fmMXj3+p4qKbdyaIXtvtiIYEnECPz5nLag7z+A6GYln4zT/BER1RoMGInIof8s2ovWDUIxY6cJmQXFwaLM1nJDv5Z4fFwnBAUUNUPnZQDHNpTcwPbvgJPbgeBoYND91bz3RERUlRgwEpFDuQUW/GP2JgAGdGoUic9v7YvIQAtMu35BQNMAiRyLVz66FrDa5RrdNRdYJzO4ABh0LxBWv/pfABERVRkGjERUxvktYrAzOR15ZguahFnx6dReWjPz8jcAva9ii/5Ar6lA14nAoWUlN5B2VLtuOxLoe2f1vwAiIqpSDBiJqIyW9cNw9/C2+HPnSXS2HEK9sCDtDkmPozu6Rrus/i+Qn1kcIEqOxWZ9gOFPAW0u9M0LICKiKsWAkYgcGt4xHoMT6mP+/EPagsxTQLI0UQP4xzJg3x/Amne0foq6y2YAxkCtCZoztxAR+Q0GjETk2NG1MO5fAqOlnfa/1ByKxj2AJkUXyaG49BVg3UdAq4FAZCOf7jIREXkHA0YiKstqBX64DabUo2jd5BqpOgT2LdTuaze6eD2pSRz3GjDiKa1mkYiI/BIDRiIqo3nuHiBVG7jS9tR8LW3O/sXane1GlX1AcGQ17yEREVUnBoxEdUhqdj5eWbAb7eIjcXXvZogMKVkrGFSQjn8FfIehZ1Nsy0LM6bDMvRvISwNC6wFNe/lgz4mIyJcYMBLVITJ7y9frEtXt//yxF5P6NMetg1ujcbQ2W0v/va+hXcA8IENb39JmOIwHF8O459fiUdBGk8/2n4iIfMMu8y4R+bvfd5xQ1/XDg5CZZ1YB5JDXluCxH7bh0Pa1aHtifvHKASEonPA/ZAfFFi+z779IRER1BgNGIj+1+kAKXv99NzJyC9T/B09nYu/JTDW135IHhmLm1D64oHV9FBRa8dXfR3H4m4dhgLV4AwkjVBP03vjxRQsM2jIiIqpzKt0kfeTIESQlJSElJQVhYWGIi4tDx44dERISUjV7SEQe+2zNYTz7yw5YrEBOvgVPX9IZv+84qe7rn9AA0WGBGGbYhGEN5mB/20H4ZU82hp3aUnIjnS9TV0frD0G3enkwxiYA4Q188XKIiKg2BoxLlizBrFmz8Oeff+L48eNl7g8MDETv3r1x+eWXY8qUKWjQgF8yRNUh32zBgFf+REpmvm3ZF38dwR0XtsFvRc3RY7o0AgpygZ+nAVmn0Rbf4X5HG+swVl1ZjQEoHPc2jIFMm0NEVFd5FDDOmTMHzzzzDPbu3Qur1YrmzZtjwoQJiI+PR/369ZGTk4OzZ89iz5492LBhA1avXo0nn3wSN9xwA55//nk0btzYe6+EqI6Tz+TkT/6yBYuPjO2IRbtOYsORc3hu7k5sSUxVk6+M7hwPbJujgkWENQACQoH0JCAoEuh2FbD+E22DIdFAgdacTUREdZvbAWO/fv3w999/o2fPnpg+fTquuuoqNG3a1On6BQUFWL58OWbPnq0Cza+//hqfffaZqnUkoqr30YpDWHvwrLr9wKj2uHNoAs5rGoUbP/4b87ZpLQE9W9RDw8hgYM0M7UGD7gP6/RM4shqIiAci4oCIRlrgSERE5GnAGBQUhEWLFmH48OFurS/N0iNGjFCX//znPyrIPHpUSwRMRJVrdpbRzp+vOYLNSano0TwG3ZpG45NV2pzPz17SGVMGtla3B7WNRe+W9bD+yDn1/1hpjt7/J3B6t1aj2HOylian9eDiJxj6iG9eGBER1f6AUWoLKyomJgYvvPBChR9P5O/u+WoT9pzIwPf/HICIYOcfy5PpuZj4/mokns2xLfv70Fl1Edf0aY6bBrSy3WcwGHDfqPa4/qO/ivsvzrtPu1OCRWl2JiIi8nXi7ry8PAQHB3v7aYhqrZz8Qszdmqymb1657zTGnue8r++cdYkqWGwQHoQb+rXEqM7x2HT0HJbuOY164UF4/rLzVJBob0BCAzw5qgVapm9Ei7+fBw4uBQxGoN8d1fDqiIjIH3gtYNy4cSM+/vhj1XfxzJkz3noaolrvwOlMFSyK1QfOuAwYZRCLeGhMB1xzQQt1+7ym0bixf3GtYmmGMwdw6+argAy7jAbdrwNitMcTERFVa8CYmpqqBrlIoLh161Y1ajM0VJtyjIgc23eqaB6+ooDRVXP0lqQ0dXt4p4aOV0o/DvxwG9C0JzD4QSA3DfjsMi1YjGyszdTSegjQeULVvxAiIvJbVRIwymAYCRJ//vln1QQtgWL//v0xdepUTJo0qSqegshvyewruv2nMlVgGB9VNvH94t2n1LUMcmkY6SQx/uEVxZfNXwKBYVrKnNj2wNQFQLjdNH9ERETeDhgTExMxc+ZMdZHRzxIkSpqdY8eOqWTdn3xSlMuNiFzad7K4hlGsOXAGE84vm7Jq0U6tOVr6LTpkKQRO7ij+X/IsiugWwI0/MVgkIqLqCRglt+JPP/2kahNllpfCwkKEh4fj+uuvx+TJk1XKnYCAAHUhIvfsO6XVMHZrFo2tSWlqDujSAWN2vhkr96eo2yM7OQgY9y4Efn8cOLNP+7/bJKBxdyDxL2Dks0C085ypRERE5fEosmvSpImayUVGYQ4bNkwFiVdccYUKGomoYiOkj57NVrdv6t8KD3y7xWE/xpX7UpBntqB5/VC0j48oeWfKPuDrawGLGQitBwy4G+h7JxAUBvSfVl0vhYiI/JhHAaOMdjYajbjvvvvw8MMPIy4uznt7RlSHRkjXCwvERV0b4ZHvtyLpXA6en7sTJ9JzcCglG50aR6pleu1i6bQ5+ONpLVhsMwy4+jMgJMo3L4aIiPyW0ZOVpW+ijHp+88030axZM1x66aX49ttvkZ+vzV1LRJ7ZW9R/sV18JMKCAhAVGqj+l1lb5m87gV3H0/HDxmO2xNxlmqMPrQD2zAcMJuCi1xgsEhGR7wNGGchy/Phx/O9//1NzSv/666+45pprEB8fj9tvvx0rV66EP2rVqpWq1Sl9ef311329a+Qn/Rf1ZuaWDcJs90muxfdv6Im7hrXFBa3r49LuTdC3df3iB1sswMIntNu9pwJx7at574mIqK7wKGAUERERuPXWW7FmzRrs2LED//rXv9Q80x9++CEuvPBCFUjt2bMHR44cgb9Yt26dCpT1y5dffqmWS/9NIk/7LN4yax3eW3qgxAjpdg0j1fUDozqo64FtG2DasLYqifeDYzpgzu398d9rz0eAye4ju+1b4PgWbU7ooY/54uUQEVEd4XHAaK9Tp06YPn26SqUzZ84cjB49WgWMK1asQEJCAkaMGIHPP/8ctZ301WzUqJHtIjWrQ4YMUa+RyBMr9p3Gn7tP4bXfd2P7sTRbDsZ2RTWMg9rF4rd/Dcb/buxd/sY2z9auB97LlDlERFRzA0adpNGZOHEiFixYgMOHD+O5555Dy5YtsWTJEtXvsSJkxhhp5u7du7eai1oC0VmzZpVbEzhu3DjExMSokdv9+vVTgWxVSktLw48//qiSkhN5avcJrUZRBro8/fN2JJ7TRki3j9dqGEXHRlGICC5nPFphAZC0XrvdabwX95iIiKiKAkZ7MhjmqaeewoEDB/DHH3+oPo4V8eSTT+KDDz5QTduNGzufW1cnwenAgQNVP8qrr74ad9xxB06cOKFmmpFa0Kry1VdfwWQy4aqrrqqybVLdsftEuu32xqOpthHSDcKDPNvQia1AQTYQEgPEas3YREREtSZgtCdN0l988UWFHvvRRx+p2srTp0+r4M8Vs9mM2267TaX8Wb58uQo0JUjcsmUL2rdvj8cff7xMn8pHH33U4UAW+4uzgT8SkDL3JFXE7uNaDWPPFjG2ZTJC2na8FeQCc/8F7J7nekNH1mjXLfoBRq9+jImIiNwPGNeuXVupJ8rKylKDZNw1cuRI1aztjsWLF6sazeuuuw49evSwLY+OjlbBoqT9+fTTT0s85oEHHsCuXbtcXkqT/ZdmbzZHU0UHvBw6k6Vuv3l1D8RGaLWKJRJxb/8e2DATWP6G1m6dr61fxlG7gJGIiKimJO4eMGAALrroIpWwW0ZDu+vkyZOqVu4///kP7rrrLnTp0gVVbenSpepaBt2UNmbMGHW9bNmyMgNZPE08Lq+jXbt2GDRoULnr5uXlqYsuPT3dNr2iXKqSvr2q3q4/qo6y+mHTMbRqEI7o0EDMXH0Etw1uhZb1w7DzWJqKAaX5uWl0EF68tDNeW7gPl3ZtZNsf054F6lectbAAlhX/gXHJCyi8+C1Yu19b/ARWKwKOroXUSZqbXgCrF18Ljy33sazcx7LyDMvLt2XFcvcwYPzhhx/wyCOPqPmimzdvrga59O3bF7169VJ5GKWJVuaWlqkDJa3OX3/9pfowSu2fkFQ8d955J7xh3z5t/lwJ5kqTUc2SCkhfp6Kk2VsG4kgaIXe8/PLLavBPaQsXLkRYWHGuvaok5U2+Lat9aQa8s9OkbscEWZGab8D+w0cxuZ0Fa05KiGdCg4BczJ8/X61zbzvg+PbVOL4dMFjMGLf3DxUwpqenIXDFOwizWoD5D2DZgWxkhWh9ecNzj2NkdgoKDYFYsPk4LFu1bXkTjy33sazcx7LyDMvLN2WVna0NTqzr3A4YJ0yYgPHjx+Ozzz7De++9p2Z7se/nJwNBJGDUWa1WREZGqr6F9957r+pL6C0ycllvgnYkKirKtk5FzZs3DykpKWr+bHc89thjuP/++0vUMEqgLbWgsj9VSX79yIdj1KhRCAzUZgoh35TVjKUHgZ371W0JFsW+zCCMGjMUG37bCxw8ikFdWmPcRWUHqhgOLUPAllx1Oyr/BAyF2gxKAZZ8DE/7BoWXzQNMgTBs/gLYBRia9cLY8ZfBm3hsuY9l5T6WlWdYXr4tK72FsK4L8DR9zs0336wu0p/vzz//xKpVq5CUlKTmmZZpA6WZt2vXrqrZWga9+MvgkMsuu6xEQFweSQUkl9LkAPbWB96b2/Y33iqrM1nFTRdRIQHqR1VaTgE2J2Vgb9GsLp2bxjh+7gOLbDf1YBGtLwSOb4YxeSOMq/8DDH8COLZO3WVsOQDGanq/eWy5j2XlPpaVZ1hevikrlnkFAkZ70hdRLvfccw98Ta9ZdFaLKL8O6tWrV817Rf5uR3Ianv1lBx4c3QF92zRQyzLzzLb7372+F37Zcgxz1idh4c6TthyMHRsV51yEpRAwmrQBLnsXlH2Svndo6XO+vwVY/hqQnwkcKZqCs0V/b79EIiIixS/yceh9Fx31U5RcjJmZmQ77NxJVxsvzd2Pd4XP4el2ibVlokNZ/sVfLemrWllGdG6n/f9iYhNTsApiMBrRtWDQqet3HwMvNgD9fAE7vBs4dLvkEwdFA2xFA14nAwKK+s2vfLVrPADS/oLpeKhER1XF+ETDqo7ZlQElpv//+e4l1iKrC3pMZWLk/Rd1OTs2xLT+Vro2Mv/z8pup6UNtYhAQakZ6r1Ty2iQ1HSKAJyDgBLHxKqz1c8QYwe6K2gYDQ4ifpeDEQUNStYdRzwLXfAGFaTSbiuwChxbkciYiIvMkvAkbpK9mmTRt8+eWX2Lx5s225NFG/9NJLCAoKcnuwCpE7Zq4qrg1MTisOGE9naINW4qNCbDWOQ9oVp2/q1LhowJPUKhZkATEtAWMgkJ6kLW8ztPhJzrui5JN2GAvcuQYYcDcw7nWvvC4iIqIq7cPobTLTi0zzJ7Zt22ZbpudclFyIkqpHH4wj90nOxSFDhqjpCGWE9vfff69meHnjjTfQqlUrn7yOGTNmqIsnA2aoZkvNzsePm5KKuz2k5cJiscJoNOBkUQ1jw8jiAU+jOserPoyiY+NIIHkTICOdxZUfA+Zc4JvrtVleOl2i9WWUKf/sg0ddZDww+kWvv0YiIqJaETBKsFh6dhYZkS0XnR4wimHDhqnHPPPMM/jmm2/U0HoZrf3qq6+q+aR9Zdq0aeoiA2+cpf2h2uWrvxORW2BRg1f2nMxAQaEVKVl5iA0PxunMooAxqjhgHNEpHkYDYLECneIjgd/uksRTQNergeZ9tJXu3gTkpgKRjYADi4F2o1UKHSIiopqgxgaMs2bNUhdPXHDBBViwwMFIU6IqkJVnxp+7T2HmqkPq/1sGtcb0hXtxIj0Xyam5MMCAQosVkp40NqI4YKwfHqTW3ZyYiv5B+7Rp/aSv4shnizce3kC7iIkfV/trIyIiqpUBI1FN8tGKg3j99z3IM1vU/42jQ3BJ9yb48u+jKmA8npqDQJOWqFum/gs0lewe/MTFnYv7LuoDWqK1gTFERER+O+hFpgiUWV9ckan0ZD2i2kxqDWcs2a+Cxdax4Zg2LAHf3TlAjXZuEqONak5Oy8WpDL3/ojbgxSFpbhaSLoeIiMjfaxhl8MnQoQ465duRASfLli2r6FMQ1Qjbj6XhXHYBIkMC8Md9QxBgV3vYJFoLDk+cTUeMMadM/8USss9qA15Em2HVsOdERES1IK1OVlYWp9ShWm/53tPqemBCbIlgUWg1jFZcvvt+XLJoOFoZjpcYIV3CQRnhbwUadgGiGlfHrhMREVV/DePRo0dL/J+amlpmmZAUMomJiSqtja/S2dQUTKtTM8zbehyfrTmMNyae5/FjlxUFjEPaF+dT1DWODsVQ4xZ0zl6v/r/atAw5UYMdb+jAn9p1AmsXiYjIjwNGCf4MMgRUJiYzGPDWW2+pizNWqxWvv163EwwzrU7N8Omaw/j70Fn8vuMkyoZ9QG5BoZq9ZdPRVGxNSkPf1vVxdZ/mSM8twKbEVLXOkPaxZR7XJDoY9wV8Z/v/UtNqLIlwUKsuc0UfWKLdTmC/XiIi8uOAUWZLkUBRAkEZ8NK9e3f06NGjzHomkwn169dXA17Gjh1blftLVCH69H2Hz2QjrqhV+VR6Lh7/cRt2JqerQSv25m87rgLG1ftT1KCXNnHhaFYvrMx2W51ZjijjQWRZg2EwGNHMkIL2eTulk2LJFVP2AunHAFMw0HKAF18pERGRjwNG+7yIMphl6tSpuOeee7ywW0RVRwI+mY1FHEzJQp+G2vIfNx3Dol2nbOvFhAWifXykqoksKNTS5yzbq80XbT+9n43Fgsg1r6mbnxaOQUNDGiaaliHhxDwA4x2PjpZgMdBuvmgiIiJ/HiV96JCWvJiopjudkQezTLMiNYwp2UBRwCiztIgpA1rhnhHtUC8sUKXG6fvSnyi0WtXoaH3Ay4UO+i9i548wnNyOLITiA/PF6GI8rALG+gd+BPKnA0F2NZL79f6LbI4mIqLax6ujpIlqguS0HLvbucgvGn8kfRZFvzYN1Gws0t0iOjRQzdIiXQ4veWcljqXmIMhkRL+I48C6jwBzvvbgrDPAgkfUzQWRE5GKSKyxdEG2NRhGcw7wUmOg0Kytm7KvuIax3ahqfe1EREQ+DxgXLVqEcePGIS4uTqXPkb6LpS8BAZxMhmpG/0Xd6VytmXrfyUz1f4dGkbb7JBn3/HsGqVlcJGgUfVrXQ+ivdwHzHgC+uR4oyAHmPwhknQbiOuHvpjep9SwwYoehXfETSYAplrwEWAuB9mOBhp28/4KJiIiqWIWjOUmZM2nSJFgsFrRs2RIdO3ZkcEi1ImA8lWtA0rkcNXNLcIARLeqXHMzSMCoEb197Pq7u3QzfbUjC7Rc0AD7bpt25byHwvyHaIBaDCbj8PcRvl8drfSHnRFyHPpmPa+su+TcQ2w7Y8YP2//Anq+PlEhERVbkKR3jPP/88QkND8fPPP3P6PxeYh7H6HTydqWoQ28VrNYfJqSVHQJ/OkeZorXaxXXwETEYtVVRpg9vFqQv2LdISboc10JqkJVhUK9wPNDkfjROLc5GerN8HuHYx8OUkrQZSrsV5E4FGXb30iomIiGpok/SePXtwzTXXMFgsh+Rg3LlzJ9atW+frXakTLBYrrnxvNSbMWIXMPHOJGsbGRdP4ncoxYO8pLWCUUdHlSlyrXbcbDdz0MxDVFGg1GBjysFrcJKZ47mg1y0vTXsA1XxXtUIFWEzmsqNaRiIioLgWMDRo0QFhY2bx0RL5ksVrVvM9Z+YXYdTy9xKCXgW1jbU3Sev9FtwLGo0UBY/O+WjD4r+3A5F+AgCC76QE1tmkBm/cBzr9Ru93rJqBBQhW+SiIioloSME6cOFENejGbi0aCEtUwtoCxqEl6kB4w5hSn1OlQXsBYWAAc26DdbtFPuzYatUsRveZSxEcV38bFb2o1jWNfqaJXREREVMsCxpdeegkxMTFq4Iuj+aSJakLAKFP+nc3SUuH0T2gAmdkyp9CAAylZall7uxHSDp3YBhRkAyHRQGwHh6tEhgQiMiSgZA2jkBrIjuOAALtlREREdWnQS9euXVFQUIC1a9fip59+UsGjo7mSJbfdgQMHKrufRC4t2X0KH608iJcuLx5YsvN4hq3/YniQSQVzTaNDkJSaq1LmRAQHoIld7aBDiX8VN0fb1SqW1qVJFNYePFt+AEpERFSXAkZJpyNpdFq0aGFbJnNMl+ZoGVFV+79Fe7ElKQ2zVh+2LdtzIh2J54oGvMSEqh8vrWLDVcAo2sdHqGVuB4wuvH9DL5xIz0VCXESlXwsREZHfBIyHDxd/MRNVpWd+3o5dxzMw+9a+CAoov9dEanY+th5Ls9U06nILLFh9IKXEwJTWseFYuf9MmYTdDsmPnaN/ley/6ERMWJC6EBER+SNm2qYa59M1R9T1HztP4uJujctdf/WBM7ZZWQ6fyS5x35+7tACyaVHqm9YNikf2t2voJGDMPgukHwMsZiAjGTAGAE16Vvj1EBER1XZVEjBKnsHdu3cjKysLN95YlEqEFCbudn+AytuL96FRVHGKmpPpJRNuO7Nyv1aL6Mj+onyLjaOLaxh1DmsYC3KBt3sCOeeKlzXqBgQxhRQREdVdlZpLWpJR9+jRQw2AueqqqzBlyhTbfcuXL1d5Gn/55RfUZUzc7Z43/9iL+dtO4JNVh2zL9NHN5Vm5TwsYL2hd3+k6xU3SdjWM8Q76G0qgaAsWi/o3dp3o1n4QERH5qwoHjDt27FCzvBw6dAj33XcfLrroohL3Dx48GLGxsfj222+rYj/Jj0nqGz3ou6JnU9vy8ODyK8CPnsnG0bPZCDAa8NhFHZ2up8/GIqOi+zW04Ia+zdEw0sUIaWmGfioFeDQR6D/NsxdERETkZyocMD7zzDPqesOGDXjjjTfQp0+fEvfL6NP+/fuzZo3KtebgGeQUFKoE2NOv6o5/DGmjlp/JzHO7Ofr8FjHo0TwGzeoVN2nba1LUJC3H5bUJFjwzvlPZfosHlgBWS/EyUwAQElWJV0ZERFTHA8Zly5bhyiuvRNu2bZ2uIyl3jh8/XtGnoDpicdHAlOEdG6qALjZCG22c4lbAeFpdD2obpx4r29DFhAXabjdylW9RgsUPhwGfTwB+ubsyL4WIiMgvVThgzMjIQMOGxV/OjuTk5HCwBynZ+WZ89fdRpOcWlMnT+eeuk+r2iE7a8RQboc2MkpJZtg+jxWLF7ztOYNaqQ/j70Fk1QloMaqdN+zfMLmDs1CjKtr2QQJPjHSs0A99NBc4VpYk68GcVvFoiIiL/UuFR0s2bN8e2bdtcrrNx40YkJCRU9CnIj7z22x6VVDslIw93j2hnW777RAaS03IREmjEgITYUgFjXonActGuU5i+cI96jL3I4AB0b6bNMtS/TQM0CA9CvtmCXi3rqeZuvf+iQ388BRxcCgSGAyOeAhY9B5i1ZN9ERERUyRrG8ePHY+HChVi0aJHD++fMmaOmDZwwYUJFn4L8hNQKztumdU1ITisZjOm1i4PaxtpqAR0FjO8vO4jbPluvgkWZt3lYhzjER2nrXdqjCQJM2qEs2/jl7kGYf+9gjO4SD5PRYAtEy5A+i2vf1W5f/j7Q707gpl+AsFigyflVXg5ERER1robx8ccfx3fffYdx48bhpptuwokTJ9Tyd999F2vWrMFXX32FVq1a4f7776/K/aVaaMPRczidoQV/6TnmEvf9WTQzy4hO8bZlsZFBtrQ6hRarCvr+OqQ1PV9xflM8fUln26wq0sQtNYz2mhal0GlePwzbnh2NUGfN0QcWa9fdrwU6X6rdbn4BcP9OwODkMURERHVQhQPGuLg4LF26FJMnT8bHH39sW37XXXep6759+6qgMTpaayqkumvBNu3HhLDvwyg1iJsTU9Vt+8Eq9cOCIFM8W6xa0BgXGYzEs9oMLlf2alZiCr6okOKBLY6EBbk4xE9sczztX4BWc0lERERVMNOL9E9ctWoVNm/erJqfz549i6ioKBUslk6zQ3WT9D2UQSq69JzigHHPiQw1pV+buHDERxX3M5Tm5XphQSpYlKBSRk0nndOaspvXq6IZV+SJ9YCxUdeq2SYREZGfqnDAePPNN6sZXiRpt8z2Ihcqq65PDbg1KQ3HUov7LabnFjdJp2ZrwWNseNkaPQkS9YDxdGYQ8swWGA1AY1cDWHSHVwHmXKDtCOfrZJwAslO0pueGnT1+XURERHVJhQe9fPnllzh1Sut/Rs7V9akBF2zXahfbNYwoU8OYVnQ7KrRss7L9wJfEszm2+aADiwa3OJWfBcy+EvjqGqDAboDNX/8DPhwBpCWqfw0ni2oXY9sDgY6TfRMREVElA0ZpjmZSbiqvOXrBdu0Yubp3c1sfRlkuUnPyyyTYLhMwZuQj6ZzWf9HZLC4lSDOzpMUpzNdqGfVgccHDwLH1MG78TC0ynNyu3cfmaCIiIu8FjNIkPW/ePBw7dqyim6Ba6mR6rm3uZ1cOpmThyJlsBAUYcVmPJmpZQaEVuQWWEjWM0eXUMOr9F5u5038xeVPJ/zd9oQWLRYz7f1fXDBiJiIiqoQ+jTAu4ZMkSDBgwAA8//LAa5BIfH6+mZ3M0RSD5jwe/3YIV+1Lw87SB6N48xul6h05nqesO8ZFqpLOxaOSz1DKGBpmQVtSHMcZRwFiUWkdme9EDy+b1Q4tnZ5E5nwOKR0s7DBiPbQR+0Ubto+dkYNNsGE7tRGhcSnGTNANGIiIi7wWMbdq0UcGhNC/ec889TteTdczmkrn3qHY7VlTjd/hMlsuAMdGuKVmOA+mrKANdpB+jjIq21TC6apLOzIPZYilZwzjzIiA9GbhrHRAU5jxg3PGjFli2vwi45L9Ayn7g6Go0O7sGhnOHtHUYMBIREXkvYJT8i45qE8n/ZeWbS4xydqa4KTnUljNRBYxFuRj1xztqko6zCxgz87Tnay7bkYEsSX9rK53YWjKHYm46kLKv+P9Dy7TrrhPllwvQYawKGNuc1pqlEdkECHcyCwwRERFVPmCcNWtWRR9KtVx2npYi6Fy2NmjFmeLBKlotYFRoQInZXtzpw3gyPQ9pRYNjZOYWZNqNzJd+iPYBowSQ0AbUKKlHtevWQ7Tr9mOBP55GiDld+79xN49eNxERUV1lrEyTtD6rC9Ud0gVBr2E8l5XvcQ2j0GsYXQaMtj6MeWqgTKDJoCX3tg8YTxQNXHE24EU07AJEFM0iE9se1nqti+9jczQREZF3A8aUlBRERkZW9OFUS8kIZxm4Is7ZNUnnmQuxePdJ5BYUJyi3zc4iNYMlAsaSNYz2U/3pGpRK5t0kJlTNKY3Mk8ULT+4oP2BsM7T4tsEAS7vRxf8zYCQiIvJuwNitWzfs3bu3og+nWkqvXSzdJP3134m4edZ63PXlRlULKbWIekDYNCa0VJN0AQoKLba+iY5qGCUVj/1y25SApQPGogExzgPGC0v8a203pvgfBoxERETeDRgfeeQRzJ07V6XWobojqyjIKx0w7j+Vqa4X7TqFHzcdQ1LR7Cz1w4MQHhxQpknafsaXqBDHXWllekCdLWm3fZN0QRaQeli7nXMOOHuw5AaMAUDLASUWWZv3x5nwdrC0GgLEtPLw1RMREdVNFR70cu7cOYwePVpdJkyY4DIPo4yoJv+QVTTgRZzLKg76pK+h7tlfduDhsR3LzM6iTwEog1702sfI4AAEOJnuTwa+HCjK5ag3a5eoYdT7MdZvAxzfUvQkzYD0JO12sz5AcKluE6ZArGz/FMaNGwejscK/l4iIiOqUCgeMU6ZMseVh/P7779VF2AeMcp/8z4DRd3Ykp8FcaHWZL9ET2U6apE9naAFjcIBR9VF88qftJZuS7WoSpYYx1UUORl1sZLDzGkZjIGAp0JqlO19a3BzdpEdxwGjff5GIiIiqP2CcOXNmxZ+1DpkxY4a6FBYW18xVF3OhBdd8sFb1FXxjYndc2auZW4+TgSuJZ7PRLr7soCa936HIzi9Ug12CA0y2GsanxnfGc3N3qJHNzmsYi/s3Ouq/WDoXo7adosAzqyhgbN4XOLJSS60jDhblXGxyPrD7V+1265L9F4mIiKiaA8abbrqpog+tU6ZNm6Yu6enpiI6OrtbnzsovREbRiOQHv9sCaYG9/Pzyg8brPlyLjUdTMXNqHwzrUJSSxi5ItCfJt+OjJGDUahsHJDRQzccHi5qSSwSMdqOkbdMCOqphlCn9Mk+hQXiCbZFtWkC9STphWHHAeHIncFD60hqA864A9i8C8rOAZr3dKygiIiJyiZ24/Jh987HVCjwwZwt+2FjUXOuCBIvis9VFA0qc1DCKs1n5yMkvtC2XOaPt2WoG7WoYM8qrYfzuZuCrSWhn2W9r5la1jfIi9CbphOHa9bnDwLJXtNudxmv9GafMB25frvorEhERkQ9rGI8eLZpFww0tWrSo6NNQJei1gZEhARjfrTG++jsR98/ZooK8Wwe3Kffx9nkWbdssFTBKP8aIolHQEtjpt3Ulm6Tt+jDapgUsm4NRjXgG0OX0AgBjVI2l6hubmwaYc7V14jpqU/tlJAM7f9aWDSia05yDWYiIiGpGwNiqVSu35pKWdczmkkEGVe8UfhLE/XtCV4QFBeDjlYfw4rxdOJmei8fHdSrxHp5Kz8W/5++y/S81h46aue1J4BcSmGcb1Szb06f+K1PDGFJ2lLSrPozNjs3HpJ43YVjnptoCvXYxOAoICgManacFjGrlC4DmF3hSPEREROTtgFFGPjsKGNPS0rBlyxYcOnQIF154oQosybdN0qFBJhiNBjx5cSc0jAzGywt248MVhzAgIRbDOmp9FA+nZOGSd1ba+jyKLk2jXOZhFFJbqWZgsWuOtk+xI89dukk6v9CCkxm55QaMhqzTePX8c0C7XiX7L+pT/cV3AfYt1G4P4DSVRERENS5gnDVrltP7JJ3O9OnT8dprr+Hjjz+u6FNQFTVJhwdpb7ME+LdfmIAdyen4ZUuySrmjB4zzth1XwWKbuHD0aVkf36xPRKZd8Fh6m7rU7HyZcc9Ww+hKuASuBqipBWUUttNBL/a2fgO0G1kqYIzXrpv01K7rtQI6jne9HSIiIqowr3T2ksDkwQcfRJcuXfDQQw954ynIDXpwZ1/LJ1rHhqvrxKLZWLTbWgB3afcmGNw+Vt3W+xk6qmEsqlRU/RxTMrQR0nGRJfsjSm1m6eNCr2XUn89VDaMiKXLyMks2Ses1jBIkjn0VuPYbwFjyNRIREVHV8erogN69e2Px4sXefApyY95nqdmzp8+akpSqBW3iaFEAJ4m264dpgd9Zu8TcpbfZOFobzHIuKx+nM3PL5E0sPeCldD9GfUBNjB4w7vgJeL1dcT5FERgGFGQDu+eVChjjiwe39LsDaKjNKkNERES1MGA8cOAAB7z4kD5oRQa72GteFMiVqGE8pwWMLRqEIaYoYJTmZmdTAzaNKQoYs/NtNYz2M7OUmM7Pjj5Suvh/PWD8UUvKvUdGRhfpeLF2vW2O4xpGIiIiqp0Bo8ViQWJiIl544QX8/PPP6N+/f1U/BblJrw0Mc1LDmJyag0KLVc0Ik5yaa6thrBceaGuSlv6ojgbS6LWHqkm6aJBL6T6MHRpFOq1h1Nn6MJ45oF2n2qVr6nSpdn14JWDOK9uHkYiIiGr2oBej0egyrY4EGvXq1VODX8jXNYwlA8b4qBAEmgxq+r7jaTkqH7YEjkEBRtXvUEYxC7PFiow8c4kgL7OohrE4YCyuhdRHSb844Tws23saNw9sXWafJCekPdWH0WIBzjoIGCXXYnhDreYxaX1xwCjLiIiIqOYHjEOGDHEYMEogKYFinz59MHXqVDRsyC933w96Kfk2SxocaVI+fCZbNUtbimoRpala0u+EGE0IDTQhp6BQ9VG0Dxj1GsamesCYla+CTfsaxhv6tVQXR+y3JfuhEn2nJ2t9FUWaBIxFx5UcX60GATt+AA6vYJM0ERFRbQsYly5dWrV7QlUu28mgF71ZWgWM57JhKQr47Psc1gsLRE5aoWpybtmgbB9GPSG3zAuti41wMGtLKbY+i0W1i+pHxxltCkBFZnMx2h2WrQdrAaMMhsk6rS1jkzQREVHtCBip9qbVsQ/4ks5mq6Zn0cI+YAwPQnJabokmZ/u0Ok2KBr3oHE0LWF4No22EtH3AKCx2A6VaDdGuj66Rjg5a7WO4lvaHiIiIauigl3//+994/PHHUVBQNkefLj8/X63zyiuvVHb/qBL02sBwB4Fc8/pFI6XP5ZRIqaOrVzRSWpqcddL0LM3UIiokQF3s+y+6M1Wk/ShpW22jPuDFkQYJQGTjomBROmQ2AEzl5G4kIiIi3wWMixYtwtNPP40GDRogMND5l3ZQUBBiY2PxxBNPYMmSJVWxn1QBOQWOR0nbB4eSQFuCRrXMroZRH72s50vUtlc8y4sEofXDi5ugy5vlxWENY5iTGkZ7qh/j4OL/2RxNRERUswPGzz77TA1oueuu8uftnTZtGurXr4+ZM2eiLpsxYwY6d+6sBgH5qoaxdB5G++BQ+jDqs67otY5CDwbtczHaz/IiTdB6vkaPAsZSfRhLBIyNuzt+kPRj1HHACxERUc0OGFevXo2RI0ciOLj84EDWkXVXrVqFukwC5507d2LdunU1Jq2OffLuk+l5OFvU7FyyhrFotpessgGj1C5K87MMjCmdUqc89s3YKmAsLADOHdYWtBnm+EGsYSQiIqo9AWNycjLatGnj9vqtW7fG8ePHK7Jf5MXE3XoNov1yaR62by7Wg0H7+aT1QTThRTWWMjBGF+fGCOnSNYxq0Mu5I4C1UJsGsHlfxw+q1wqIbq7dZg0jERFRzQ4YJceiq8Eupcm68hiqWVMDCqkhtJ/r2X6EdIlBL3ZN0plFNYxhwaYS6ziaFtCdgFHd1pujZXBLvZbO+zG2H6vdbtjZrechIiIiH6XVadKkCbZv3+72+rJu06ZNK7Jf5OUaRn3gy96Tmdrt0gFjeNkmaT2vo54+p0STtNuDXgJKNnvbAsa2xbWIjox6Hugw1nmzNREREXmNR9V/gwcPxuLFi3H4cFGfMxdkHVlXZoSh6icpcHILLK4DRrsg0T6ljrMm6eJBNEU1jOGe1zCGBwWoQTO2Poz2AWNIFBAS4/iBQWFA25GA0fFrISIiohoSMMoADmlmnjhxIlJSUpyud+bMGVx11VUwm8248847q2I/yUOlU+A44k6TdHz2XlhT9pUc9KL3YazAKGmZejCyqK+kSqtjHzCqhS3c2g4RERHV0ICxZ8+e+Ne//oWNGzeqVDGSk1HyLO7bt09dZLrAp556St23YcMG3HfffeoxVP305mNDUQqccmsY7VLq6LWHUcjCV6ZngI9HAXmZyNL7RBYFoLY8im5OC6jr3bKeappu1zCiOGk3A0YiIiL/mRpw+vTpCAkJweuvv65mfZGLPavVCpPJhMceewwvvvhiVe4reSBbbz4ONDmdgcW+Gbp0DaPMP93YlIYwQx6QkwfsmovsvN7qvoiiQS8NwrVaxZBA96YF1H04uTfyzBaEWnOAjGRtYf2i0fcMGImIiGp/wCjBx0svvYRbbrlFJeWW3IwnTpxQ9zVq1AgDBw7ElClTkJCQ4I39JTdll6oNdKRlgzDVHzHAaCgzN7S8z41CzIDesr35C2TG99C2WdQkLTWEV/ZshvbxEW5NC2jfLK3mt948t3i6v7D62m0GjERERLU/YNRJQMgaRN8qKLRg3eGz2HL0HJo4aZJ2NuBF79v43R0DEGgyINBUttm6cUgBkFX0z+EVCApN0h5XtE0J/KZf7WR2lvL8/SEw/yHt9nlXFi9nwEhEROQ/ASP5XlpOAa7/6C9YrcBzPZ3UMDrIwWivc5Mop/fFBeaV+L9LyjzJb1M8iMZiAebdD8S2B/r/072dlp1d8hKw/DXt/963AGNfKb6fASMREVGNw6zatZiMTO7RXEtDszPV4CRgrHgamthALQdjoUELEHud+w0GWIqbuU/tADbMBJbaBXyuFJqBufcWB4tDHwcunl4yVY6rXIxERETkEwwYa7kRHbWp8nacKw4Y88yFWHMgpdIBY/2iGsYjMf2BoEjEmY+jj2GPrUkaaceKnjBdqzl0pSAHmDMZ2PgpYDAC4/8DDH1EG8ZtLzQGCC+a/i8oosL7TkRERFWHAWMtN6woYNybZkBeUe7FB7/dik/XHKl0wBhjzFXX54z1gC4T1O3xprXFTdLpRQEjrFpA6Mrad4E98wBTMHD1Z0Dvm52vO2k2MPETIKpxhfediIiIqg4Dxlquc+MoxEcFI99iwF+Hz+FQShZ+3VqUqsYuyXZFRBUFjGnWEKDlAHW7jSG5eJu2gFFqELNdb+zwSu161HNAp0tcr9uib8mBMERERORTDBhrOUlnM6xDnLq9ZM9pfLLyUInWYZW+poIioAWB5wpDbINRmhpSEFaUhxHpxYEp8rU5qR2SHUrerN1u3rfC+0NERES+wYDRD+gB48Kdp/DthsQS9zmbFtAd4dCamc8WBNsGozQxnEFEkLFsDWO+nn/HgdSjQM5ZwBgIxHep8P4QERGRbzBg9AP9W9dHoMGKUxl5yC2wlLgvNLDiNYwhFq2GMaUgCIhqCrPViGCDGREFZxzUMLoIGI8X1S7GdwYC3JtzmoiIiGoOBox+QJqd20UXt0PLVH26ygx6CS7UgsCTeUEogBEnoM3GEpGTrDUz66OkywsY9eboxtpMMURERFS7MGD0E13qaQFj4+gQDGoba1vuamrA8gRbtCDwjDkY6w6dxTGrtt2w7GQg5xxgznEzYNykXTc5v8L7QkRERL7DgNFP9GtoxR1DWuPta89HgNGuhrESTdLGvAx1nWkNxc+bk5Fk1fpKBmQklmyOdhUwSk2k3iTdhDWMREREtREDRj8RYAQeGNUOvVtpzca6cH1Ec0UUBYwZCMWC7ceRVFTDiFQJGO2ao12NklYDXs5pA14adq74vhAREZHPMGD0c6EVzcMoNYNFAWMWQpGea7bVMKogsHTA6CwPo94cLaOjOeCFiIioVmLA6Ods0/h5ypwHWArUzdZNtRlXbAFjmgdN0myOJiIiqvUYMHrZjBkz0LlzZ/Tp08cnz1/hxN1FtYtiYOeW6vqYfZN0WpJ2W+aFdtUkrdcwcoQ0ERFRrcWA0cumTZuGnTt3Yt26dT55/vCKNknnpWvXQZEY2VmrYTxubQALDNro6ONbtftjWjqvYbSf4YUjpImIiGotBox+yApr5fMw6jWMwZFoHx+B5vVDUYAApJkaaMtP7dSuY9tr1/l2fRgzTgIrpgOfjAFyUwFTEAe8EBER1WIMGP1QntlS+TyMdgGjzFc9omO8+jc1qLEtLFVi25Vtkv52CvDn80DiX9r/3a8FAoIqth9ERETkcxXP6kw1VnZeYeWnBrQLGMU/hyUgM8+Menltgf3bitezBYx2TdJZp7XrQfcDvW8GYrR5qImIiKh2Yg2jH8ouMNtum4yGKgkYG0aG4I2ruiOmcZvidULrA2GxzvswthvFYJGIiMgPMGD0Q9n5xTWMFaYPeikKGG1iWhTfjm4KBIWXPzUgERER1WoMGP28SbrC9BrGkKiSy6Ptagyj7ALGAgaMRERE/ooBox/Kzi9ukq4wW5N0qYBRT6MjopqwhpGIiKgOYMDoh6qmSbpkH0ab6GaOaxgZMBIREfktBox+yGwpzsNY5QFjYAgQEW8XMEYUzyVtKU7nQ0RERP6DASN5FjDaz9rSuFtxDaMeNBIREZHfYR5G8myUtLjyYyD9GBDXQZv+T6YLlETe0iwdXFTjSERERH6DNYzk2aAXtSxCCxaFwVDcLG0/2wsRERH5DQaMfiwowOidJukyT8SBL0RERP6MAaMfCwuq4LSAFQ0Y2YeRiIjILzFg9GPhQQHVFDCGaddskiYiIvJLDBj9WNOY0Io9sLAAMOd4EDDqfRjZJE1EROSPGDD6oY8m98YFretj+tXdK1e7KILYh5GIiKiuY1odPzSyc7y6VDqlTmAYYHLjEGHASERE5NdYw1hXmfOqpv+iCGTASERE5M8YMNZFCx4BXm4GnNxRNQEjaxiJiIj8GgPGuubwKuCv94HCfCDxL8frMGAkIiIiOwwY6xIZ/Tz/weL/c4v6KlY6YORML0RERP6MAWNd8veHwKmdxf/nppUzj7SDaQFd5WFk4m4iIiK/xICxrjh3GFjykna7fptyAkY2SRMREVExBox1QfJm4OPRQH4G0LQX0PuWKg4Y2SRNRETkzxgw+rt9i4CZ44DMk0DDLsDVnwOhMSWbnktjDSMRERHZYeJufyZpc76+DijMA1pfCEz6HAiJ1i5eaZJmH0YiIiJ/xIDRX0nw9t3NWrDYdiRwzVdAQJB2X7kBoz7ohYm7iYiIiE3S/mvhE8Dp3UBEPHD5/4qDReF2DaO7o6TDS/VhtFZ4t4mIiKjmYcDoj/b8Bqz/RLt9+ftAeGzJ+/VA0FnAaM7Xrk12Qaa7fRgtFiDzVMnAlIiIiGo1Boz+aOvX2nWfW4GE4WXv1wM5yZsoybydMRg8Cxil+fvsQa1J2xQMxLb3eNeJiIio5mHA6IaMjAzccccdaNKkCcLDw3H++efju+++Q41lMWvXDTs5vt++qdnZbC+e0ANGcXR18XObAiu/bSIiIvI5BoxuuO+++7B06VLMmTMH27Ztw9VXX41rrrkGW7duRa1kCgCCiga05KZWwfaCAGPR+Kkja7Trxt0qv10iIiKqERgwumHt2rWYMmUKBg0ahDZt2uCxxx5DdHQ0Nm7ciForpFQ/xvRkYPZE4MPhwAkPA2FputZrGfUaxsbdq3JviYiIyIdqbMA4e/Zs3H777ejduzeCg4NhMBgwa9Ysl49Zt24dxo0bh5iYGNV03K9fP1UrWFkDBgzAzz//jBMnTsBqteLbb79FXl4eLrzwQtRaej9GPYXOzp+B/X8AxzYUj3aOaub+9vTZXmQKQtGIASMREZG/qLF5GJ988kkcOXIEsbGxaNy4sbrtypIlSzBmzBiEhISo5uLIyEh8//33mDRpEhITE/HAAw9UeF/++9//4uabb1b7ERAQgLCwMPzwww9o3bo1aiQZqay4GLRSOrVOxgntuuN44PwbgajGntUSBoYV3zYYgfguHu82ERER1Uw1tobxo48+wuHDh3H69Gk14MQVs9mM2267DUajEcuXL8cHH3yA6dOnY8uWLWjfvj0ef/zxMgHno48+qmotXV10b731ltrWggULsH79ejz00EMqEN25cydqpOwU7TqsvvsBo54Kp1lvoMNYz5uU7Qe+NGgHBNkFkERERFSr1dgaxpEjR7q97uLFi3HgwAFMnToVPXr0sC2XfoYSLEr/w08//RRPP/207T6pcZTl5cnJycFTTz2FuXPnqhpM0b17dyxbtgzvvvsu3nnnHdQ4em1hRCMPAsaT2nV4w4o9p94kLTjghYiIyK/U2IDREzKCWYwePbrMfXqQJwGevbi4OHUpT0FBgbqYTKYSy+V/i63ptwaxWouDv8h45+vZkncX9WHMKqphlJlhKsK+hrERA0YiIiJ/4hcB4759+9R1u3btytzXqFEjRERE2NbxVFRUFAYPHowHH3xQ1SZKLsZffvkFf/zxB+bPn+/0cTIoRi669PT0EgFoVdK3p65z0xFoztX+D2kgCx0+xhgUCQmBC7PPwVJQgICMk6rHY0FIPaePccUUEGLr32CO6wJrFb9Gr5QVlYvl5T6WlftYVp5hefm2rFjufhQwpqWl2ZqgnQV9+joV8fXXX+ORRx7BVVddpbbTtm1bNWJbr7105OWXX8Zzzz1XZvnChQvVoBlvkCA2IjcZI+QAN4Zi/h9azasjCSeTcR6A5AM7sXHer7g067Ra/udf25EXmOTxc/c4eQ4ti24v3HYCBbucB9M1gZQVuY/l5T6WlftYVp5hefmmrLKzs6tsW7WZXwSM3ia1ip9//rlHj5Fcjffff3+JGsbmzZurZnMJYKuS/PqRD8eoUaMQdGwtsAsIiGmiUgw5Y9h0Bkj+Gk1jI9BoaF8YNlthhQEjLrm6OAm3B4wLVwJnl8Ma1QyjLr0aNZV9WQUGciaa8rC83Meych/LyjMsL9+Wld5CWNf5RcCo1yw6q0WUN7tevXrVuk+SO1IupckB7K0PvGw3IOeMum2IbOz6ecK18jDmZ8KYe1Z7TFgDBAaHVuzJQ7SZYwyNu9eKE5o33wd/xPJyH8vKfSwrz7C8fFNWLPManlbHE3rfRUf9FCXZdmZmpsP+jX4p80T5A15Kj5LWB8lUdMCLaDsSiG4B9Liu4tsgIiKiGskvAkZ9xhXpH1ja77//XmIdv2cL/lyk1CkdMBb1X0RE+aPGnWo5ALhvG9BpfMW3QURERDWSXwSMI0aMUHM8f/nll9i8ebNtuTRRv/TSSwgKCsLkyZNRJ2S4kVJHhMRUbQ0jERER+a2AmjzTy8qVK9Xtbdu22ZbpORcHDRqEW2+9Vd2W6frkPhm1PGTIkBJTA8oML2+88QZatWrlk9cxY8YMdSksLKzeJunygj89D6PMJW1L9F3BpN1ERETk12pswCjBoszOYm/VqlXqotMDRjFs2DD1mGeeeQbffPONGinVtWtXvPrqq2oaP1+ZNm2ausjAG2dpf7xSw1hewBhiN1L7zIHKzfJCREREfq3GBoyS51AunrjgggvUfM91mm2Wl3L6MAYEAwGhgDkHSNmrLWOTNBEREflrH0YqIjO85Ka6H/zpA19Sj1R+0AsRERH5LQaM/iSzaD5oUxAQ6kbeSb1Z2lo0JzZrGImIiMgBBox+xGA/2tkgM0O7WcOoY8BIREREDjBg9CeepsexDxgNJiC0vnf2i4iIiGo1BoxeJil1OnfujD59+nj9uQx6k3R5A14cBYzhcYCRhwMRERGVxQjByySlzs6dO7Fu3bqaV8Oo52JUj+GAFyIiInKMAaMfMdjmka5ADSP7LxIREZETDBj9ia2GsWEFmqSZtJuIiIgcY8Dol6OkK1LDyICRiIiIHGPA6E+y9EEvFRglzSZpIiIicoIBo7+Q5NtZp7XbrGEkIiKiKsSA0U8Em9NhUDO2GLQUOe5gwEhERERuYMDoJ0IKiuaQDo8FTAFuPoiDXoiIiKh8DBj9JHF3cEGaZ83RZfIwMmAkIiIixxgw+knibmmSttUwukuCxMbdgRb9gdB6Xts3IiIiqt3cbLukmi7InOl5wGg0AbctBQwG7UJERETkAANGPxFUmKHdCPMgYBScP5qIiIjKwWjBTwSZ9YCxga93hYiIiPwMA0Y/Eaw3SYfV9/WuEBERkZ9hwOgnWMNIRERE3sKA0U8wYCQiIiJvYcDoJ4IK9SZpBoxERERUtRgw+kPibkthcVodBoxERERUxRgwelm1JO7OTYMBVu02B70QERFRFWPA6A9yzqgrq0z1Zwr09d4QERGRn2HA6AcM2We1G2yOJiIiIi9gwOgPsotqGEPZHE1ERERVjwGjP8jRaxgZMBIREVHVY8DoB9gkTURERN7EgNGfBr2wSZqIiIi8gAGjHzAU9WFkDSMRERF5AwNGf8BBL0RERORFDBj9AfswEhERkRcxYPSDqQENHCVNREREXsSA0R+mBrQ1SbOGkYiIiKoeA8barrAAhrx07TZrGImIiMgLGDD6Sf9FKwxASIyv94aIiIj8EAPG2q6oOTrfFA4YTb7eGyIiIvJDDBj9JWAMiPT1nhAREZGfYsDoNwFjhK/3hIiIiPwUA8bajjWMRERE5GUMGP1k0AsDRiIiIvIWBox+M+iFTdJERETkHQwY/SRgzGMNIxEREXkJA8bajn0YiYiIyMsYMNZ2DBiJiIjIyxgwetmMGTPQuXNn9OnTxztPwEEvRERE5GUMGL1s2rRp2LlzJ9atW+flPowc9EJERETewYCxNjPnAwHBah5p1jASERGRtzBgrM0CgoBHDsH82AmYjaG+3hsiIiLyUwwY/YHRBBgMvt4LIiIi8lMMGImIiIjIJQaMREREROQSA0YiIiIicokBIxERERG5xICRiIiIiFxiwEhERERELjFgJCIiIiKXGDASERERkUsMGImIiIjIJQaMREREROQSA0YiIiIicokBIxERERG5xICRiIiIiFwKcH03VdaMGTPUxWw2q//T09Or/DkKCgqQnZ2tth0YGFjl2/cnLCvPsLzcx7JyH8vKMywv35aV/r1ttVpRlxmsdb0EqklSUhKaN2/u690gIiKiCkhMTESzZs1QVzFgrCYWiwXJycmIjIyEwWCo0m3Lrx8JRuVgjoqKqtJt+xuWlWdYXu5jWbmPZeUZlpdvy0rCpIyMDDRp0gRGY93tyccm6WoiB5m3f5nIh4MnE/ewrDzD8nIfy8p9LCvPsLx8V1bR0dGo6+puqExEREREbmHASEREREQuMWD0A8HBwXjmmWfUNbnGsvIMy8t9LCv3saw8w/JyH8vKezjohYiIiIhcYg0jEREREbnEgJGIiIiIXGLASEREREQuMWAkIiIiIpcYMPrYunXrMG7cOMTExCA8PBz9+vXDnDlzKry9c+fOoWnTpmo2mbFjxzpd7/fff8eFF16oZp6R5KbDhg3Dn3/+iZrMF2Ul9zm7TJkyBf5aVrNmzXL52pcuXeqV561L5dWqVSun6w8dOhQ1VVW9x6dOncJ9992Hdu3aISQkBA0aNED//v3x3nvvOVy/Lp+zPCmr2nrOqorycvWZ0i8rVqzwi2PLFzjTiw8tWbIEY8aMUSeAa665Rh2s33//PSZNmqSmNXrggQc83uZdd92FtLQ0l+vMnj0bN954I+Li4mwnkG+++QajRo1SH86JEyeipvFVWYmWLVs6PNH26NEDNVFVltVll13m8HXKidmbz1sXykufPeJf//qX2+v7S1lt3rwZo0ePVj/aLr74YnXOyczMxK5duzB37lzceeedJdavy+csT8uqNp6zqqq85LOUmppaZnlKSgpmzJiBevXqoU+fPrX+2PIZSatD1a+goMCakJBgDQ4Otm7atMm2PDU11dq+fXtrUFCQ9fDhwx5t87vvvpMUSdZ33nlHXY8ZM6bMOmfPnrXGxMRYY2NjrYmJibblcluWySU9Pd1ak/iqrITcd+GFF1pri6oqq5kzZ6rXLtfV+bx1pbxEy5Yt1aW2qKqySktLs7Zo0cIaFxdn3bJli8PnsVeXz1mellVtPGdVx/njjTfeUOVy99131/pjy5fYJO0jixcvxoEDB3DdddeV+NUnNQ6PP/448vPz8emnn7q9vdOnT6tfmvJLSX6FOvPtt9+qX2B33313ibmt5bbUuMkvsR9//BE1ia/Kqjaq6rKq6c9bV/e7NpfVu+++i6NHj+KVV15Bt27dytwfEFCy4asun7M8Lavaytufw48//lhd33LLLbX+2PIl/zjaaiG9T5M0NZQm1fJi2bJlbm/vjjvugMlkwltvveWymbW853322WfV806ePBl1vax0ckL54IMP1Mmjfv36GDhwILp27YqaqKrLatOmTThz5gzMZrNqJh05cqTqP+Xt5/X38tLl5eWp/o/Jycmq75Q0l/Xt2xc1UVWVlTT3SV+yK6+8Env27MHChQuRk5ODjh07qr7EQUFBHj2vP5+zPC2r2njO8vb5Y/Xq1ar5vnfv3ujevXutP7Z8yqf1m3XYxIkTVRX5+vXrHd4fERFhbd68uVvb+vzzz9W2fvrpJ/X/oUOHnDaz9u7dW92XkpJS5j5ZJvcNHjzYWpP4qqyE3OfoMnbsWOvJkyetNU1VlZXexFr6Ehoaan3llVe89rx1pbyENEc7ekyfPn2s+/fvt/pjWeXl5VlNJpO1YcOG1hdeeMFqNBpLvPY2bdpYt27dWuIxdfWcVZGyqo3nLG+fP26++Wa17ffff7/MfbXx2PIlNkn7iF6zJVXujkhtgzu1X1Izcc899+Daa69VHe4r87zynPbr1PWyEtLRWn6hyi/19PR0dfuiiy7Cb7/9hvHjx6OwsBD+WFatW7fG22+/jb179yI7OxtJSUn47LPPVG3Fo48+qu7zxvPWlfISU6dOVSMxT548iaysLFU7Kd0kZKToiBEjkJGRAX8rq7Nnz6rPjNTCPv/883jttdfU65fyeuqpp3Do0CFccsklyM3NRV0/Z1WkrGrjOcub5w8ZHCQDV8LCwtR535PnranHlk/5NFytw0aNGqV+vezbt8/h/U2aNLFGRUWVu52LLrpI/QI9ffq0bZmrWrN27dqp+xx1ls7Pz1f3devWzVqT+KqsnCksLFSdyuVx33//vdUfy8qZ7du3W0NCQqz169cvcQx5+3n9rbxcufHGG9U+TZ8+3epvZXXs2DFbjde9995b5v6rr75a3SctAXX9nFWRsqqN5yxvfg4/+ugjtd2bbrrJ4f218djyJdYw+oj+i8bZrxf5Zejs15ZOOgEvWLBApQuIjY2t9PPKc9qvU9fLyhmj0YjbbrtN3V61ahX8raxc6dKlCwYNGqRqP6RfUHU9r7+Vlyu333673x5b9vdfeumlZe7Xl61fvx51/ZxVkbKqjecsb34O9cEut956q8fPW1OPLV9iwOgjkoBV7Nu3r8x9J06cUFXp+jrOSBOWuOqqq0okJpXmMT0ZqfxvP+rM1fPqy8p73rpSVq7oQac0JfpbWVXktVfH8/pTeVXl+rWprCQZsyTLF5KcuTR9mQzsqOvnrIqUVW08rrz1Ody5cyfWrFmjBgjJjzZPn7emHlu+xIDRRySrvJBRb6VJ8GK/jjOS6V/SBJS+SKJTPTWA/H/FFVdU6fPWlbJy5a+//qqRCZa9/f5K/ye9RkOSA1fX8/pbedXlY2v48OG2L/TS9GX2r702Hlu+KqvaeFx56z12lkrH28/r13zaIF6HSZ8JGeXmKlGp9K/TJScnW3ft2qXuL4+rfnmSqDQ6OrpWJSr1VVnJCETpx1LaqlWrrGFhYdbAwMAaN5q1qsrK0WhFs9lsffDBB1V5DRs2rFLPW9fLS7aRlZVV5jGyvFGjRuoxy5Yts/pjWcnnR15fly5drOfOnbMtP378uLVp06ZqNPCePXtsy+vyOcvTsqqN5yxvnOOlDCTZubxeVyPDa+Ox5UsMGH1o8eLF6oCOjIy03nbbbdb777/flmpDMtPbk0677s4kUd5ADj21jHyg7rrrLnWR2waDwTpnzhxrTeSLspLtyAljwoQJaoYAeU5ZT8pJTtTvvfee1V/LSu/sfcMNN1gfeeQRtR05ccvyZs2aWQ8cOFCp563r5fXMM8+o57v44out//znP60PPfSQ9bLLLlP7IY957LHHrP78OZTHyX2SKkVev2xLBqTJspdeeqnM+nX5nOVJWdXWc1ZVn+P1mbyuuOKKcp+3Nh5bvsKA0cf++usvlR9LRoBJzrYLLrjA+vXXX5dZryoDRrFgwQKVXyo8PFzluJIRdH/88Ye1Jqvusvrhhx/Ul3jr1q1VOcnJTE7a1157rdoXfy6rBx54wDpw4EBrfHy8et3y+rt372598skn1a/yyj5vXS+vpUuXqlGuMkpTnjMgIEDVLMrx9vvvv1vrwudQlksePKn5kvIaNGiQ+sw5U5fPWe6WVW0+Z1VleUlGDLl//vz5bj1vbTy2fMEgf3zdLE5ERERENRcHvRARERGRSwwYiYiIiMglBoxERERE5BIDRiIiIiJyiQEjEREREbnEgJGIiIiIXGLASEREREQuMWAkIiIiIpcYMBIRVZPs7Gw0bdoU//jHPyq9rY8++ggmkwnbtm2rkn0jInKFASMR1UrXXXcdDAYDvvrqK5frpaenIywsDDExMcjJyYEvvf7660hJScGTTz6p/l+4cKF6DWPGjCn3sddff71a98svv1T/33TTTWjZsiUeeughr+83EREDRiKqlW655RZ1/cknn7hcTwJKCRSvvfZahIaGwlckcH3jjTcwadIktGjRQi0bOXKkur1o0SIkJiY6fWxaWhp+/PFHFfReccUVallgYCDuu+8+/P7771i1alW1vQ4iqpsYMBJRrTR8+HC0bt0aixcvxtGjR52upweUeoDpK59//jkyMzMxefJk2zKj0YipU6fCYrFg1qxZTh8rtYoS9EotY0hIiG35Nddcg4CAALz//vte338iqtsYMBJRrSTNs3qwNXPmTIfr7NixA3///Te6deuG3r17V+h5fvjhB/VYqZ2Mj4/HbbfdhnPnzqFVq1bq4i7Zx/r166tA1568BnktEjBarVaPgt64uDgMHToU3333nQpGiYi8hQEjEdVaU6ZMUbV0zoItPZCsaO2iBGpXXnkl9u3bp2oGpd/gmjVrMGrUKBQUFLi9HQkwN23ahAsuuEDtrz3phyhN0wcPHsTSpUvLPHb79u1Yv349zj//fHUprX///sjNzcXq1asr9BqJiNzBgJGIaq3mzZtj9OjROHz4sGqatmc2mzF79mwEBwfjhhtu8HjbqampuPfeexEeHq4Ctv/973947bXXsHnzZkRHRyM5OdntbUmQKTWhvXr18rg/ZnlN6nrNKfsxEpE3MWAkolrNWbD166+/4uTJk7jssstUU7Cnfv75Z9XMK9tv166dbbn0GXzxxRc92lZSUpK6liZtRyZMmIAGDRrg+++/V4NjdFKLKUGv9FuUUeGO6NvUn4OIyBsYMBJRrSYBofTlk1HEMpq4qga7bNmyRV0PGjSozH19+/ZVgaO7zpw5o65llLMjei2oDGyxTxM0d+5cnD59Gpdffjnq1avn8LF6MCzpeoiIvIUBIxHVapJe5sYbb1TBlp6j8MSJE1iwYIFKWSP9AytCr+lr2LBhmfukH2JsbKzb29LT+UhfQ09qSt0JevXckpJrkojIWxgwElGtpwdUH3/8sS2FjfRhlBHIpQeZuCsqKkpdnzp1qsx90h/Rkxo9qQEVZ8+edbpO165d0adPHzWqW0Z3Hz9+HL/99ptKHVR6ZLU9fZv6cxAReQMDRiKq9Tp37ox+/fphw4YN2Lp1qxodrafdqaju3bs7HUwiQZ0EpO6SYFDs2bPH7cD3s88+Q2FhoS3tjjP6NvXnICLyBoPVWeIvIqJaROZWlhyJAwcOVEGepL6RqfcqSkZJyyhsISOjExIS1G0JFC+66CI1O4ukxJER2uWR06w0YTdq1EjVHrpqBm/cuLEamS19Fvfv36+2r++HIzfffLMKkCVwbN++fYVeKxFReVjDSER+Qabck0BLrxGs7MwuMkDlzTffVCOlJR3OHXfcgUceeUTlQpS8ik2aNHG7uVtqCGVwzq5du1yOZpZm8IkTJ6qBLnv37lUpg1wFixKI/vnnn+jUqRODRSLyKgaMROQXIiMjcfXVV9tGDkuqmsqSGstvv/0Wbdq0UcnB5SJN31JzKbWBej9Hd0jAKQGePjDHGftAV2oPXVm+fLmaFvH22293ez+IiCqCTdJERB6SpmLJzSgB6jfffOP24wYPHqxqD3fu3FnhwTj2JBWPjAY/cOCA05Q9RERVgTWMREROSNNzXl5emTQ29913n7rtaS3m66+/rvoafv3115XeN2mylu08+eSTDBaJyOvczzxLRFTHLFu2TDURS19CyekoqXRkCkIZiCKpbqTfpCekOVumGJTRz5UlfSGfeeYZTJs2rdLbIiIqD5ukiajOkD6I7oxqlprDHj16YN++fXjqqaewevVq1ZQs2rZtqwLFBx98UE3ZR0RUFzBgJKI6Y+jQoarWsDySpmbKlCnVsk9ERLUBA0YiIiIicomDXoiIiIjIJQaMREREROQSA0YiIiIicokBIxERERG5xICRiIiIiFxiwEhERERELjFgJCIiIiKXGDASERERkUsMGImIiIgIrvw/AeipG35Kx3kAAAAASUVORK5CYII=",
      "text/plain": [
       "<Figure size 640x480 with 1 Axes>"
      ]
     },
     "metadata": {},
     "output_type": "display_data"
    }
   ],
   "source": [
    "p=Coach()\n",
    "p.setup_nfet()\n",
    "# set source voltage\n",
    "vs_n = 0\n",
    "v=p.set_nfet_vs(vs_n)      \n",
    "print(f\"The source voltage is set to {vs_n:.3f}V\")\n",
    "# set drain voltage\n",
    "vd_n = .4 # Greater then 4*UT\n",
    "v=p.set_nfet_vd(vd_n)\n",
    "print(f\"The drain voltage is set to {vd_n:.3f}V\")\n",
    "# set starting gate voltage\n",
    "vg_n = 0\n",
    "v=p.set_nfet_vg(vg_n)\n",
    "print(f\"The starting gate voltage is set to {vg_n:.3f}V\")\n",
    "\n",
    "# measure the vg=0 offset current\n",
    "I0n = p.measure_nfet_id()\n",
    "print(f'With Vg=0, the offset current I0n={ef(I0n)}A')\n",
    "\n",
    "# make a V_g array for the gate voltages ranging e.g. from 0.4V to 0.8V.\n",
    "# you can adjust this range to cover the realistic measurement range.\n",
    "n_samples=200 # now many points to capture. Note the DAC has only 10 bits of resolution over 3.3V so the smallest step is 3.3mV\n",
    "vgn_low=0.4  # TODO set this line and next line to grab just the range you want\n",
    "vgn_high=0.7\n",
    "vgn_set=np.linspace(vgn_low,vgn_high,n_samples) # make linear spacing with 100 points\n",
    "vgn_actual=np.zeros_like(vgn_set) #we will use this to hold the actual DAC values\n",
    "#Initialize current variables\n",
    "idn_meas=np.zeros(n_samples) # drain currents\n",
    "isn_meas=np.zeros(n_samples) # source currents\n",
    "import time\n",
    "#Read Ids at Vg sweep and wait for it to settle\n",
    "delay=0.01\n",
    "for n in range(n_samples):\n",
    "    vgn_actual[n]=p.set_nfet_vg(vgn_set[n]) # record the voltage after DAC quantization\n",
    "    time.sleep(delay) # sleep a bit for FET to settle\n",
    "    idn_meas[n]=p.measure_nfet_id()\n",
    "    isn_meas[n]=p.measure_nfet_is()\n",
    "    if n%10==0:\n",
    "        print(f'Vg={vgn_actual[n]:8.3f}V idn_meas={ef(idn_meas[n])}A')\n",
    "p.close()\n",
    "\n",
    "#Plot in log scale\n",
    "plt.semilogy(vgn_actual, idn_meas,'-')  #plot using line with points marked\n",
    "plt.semilogy(vgn_actual, isn_meas,'-')  #plot using line with points marked\n",
    "plt.legend(['$I_d$','$I_s$'])\n",
    "plt.xlabel('V_g (V)')\n",
    "plt.ylabel('Current (A)')\n",
    "plt.title(f'NFET Source current vs gate voltage with Vds={vd_n-vs_n}V')\n",
    "plt.grid(True) # turn on grid\n",
    "import os\n",
    "os.makedirs('data',exist_ok=True)\n",
    "plt.savefig(datapath/'lab2-nfet-ids-vs-vgs.pdf') # change the name to what you want\n",
    "plt.show() # render the plot, you need to show the plot *after* you save it, otherwise you get a new (blank) plot saved"
   ]
  },
  {
   "cell_type": "markdown",
   "metadata": {},
   "source": [
    "#### Plotting drain current vs gate voltage on log scale"
   ]
  },
  {
   "cell_type": "markdown",
   "metadata": {},
   "source": [
    "* <font color=#108ee9>Which measurement (drain or source) looks better to analyze? Why do you think this is occurring?</font>"
   ]
  },
  {
   "cell_type": "markdown",
   "metadata": {},
   "source": [
    "I would say the source is better. In general, in the case of an NFET, the drain terminal will have more noise due to some current leakage and parasitic capacitance. Since the source terminal is connected to ground (0V in our case), it is also less affected by noise and fluctuations."
   ]
  },
  {
   "cell_type": "markdown",
   "metadata": {},
   "source": [
    "If your data looks good, maybe you want to save it?\n",
    "You can ignore the error about not being able to pickle p; it is a native code object."
   ]
  },
  {
   "cell_type": "code",
   "execution_count": null,
   "metadata": {},
   "outputs": [],
   "source": [
    "savevars(datapath/'lab2')"
   ]
  },
  {
   "cell_type": "markdown",
   "metadata": {},
   "source": [
    "#### Fitting an exponential to the NFET data\n",
    "\n",
    "Now you can fit a line to the valid region in log plot and try to extract $I_0$ and $\\kappa$.\n",
    "\n",
    "Unfortunately there is no decent interactive line fitting tool for python notebooks. You need do do a lot of ugly slicing and filtering to fit just the range you want. Please check the code below; you need to adapt it for the PFET drain curve fits later.\n",
    "\n",
    "* <font color=#108ee9>Use the code below to fit an exponential to the best valid range of drain currents.</font>"
   ]
  },
  {
   "cell_type": "code",
   "execution_count": 83,
   "metadata": {},
   "outputs": [
    {
     "name": "stdout",
     "output_type": "stream",
     "text": [
      "Current range: 1.49e-08 to 9.99e-07 A\n",
      "Voltage range: 0.399 to 0.699 V\n",
      "Number of points in fitting range [0.4V to 0.7V]: 199\n",
      "Current range in fit: 1.49e-08 to 9.99e-07 A\n"
     ]
    },
    {
     "data": {
      "image/png": "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",
      "text/plain": [
       "<Figure size 640x480 with 1 Axes>"
      ]
     },
     "metadata": {},
     "output_type": "display_data"
    },
    {
     "name": "stdout",
     "output_type": "stream",
     "text": [
      "Exponential fit between 0.4V and 0.7V:\n",
      "i0n = 2.07e-10 A (1.30e+09 e/s)\n",
      "inverse slope = 7.63e-02 V/e-fold\n",
      "kappa = 0.328 (U_T = 2.50e-02 V)\n"
     ]
    }
   ],
   "source": [
    "idn_corrected = idn_meas # use raw measured current without offset\n",
    "\n",
    "# Debug: Check data range\n",
    "print(f\"Current range: {np.min(idn_corrected):.2e} to {np.max(idn_corrected):.2e} A\")\n",
    "print(f\"Voltage range: {np.min(vgn_actual):.3f} to {np.max(vgn_actual):.3f} V\")\n",
    "\n",
    "# Find indices where current is positive for log fit\n",
    "idix = np.where(idn_corrected>0)\n",
    "idlog = np.log(idn_corrected[idix])\n",
    "vg_masked = vgn_actual[idix]\n",
    "\n",
    "# Set voltage range for fitting - use lower range where current varies\n",
    "vg0 = 0.4  # lower limit\n",
    "vg1 = 0.7  # upper limit - reduced to avoid saturated region\n",
    "\n",
    "# Get data points within voltage range\n",
    "idx = np.where((vg_masked>vg0) & (vg_masked<vg1))\n",
    "x = vg_masked[idx]\n",
    "y = idlog[idx]\n",
    "\n",
    "# Debug: Check fitting data\n",
    "print(f\"Number of points in fitting range [{vg0}V to {vg1}V]: {len(x)}\")\n",
    "if len(x) > 0:\n",
    "    print(f\"Current range in fit: {np.exp(np.min(y)):.2e} to {np.exp(np.max(y)):.2e} A\")\n",
    "else:\n",
    "    print(\"WARNING: No data points found in fitting range!\")\n",
    "\n",
    "# Fit line to log(Id) vs Vg\n",
    "fit = stats.linregress(x,y)\n",
    "idn_fit = np.exp(fit.intercept + x*fit.slope)\n",
    "i0n = np.exp(fit.intercept)\n",
    "\n",
    "# Calculate parameters\n",
    "U_T = 25e-3  # thermal voltage\n",
    "q = 1.6e-19  # elementary charge\n",
    "v_per_efold = 1/fit.slope\n",
    "kappa = U_T/v_per_efold\n",
    "\n",
    "# Plot results\n",
    "plt.semilogy(vgn_actual, idn_corrected, '.', label='measured')\n",
    "plt.semilogy(x, idn_fit, '-', label='fit')\n",
    "plt.xlabel('$V_{gs}$ (V)')\n",
    "plt.ylabel('$I_d$ (A)')\n",
    "plt.title('NFET Drain Current vs Gate Voltage')\n",
    "plt.grid(True)\n",
    "plt.legend()\n",
    "\n",
    "# Save plot\n",
    "os.makedirs('data', exist_ok=True)\n",
    "plt.savefig(datapath/'lab2-nfet-ids-vs-vgs-fitted.pdf')\n",
    "plt.show()\n",
    "\n",
    "# Print results\n",
    "print(f'Exponential fit between {vg0}V and {vg1}V:')\n",
    "print(f'i0n = {i0n:.2e} A ({i0n/q:.2e} e/s)')\n",
    "print(f'inverse slope = {v_per_efold:.2e} V/e-fold')\n",
    "print(f'kappa = {kappa:.3f} (U_T = {U_T:.2e} V)')\n",
    "\n",
    "# Save parameters for later\n",
    "kappa_n = kappa\n",
    "v_per_efold_n = v_per_efold"
   ]
  },
  {
   "cell_type": "markdown",
   "metadata": {},
   "source": [
    "#### <font color=#108ee9>Please comment on your results.</font>\n",
    "1. Over what current range does your exponential fit make sense, considering the limitations of the current sensing? \n",
    "\n",
    "   From the semilog plot, the range should be voltage span where the curve is linear, as this indecate true exponential behavior. This corresponds to a currentspan of approx $10^{-8}-10^{-7} A$\n",
    "\n",
    "2. Does the value of the off current $I_0$ make sense?\n",
    "   \n",
    "    Yes, although the value is a bit high (2.07e-10 A) realtive to values given in class (5e-14A)\n",
    "\n",
    "3. How many mV must $V_g$ change to change the current by a factor of $e$?\n",
    "\n",
    "   This corresponds to the value of the inverse slope, which we calculated to be $70.63 mV$ this is twice as much as the example provided in class\n",
    "\n",
    "\n",
    "4. Does the value of $\\kappa$ make sense?\n",
    "\n",
    "    No the value is quite low?"
   ]
  },
  {
   "cell_type": "markdown",
   "metadata": {},
   "source": [
    "<font color=#108ee9>Enter your discussion here.</font>\n",
    "1. From around 10-7 A to just before 10-6 A\n",
    "2. I would say yes, it's resonable... $I_d​(V_g​=0.40 V) = I_0​e^{κVg​/U_T}=4\\times10^{-8}​$ A\n",
    "3. $\\Delta V_g​ = \\frac{U_T}{\\kappa}\\approx 76 mV $\n",
    "4. It looks a bit low, was expecting more a Kappa closer to 0.5, but it is not unimaginable for this chip. It would mean $S=\\frac{\\ln 10 U_T}{\\kappa}​​\\approx176 mV/dec$"
   ]
  },
  {
   "cell_type": "markdown",
   "metadata": {},
   "source": [
    "### 3.2 P-FET saturation current $I_{ds}$ vs $V_{gs}$\n",
    "Now you should replicate above experiment but using the test PFET"
   ]
  },
  {
   "cell_type": "code",
   "execution_count": 70,
   "metadata": {
    "scrolled": true
   },
   "outputs": [
    {
     "data": {
      "image/png": "iVBORw0KGgoAAAANSUhEUgAAATIAAACSCAYAAADGrUafAAAAOXRFWHRTb2Z0d2FyZQBNYXRwbG90bGliIHZlcnNpb24zLjkuNCwgaHR0cHM6Ly9tYXRwbG90bGliLm9yZy8ekN5oAAAACXBIWXMAAA9hAAAPYQGoP6dpAAAh40lEQVR4nO2dB3TURvf2h2KwTTEdDBibHl46oZlmML2ZXl4ImBZIcAgJEAi9GDD9DQndphN6Cb23AAFCJwEcmikxBmJ66Jj5n+eeT/tpd6X1rhtofX/n6Kw9GkmjkfTo3jtXUgoppRQMwzAGJuWHbgDDMEx8YSFjGMbwsJAxDGN4WMgYhjE8LGQMwxgeFjKGYQwPCxnDMIaHhYxhGMPDQsYwjOFhIWMYxvCwkDEMY3hYyBiGMTwsZAzDGB4WMoZhDA8LGcMwhoeFjGEYw8NCxjCM4WEhY5hYePz4sZg4caLw8/MTOXLkEC4uLsLDw0OUK1dOfP311+L48eO6yz558kQEBweLChUqiEyZMglXV1eRP39+ERgYKE6fPq25zJUrV8T48eNFjRo1RO7cuUWaNGmEl5eX6Ny5swgPD9dc5scffxSNGzcWPj4+Il26dLSt0qVLi1GjRomHDx8KZycFv+qaYfTZt2+faNeunYiOjhaFCxcmccmZM6d4/vy5uHjxojh06JB49eqV+OGHH0Tfvn3Nlj1x4oQICAgQd+/eFSVKlBC1atUS7u7u4tKlS2LHjh3i7du3YuTIkTSpad++vVi1ahUtU61aNZExY0bxxx9/iO3btws3NzdaFu1QU7p0afotU6aMyJUrF7UJAosJIvj7779TudMCIWMYxpozZ85INzc36e7uLpcuXSrfv39vVefBgwdy+PDhcsyYMWblN2/elFmyZJEpU6aUs2fPtlouPDxcFixYEEaEnDlzptm8hQsXytOnT1sts2LFCqr/n//8x2rey5cvNfdh2LBhtMyAAQOkM8NC5sSsXbtW1qhRQ2bPnl2mTZtWenp6ytq1a1O5mk2bNsmaNWvKjBkzSldXV1mqVCk5depU+fbtW7N6+/fvp4ti5MiRVtuKiIigeYGBgWbl3t7eND169EgGBQXJvHnzylSpUtHFqnD27FnZoUMHmSdPHpkmTRqZK1cuWb9+fWqXJb/88ov09/eXmTJlon0qXry4nDx5snz37p1MaKpXr077pG6rHpZ91bFjR1p26NChusv8+eef0sXFhfr98ePHdrWpSJEitN5//vnHrvrnzp2j+s2bN5fODMfInJTZs2eL1q1bU7ylRYsWol+/fqJBgwbk5mzYsMFUb9q0aeT+nD9/XnTo0EEEBQWJly9fiv79+4s2bdrgRhfvtrx+/Vr4+/uLXbt20bawDbhnYN26daJixYpizZo1olKlSrRdxHoiIyPF/PnzzdYzePBg0bx5c/HXX3+Jli1bit69e5Or9d1335E7lpCg3+A25suXj2JTsZE6dWrT33A7V69eTfGwAQMG6C5TvHhx2o+nT5/S/tsD4nOW27PF1q1b6RduqjNjX28whiMsLIyCxGfPnqUAtZoHDx7Q77Vr18SgQYNo/smTJymWAsaNGyfq1KkjfvnlF7Fs2TLRqVOneLUF4okYzpEjR0h4FO7du0dBb1ycEI2yZcuaLff333+b/t69e7eYMGGCqF+/PokfAtoAQgtBmzNnDpW3atXKtAwC3Y7QpUsXCpaDo0eP0i8C/ClTOna/R18i/gWBRtDdFrVr16Z4GLbXo0cPm3UR57pw4YJp4ECLefPmiTt37ohnz57RYMKBAweoX3Ejc2ZYyJwYCIRyB1eTNWtW+l2+fLl49+4dWUGKiIG0adPSKF3VqlXFokWL4i1kYNKkSWYiBhYvXkzWy4gRI6xEDOTNm9f094wZM0wXqiJiIEWKFCRwc+fOFStWrDATstGjRzvUxpo1a5qEDOILMGqoNYqJ4L4aCMs333xjtqy6T/VQ6kRFRdmsh9FPiD5EFX2px7x588SpU6dM/9erV08sXbpUZM6cWTgzLGROClytgQMHkksBlxEjZsoImMKZM2dMF7Alvr6+5BrBoosvWE/JkiU1LQzlYouNY8eOkYAtWLBAcz5E0jI1IbEG5CFkliLp7e1tErKEBq4+wgPYP1jLWsdLbQ0CjLLCyvv+++8pTWTbtm2iVKlSwllhIXNSEJuB5YVY2dSpU8WUKVMoroL40//+9z/KZUJsBijxKjWwdFCOWFV8geuK9WlZGSBPnjyxrgO5ULAebVlZsO4SCqVP4KZZAqtNLZIQajVKmsPt27dj3Y5Sx9PTU3M+0iiaNWsm9u/fTzHCIUOG2NX+bNmyiaZNm1I6BtJGPv/8c5v5bkaHhcxJgXB069aNJsTEEIOC64UgNALZCO4r1hliVbAo1OBCRbnaglNiRRAUPVHSa4sWSpwHYqm4dHqgHVgPLA17iU+MrEqVKvR78OBB8f79e4fiZOXLlyeXHi4e+gXJs3rs3bvXZAFrWWIQMcQHYV0jSdZRvLy8RLFixSin7cWLF5TH5pR86GFTJmlB6gIOO/KYkPuEvydOnGhV7+jRozQP9RXOnz9PZV26dLGqjxQFW+kXWkyaNImWGTFiRKztbtiwIdW9fPmynXtKJpNDE9JL1FSrVo3KFy9ebHM7SAOx3Eekk2BZ5JjpcfHiRUo3yZAhA6WnqHnx4oWsW7duguSA5cyZk/LZXr16JZ0VFjInBRelZQLnmzdvZJkyZejiuHHjhrx69apMnTo1neiRkZGmeq9fv6b8M9RbsmSJWTkuOiR6IhFU4e7du6bkTkeE7N69ezJ9+vQyXbp0lHxqyd9//236e/v27bR+iEt0dLRV3aioKBKGhARJqUiIRfuWL1+uWefJkyckRpb7iP7NnDkz5cyFhoZaLQdBLly4sGZCLJJbFRHr169frO28c+eOWV8p4Pgj5w/rwfqcGX5EyUmB2wZ3rHLlyuQ2Ih0ALgoeq0F+mZK3hDwyjFointa2bVsKqG/evJlyteDWIOdM7RoOHTqUXBysE/MxzI/6SFNA+gNG1jDSqaC4ajdu3NBsJ9aPgQmchsgxK1q0KLmPiOdgWaSAKGB0E88tYt+QE4c2wG2+evUquc5jx46l4HZSPKKE/b516xblxsEF7NixI6WqWA5QoI/u379PgXYE6ZVHlPC4kd4jSnBxMaKLWFuvXr1idYMPHDgg6tatS8cabUT70F70CY4jRl5RB/Oclg+tpEziMGvWLBkQEECWArL1s2bNKitWrEiPy8AyU7Nx40bp5+dH1hbcpJIlS2pm9oOYmBg5atQo6eXlRZYIMs2nT58ur1+/7rBFpgBrrG3btmQZItMdTyDAldyyZYtV3d27d8umTZvS0wqoi6cAfH19ZXBwsLx165ZMDOD2hYSEkDWIfoQVi2z80qVL09MKx48f11324cOH1F/lypWjZdBn+fLlk507d5YnT57UXAbHwhE3OCoqSg4cOFBWqlSJ+gXtw7HENuHaqq1nZ4UtMoZhDA8/osQwjOFhIWMYxvCwkDEMY3hYyBiGMTwsZAzDGB5+RIlxWq5fv045bsjzwoPTeDWRo6/kYYwBCxnjdCDRFO8ow4sZ1dlFn3zyCSXg4pdxLjiPjHE6+vTpY3p/mdY7zvAhj9heeMgYC7azGacCb+zASxb1wFtn1Y9QMc4BCxnjVOC1OHAtbYHnHBnngoWMcSq03pUWlzqMsWAhY5wKrRcUWqK8NJFxHljIGKcCr6rB64D0wGuKevbsmaRtYhIfFjLG6UAwH+/msiR9+vT0fjN7vm7EGAtOv2CckpiYGPpyEF7aiHfV4yWT+I4nPsrBOB8sZIxTg7wxfNwEX2pSf/CXcS7YtWQYxvCwkDEMY3hYyBiGMTwsZAzDGB4WMoZhDA8LGcMwhoeFjGEYw8NCxjCM4WEhYxjG8LCQMQxjeFjIGIYxPPzxESberFmzRkyePFkMHDhQtG7dOta6I0aMEM+ePUuStkVFRSXJdpgPCz80zsSbYsWKifDwcPo60aVLl+yqm9TY0zbGuLBFxsQbxbqyx8pS6uD7kp6eniIpyJAhgwgODk6SbTEfBhYy5oMAEePX6jAJBQf7GYYxPCxkDMMYHhYyhhFCHDhwQKRIkUKMGjUqUdaP9WL92I7CjRs3qKxLly6Jss3kxEclZDioNWvWFB8jv/76K7UPE1IIbH34AnUmTJhgVo79Qrmrq6u4efOm7sga6mixc+dO4efnR4FrvH++Vq1a9DFahokr/v7+dL6VKFHCZj0fHx86b7WEH1OvXr00l1u5cqXmzeHs2bNiyJAhon79+iJ79uwJct1/VEL2MTN//nz6RacvWLAgzut5/fq1GDZsmEPLLFu2TDRo0IDSB3D3DgwMFBcuXBB169YVa9euFUnFrVu3xOrVq8XixYvFrl27Yv2iN/Pxcv36dZMY4Vw6fvx4nNeF6+Gvv/6yuz6+ZBUSEkLbz5Url0gIWMjs4OnTpyQYpUqVEnXq1KGL+Pbt23FaV8GCBcXy5cvF+fPn7ar/6NEj0adPH/r6z+nTp8VPP/1EE/7OmjWr+PLLLxM9uRR30GbNmon8+fOLdu3akZjiburt7S3GjBmTqNtmEocFCxYIpJD279/f7EYdl/MZX26HhWUvbdq0EadOnRL//vuv2L17t/ggQoZGQ02xAzA3CxUqRP9D4S39/f3794tu3bqJokWL0jcFMZUvX17MmzfPbJ3KnQEcPHjQZLJigqumZuPGjaJ27doic+bMtH2YxVOmTKHPfyUWK1asoE+Kde7cmab3799btctexo4dS8sPGjTIrvpwYx8/fkxihi8CKeDvr776SkRHR4sNGzbYXAfSHMaNG0cuwPDhw8Xly5ftbu++fftE1apVxaZNm6jdllnzI0eOpDYkFDi/Hj58GO/14CLFufTtt9+KL774gs45XDj2cPjwYXJ14MZnypRJtGrVSly9etWsji13CK4Yprjy5s0b0bZtW9oGnpZI6Jz1mJgYOn9xI8R5gWsYbuDz588dXhdu7Ah5rF+/3m6rrnjx4qJcuXLCxcVFJBjSQTp16oRelQUKFJD9+vWTQUFBMnv27LJp06ZUHhgYaKpbv359WbBgQdmxY0c5aNAg2atXL+nt7U31sKxCRESEHDlyJJVjPv5WpjNnzpjqff/991QnT548slu3bvLbb7+V5cuXp7LWrVvLxKJChQoyVapUMioqSj5//lymT59e5s+fX75//96q7sKFC6k9ISEhZuV+fn5UjnU0bNiQ/t63b59ZnaJFi1K5mv/+979UdvToUattoQzz0Bd6/PTTT9R21FNPOB5a7Vdz+/ZtmTFjRtMyuXPnloMHD5Y//vijbN68uUyRIoXZOnFcYgN1tOq+fftWLl26VBYpUkQuW7ZMxoenT5/KOnXqWO1zlixZ5OHDhzWX2b9/P9XBOZsmTRoZEBBA+4pf7CfO8WvXrpnqoy6OqRY4hzGpUc5vbEd93lteM2i7v78/bXPq1KkyMdi6dSttt3fv3vT/6NGj6X+cu3r7kzZtWs3+wjV97Ngx+rtGjRpmdVasWEHl2Hc9cD3Y6kt7cSghFsHlpUuXijJlyogjR44Id3d3Kh86dKgoW7asVf3Zs2eTO2J5x23UqJGYPn266Nu3r8iXLx/dvRAQHD16tOlvS2CCIoAOl2bdunUiXbp0ihCL3r17izlz5lA57p4Kjo5AwZq0vJP+8ccf4sSJE7RdxZ9v2bKlWLJkCVkrsA4dBfuB4D2sMtzF9AL84MqVK/RbuHBhq3lKmVLHku3bt5Mlp8XEiRPp2OgFasHcuXPJrQY4ZnCv3dzc6H+sF5YL4nSvXr2iMkuLzR5wPsAaQOa9I5aiLT7//HOxZ88eq3JYeo0bN6ZHpPRiMzguOJfU/YJ+gFWH83Xz5s0isbh3755o2LCh+PPPP+n8+uyzz6w8F/WoZ2z4+PhojogqbmSnTp3oF9vBtYLyuIygVqpUiZ6xxfmxZcsW0aRJE5HkOKJ6Xbp0IfVcv3691bzx48db3V30WLduHdVdtGiRWbktZcadEfNv3rxpNe/x48d0B2vVqpXV+hyZ1HdLhb59+9K8n3/+2VS2Z88eKoO1FBeLDHTu3Jn+X7VqlU2LrHDhwlQGi8WSN2/e0LxSpUpp9lmtWrVs7i+s5ZiYGM1lYa3lzJmT6qVOnVpGRkZq1uvfv79pfR4eHtIRi0yxwCzbFR+L7Pr161aWouU0ZswYq+UUCwPtsewT/I/jgPXev38/USyyq1ev0vFwd3eX27dv11yvsg57Jz+N9qH9Li4utJ9qqlWrRsuEh4c7bJGBy5cv03lSokQJU/99tBbZuXPn6LdatWpW8xBHsQRBaMSvMEqBz9Vb+uB37tyxe9vHjh0jK0xvxBCWguXDyPGNLWCEESOGiJW0aNHCVI7UBy8vL4pNIRiPeJ2jwAJZtWoVjWDCwkudOmGfFsO+I2XEFjgmuXPn1tw2loeFABBDQT0tYAFPnTrVZF3ZC9atWASWwNqzN4ZoCWKZsR13WDWIFWqB8xjPgarB/yiH5YtrAHGhhATnLdaP/oOVDwtHC1hN8c1zW7x4MY02W/Y9Yr+wsHF9wVp3FHgHPXr0IGsW1mRS58Y5dPXAzcBBxQiaJTlz5rQKWCIYitE1uJ3oOAQXcdEgERAdCqGwF7gFONBwP/WIS7DSFhDgBw8eiK5du5pcKoA+6NixI7mIGIEMCgpyeN1wqbHctGnTKBAN91gLDw8P+n3y5An1nxrF7VPqWGLLZVVQxMoWtp6JjOsgi6224eaAKbGwFCpb57FlOY5DQgOXGvtbpUqVWHO64sv8+fOp7y2FDIMLX3/9NYkQBgDicmPFwA9CT3hNU/v27UVS4lBrkYiJOAhGqZDIZuuCwOgiRKx79+4iLCzMbB5iIhAyR7eNA+DICFl8Y2RKLGHhwoU0aYE6cREyJbaIOyBSGHBH1LvTnTx5kqwBSyGzFT9DXyF+hTiZHjhZc+TIoSsqd+/eJaHCaF9ERIRVvFM5lur12Qu2GxoaSsfo999/N5sHC1eJvzoK2ot226JevXoOC7tSrtw00Gd6FijETu/mokVAQAD1LfoCscht27aZYsAJGSP77bffTF6L3qgq+g7bR5scBXHHfv36kbeBFCF4LR+lkJUuXVqcOXOGAv3Nmzc3m4dOsnRbAPKPLDl06JDunVLvDg9zGxclLl6tC1cLW9abFrAglQOM7HsMbuBOrBe8hBuA/sCkNdgRG1myZCEXavDgwSb3zBIMbSP9A7lrlStXtgpMK3W0wNA96ugF4SGieu6dkiqiuGCwSmGhIh1BYevWrWapNFoXny0Q2Eai744dO8wEDRcBLN64gpunXggCAop90QPnNvpLbbXhf5zfEC9cA4rYRkZGWi0PbwPpMo4ImWLNpEqVivob/QIxQbqSGoiYI+e0n5+fmZApN2asXytUgHZjwAz14iJk4LvvviP3EilZ48ePF0mGIwG13bt3U2CubNmy8sWLF2YBu1y5cpkF+5cvX07/Dxw40GwdBw4coGCjVhAwW7Zs0sfHR3PbCIBiGQQlo6OjreajDRcvXpQJhRJYHTFihG6duXPnUh2koDga7FdAPyLwnSFDBlNwXc3Dhw8piI6+QTqEAv5GGSYM2euBgLqbm5tZEBhB2YkTJ8baB3fv3qX1q4P5PXv2pL7BULtlcDk+6RcYXNi2bZusWLFivNMvXr58Kdu0aWPVPi8vL3n27FnNZZTgNaY5c+aYzcP/KG/SpImpDGkaKMP5rPD69WvZokULKo9r+sW4ceNM5/mzZ89kQvHs2TNKG0qXLp3uehGkz5s3L50f6vPUnmC/munTp5sGk5Iq2O9wHlmHDh1MjcSI1VdffSVz5MhhyiPr2rUr1UNnQZRQ1qhRIxK0Zs2aUU4Tcr60drBt27ZUjnqjRo2SwcHB8ty5c6b5w4cPp/mZMmWS7du3p1yoHj16yJo1a9J6LcUjruCA5suXj0apMAqmB0ZLIRJoDy6euAgZCA0NNbvgtMQI5chlQn9jwt9o3+rVq2PdH4jhrFmzKA9v2rRpmm3QAzlCmTNntjk6pghlfIRMLWgJdQHj3MEI5ZAhQ+SaNWtolFeP2PLIIOjqPLKdO3dSOUYZu3fvLvv06SM/+eQTWblyZenp6RlnIQM4d1BetWrVBOuLsLAwu7IK0FeoN2HChDgLGQQdeZbK+WF5nV+6dInagUm55nETV8rsyXyIt5AhDQACg4bigCMxFqkXx48fpwYhXUEBIoCUCFx0OOBILF25cqWpEyx3EBcYdgwnTcqUKTWT9GAVQjSxTlh2sAR9fX2pTbdu3ZIJAU5Se+8SSPZVp2fERcjevXsnixUrpitkikVavXp1uqPizor1oS+SAgyt4wbl6upqJmBIF5kxY0as4qTGkbpJifqcPHToEPUv+hoJwbCyrly5YrUMxLFkyZJ0HeA8hJhBeOKTEKsAixnzqlSpYtPithdfX1+r7esdayUNJa5CpvbItK5ztfWrNzlKgr2zHwF9JCLOmjWLnv9jnA+M4CIeiARYBHY//fRTihvhcSnEi/LkyRPrW18dqcsw9uLwGCtGNRAAV4904cREYBjByg+S1cskCRg1TegcKob5IEKG3CmMVlWvXp1GgPBqFzyWgORXjDwl5ZArwzBMnIQMw+UXL14kMUMSH95AgdfbIKGzQ4cO3KsMwxhDyDAxDMN8LPCLFRmGMTwsZAzDGB7+QC/zQcDbZdVvvE2KL43jnVmMc8JCxiSIUKh/7amL5xe1nlVMLPAMIwuZ88JCxsQbWDuTJ0+mB4btqQtRSewPpqgtP4hmUm2P+TAkWGY/w3yM8JMEyQMO9jMMY3hYyBiGMTwsZAzDGB4WMoZhDA8LGcMwhoeFjGEYw8NCxjCM4WEhYxjG8LCQMQxjeFjIGIYxPCxkjFPy8uVL+po9PpiifP0bH89lnBMWMsbpwAdyKlasSF/ZxhefwL///iuKFi0q1q9f/6GbxyQC/NA443TUrVtX7NmzR3NemjRpxKVLl0SBAgWSvF1M4sEWGeNUXLhwQVfEwJs3b8ScOXOStE1M4sNCxjgVp06dirXOyZMnk6QtTNLBQsY4FXAdYyNt2rRJ0hYm6WAhY5wuPoZvrdqiWbNmSdYeJmlgIWOciqxZs4pvvvlGd36hQoXEZ599lqRtYhIfFjLG6Rg3bhx9P8DSzfT19RV79+4V6dOn/2BtYxIHTr9gnJZ//vlH7Nixg3LJypYtK8qXL/+hm8QkEixkDMMYHnYtGYYxPCxkDMMYHhYyxgw8WJ0iRQp6TjGxqFmzJm2DYRIKFjIm2fPu3TuxbNkyyi/Dh3yRMJsuXTpRpEgRStXYsGEDfa1ci5iYGLFw4ULKX8uePTuNlObKlUs0bdpUrFu3TnMZvJFj3rx5IiAggJ75xPayZcsmGjZsKHbu3Km5zLVr18SoUaNoGbQRNwIfH58E7Qcjk/pDN4BJfixZskS8ePFCfAzcvHlTtGjRQpw5c4bEpHbt2sLb25uEKyIigkY9f/75Z9G8eXMSNDX3798n8Tt27Jjw9PSkv3PkyEFfNN+6davYsmULCdqKFStIGBXWrFkjvvzyS5E7d27anvIVdAgftjdp0iRKH1Fz6NAhMXr0aJEqVSpRrFgxesMHowKjlgyjEBERgVFsGRgYKJ2dJ0+eyKJFi9L+Dhw4UL548cKqzps3b+SiRYtkq1atrMp9fX1p2e7du1st++jRI9m4cWOa36ZNG7N5e/fulZs2bZIxMTFm5eHh4dLDw0O6uLjIyMhIs3nXrl2TR48eNW0nbdq00tvbO9594CywkCVT3r17JydMmCALFixIFwV+x48fTxeMpZDhgsGEizMoKEjmzZtXpkqVSi5cuJDmnzx5ksqLFy8uM2bMKF1dXWWJEiVkSEgIXfCW+Pn50TbUYF0ow+/OnTtJJNzc3GSWLFlk586dZXR0dIL3wbBhw+wW7bdv35r9HxoaSstWr15dvn//XnMZiE6hQoWoHsTLHnr27En116xZY7MeC5k57FomU3r27CkWLFgg8ufPL4KCgihpdNq0aeK3337TrP/69Wvh7+9PLyhEnCZ16tQiZ86cNC80NFRs3rxZ1KhRQzRq1IjcxgMHDojBgweLEydO6MaKtNi0aRO5ZXDJqlSpIn799VdyRREjOnz4sEhIENsCw4cPj7Uu9ldr2aFDh+oOXLi5uYn+/fuTG4m+Rv/FhouLi+b2GNtwbyVDIDK4sEqXLi2OHDliit8MGTJElClTRnMZxGSU+rhA1WC5mTNnUvxGAdZ+jx49aDtYpmrVqna1DYKI9in1EUyvU6cOlSEWVblyZVPdRYsWOfT6aoyWYgK3bt0SkZGRwsvLSxQsWFA4OjgAgYbY+Pn52ayLGBg4evRorOt9+vSpWLt2LT30Xr16dYfalNxhIUuGwMIBI0aMMAtCI+jct29fXQsFQWhLEQP58uWzKoOVAksPQoYXHdorZB06dDCrC3EMDAwkIYN4WArZwYMHhSMoQqYEyxFw1+KHH34Qjx8/NivDw+iZMmWiUce3b9/S6GRsb9qAUIKoqKhY2/bFF1+Ie/fuiTFjxtDD74z9sJAlQ86dO0e/Wnd9PUsAF2zJkiV137o6Y8YMsXLlShEeHk7up/rJtzt37tjdtk8//dSqLG/evPRrKSwQt8QCQoYRTTXIrYOQJQZwwzG62aBBA7JwGcdgIUuG4ItCKVOmpHQDS5S4lyVIK9CLBbVu3ZpcQuRdtWvXjuoi1gPhmT59OsXX7CVjxoxWZUq8CG5mQqHsp57Iql1WiIs6vwvWEvYvOjqaYou2rLLbt2/TL9Iz9IAFPGHCBIqh4eMoahedsQ8WsmSIh4cH5UnhQkQSpxq4NlroiRjcPYhY/fr1KUivvggR04KQJRbxiZEhVwyuNIQGAwmOxMkgrBUqVKCBEbi22Hc98Nog5RVCeiI2duxYahf6Uct1Z2KHhSwZgqD96dOnKcmyZcuWZvNQ5ggQAdC4cWMrS8LRdTlKfGJkoGvXriQieH8ZYnmOADcTQhYSEiLq1aunKfTKSDDo1q2brohhwAA3AXd3d4fawPx/+BGlZEinTp3oF0Hl58+fm8oxiueoBQXLBlimRuBrRrjIExPEyP5fLqRdEx7xUYPsebjDSKVAjEr5BqblCKW6j9RCVqlSJRJSBOktl4X7Djf7ypUrok2bNlapFxhogYghJskiFn/YIkuG1KpVi6wRXMAI4OMRHcSxVq1aRaOCeLTGXvAhXEyrV6+mkTksj9QG5IPBSkM6wccK4nG7du2ix48QowoLC6NUD4gzBAz7A9cQ7naJEiXMAv2IkW3cuJFy6vDcJPoMOXSID+KGgP8xutmkSRNTzpnakgwODiYXFX03efJkm24wQBhgwIABpv8xaooy9cP9U6ZM0Yx7JgssEmSZZJTZj8z7AgUKyDRp0tAvMvuvXr2qm9mvx/3792W3bt1k7ty5Kau/ZMmScubMmfL69euamfOxZfZbsn//fpo3cuRImRgga3/JkiWySZMm0tPTk/rD3d2dnnZo37693LBhA/WX3rJhYWHS399fZs2alR4vypEjBz2epJedj/3A/tiaLPdVeXTM1hQRESGTK/yGWIZhDA/HyBiGMTwsZAzDGB4WMoZhDA8LGcMwhoeFjGEYw8NCxjCM4WEhYxjG8LCQMQxjeFjIGIYxPCxkDMMYHhYyhmEMDwsZwzCGh4WMYRjDw0LGMIzhYSFjGEYYnf8DsLlX/IxFT9kAAAAASUVORK5CYII=",
      "image/svg+xml": [
       "<?xml version=\"1.0\" encoding=\"utf-8\" standalone=\"no\"?>\n",
       "<!DOCTYPE svg PUBLIC \"-//W3C//DTD SVG 1.1//EN\"\n",
       "  \"http://www.w3.org/Graphics/SVG/1.1/DTD/svg11.dtd\">\n",
       "<svg xmlns:xlink=\"http://www.w3.org/1999/xlink\" width=\"220.445938pt\" height=\"105.35pt\" viewBox=\"0 0 220.445938 105.35\" xmlns=\"http://www.w3.org/2000/svg\" version=\"1.1\">\n",
       " <metadata>\n",
       "  <rdf:RDF xmlns:dc=\"http://purl.org/dc/elements/1.1/\" xmlns:cc=\"http://creativecommons.org/ns#\" xmlns:rdf=\"http://www.w3.org/1999/02/22-rdf-syntax-ns#\">\n",
       "   <cc:Work>\n",
       "    <dc:type rdf:resource=\"http://purl.org/dc/dcmitype/StillImage\"/>\n",
       "    <dc:date>2025-09-30T15:11:39.205594</dc:date>\n",
       "    <dc:format>image/svg+xml</dc:format>\n",
       "    <dc:creator>\n",
       "     <cc:Agent>\n",
       "      <dc:title>Matplotlib v3.9.4, https://matplotlib.org/</dc:title>\n",
       "     </cc:Agent>\n",
       "    </dc:creator>\n",
       "   </cc:Work>\n",
       "  </rdf:RDF>\n",
       " </metadata>\n",
       " <defs>\n",
       "  <style type=\"text/css\">*{stroke-linejoin: round; stroke-linecap: butt}</style>\n",
       " </defs>\n",
       " <g id=\"figure_1\">\n",
       "  <g id=\"patch_1\">\n",
       "   <path d=\"M 0 105.35 \n",
       "L 220.445937 105.35 \n",
       "L 220.445937 0 \n",
       "L 0 0 \n",
       "z\n",
       "\" style=\"fill: #ffffff\"/>\n",
       "  </g>\n",
       "  <g id=\"axes_1\">\n",
       "   <g id=\"patch_2\">\n",
       "    <path d=\"M 101.694688 57.775 \n",
       "C 102.641463 57.775 103.549588 57.398842 104.219059 56.729371 \n",
       "C 104.88853 56.0599 105.264688 55.151775 105.264688 54.205 \n",
       "C 105.264688 53.258225 104.88853 52.3501 104.219059 51.680629 \n",
       "C 103.549588 51.011158 102.641463 50.635 101.694688 50.635 \n",
       "C 100.747912 50.635 99.839787 51.011158 99.170316 51.680629 \n",
       "C 98.500845 52.3501 98.124688 53.258225 98.124688 54.205 \n",
       "C 98.124688 55.151775 98.500845 56.0599 99.170316 56.729371 \n",
       "C 99.839787 57.398842 100.747912 57.775 101.694688 57.775 \n",
       "L 101.694688 57.775 \n",
       "z\n",
       "\" clip-path=\"url(#pdf0f69e5d0)\" style=\"fill: none; stroke: #000000; stroke-width: 2; stroke-linejoin: miter\"/>\n",
       "   </g>\n",
       "   <g id=\"patch_3\">\n",
       "    <path d=\"M 119.034688 57.265 \n",
       "L 112.914688 54.205 \n",
       "L 119.034688 51.145 \n",
       "z\n",
       "\" clip-path=\"url(#pdf0f69e5d0)\"/>\n",
       "   </g>\n",
       "   <g id=\"line2d_1\">\n",
       "    <path d=\"M 133.314688 77.155 \n",
       "L 133.314688 64.405 \n",
       "L 112.914688 64.405 \n",
       "L 112.914688 44.005 \n",
       "L 133.314688 44.005 \n",
       "L 133.314688 31.255 \n",
       "\" clip-path=\"url(#pdf0f69e5d0)\" style=\"fill: none; stroke: #000000; stroke-width: 2; stroke-linecap: round\"/>\n",
       "   </g>\n",
       "   <g id=\"line2d_2\">\n",
       "    <path d=\"M 105.264688 64.405 \n",
       "L 105.264688 44.005 \n",
       "\" clip-path=\"url(#pdf0f69e5d0)\" style=\"fill: none; stroke: #000000; stroke-width: 2; stroke-linecap: round\"/>\n",
       "   </g>\n",
       "   <g id=\"line2d_3\">\n",
       "    <path d=\"M 88.944688 54.205 \n",
       "L 98.124688 54.205 \n",
       "\" clip-path=\"url(#pdf0f69e5d0)\" style=\"fill: none; stroke: #000000; stroke-width: 2; stroke-linecap: round\"/>\n",
       "   </g>\n",
       "   <g id=\"line2d_4\">\n",
       "    <path d=\"M 133.314688 54.205 \n",
       "L 119.034688 54.205 \n",
       "\" clip-path=\"url(#pdf0f69e5d0)\" style=\"fill: none; stroke: #000000; stroke-width: 2; stroke-linecap: square\"/>\n",
       "   </g>\n",
       "   <g id=\"patch_4\">\n",
       "    <path d=\"M 88.944688 56.5 \n",
       "C 89.553329 56.5 90.137123 56.258184 90.567498 55.82781 \n",
       "C 90.997872 55.397436 91.239688 54.813641 91.239688 54.205 \n",
       "C 91.239688 53.596359 90.997872 53.012564 90.567498 52.58219 \n",
       "C 90.137123 52.151816 89.553329 51.91 88.944688 51.91 \n",
       "C 88.336046 51.91 87.752252 52.151816 87.321877 52.58219 \n",
       "C 86.891503 53.012564 86.649688 53.596359 86.649688 54.205 \n",
       "C 86.649688 54.813641 86.891503 55.397436 87.321877 55.82781 \n",
       "C 87.752252 56.258184 88.336046 56.5 88.944688 56.5 \n",
       "z\n",
       "\" clip-path=\"url(#pdf0f69e5d0)\" style=\"stroke: #000000; stroke-width: 2; stroke-linejoin: miter\"/>\n",
       "   </g>\n",
       "   <g id=\"text_1\">\n",
       "    <!-- gate=AIN0 -->\n",
       "    <g transform=\"translate(7.2 58.068125) scale(0.14 -0.14)\">\n",
       "     <defs>\n",
       "      <path id=\"DejaVuSans-67\" d=\"M 2906 1791 \n",
       "Q 2906 2416 2648 2759 \n",
       "Q 2391 3103 1925 3103 \n",
       "Q 1463 3103 1205 2759 \n",
       "Q 947 2416 947 1791 \n",
       "Q 947 1169 1205 825 \n",
       "Q 1463 481 1925 481 \n",
       "Q 2391 481 2648 825 \n",
       "Q 2906 1169 2906 1791 \n",
       "z\n",
       "M 3481 434 \n",
       "Q 3481 -459 3084 -895 \n",
       "Q 2688 -1331 1869 -1331 \n",
       "Q 1566 -1331 1297 -1286 \n",
       "Q 1028 -1241 775 -1147 \n",
       "L 775 -588 \n",
       "Q 1028 -725 1275 -790 \n",
       "Q 1522 -856 1778 -856 \n",
       "Q 2344 -856 2625 -561 \n",
       "Q 2906 -266 2906 331 \n",
       "L 2906 616 \n",
       "Q 2728 306 2450 153 \n",
       "Q 2172 0 1784 0 \n",
       "Q 1141 0 747 490 \n",
       "Q 353 981 353 1791 \n",
       "Q 353 2603 747 3093 \n",
       "Q 1141 3584 1784 3584 \n",
       "Q 2172 3584 2450 3431 \n",
       "Q 2728 3278 2906 2969 \n",
       "L 2906 3500 \n",
       "L 3481 3500 \n",
       "L 3481 434 \n",
       "z\n",
       "\" transform=\"scale(0.015625)\"/>\n",
       "      <path id=\"DejaVuSans-61\" d=\"M 2194 1759 \n",
       "Q 1497 1759 1228 1600 \n",
       "Q 959 1441 959 1056 \n",
       "Q 959 750 1161 570 \n",
       "Q 1363 391 1709 391 \n",
       "Q 2188 391 2477 730 \n",
       "Q 2766 1069 2766 1631 \n",
       "L 2766 1759 \n",
       "L 2194 1759 \n",
       "z\n",
       "M 3341 1997 \n",
       "L 3341 0 \n",
       "L 2766 0 \n",
       "L 2766 531 \n",
       "Q 2569 213 2275 61 \n",
       "Q 1981 -91 1556 -91 \n",
       "Q 1019 -91 701 211 \n",
       "Q 384 513 384 1019 \n",
       "Q 384 1609 779 1909 \n",
       "Q 1175 2209 1959 2209 \n",
       "L 2766 2209 \n",
       "L 2766 2266 \n",
       "Q 2766 2663 2505 2880 \n",
       "Q 2244 3097 1772 3097 \n",
       "Q 1472 3097 1187 3025 \n",
       "Q 903 2953 641 2809 \n",
       "L 641 3341 \n",
       "Q 956 3463 1253 3523 \n",
       "Q 1550 3584 1831 3584 \n",
       "Q 2591 3584 2966 3190 \n",
       "Q 3341 2797 3341 1997 \n",
       "z\n",
       "\" transform=\"scale(0.015625)\"/>\n",
       "      <path id=\"DejaVuSans-74\" d=\"M 1172 4494 \n",
       "L 1172 3500 \n",
       "L 2356 3500 \n",
       "L 2356 3053 \n",
       "L 1172 3053 \n",
       "L 1172 1153 \n",
       "Q 1172 725 1289 603 \n",
       "Q 1406 481 1766 481 \n",
       "L 2356 481 \n",
       "L 2356 0 \n",
       "L 1766 0 \n",
       "Q 1100 0 847 248 \n",
       "Q 594 497 594 1153 \n",
       "L 594 3053 \n",
       "L 172 3053 \n",
       "L 172 3500 \n",
       "L 594 3500 \n",
       "L 594 4494 \n",
       "L 1172 4494 \n",
       "z\n",
       "\" transform=\"scale(0.015625)\"/>\n",
       "      <path id=\"DejaVuSans-65\" d=\"M 3597 1894 \n",
       "L 3597 1613 \n",
       "L 953 1613 \n",
       "Q 991 1019 1311 708 \n",
       "Q 1631 397 2203 397 \n",
       "Q 2534 397 2845 478 \n",
       "Q 3156 559 3463 722 \n",
       "L 3463 178 \n",
       "Q 3153 47 2828 -22 \n",
       "Q 2503 -91 2169 -91 \n",
       "Q 1331 -91 842 396 \n",
       "Q 353 884 353 1716 \n",
       "Q 353 2575 817 3079 \n",
       "Q 1281 3584 2069 3584 \n",
       "Q 2775 3584 3186 3129 \n",
       "Q 3597 2675 3597 1894 \n",
       "z\n",
       "M 3022 2063 \n",
       "Q 3016 2534 2758 2815 \n",
       "Q 2500 3097 2075 3097 \n",
       "Q 1594 3097 1305 2825 \n",
       "Q 1016 2553 972 2059 \n",
       "L 3022 2063 \n",
       "z\n",
       "\" transform=\"scale(0.015625)\"/>\n",
       "      <path id=\"DejaVuSans-3d\" d=\"M 678 2906 \n",
       "L 4684 2906 \n",
       "L 4684 2381 \n",
       "L 678 2381 \n",
       "L 678 2906 \n",
       "z\n",
       "M 678 1631 \n",
       "L 4684 1631 \n",
       "L 4684 1100 \n",
       "L 678 1100 \n",
       "L 678 1631 \n",
       "z\n",
       "\" transform=\"scale(0.015625)\"/>\n",
       "      <path id=\"DejaVuSans-41\" d=\"M 2188 4044 \n",
       "L 1331 1722 \n",
       "L 3047 1722 \n",
       "L 2188 4044 \n",
       "z\n",
       "M 1831 4666 \n",
       "L 2547 4666 \n",
       "L 4325 0 \n",
       "L 3669 0 \n",
       "L 3244 1197 \n",
       "L 1141 1197 \n",
       "L 716 0 \n",
       "L 50 0 \n",
       "L 1831 4666 \n",
       "z\n",
       "\" transform=\"scale(0.015625)\"/>\n",
       "      <path id=\"DejaVuSans-49\" d=\"M 628 4666 \n",
       "L 1259 4666 \n",
       "L 1259 0 \n",
       "L 628 0 \n",
       "L 628 4666 \n",
       "z\n",
       "\" transform=\"scale(0.015625)\"/>\n",
       "      <path id=\"DejaVuSans-4e\" d=\"M 628 4666 \n",
       "L 1478 4666 \n",
       "L 3547 763 \n",
       "L 3547 4666 \n",
       "L 4159 4666 \n",
       "L 4159 0 \n",
       "L 3309 0 \n",
       "L 1241 3903 \n",
       "L 1241 0 \n",
       "L 628 0 \n",
       "L 628 4666 \n",
       "z\n",
       "\" transform=\"scale(0.015625)\"/>\n",
       "      <path id=\"DejaVuSans-30\" d=\"M 2034 4250 \n",
       "Q 1547 4250 1301 3770 \n",
       "Q 1056 3291 1056 2328 \n",
       "Q 1056 1369 1301 889 \n",
       "Q 1547 409 2034 409 \n",
       "Q 2525 409 2770 889 \n",
       "Q 3016 1369 3016 2328 \n",
       "Q 3016 3291 2770 3770 \n",
       "Q 2525 4250 2034 4250 \n",
       "z\n",
       "M 2034 4750 \n",
       "Q 2819 4750 3233 4129 \n",
       "Q 3647 3509 3647 2328 \n",
       "Q 3647 1150 3233 529 \n",
       "Q 2819 -91 2034 -91 \n",
       "Q 1250 -91 836 529 \n",
       "Q 422 1150 422 2328 \n",
       "Q 422 3509 836 4129 \n",
       "Q 1250 4750 2034 4750 \n",
       "z\n",
       "\" transform=\"scale(0.015625)\"/>\n",
       "     </defs>\n",
       "     <use xlink:href=\"#DejaVuSans-67\"/>\n",
       "     <use xlink:href=\"#DejaVuSans-61\" x=\"63.476562\"/>\n",
       "     <use xlink:href=\"#DejaVuSans-74\" x=\"124.755859\"/>\n",
       "     <use xlink:href=\"#DejaVuSans-65\" x=\"163.964844\"/>\n",
       "     <use xlink:href=\"#DejaVuSans-3d\" x=\"225.488281\"/>\n",
       "     <use xlink:href=\"#DejaVuSans-41\" x=\"309.277344\"/>\n",
       "     <use xlink:href=\"#DejaVuSans-49\" x=\"377.685547\"/>\n",
       "     <use xlink:href=\"#DejaVuSans-4e\" x=\"407.177734\"/>\n",
       "     <use xlink:href=\"#DejaVuSans-30\" x=\"481.982422\"/>\n",
       "    </g>\n",
       "   </g>\n",
       "   <g id=\"patch_5\">\n",
       "    <path d=\"M 133.314688 56.5 \n",
       "C 133.923329 56.5 134.507123 56.258184 134.937498 55.82781 \n",
       "C 135.367872 55.397436 135.609688 54.813641 135.609688 54.205 \n",
       "C 135.609688 53.596359 135.367872 53.012564 134.937498 52.58219 \n",
       "C 134.507123 52.151816 133.923329 51.91 133.314688 51.91 \n",
       "C 132.706046 51.91 132.122252 52.151816 131.691877 52.58219 \n",
       "C 131.261503 53.012564 131.019688 53.596359 131.019688 54.205 \n",
       "C 131.019688 54.813641 131.261503 55.397436 131.691877 55.82781 \n",
       "C 132.122252 56.258184 132.706046 56.5 133.314688 56.5 \n",
       "z\n",
       "\" clip-path=\"url(#pdf0f69e5d0)\" style=\"stroke: #000000; stroke-width: 2; stroke-linejoin: miter\"/>\n",
       "   </g>\n",
       "   <g id=\"text_2\">\n",
       "    <!-- bulk=AIN1 -->\n",
       "    <g transform=\"translate(138.669688 58.068125) scale(0.14 -0.14)\">\n",
       "     <defs>\n",
       "      <path id=\"DejaVuSans-62\" d=\"M 3116 1747 \n",
       "Q 3116 2381 2855 2742 \n",
       "Q 2594 3103 2138 3103 \n",
       "Q 1681 3103 1420 2742 \n",
       "Q 1159 2381 1159 1747 \n",
       "Q 1159 1113 1420 752 \n",
       "Q 1681 391 2138 391 \n",
       "Q 2594 391 2855 752 \n",
       "Q 3116 1113 3116 1747 \n",
       "z\n",
       "M 1159 2969 \n",
       "Q 1341 3281 1617 3432 \n",
       "Q 1894 3584 2278 3584 \n",
       "Q 2916 3584 3314 3078 \n",
       "Q 3713 2572 3713 1747 \n",
       "Q 3713 922 3314 415 \n",
       "Q 2916 -91 2278 -91 \n",
       "Q 1894 -91 1617 61 \n",
       "Q 1341 213 1159 525 \n",
       "L 1159 0 \n",
       "L 581 0 \n",
       "L 581 4863 \n",
       "L 1159 4863 \n",
       "L 1159 2969 \n",
       "z\n",
       "\" transform=\"scale(0.015625)\"/>\n",
       "      <path id=\"DejaVuSans-75\" d=\"M 544 1381 \n",
       "L 544 3500 \n",
       "L 1119 3500 \n",
       "L 1119 1403 \n",
       "Q 1119 906 1312 657 \n",
       "Q 1506 409 1894 409 \n",
       "Q 2359 409 2629 706 \n",
       "Q 2900 1003 2900 1516 \n",
       "L 2900 3500 \n",
       "L 3475 3500 \n",
       "L 3475 0 \n",
       "L 2900 0 \n",
       "L 2900 538 \n",
       "Q 2691 219 2414 64 \n",
       "Q 2138 -91 1772 -91 \n",
       "Q 1169 -91 856 284 \n",
       "Q 544 659 544 1381 \n",
       "z\n",
       "M 1991 3584 \n",
       "L 1991 3584 \n",
       "z\n",
       "\" transform=\"scale(0.015625)\"/>\n",
       "      <path id=\"DejaVuSans-6c\" d=\"M 603 4863 \n",
       "L 1178 4863 \n",
       "L 1178 0 \n",
       "L 603 0 \n",
       "L 603 4863 \n",
       "z\n",
       "\" transform=\"scale(0.015625)\"/>\n",
       "      <path id=\"DejaVuSans-6b\" d=\"M 581 4863 \n",
       "L 1159 4863 \n",
       "L 1159 1991 \n",
       "L 2875 3500 \n",
       "L 3609 3500 \n",
       "L 1753 1863 \n",
       "L 3688 0 \n",
       "L 2938 0 \n",
       "L 1159 1709 \n",
       "L 1159 0 \n",
       "L 581 0 \n",
       "L 581 4863 \n",
       "z\n",
       "\" transform=\"scale(0.015625)\"/>\n",
       "      <path id=\"DejaVuSans-31\" d=\"M 794 531 \n",
       "L 1825 531 \n",
       "L 1825 4091 \n",
       "L 703 3866 \n",
       "L 703 4441 \n",
       "L 1819 4666 \n",
       "L 2450 4666 \n",
       "L 2450 531 \n",
       "L 3481 531 \n",
       "L 3481 0 \n",
       "L 794 0 \n",
       "L 794 531 \n",
       "z\n",
       "\" transform=\"scale(0.015625)\"/>\n",
       "     </defs>\n",
       "     <use xlink:href=\"#DejaVuSans-62\"/>\n",
       "     <use xlink:href=\"#DejaVuSans-75\" x=\"63.476562\"/>\n",
       "     <use xlink:href=\"#DejaVuSans-6c\" x=\"126.855469\"/>\n",
       "     <use xlink:href=\"#DejaVuSans-6b\" x=\"154.638672\"/>\n",
       "     <use xlink:href=\"#DejaVuSans-3d\" x=\"212.548828\"/>\n",
       "     <use xlink:href=\"#DejaVuSans-41\" x=\"296.337891\"/>\n",
       "     <use xlink:href=\"#DejaVuSans-49\" x=\"364.746094\"/>\n",
       "     <use xlink:href=\"#DejaVuSans-4e\" x=\"394.238281\"/>\n",
       "     <use xlink:href=\"#DejaVuSans-31\" x=\"469.042969\"/>\n",
       "    </g>\n",
       "   </g>\n",
       "   <g id=\"patch_6\">\n",
       "    <path d=\"M 133.314688 79.45 \n",
       "C 133.923329 79.45 134.507123 79.208184 134.937498 78.77781 \n",
       "C 135.367872 78.347436 135.609688 77.763641 135.609688 77.155 \n",
       "C 135.609688 76.546359 135.367872 75.962564 134.937498 75.53219 \n",
       "C 134.507123 75.101816 133.923329 74.86 133.314688 74.86 \n",
       "C 132.706046 74.86 132.122252 75.101816 131.691877 75.53219 \n",
       "C 131.261503 75.962564 131.019688 76.546359 131.019688 77.155 \n",
       "C 131.019688 77.763641 131.261503 78.347436 131.691877 78.77781 \n",
       "C 132.122252 79.208184 132.706046 79.45 133.314688 79.45 \n",
       "z\n",
       "\" clip-path=\"url(#pdf0f69e5d0)\" style=\"stroke: #000000; stroke-width: 2; stroke-linejoin: miter\"/>\n",
       "   </g>\n",
       "   <g id=\"text_3\">\n",
       "    <!-- drain=GO21 -->\n",
       "    <g transform=\"translate(89.615 93.147812) scale(0.14 -0.14)\">\n",
       "     <defs>\n",
       "      <path id=\"DejaVuSans-64\" d=\"M 2906 2969 \n",
       "L 2906 4863 \n",
       "L 3481 4863 \n",
       "L 3481 0 \n",
       "L 2906 0 \n",
       "L 2906 525 \n",
       "Q 2725 213 2448 61 \n",
       "Q 2172 -91 1784 -91 \n",
       "Q 1150 -91 751 415 \n",
       "Q 353 922 353 1747 \n",
       "Q 353 2572 751 3078 \n",
       "Q 1150 3584 1784 3584 \n",
       "Q 2172 3584 2448 3432 \n",
       "Q 2725 3281 2906 2969 \n",
       "z\n",
       "M 947 1747 \n",
       "Q 947 1113 1208 752 \n",
       "Q 1469 391 1925 391 \n",
       "Q 2381 391 2643 752 \n",
       "Q 2906 1113 2906 1747 \n",
       "Q 2906 2381 2643 2742 \n",
       "Q 2381 3103 1925 3103 \n",
       "Q 1469 3103 1208 2742 \n",
       "Q 947 2381 947 1747 \n",
       "z\n",
       "\" transform=\"scale(0.015625)\"/>\n",
       "      <path id=\"DejaVuSans-72\" d=\"M 2631 2963 \n",
       "Q 2534 3019 2420 3045 \n",
       "Q 2306 3072 2169 3072 \n",
       "Q 1681 3072 1420 2755 \n",
       "Q 1159 2438 1159 1844 \n",
       "L 1159 0 \n",
       "L 581 0 \n",
       "L 581 3500 \n",
       "L 1159 3500 \n",
       "L 1159 2956 \n",
       "Q 1341 3275 1631 3429 \n",
       "Q 1922 3584 2338 3584 \n",
       "Q 2397 3584 2469 3576 \n",
       "Q 2541 3569 2628 3553 \n",
       "L 2631 2963 \n",
       "z\n",
       "\" transform=\"scale(0.015625)\"/>\n",
       "      <path id=\"DejaVuSans-69\" d=\"M 603 3500 \n",
       "L 1178 3500 \n",
       "L 1178 0 \n",
       "L 603 0 \n",
       "L 603 3500 \n",
       "z\n",
       "M 603 4863 \n",
       "L 1178 4863 \n",
       "L 1178 4134 \n",
       "L 603 4134 \n",
       "L 603 4863 \n",
       "z\n",
       "\" transform=\"scale(0.015625)\"/>\n",
       "      <path id=\"DejaVuSans-6e\" d=\"M 3513 2113 \n",
       "L 3513 0 \n",
       "L 2938 0 \n",
       "L 2938 2094 \n",
       "Q 2938 2591 2744 2837 \n",
       "Q 2550 3084 2163 3084 \n",
       "Q 1697 3084 1428 2787 \n",
       "Q 1159 2491 1159 1978 \n",
       "L 1159 0 \n",
       "L 581 0 \n",
       "L 581 3500 \n",
       "L 1159 3500 \n",
       "L 1159 2956 \n",
       "Q 1366 3272 1645 3428 \n",
       "Q 1925 3584 2291 3584 \n",
       "Q 2894 3584 3203 3211 \n",
       "Q 3513 2838 3513 2113 \n",
       "z\n",
       "\" transform=\"scale(0.015625)\"/>\n",
       "      <path id=\"DejaVuSans-47\" d=\"M 3809 666 \n",
       "L 3809 1919 \n",
       "L 2778 1919 \n",
       "L 2778 2438 \n",
       "L 4434 2438 \n",
       "L 4434 434 \n",
       "Q 4069 175 3628 42 \n",
       "Q 3188 -91 2688 -91 \n",
       "Q 1594 -91 976 548 \n",
       "Q 359 1188 359 2328 \n",
       "Q 359 3472 976 4111 \n",
       "Q 1594 4750 2688 4750 \n",
       "Q 3144 4750 3555 4637 \n",
       "Q 3966 4525 4313 4306 \n",
       "L 4313 3634 \n",
       "Q 3963 3931 3569 4081 \n",
       "Q 3175 4231 2741 4231 \n",
       "Q 1884 4231 1454 3753 \n",
       "Q 1025 3275 1025 2328 \n",
       "Q 1025 1384 1454 906 \n",
       "Q 1884 428 2741 428 \n",
       "Q 3075 428 3337 486 \n",
       "Q 3600 544 3809 666 \n",
       "z\n",
       "\" transform=\"scale(0.015625)\"/>\n",
       "      <path id=\"DejaVuSans-4f\" d=\"M 2522 4238 \n",
       "Q 1834 4238 1429 3725 \n",
       "Q 1025 3213 1025 2328 \n",
       "Q 1025 1447 1429 934 \n",
       "Q 1834 422 2522 422 \n",
       "Q 3209 422 3611 934 \n",
       "Q 4013 1447 4013 2328 \n",
       "Q 4013 3213 3611 3725 \n",
       "Q 3209 4238 2522 4238 \n",
       "z\n",
       "M 2522 4750 \n",
       "Q 3503 4750 4090 4092 \n",
       "Q 4678 3434 4678 2328 \n",
       "Q 4678 1225 4090 567 \n",
       "Q 3503 -91 2522 -91 \n",
       "Q 1538 -91 948 565 \n",
       "Q 359 1222 359 2328 \n",
       "Q 359 3434 948 4092 \n",
       "Q 1538 4750 2522 4750 \n",
       "z\n",
       "\" transform=\"scale(0.015625)\"/>\n",
       "      <path id=\"DejaVuSans-32\" d=\"M 1228 531 \n",
       "L 3431 531 \n",
       "L 3431 0 \n",
       "L 469 0 \n",
       "L 469 531 \n",
       "Q 828 903 1448 1529 \n",
       "Q 2069 2156 2228 2338 \n",
       "Q 2531 2678 2651 2914 \n",
       "Q 2772 3150 2772 3378 \n",
       "Q 2772 3750 2511 3984 \n",
       "Q 2250 4219 1831 4219 \n",
       "Q 1534 4219 1204 4116 \n",
       "Q 875 4013 500 3803 \n",
       "L 500 4441 \n",
       "Q 881 4594 1212 4672 \n",
       "Q 1544 4750 1819 4750 \n",
       "Q 2544 4750 2975 4387 \n",
       "Q 3406 4025 3406 3419 \n",
       "Q 3406 3131 3298 2873 \n",
       "Q 3191 2616 2906 2266 \n",
       "Q 2828 2175 2409 1742 \n",
       "Q 1991 1309 1228 531 \n",
       "z\n",
       "\" transform=\"scale(0.015625)\"/>\n",
       "     </defs>\n",
       "     <use xlink:href=\"#DejaVuSans-64\"/>\n",
       "     <use xlink:href=\"#DejaVuSans-72\" x=\"63.476562\"/>\n",
       "     <use xlink:href=\"#DejaVuSans-61\" x=\"104.589844\"/>\n",
       "     <use xlink:href=\"#DejaVuSans-69\" x=\"165.869141\"/>\n",
       "     <use xlink:href=\"#DejaVuSans-6e\" x=\"193.652344\"/>\n",
       "     <use xlink:href=\"#DejaVuSans-3d\" x=\"257.03125\"/>\n",
       "     <use xlink:href=\"#DejaVuSans-47\" x=\"340.820312\"/>\n",
       "     <use xlink:href=\"#DejaVuSans-4f\" x=\"418.310547\"/>\n",
       "     <use xlink:href=\"#DejaVuSans-32\" x=\"497.021484\"/>\n",
       "     <use xlink:href=\"#DejaVuSans-31\" x=\"560.644531\"/>\n",
       "    </g>\n",
       "   </g>\n",
       "   <g id=\"patch_7\">\n",
       "    <path d=\"M 133.314688 33.55 \n",
       "C 133.923329 33.55 134.507123 33.308184 134.937498 32.87781 \n",
       "C 135.367872 32.447436 135.609688 31.863641 135.609688 31.255 \n",
       "C 135.609688 30.646359 135.367872 30.062564 134.937498 29.63219 \n",
       "C 134.507123 29.201816 133.923329 28.96 133.314688 28.96 \n",
       "C 132.706046 28.96 132.122252 29.201816 131.691877 29.63219 \n",
       "C 131.261503 30.062564 131.019688 30.646359 131.019688 31.255 \n",
       "C 131.019688 31.863641 131.261503 32.447436 131.691877 32.87781 \n",
       "C 132.122252 33.308184 132.706046 33.55 133.314688 33.55 \n",
       "z\n",
       "\" clip-path=\"url(#pdf0f69e5d0)\" style=\"stroke: #000000; stroke-width: 2; stroke-linejoin: miter\"/>\n",
       "   </g>\n",
       "   <g id=\"text_4\">\n",
       "    <!-- source=GO23 -->\n",
       "    <g transform=\"translate(84.365 22.988437) scale(0.14 -0.14)\">\n",
       "     <defs>\n",
       "      <path id=\"DejaVuSans-73\" d=\"M 2834 3397 \n",
       "L 2834 2853 \n",
       "Q 2591 2978 2328 3040 \n",
       "Q 2066 3103 1784 3103 \n",
       "Q 1356 3103 1142 2972 \n",
       "Q 928 2841 928 2578 \n",
       "Q 928 2378 1081 2264 \n",
       "Q 1234 2150 1697 2047 \n",
       "L 1894 2003 \n",
       "Q 2506 1872 2764 1633 \n",
       "Q 3022 1394 3022 966 \n",
       "Q 3022 478 2636 193 \n",
       "Q 2250 -91 1575 -91 \n",
       "Q 1294 -91 989 -36 \n",
       "Q 684 19 347 128 \n",
       "L 347 722 \n",
       "Q 666 556 975 473 \n",
       "Q 1284 391 1588 391 \n",
       "Q 1994 391 2212 530 \n",
       "Q 2431 669 2431 922 \n",
       "Q 2431 1156 2273 1281 \n",
       "Q 2116 1406 1581 1522 \n",
       "L 1381 1569 \n",
       "Q 847 1681 609 1914 \n",
       "Q 372 2147 372 2553 \n",
       "Q 372 3047 722 3315 \n",
       "Q 1072 3584 1716 3584 \n",
       "Q 2034 3584 2315 3537 \n",
       "Q 2597 3491 2834 3397 \n",
       "z\n",
       "\" transform=\"scale(0.015625)\"/>\n",
       "      <path id=\"DejaVuSans-6f\" d=\"M 1959 3097 \n",
       "Q 1497 3097 1228 2736 \n",
       "Q 959 2375 959 1747 \n",
       "Q 959 1119 1226 758 \n",
       "Q 1494 397 1959 397 \n",
       "Q 2419 397 2687 759 \n",
       "Q 2956 1122 2956 1747 \n",
       "Q 2956 2369 2687 2733 \n",
       "Q 2419 3097 1959 3097 \n",
       "z\n",
       "M 1959 3584 \n",
       "Q 2709 3584 3137 3096 \n",
       "Q 3566 2609 3566 1747 \n",
       "Q 3566 888 3137 398 \n",
       "Q 2709 -91 1959 -91 \n",
       "Q 1206 -91 779 398 \n",
       "Q 353 888 353 1747 \n",
       "Q 353 2609 779 3096 \n",
       "Q 1206 3584 1959 3584 \n",
       "z\n",
       "\" transform=\"scale(0.015625)\"/>\n",
       "      <path id=\"DejaVuSans-63\" d=\"M 3122 3366 \n",
       "L 3122 2828 \n",
       "Q 2878 2963 2633 3030 \n",
       "Q 2388 3097 2138 3097 \n",
       "Q 1578 3097 1268 2742 \n",
       "Q 959 2388 959 1747 \n",
       "Q 959 1106 1268 751 \n",
       "Q 1578 397 2138 397 \n",
       "Q 2388 397 2633 464 \n",
       "Q 2878 531 3122 666 \n",
       "L 3122 134 \n",
       "Q 2881 22 2623 -34 \n",
       "Q 2366 -91 2075 -91 \n",
       "Q 1284 -91 818 406 \n",
       "Q 353 903 353 1747 \n",
       "Q 353 2603 823 3093 \n",
       "Q 1294 3584 2113 3584 \n",
       "Q 2378 3584 2631 3529 \n",
       "Q 2884 3475 3122 3366 \n",
       "z\n",
       "\" transform=\"scale(0.015625)\"/>\n",
       "      <path id=\"DejaVuSans-33\" d=\"M 2597 2516 \n",
       "Q 3050 2419 3304 2112 \n",
       "Q 3559 1806 3559 1356 \n",
       "Q 3559 666 3084 287 \n",
       "Q 2609 -91 1734 -91 \n",
       "Q 1441 -91 1130 -33 \n",
       "Q 819 25 488 141 \n",
       "L 488 750 \n",
       "Q 750 597 1062 519 \n",
       "Q 1375 441 1716 441 \n",
       "Q 2309 441 2620 675 \n",
       "Q 2931 909 2931 1356 \n",
       "Q 2931 1769 2642 2001 \n",
       "Q 2353 2234 1838 2234 \n",
       "L 1294 2234 \n",
       "L 1294 2753 \n",
       "L 1863 2753 \n",
       "Q 2328 2753 2575 2939 \n",
       "Q 2822 3125 2822 3475 \n",
       "Q 2822 3834 2567 4026 \n",
       "Q 2313 4219 1838 4219 \n",
       "Q 1578 4219 1281 4162 \n",
       "Q 984 4106 628 3988 \n",
       "L 628 4550 \n",
       "Q 988 4650 1302 4700 \n",
       "Q 1616 4750 1894 4750 \n",
       "Q 2613 4750 3031 4423 \n",
       "Q 3450 4097 3450 3541 \n",
       "Q 3450 3153 3228 2886 \n",
       "Q 3006 2619 2597 2516 \n",
       "z\n",
       "\" transform=\"scale(0.015625)\"/>\n",
       "     </defs>\n",
       "     <use xlink:href=\"#DejaVuSans-73\"/>\n",
       "     <use xlink:href=\"#DejaVuSans-6f\" x=\"52.099609\"/>\n",
       "     <use xlink:href=\"#DejaVuSans-75\" x=\"113.28125\"/>\n",
       "     <use xlink:href=\"#DejaVuSans-72\" x=\"176.660156\"/>\n",
       "     <use xlink:href=\"#DejaVuSans-63\" x=\"215.523438\"/>\n",
       "     <use xlink:href=\"#DejaVuSans-65\" x=\"270.503906\"/>\n",
       "     <use xlink:href=\"#DejaVuSans-3d\" x=\"332.027344\"/>\n",
       "     <use xlink:href=\"#DejaVuSans-47\" x=\"415.816406\"/>\n",
       "     <use xlink:href=\"#DejaVuSans-4f\" x=\"493.306641\"/>\n",
       "     <use xlink:href=\"#DejaVuSans-32\" x=\"572.017578\"/>\n",
       "     <use xlink:href=\"#DejaVuSans-33\" x=\"635.640625\"/>\n",
       "    </g>\n",
       "   </g>\n",
       "  </g>\n",
       " </g>\n",
       " <defs>\n",
       "  <clipPath id=\"pdf0f69e5d0\">\n",
       "   <rect x=\"20.421087\" y=\"7.2\" width=\"182.835\" height=\"90.95\"/>\n",
       "  </clipPath>\n",
       " </defs>\n",
       "</svg>\n"
      ],
      "text/plain": [
       "<schemdraw.backends.mpl.Figure object at 0x137945df0>"
      ]
     },
     "execution_count": 70,
     "metadata": {},
     "output_type": "execute_result"
    }
   ],
   "source": [
    "# uses schemdraw, you may have to install it in order to run it on your PC\n",
    "import schemdraw\n",
    "import schemdraw.elements as elm\n",
    "d = schemdraw.Drawing()\n",
    "Q = d.add(elm.PFet, reverse=True, bulk=True)\n",
    "d.add(elm.Dot, xy=Q.gate, lftlabel='gate=AIN0')\n",
    "d.add(elm.Dot, xy=Q.bulk, rgtlabel='bulk=AIN1')\n",
    "d.add(elm.Dot, xy=Q.drain, botlabel='drain=GO21')\n",
    "d.add(elm.Dot, xy=Q.source, toplabel='source=GO23')\n",
    "d.draw()"
   ]
  },
  {
   "cell_type": "markdown",
   "metadata": {},
   "source": [
    "Hint: To cancel out the leakage current and shunt resistance, you may want to do a subtraction:\n",
    "\n",
    "$I_{ds} = I_{GO21} - I_{GO21}|_{V_g = 0}$"
   ]
  },
  {
   "cell_type": "markdown",
   "metadata": {},
   "source": [
    "To select the PFET, you must set the input voltage demultiplexer and output current mux by using the Coach() function `setup_pfet()`:"
   ]
  },
  {
   "cell_type": "markdown",
   "metadata": {},
   "source": [
    "* <font color=#108ee9>What will be the fixed source, bulk (substrate or well), and drain voltages for the PFET? **Correct the values below to make sense.** </font>"
   ]
  },
  {
   "cell_type": "code",
   "execution_count": 71,
   "metadata": {},
   "outputs": [
    {
     "name": "stderr",
     "output_type": "stream",
     "text": [
      "\u001b[0;36m[INFO]: 2025-09-30 15:11:41,246 - NE1 - was already open (File \"/Users/mariusfauteux/Documents/NE1-CoACH-LABS/ne1.py\", line 145, in open)\u001b[0m\n"
     ]
    },
    {
     "name": "stdout",
     "output_type": "stream",
     "text": [
      "The bulk voltage is set to 1.8V\n",
      "The source voltage is set to 1.8V\n",
      "The drain voltage is set to 0V\n",
      "The gate voltage is set to 0.4V\n",
      "Ids is 998.05nA\n"
     ]
    }
   ],
   "source": [
    "# configure muxes to measure PFET\n",
    "p.open()\n",
    "p.setup_pfet()\n",
    "\n",
    "# set bulk voltage; HINT it must be the positive supply voltage 1.8V\n",
    "vdd=1.8 # power supply voltage in V\n",
    "vb_p = vdd\n",
    "p.set_pfet_vb(vb_p)\n",
    "print(f\"The bulk voltage is set to {vb_p}V\")\n",
    "# set source voltage; HINT it must be the same as the nwell bulk voltage\n",
    "vs_p = vdd\n",
    "p.set_pfet_vs(vs_p)\n",
    "print(f\"The source voltage is set to {vs_p}V\")\n",
    "# set drain voltage; HINT it should be a lower voltage, can be ground (0) or anything that saturates the drain current\n",
    "vd_p = 0\n",
    "p.set_pfet_vd(vd_p)\n",
    "print(f\"The drain voltage is set to {vd_p}V\")\n",
    "# set trial gate voltage\n",
    "vg_p = 0.4\n",
    "p.set_pfet_vg(vg_p)\n",
    "print(f\"The gate voltage is set to {vg_p}V\")\n",
    "# read Ids \n",
    "ids_p = p.measure_pfet_is() # note here we measure the PFET current at its source\n",
    "print(f\"Ids is {ef(ids_p)}A\") # note again how we use f-string and format the current in engineering format using engineering_notation method that we imported as ef()"
   ]
  },
  {
   "cell_type": "markdown",
   "metadata": {},
   "source": [
    "With vg_p set to $V_{dd}=1.8V$ you should get a small current of a few nA. With vg_p set to ground (0 volts), you should get a saturating current of >1uA.\n",
    "\n",
    "You can use this little code block to make sure the PFET is making sense, and to find a reasonable range over which to sweep vg_p."
   ]
  },
  {
   "cell_type": "markdown",
   "metadata": {},
   "source": [
    "* <font color=#108ee9>Data acquisition and plotting for PFET; repeat the NFET measurements here but for PFET.</font>\n",
    "\n",
    "You can copy and adapt the code from above"
   ]
  },
  {
   "cell_type": "code",
   "execution_count": 84,
   "metadata": {},
   "outputs": [
    {
     "name": "stderr",
     "output_type": "stream",
     "text": [
      "\u001b[0;36m[INFO]: 2025-09-30 15:15:54,959 - NE1 - Opened CoACH at /dev/cu.usbmodem76183401 with firmware version (1, 12, 5) (File \"/Users/mariusfauteux/Documents/NE1-CoACH-LABS/ne1.py\", line 175, in open)\u001b[0m\n"
     ]
    },
    {
     "name": "stdout",
     "output_type": "stream",
     "text": [
      "With Vgs=0, the offset current Id0=998.78nA\n",
      "Vg=   1.399V Is_meas=7.32nA\n",
      "Vg=   1.196V Is_meas=326.17nA\n",
      "Vg=   0.996V Is_meas=994.38nA\n",
      "Vg=   0.794V Is_meas=999.02nA\n",
      "Vg=   0.591V Is_meas=997.31nA\n"
     ]
    }
   ],
   "source": [
    "p.setup_pfet()\n",
    "# set source voltage\n",
    "vdd=1.8 # power supply voltage in V\n",
    "vb_p = vdd\n",
    "vs_p = vdd\n",
    "vd_p = 0 # NOTE that it needn't be at ground, just enough to saturate the current\n",
    "p.set_pfet_vb(vb_p)\n",
    "p.set_pfet_vs(vs_p)\n",
    "p.set_pfet_vd(vd_p)\n",
    "\n",
    "# measure the vg=0 offset current\n",
    "I0p = p.measure_pfet_is() # note here we measure the PFET current at its source\n",
    "print(f'With Vgs=0, the offset current Id0={ef(I0p)}A')\n",
    "\n",
    "# make a V_g array for the gate voltages ranging e.g. from 0.4V to 0.8V.\n",
    "# you can adjust this range to cover the realistic measurement range.\n",
    "n_samples=100\n",
    "vg_high=1.4 # starting gate voltage\n",
    "vg_low=0.4 # ending gate voltage\n",
    "vgp_set=np.linspace(vg_high,vg_low,n_samples) # make linear spacing with n_samples points\n",
    "vgp_actual=np.zeros_like(vgp_set) # we will use this to hold the actual DAC values\n",
    "#Initialize current variables\n",
    "isp_meas=np.zeros(n_samples) # source current\n",
    "idp_meas=np.zeros(n_samples) # drain current \n",
    "import time\n",
    "#Read Ids at Vg sweep and wait for it to settle\n",
    "delay=0.01\n",
    "for n in range(n_samples):\n",
    "    vgp_actual[n]=p.set_pfet_vg(vgp_set[n])\n",
    "    time.sleep(delay) # delay to allow device to settle\n",
    "    isp_meas[n]=p.measure_pfet_is()\n",
    "    idp_meas[n]=p.measure_pfet_id()\n",
    "    if n%20==0:\n",
    "        print(f'Vg={vgp_actual[n]:8.3f}V Is_meas={ef(isp_meas[n])}A')\n"
   ]
  },
  {
   "cell_type": "code",
   "execution_count": 43,
   "metadata": {},
   "outputs": [
    {
     "name": "stderr",
     "output_type": "stream",
     "text": [
      "\u001b[0;36m[INFO]: 2025-09-30 15:03:02,178 - NE1 - closing device (deleting pyplane.Plane() object (File \"/Users/mariusfauteux/Documents/NE1-CoACH-LABS/ne1.py\", line 250, in close)\u001b[0m\n"
     ]
    }
   ],
   "source": [
    "# if something goes wrong use this cell before unplugging board\n",
    "p.close()"
   ]
  },
  {
   "cell_type": "markdown",
   "metadata": {},
   "source": [
    "* <font color=#108ee9>Now plot the PFET data.</font> Note we use $V_{sg}-V_s-V_g$ for x-axis because the source is at a higher voltage. "
   ]
  },
  {
   "cell_type": "code",
   "execution_count": 85,
   "metadata": {},
   "outputs": [
    {
     "data": {
      "image/png": "iVBORw0KGgoAAAANSUhEUgAAAswAAAHbCAYAAADf6sykAAAAOXRFWHRTb2Z0d2FyZQBNYXRwbG90bGliIHZlcnNpb24zLjkuNCwgaHR0cHM6Ly9tYXRwbG90bGliLm9yZy8ekN5oAAAACXBIWXMAAA9hAAAPYQGoP6dpAACNr0lEQVR4nO3dB3hTZdsH8H86gZaW0QJlQ9l7FVCWiAxFHIggqCgirwM3DlQUJ45X3IifE5BXBQRRBERkb8oeZZY9CmW1pXT3fNf9hBPSNEnTNm3W/3ddadLM55yTnNznyf3cj0HTNA1ERERERGSVn/WriYiIiIhIMGAmIiIiIrKDATMRERERkR0MmImIiIiI7GDATERERERkBwNmIiIiIiI7GDATEREREdnBgJmIiIiIyA4GzERERERErgqYjxw5AoPBoE5ERETebvny5eo7r27duq5uild58MEH1Xp94403ivR4PRaRuMSbMe5yo4D5hhtuMG0Me6dLly7BHU2aNAkPPPAAWrdujapVqyIoKAjh4eGIiYnBW2+9VaR2y+zi69evx6uvvooePXqgSpUqCAwMRMWKFdG1a1d88sknSEtLK1J7Zedgbf2WL18eLVu2xHPPPYejR486/DjL09y5c61+0Ao6yc7LfCdW2JO8jxyVmpqKiRMnolu3bqhcubJatxEREWjatCnuuOMOddvevXuLtH6JHLVt2zb1uZoyZYqrm+JxuO6MZPllPcj6IOeQ72xZp0UNpIvqzTffVN9lNWrUQE5OjkOPueeee9RjevfuDW8QFxeHyZMnY+TIkSqmku9m8/igONLT01XsdP3116NChQrqueX7X2KHb775Jt8679mzp3ptWceOkMfLtpPHvPvuuw49JqBISwKgVq1aqF27tu0nDghQC9i4cWO4k6efflqtqLJly6J69epqGRISErBp0yZ1+vrrr7F48WI0b97c4edcunQpbrrpJtP/0rNQp04dHD9+HGvWrFEn2cDyvDVr1ixSu8PCwlSArAfo8ty7d+/Grl278O233+LPP/9Ubxh7j7NG3oDWdOjQAcHBwTYf16hRI9N5ly5d8t1+4MABnD171ubr22uT5fP06dPH1Csg7W3RooV6kx8+fFgFyn/88Qf27NmD7777zqHnJCoKCXLkS1IOip3xheBLuO6uBcwrVqxQ3xFt2rRxdXM8SlRUlIonpLPEMmCW95YozaBZ3sfyuqdOnVLf7f369bN7/4sXL5o6qB566CF4g1deeUV9/zrb+fPnceONN2LHjh3qf4mbGjRogBMnTqjPj5x+/vlnLFy4UMVyYsSIEerXHWmPvCckyLbnn3/+UdvOz89PdaI6RCukHj16aPKw8ePHa57oww8/1GJjY7WcnJw812/evFlr0qSJWraWLVsW6jkXL16s1alTR5s4caJ26tSpPLf9+eefWsWKFdXzXn/99YVur6xneaysd0tbt241tblatWpaamqqQ4+z5fDhw+oxcpLLxfHAAw8U+vUt5ebmaq1bt1bP07BhQ23JkiX57rNjxw7ttdde08aNG1es9hIV5Mcffyz2e9pX+dK6W7ZsmVpW+U6w9f0p64Ocw/x7yx5nfbeZ69Wrl3rOIUOGFHjfSZMmqftKPJCWlqa5en04w2OPPabdcccd2jvvvKP9/fff2tChQ9Xryvd/cTz88MOmdbV8+fI8t82ZM0cLDg5Wt7/xxhum6yX+CQsLU9dPnjy5wNe4++671X379evncLt8btDfCy+8oHpP5ajCXLt27Uw/F+7cubNQP/F37NhR9YRKeoQcBZsbMGAAvvjiC3V57dq1piMmZ5AeCr3N0kv+77//wpvExsZi+/bt6vL//vc/dcRpradaUmnefvttF7SQiIh8ld5TLD3HBaVz/vjjj+p86NChKFOmDLzBV199hd9//12lo/bt21f9ouwMeq/1a6+9pn6VMnfnnXfiqaeeUpfnzZtnur5cuXIYMmRInnVty4ULF9Sv8oXt7XfpoL+MjAy89957aNasmXoDSU7x4MGDVaqBKwZOSDvM82YdJW8SST+x5ZZbbjFdltQBZ5JgPTQ0VF3et28fvEl8fHyhUzis/bQjPxtJGkdISIhaV61atcL48eORlJRk9THynpP3nrwHrbH33jR/rGwP+alHfk6S94flT9Fbt25VH9bo6Gj1s5L8hCTLKTsDWzmOy5Ytw913361yryT/XlJUZEdVnJ/FsrOzMXXqVPU8kn8vqTjy/LKjkvxw8/XkyOfS1uAcy8f+8ssv6jUqVaqUZ30XZh1u2bJF3S6PkX2IrMPu3burA8nc3Nx8bbNsg+w0JSdOHifvj06dOuHXX3/N9zi5v/zkJ+TnQMuc/IIGEh07dkwdpPv7+6ufFW1ZtGiRej7ZrpmZmabr5YBYDshlHyVfDLKsso0kv2/cuHE4c+YMCmvGjBkqnUo+E7L8sh7++usvdZut5Tp37pxKAZOxA5KOJetMTvL5evHFF1UaVnHXnQQechDcvn17Nb5EllV+in/++eetPr89vXr1Uq8xYcIEm/eR94m8v+R+v/32W57bpGNS3qeScyrbRD5zct9hw4ap956j9PedLL+Q9WFrTEdR1nFxt2tRP08FpW3Ka0nHhyXZtnJbZGSkWsfmTp8+rW6T/ZD52B9r+xW5rl69eqb/Ld9btnLmpVNMgiuJOeR15P0l7znzz5wjBg4cqNaRxDLyPrFFUicl5dNagCaP/fjjj9W+R97vsp+T/bB8T40ePdrq+0zWmbxHZD3K/kDemzfffDNWrlwJb3DlyhV13rBhQ6u369dnZWXluV5ftxs3brQba0k6h6x3WW+333674w0ryZQMez8NXLlyRevevbvp9ujoaK19+/Za2bJltXLlymkffPCBzZ+1Ssr8+fPVa5YvX167fPmy05735MmTpuWcN29eoR5bUGqFpC2EhISo+0i6iaOP84SUjL/++svUHkl7Kazdu3drNWrUUI/39/fXWrVqpbVo0ULz8/NT19WtW1c7cOBAvsfJe05ul59WC/uTq/7YCRMmqPex/HTUtm1b9bojRoww3U9+wjIYDOq+ZcqU0dq0aaM1b97ctC0tf9KS7fzkk0+a1of8VCXPW7VqVdN1TzzxRKHXUWJiokoV0p9DUntiYmLUcsg6s1wP9pbdcttb7iPMH/vMM8+oy9J+eb3q1aubXsfRdSjvd30dymdW0ndq1qxpWhb5qTA7O9tmG958801TG2TfU6FCBdNjv/jiizyPGzRokEoLktvkZ78uXbrkOZ0+fbrAdX3DDTeox7/33ns27zNs2DB1H/mpU3f8+HEtKipKXR8QEKDSsGSdybLq26iwn48XXnjBtKxVqlRRzxcREaH+//zzz23uB2S9yPVBQUFa7dq1tQ4dOqj1EhgYqK6X7Xjo0KEir7tt27aZPrOyrPK9INtdXk+uk/Wwc+dOh5dzypQp6nGyzmz5559/TJ+p9PR00/VZWVmq7fq6kPUtyxseHm7ap/zf//1fvuez9hnZsmWLWlb9J2NZH+brwPyzW5R1XNztWtTPkz3333+/etz777+f5/rz58+b9sFykm1ubvr06ep6iQ8K2q+8++67av3oz2X53lqwYIHpvvp9ZJvJPjc0NFR97mV96rfdddddWmHJZ1UeK+valueee07dR76DzMn61GMq/TtJnkfe99JGue7VV1/N93zDhw83PUY+L7IOZJvJe1JSQ0srJcPSI4884pSUjG7duqnnefHFF63eft9996nb//Of/+S7rVmzZuo2+SzY0q5dO3Wfp556qlDtclnArH+w5Utq6dKlpusvXbqkDRw40LRzKOmAWd6w8oX03XffaZGRkWqH8fXXXzv1Nf773/+qZZFlkp1FYRQU+K5fv960jufOnevw4zwhYE5KSjJ9OclO/6OPPtL279/v0GPli69x48bqsZ06ddKOHj1quu3gwYOm3Gg5t/wScEbALDsuCX4uXryY5yDRPJ9TvjTeeuutPLnnEhhL8DNt2rQ8z6sfQMoXmOVBl+SOyZej3G75OHvktfQgrlatWvlyxOWz+NVXX2lxcXEOLbujAbOsGwmC5YtR2qC3RQ9WHFmHv/76q2n/MXXq1DxjEjZu3Kg1aNBA3S7r11ob5LMoB+f/+9//8gRIjz/+uLpdvkyTk5Odmof7ww8/qMfLDt2alJQUdYAg95HPte7pp59W10m+5NmzZ/N9RqRde/bsKXTHgOzrPv30U9O6k8+BBCB6cGptP7BhwwYVhJgHlvqB16hRo9Rj+vbtm+81HVl3sm/UAzR5LvNllfeiHiTI51q2lSNkneoHodJ2e4Hdo48+mud6yY+U62WbSN6kTpZdD4DkPWq+rZyRw1zUdVyc7VrUz5M9+jbv06dPnutnz55t2pfJ+ccff5zn9oceeihffqq9/Uphc5jlsy+BmHkesewH9IMF83jEETImSn9u6aSxJO9Vff8s28Xc77//bgp6t2/fnu9x8j5YuHBhnuslVtEPKH/66ac8+0bJ/dVjJ2vrQ57P8qDC0dOWLVtKLWBeuXKl+o6Qz5d0Lh05ckRtL+ngGjNmjOk7S2I3W/GWHFxbO8CT9WzrYK3EAmZ7J3kT2HsjyxeRvhMz3+A6WTH6l2ZJBcz6l5D5SY5qitKTaY+sA71XQXoIS3vQn72TrAPLthb0GMttXJIBs/jtt99MCf76SXqCbrzxRjXYT9aBNRI4yn3lS8Lah2rfvn2m3jl5DWcHzBIUWftSz8jIMPUWvv766w6tgwsXLqgATtorO2dr9C+hpk2bao6SAanyGFm/5kGxPc4ImOUkX+C2FLQO5Tr9PuaBjLlNmzapL0AJAGSdW2vD22+/bXXfIwfOcvsff/zh1IBZ9nt6QGxtO+rPLwGhOQmOLA+Ii0P/ZW/kyJFWb5cBTLYCq4LIF7+sd8sed0fWnfSkyX1uv/12q7fLl5/80iD3mTFjhsNt0nujRo8ene82+SVR/y5au3Ztnuv1/bb5L3fWesFuvfXWUh30Z2sdF3W7FufzZI90UugHHOaPke2g9/RaW3/SyyrXS9BUEgGzHHhaM2DAAHX7s88+qxWW9Bzb6tWUz63+XXTu3Lk8t8mvTXKb/OLmCOlYkN5nW4+RAx29o8ja+tA/h0U5LbPxfVgSAbN+4HjzzTebDmT0kxwoyLInJCRYfZxcL/eR+8pBpCX9103pZS6sIucwS36S5ElZO9kqVaZbvXq1yhGWWsJ6krY5yZ0aPnw4SlL9+vVVWyUHWPKYhORa/fTTT0hOTnbKa1y+fFnlocnzSY6U5GsXleS7Sk1nOUm7pWydDFSUwYmSqyaD4iSXyVp+ta3tJOvAFhkYaetxjmxjZ7nrrrvUQMn//Oc/pnJCUp5HSvnJQL+2bdvi1ltvRWJiYp7HzZ8/X51LTry1Un6SG3jbbbflua8zSR6glFa0JAM/JUdP8ubGjBnj0HMtWLBAvZdkm8jJGhlcKrlvkrclz++I2bNnm/LwpKZ1aXr44YeLvA43bNigao9Xq1ZNDQCxRnL75DMi+bCbN2+2ep/HH3/c6r5H3lPi4MGDcCbZ38n+QEybNi3f7bLvEZb7PlkOIfm1hc2xtCTvI9n/2tsG8lkrqD6q5AA+8sgjqpSW1EfX900pKSkqv7IodYYl91Y8+uijVm+X/G8933DJkiUOP6++PiU33TLncc6cOeq7SPYH1113nen6VatWqf22vB8ee+wxq88rOdVCBlsXd7sUdx0XZ7s66/NkSUq2yvgMyUeVeQp0su3073i5j+Td6jV1pVSo5FfLd1nnzp1REiQv2Bp9+xflc6/n6Mtn2LI+sD4ATb5vLL839c+2lKWz/A6zZv/+/aaxPfrAN3MyTsLa9eY531c7Sgt9uqEQcyc4g7wPZOyGvLbkdEu8I+cy5mbmzJmmQXuWJJ7r37+/1cF/8vmXWKmopf2KXIdZXqyoNQ/1wWkygMXWYDn9S6ukyJvK/I0lifXyv3yRyaBD2YnIDrqoZLCCBDFS5UEqZ8igCxm4UVSy85Z6zjp5LqkVLfWfn3nmGdMHz9p6tDV4zZ5Zs2a5zUxV8mX2f//3f6pGthwgyLaSnaysU6mjKAGv1GqWAx49wNLfYzJQxhYZYCcjfEti0hNbdbxlsIneLkdHFOuVQuTLRL4wbdEH10qNbstqLfbaIgPHSpMc+MiOr6jrUF8f8hmztz5kwKe+PsyDIb0NMtjQGv0AWgITZ5MgQQIhCd5kQKW+/5M26gPD7rvvvny142W/NH36dFV3VN7rss1k2WWygMLM6CXBgD54y1YdYHv7Xjkgky8jeS/ao697R0nQqgcqMjL+nXfesXo/fXCjrK/CDPyTAZInT55U+wr9oMX8wOX+++/P8xh9/yH7QH1QtSV9ILIEt/LlrtemL66irOPibFdnfJ5skcpGEuBJB4cMHpSDednfypwBEjTLuQw4ln23BMhyPyHtsDeQvjhsbafifO7vvfdeNSBTAry///7bFLDJAE29Q0YPqs3Je1E60yTmkE5IWR9ycCSfb1nHlnMh6N9VckBhPtjRXGHmkHBXn3zyiRrkLPtpWX/mhRPke186U+QAUD57Tz75ZL7Hy7qWgfBSRUMqYuj7enmsHJjIepWBu4XlkrJycjSs97jYYu+2kiBHL/JlJBtIjqD13o6ikNGX8kGQL0AJDGQnIEW3i0OqCZgf7ck6lIBH3li2gmVvI4GB9ITKzkkCaNkR672E0ttiPsJd3+lJr4ktelBZEoGRrYMj/deLgoqqm5MedX3nq0+EY+2k93LpI4wLUpS2OIOjB4627qevD6neYW996NvV2vqw1wa95KTl6H1nkANcmTBJdtqyv9FJr4cEPPKFaTkhlHQsSA+d9P7JsshofPmSkABIvjTls1DYfa8cWNoqbWVr3yvtk198JJCT15YeHglCZX+n75fky15Y9uQWxLwkl1QTsLVN9aDa0fe4vj31gxDznn1pu+ybZb9iGTAXZv9hfv/iKuo6Ls52dcbnyRa9FKgeCOvnchBj73ZrJUSdxdZnvzife6n2IR1klr2acpArPaJywCZViCxJdST5NeOJJ55Q20eCbSnRJvsBiR3kVwzz9a1vA3sdDnrg76kSExNV5R8h8Y15sCzkF2W5Xrz++uvqs2FJDlhkPcht0kGh07eNxGcyE7NHBMz6Ebu9nUxJBDEFkTesXvNPLwFTWBK0yE/cMouMfIhkB9CkSRMnt5SEfDF8/vnnpp2H+c9++peDHPHboqcuWH6R6D12tnachSk5aEnvVS7MFOz650V6J53501lR2lLQuinu+inM+pAeK0fWhzvNLCe/WskBn2XwZisdQyc9yZI+INtKgpcPPvhApUbJT+mSwiDT0xZm3cmXuPTOFGbfq5dqki952b9JgCDBv5RaK2rPsmW7xKFDhwrcpoX91Uxfr9JbJT1O5gcpss+37HQozP7D/P7FVdR1XJztWpKfJ332WfnFVgI/y4DYMmCWspnmj/Mk+k/80qupbyM9QJP3n61frCVOkLkapENEys/JAbDEELK+5Fco855p/X1mr7SgvRKTcpCup/YU9rR161aUBom99IMEawcZQp9VUfaHMgeGJTlw1A+C9dKCsl70ToqizrTokoBZny5b5iG31RNRlBw4Z5AdjnB0bnhzsixSI1dyTiVXSXLbvOHnEXcmOyH9pynzPEL9IEV2QAWlJFjm7+o9ELZ2PJJHVlRSW1Nvl6MHhfpPv86c9Ma8LZJX7Sh93djbYRdn/RRmfcjPmIWtDVschUl9cCR4k58HpXdPftGSfaGsW+ldtEcCJ/m5Vn7+lZxVPY9WJhBwhPzSpfek6T/FO7rv1VME5PNiOT2xkGWxte0LWndSf1Z+ki6J97neSy95uLKP0Ots6wcp1qbF1fcfkmqh997a2n/Igbuj6WsFrYeiruPibNeS/DxJL5+se1nv0pMqgbEEfTExMep2GV8iNXXlIFDaLQch8l6QbVXan8vikiBODm5kWaVXUwI//fvHWjqGteWQeEFSDWR8iT6NtuTr6gG4/r6UgNJWLW3ZjrbId5q9XxHsnZJszFvgbIUdQ2brAFEPimX/Kp9V+bxLfCe/4MkvfR4TMMtPSvLlIAGD5Mpakm50fWdWmuRNqfdcFDaHWjaEDGCUn9AkWJaBDXpAQkUjXw4FDaaR3iJ9B2Gem6bnkMnOxtpEEfLTrj5oQL+vZVH0devWWd3OUjC+qCTYkZ2qXqzeEfITlPQ4yReeDA5xlkGDBqlz6bl0dNIb+WKWHbvspKz1OMiOtSQCHnPS2yHrUD6v33//PUqLPqi2MD9JWyP567J/kfeAvD/1nmbpVbKVL2uL9DIL+dneEfL8ep6qrXVn6/2tL7986Vr7hUF+JtU7HIqy7mSArpDPRVE6LBw9UJHvFnnvSjAj7dI/B+ZkHckvMPI+t9V7L71/QiY1Me8Btqeg9VDUdVyc7VrSnye9F/m7775TQZ70ZJsP5pXbZT3reetye2HGD5kPdi/uZ7M4pM36e0x6NfXeZYl3bE3A4chn2/zzLd9x+mB9fQZhc/KesXa9Jw36a3y1Q1WfyMkavadY1rmtdFc56NQHjppvDzlAtpzp2WGuqsMsdRCtzRUudUVljm97dZg/+eQTdb3UBiwMKakidWXPnDljtYSJXsxaisVbm7hEXlNOs2bNylfu6J577lGPrVSpks1SZ0VRlHrK3lKHWeoNS61FKUFmrf7ymjVrtM6dO6vXkRJQ5mWWpIyRXl5H7mNehzk+Pt5UnspaHWa9Xq6UmzKvySnvzQcffNDue7OgknRC6pzqdZhl2fTawnrZoH///TdfuUW5nzxG6lLL4y3LrUkNW7n++eef1wpDyvPpy2LZZlneyZMn5ys5p5evkrJa5mWSpE5n/fr1TevH3sQl9jiyDqVuql4ST/YH5utQr78r5QItS2wVpyyeLJ9eJsuRiUrskTbLc3Xs2NFUo1W2uzVSe1fKJJrXoxbSBn1bWNa6tce8Xq9MZmFer1fqfduq1yv7TX3bjhs3zvS5kcd/+eWXquyhPtmCZdk0R9ad1F3WJ5GQ0nLyOTUnnw2pCSzlMOW8sOT59fZLKTM5l5JztpjXYTYvoyn7Fn0egcLWYZaJEuQ2mRDFvNaxM9ZxUbdrcT5PjpBSdXq7rNVdlhKB5rfL6xfmcynvC71ev2UpSHMFfbcVt2ykkO8p/XWkzntBJQRlkhHZNlJn2JyUiNVL38qymW+Pb775Rl0v7xPzOvJSElPKutmrw1zSHilEWTmJ3+QzYrm9ZXvq8yTI/AuWpeEkLpA4y5GJZvR1pW8LeY/ZmvTHEW4z058URpfZamTnJAsnswPJ9fIFbCsYLGyNZvPaxBKIyYw6ctK/sPTntDWTlH4fyw/Azz//nOd57RX//v777z0iYJZtYW85ZIdfmjP9yaly5cpqRjwJdvVaufoOZdGiRfkev2vXLtMXsD7TX8uWLQuc6U+CUZnsRP+A1atXTx1MyReV1CH97LPPihUwC6kBrH9ByPtdn8nO3kx/5rN4SV1maZMEXPKa+nMVdn3LZAj6QYecpEa0PKesG2sz/ekHl/qXtpzLzk2fyU1qBt97770lHjALmQRAr7ept0O2m9Qp1bex5WsVJ2CWbSDvHz2Iks+IrG85FTaAlsBIb7u+37AWQAn9y0O2sSybLKPUX9cfL/svR+to68zfSzLToWxz/TOlv7/ldOzYsTyPk9rn+m1yf1kH+uNk0gRbdYYdXXc7duxQnzf9NWT/L8srj9U/G468N2zRa+3qJ5nlzxbZD8gXsuV3hh6cyXvM0Zn+zD87+ntT6inLvlTWgXlN/KKu4+Js16J+nhytI29vZj85kDGvtWs5gUdBn0shMyXq20TeK/p7y3zSj9IImEXXrl1Nr1XQrMHm80HIvle2tXxP6e912R4yqYzlZ0mfEVSfAEbel9JpVNoz/f3yyy/qe1k/6d8LcuBlfr0cFNjaz1vbnjIBjMwtoS+H7OPk+848VpM5B2zVYrZW+15OPXv2LNbyuixgFjKTkfScSU+grGD5YMssf7LTlKMIeZwESM4KmGWyCglUevfurQICWZFy1C0bRq6TI3jzyT8cDZgLUwzckfXmDgFzQaeC1r0zAmYJIGSCB3mP3HTTTWrHIO8TOYKWI0/ZMcn0xtZ+MdBJD+jLL7+sJsHQp12XwFS+lCx77Cx7V2VGIVlOeT15j8gyyTpyZOISR77QpZdMerjkFw15H8qvLbKzl52orS8NeYxMD61PnSptk4OCfv36qSl1rU3SUpDMzEzt22+/VTsTOXKXtsiXuWw7OfqXdWFtIoP+/furAwhph0zrLRM8SJDhyNTY9hRmHcoMdzIRguw85UtGvmAkUJAZDGUnbfnLRHECZiHrV26X4Mm8J6cov8jovZxyGjt2rM37SZvlvSjBj3ypyuvKssoXqzzOcvY/R8kXsRwsyWdCvmzlFwOZZEF6E/V2yQx7lmSmMdkvy2dRHifPIdcJe8Gco+tOAgx530mHirwfJQiQwEOWV7a1TC7l6Ex/lqSXVH9deY/bOkgxD06kF09+iZHPp/55Gzp0qPoMWFPQe0wmDJL3p3x29EDScj9Z1HVcnO1alM+To/Rfb2W/rc/uaW3iD1u3F/S5lN5VmfhGDiT1oM1yHZVWwKz/Qimngnrk9+7dq2ayk8lU5P0i31GyzWX/Lvt5W98D8r6VGYmlo0WWV96b0lmxYsUKhydycYYfHYx9rG0zewGz/t0tt8n05frBgHxm5CBTDgosfwWxxXwacWsT5RWGQf7ADf33v/9VA1uklJLkWBIRUcmTmrgyoZPULi1q1QtyP9yuRMXjkkF/jlSbkGLm+gAAIiIqHTI4S+j1fsk7cLsSeXDALEWnLUvkyOhgmYFFKh/IhAqWBeWJiKh4pPKDlPky/4FRKhW8++67pmoKMpkCeRZuV6KS49KUDKkzKT8NSS1GmQlHysxJeSspKSRTF0rJJZl/nYiInEdKqUmtV5ntKjo6Wu1zZd+rl+V6+eWXMWHCBFc3kwqJ25XISwPmr7/+Ws33LfUwJXCWpkg9SJnlZ8yYMfkmlCAiouKTWeQk7U1mYJOpaNPS0lT9+E6dOuGxxx6zOcMWuTduV6KS47aD/oiIiIiI3IFbDvojIiIiInIX1+anJI+Rm5uLU6dOoXz58mqaYiIiInJ/8qO+jNeS9NMiT9FMLsGA2QNJsFyrVi1XN4OIiIiK4Pjx46rgAXkOBsweSHqWxeHDh1URel8h9bllUEufPn0QGBgIX8Hl5nL7Ai43l9sXXLhwAfXq1TN9j5PnYMDsgfQ0DPnAhYWFwZd2sOXKlVPL7Es7WC43l9sXcLm53L6y3ILplJ6HCTRERERERHYwYCYiIiIisoMBMxERERGRHQyYiYiIiIjsYMBMRERERGQHq2S4wLFjx/D8889j8eLFyMzMRLNmzTB37lzUqFGjxEfn5uTkwFNJ+wMCApCenu6y5fD39/epEd1ERETEgLnUnT9/Hl27dkW/fv3w77//okKFCoiLi0NwcHCJvWZycjLOnTuHjIwMePoMSdWqVVMF311Zkke2VUREhE+V9CMiIvJlDJhL2QcffKCKln/zzTem66Kjo0s0WD558iRCQ0NVkCe9o55a/1GmBL98+bJaFldMKSoBu/RyJyUlqXUqGDQTERF5P58ImKdPn45Vq1Zh8+bN2Llzp0qD+PHHH/Hggw/afExsbCzGjx+PtWvXqiCpZcuWeO655zB48OBitWXevHmqd/muu+5SbapTpw5efvllDBw4ECVBepYlwJQpOD01UDYPmGXblSlTxiUBsyhbtqyaMObEiRNq3TJgJiIi8n4+Mehv3Lhxqkf36NGjiIqKKvD+y5YtQ5cuXbB69WoVID/66KNISEjAkCFDMHHixGK1Raaznjx5Mlq1aoVFixap57z77ruxcuVKOJsE+pKGER4e7vHBsjuRdSnrVNatPmsTEREReS+fCJi/++47HDlyBImJiSr4tSc7OxujRo1SPZgSxEqgLUHy9u3b0ahRI7zyyisq8DY3duxYFUTZO5n3ksbExKje67Zt26rBf7feemueFA1n0QfGcZCa8+nr1JMHURIReYvTSWlYG39OnbuLMyfisWvNPHVOns8nUjJuuukmh++7dOlSxMfHY8SIEWjTpo3peulRlGBZ0jimTp2K119/3XTbmDFj7KZ3mJNBa40bN85zXdOmTVXqR0lh77LzcZ0SERUg6SRwIR6oFA2EO1YFSoLLxKNxiKzTDFVrOja+Z0bsMXw2ZznqGBJwVKuGpwfegCExtZ32/EV53MbZn6L9jjdQ1aAhRzNgY6s30PGuZxx+PXI/PhEwF8by5cvVeZ8+ffLd1rdvX3W+YsWKPNdHRkaqkyOuv/56HDx4MM91+/fvV7nMtshP/+YVLmQgn5B0AHspAXKbDFSTXm05eTpZFv3c1csjr68PApRScyVJ38a+lv7B5eZy+wJvXW7DtunwX/AcDFouNBiQGzMKWt1uQE4WkJuF3Mx01D6/A9rGU0jLzUbS5TSc37saTS+tQFUDkKsB68t1x4WIGGQbgpBlCESmIRjZhgBkQv4PQqYhCMlZfgiMX4RVQbPgfzU4/Wru7fhuby9UDMpFGUMWgrUMBBsyUebEGrRP+tf0/DvCuiEnqp26LN8ucm48GYznV68re3YrYlKvtWtDua64XLEFoOWqkyyjflmeyT8zCd0u/Qm/q/0q0q4OO97A3yf3ISknxNWbhorIoOlRiI94//331SA7W4P+JJ/4t99+w6ZNm9C+fft8t8uAr4oVK6paykWxYcMGlR8t1TJuv/12VVruySefVEG4BNPWvPHGG3jzzTfzXf/zzz+jXLlyNl9LahZLj3atWrUQFBRUpPaSdTL4UMrbSW67pPEQEfk8TUNY+nFUv7gejc78Bf4Ol19yhobw91NUtSUOGvcs7GG2IG9iPQXDGnmD6/cpik6dOmHWrFl49dVX1WBEyYuW/20Fy0ICfKnQYd7DLEFwz549UblyZZuPkwk+JKiTKhlSWcLTybFdSkqKOmhxdUqErFupmNG9e/cSX7fS8yST3PTu3dun8tG53FxuX+Dxy52RAsORVfA7uBiG+H9hSDlt864HcqvjIsojW/NHNvyRhQB1kssVDZfRxW9XvsfsL9MShuDyCNAyEZibqc79c7MQoGUgQP7PTkXZ3NR8j7sYEIm0gHDVC52JYCArFY2y9+e73+bAdkgPqqx6g/UeYXUZmjoPTj+HZhnb8j1ud9kYZIVUAwx+6qRdPYfBAC0zDW3OzTM9n5Ce6T0Vb0Bqpvz3p+Prl9wGA2YXuPPOO9WpMBNlWJvYRHau9nawMiBNAksZwOiqMmzOpKdh6MvkSvL60o6CtoEzleZruRMut2/hcrsnUw5v7aaoGpwNHFwMHPgH2tF1MOReSydJ04KwJbcBrvPbAz/DtR+wszU/vBL6FipF1UPNiuUQFRaEhPg43NarK+pElkf6+WPI+ba9Sl8wf0z4fVPt5wwnnYT2SQtJ+jBdlWvwQ8UnV6CiWd60tN/a89d84Du7z2/rcRH3/p/dx0kOc7sdbyLAkKvuv6XVeJXDLJOX4aUI28tDbosBswW9Z9lWL7L07kpKBnkWSa/ZsmWLGtBZv359VzeHiMgzaBq2/zoeLfd+rgawqSROs55TuXgktyqW5bbB8tw2WJ/bFBXDwtA9dSEmBHxvChjHZT+Mzx+5FVHhZU096wsu7kbTqPLqQCG8ZrQaGJcvyCxogF14DRhu+wzavGdg0HKgGfzhN+DTfIMMqxbx+Yv6OAmOz3QagHNH9yKiTpOCl4PcHgNmCw0bNlTnBw4cyJfDLPmqMtNcx44dXdQ6Kmq+8a5du9SBDoNlIiI7lR9SziD18EZcPrwROLUVYee2oXVOiilIlmw4CZrX5zbBotyOWKm1RrmoxuhQpxIG1amI9+tWVEHxjNiG6DGnNWoZEnBcq4anBvYwBctODzLbDYchuhdw4RAMlerbrMhR1Ocv6uNknRamEge5NwbMFnr06IH33nsP//zzD+655548t8lEI/p9yHPoszt269bN1U0hInILa2Z+jM6731K9xpJfGx8QjXAtCRG55yB1HOzVcpCgeWv9R3FT1wF4vnYFhAbnDyWkrFv3RoNw5NwV1I0oV2CwXOwgU4JkB0rXFfX5GfwSA2YLvXr1Ur2QUoHiqaeeMtVilhSNCRMmqGoTw4cPd3UzqRAkFUNYq3pCROQNZMKOw+dSUS8ixBScykDphOR0HDx7GfFnL+PcyXgEn4pFnUvrMUBbrgJfIYPTonOMk2tISbUDWg3s92+IM+WbITOkOh45NS5fDu9dvbujak37ubjSDkcDZSJ3F+ArM/3JNNd6b6N+nV5zuWvXrnj44YdNpdjkNqm5LBUQpJdZqjLMnj1bzfD30UcfoW7dui5ZjkmTJqmTO84uZ21n7S42b96szhkwE5E3Mp+440huNVSrHQ0tJxv+iXFonrMHHfz2o7ffftQwnL/2ICuFhlbUew5RPUehVrUqaBx0LTzYODu78LnFRF7GJwJmCZZldj5za9asUSedHjALKdcmj5Hpq2fMmKEGJ7Rs2VLVTh4yZAhcZfTo0eokAw9tlb1zlPQ8pGU5J/CevfkExv+5W/2sJz0Vb97WHHe1r+mU5y4b6F/sEnLsYSYibyQdFTNjj+Pksm+wKug71Qss++GDCdVR3XABoX7pUh/NJBf+uBTeBGkVmyLq8Ox8VSya9LoPVWtWz/c6HMBG5CMB85QpU9SpMGRg38KFC+GtJFhu9roxJ9uZZGf92h+71ckZ4t7qi3JmPR2FJZOK7NixQx1gFDTgb9SoUepAQn5hICJyR8fOX8HCXaexcFcCth+/gD6GTfg66Ns86RWNDKfU5Zyg8jDU6gi/2p2BWp3gV7MDKgUZs5M3zm5ZqF5j5vCSr/OJgJl81+7du9W04jIxTEE91du3b8f9999fam0jInIkxe3g2RQs3JmgguS408kq9WKg/2p8HrwKtQ2JVp/j0k0fo8L1DwJ+/lZvZ68xUeEwYPZRkuogvbfFlZCUjps+XqF6lnXSw/Hvcz1QLbyMU9pZGvnLMimKBNetW7cu1usRERU3H/nlOTvVPlUO8SPLB+NsSgbCcBm3+m/AW0GrVE6ySWAItKzUPCnJMnFHhZb9bAbLOvYaEzmOAbOPkt7W4qQ66OpHhuK9gS3xypxdyNE0+BsMmDCwhbreHdgKmNeuXYtnn31W9SrHxMTgzTffxJUrV9CqVSsXtZSIfJUEx9JzvOLABXy8eD+q4Tzq+SXgeG4kGqcex6CgVbjJbysCcXVGPZmCOfpGoPVQoPEtMOz6rcCJO4ioeBgwU7EZ621GFrreZmmwNuBPcpr79OmDcePG4ZdfflHVUgYPHow6deqgQoUKLmwtEXkbaxWE0jJzsO34JWw6cgEbD5/HxsP+yFi/Xt022H8Z3gswDuCTCULyZJJVaQ60GQq0vBsoX63QE3cQUdExYPYg7lxWzh3rbcp6kh7ksLAwNGjQwHS9VBoZMWIExo4dq/6XwYAy0C8yMtKFrSUib0+v6NYwAikZ2dh1MglZOWZ5bDAgLBh4InwdRiVdG8Cnz6p3peW9COn6GFCtZbEn7iCiomHA7EGcWVbOF+zZswdpaWno1KmTacBffHy8Khn4ww8/5Lmv1N9m/jIRFafufHpWDg4lpuLA2RRsPnIR09YfNd0m4fHKA+dM/1cpH4yYepVwfdVcRMdNRsfMtfBLPpWvPrLsukLaD7UfLBNRiWPATF5Lz19u166d6bpt27apiWgaNmxouk7qbO/atQtPP/20S9pJRJ7ba3xj0yoI8vfDvjMpOHr+CnLMR0Bb8fgN0RjasTZqpu2DYeM30NbOhiEnw3hjmYpA+qWr4fVVBn9A0iyIyKUYMJPXeuCBB9TJnPQ0S4As9ZmlV1nIpDYXL15kDzMRFdizrAfLQs6W7Dmb5z5hZQLQuFp51KhQFn9sO4WqVwfwHc6thkuGChhVcQsqznkSOLFR3V+C7ovl6qP8Tc8joNUgYMcMYN4zgJZjDJY5gI/ILTBgJp/SoUMHFSy//PLLeOyxx7B+/Xq8+OKLCA0NRXQ0yysRkW2L487kKaGpu69zbfRpVk0FypJqoaeADQtcgfY73jDNwJcdGIqghZeND/ILBJrfiez2I7Fy+xnc0vIWICBQDeDD1QF8qmeZwTKRW2DATD6ldu3a+Prrr/H666/jq6++QpcuXXDvvfdi06ZNxZ6Cm4i81x/bTuLtv+LyXS+lNEf3bJB30HNWGnDgH3Tc+QZwdfppqU8flH0ZKBcBdPwP0P5BoHxVaFlZwPYFeZ+UA/iI3A4DZvI5I0eOVCciooLk5mr4dMkBfL7kgPq/abXySDpzRM22d0yLwlMDeyDKcBHY/TdwfCNwfANwejuQm239CQd+BzToWboLQUTFxoCZiIjICqmX/Pys7Zi/87T6/5Hu9fFS1Y0w/CWThOSqHGbD0orA/Iv5Hyw9yVeuVcVQJCc5slEptZ6InIkBswdx5zrMRETe5ExyOkZN24QdJ5IQ6G/Af2+phTuy/wLmvWO6j0riSpNg2QBUawHU6nTtVKE2sPUnDuAj8hIMmD0I6zATEZW8nSeS8PC0WFxITsWdZXfitVrbUWnJMiD36tTUlobNABr1zX89B/AReQ0GzERERFct2HEKU2b9htHaStxRdj3CtBTg2NUbI5sAifvy10mu2sL2E3IAH5FXYMBMRES+K+kkcCEemn8w1i+Zg8aH/8BMf2POsoqLQ6sBrQYDre8BqjYHtkxjmgWRD2LATEREvmnjt9AWvAADNJWPfJ1c5wdk+pVBQPPb4CdBcv0bAD//a49hmgWRT2LATEREvkPTgJNbgA2Toe2cZRy4Z3bT5qbPo8OdzwDB5W0/B9MsiHwOA2YiIvJ+Vy4AO2YaUyrO7lZXWU5VJHMX1Wtxnf1gmYh8EgNmIiLyTrm5wJFVxiB5zzwgJ0NdnWUIwtKc1uht2AS/qzPxiWzND0dyq6GyC5tMRO6JATMREXnVAD4EhQLxS4Ct04GLR0w3nyrTAN+mdsPsrOuQjFAM9l+GCQHfI8CQq4LlcdkP4+k60S5dBCJyTwyYPQgnLiEismHzVGDe03lLvgHICSqPdWV74sPEjtiRXk8lYsTUrYjHezbAmaSW6PF7a9QyJOC4Vs04zXV4WZctAhG5LwbMHoQTlxARWchKBzZ8Dfw7Ps/VEjb/WvExvHm6I9KTg9V1NzSOxOM3NEDHepVM9+vReBCOnLuCuhHlGCwTkU0MmImIyDMH8cV+B2z8BkhNzHezDOj740xlZBiC0b9lFB7rEY0WNfJ3NEiQzECZiArCgJl8Qvv27bFlyxbEx8ejfv36rm4OERWV1D9e95UxPzk7TV2VHVINfpcT4GdW9kJykhs0bol3b+mK6MhQ17WXiLwCA2byepmZmdi1axcqVqzIYJnIU53YBKz5zFjtQs9TrtYKV2JGY8yuuih/6bc8A/heyR6JO7vGMFgmIqdgwExeb+fOnSpo7tatm6ubQkSFqXhx7iCQdBTY9jNwbN212xr0hnb9E/jjUgO8s2Avzl0+D6AnVua0Ql2/MziSWxWJhgg8G1HOlUtARF6EATN5PUnF0NMyiMgDSF7yghfzVrzwCwRaDQGuG42Dhtp4be4urDu0Xd1UPyIEvZpWwQ+rDUjIrQx/gwETBrZgbjIROQ0DZnJu/dNK0W43ZezmzZvVOQNmIvcWfuUI/OY+Cuz+zeIWAzByMdIiW+HLZQfwzcqVyMrREBzghyd6NsB/etRHcIA/HupajxUviKhEMGD2VZoGZF1xznPJz6ULXwS0XMDgB9z8IdBmmHOeO7Cccb7aYmAPM5Eby0wFds2Gf+wPuOH0Vht30rD54HE8Pf0iTlw0DvTr2TgSb97WArUrX0u7YMULIiopDJh9lQTLE6o7/3klaF7wvPHkDK+cAoJCivzw7Oxs7NixQ9Wt5oA/Ijf6JSrtArDpR2DHTCAzBX4yk7XBX+Un+x1cZDyovyoHfhi98BIS4I+o8DIYP6A5+javCkMxD6aJiBzFgJm82u7du5GRkYHrr7+eX65ErrRlmnEmPjmotlSxHnLa3o9/zlbBTbffg01/TkK7HW/mqXhxzi8Cj3Sth6d6NURIML+6iKh0ca/jq1NjS6qD9N4WV/IpYFLHvF+C0ks0egMQVt057SwG5i8TuUnP8p9P5Zu2Gg37AJ0fB+r1QGZmFg7N+RuTVxzCx7ENUQ2fmSpeJKAypo/siK4NI1y1BETk4xgw++rU2NLbWoxUB5OIhsCAz4B5zwBajjFYHvCp8Xo3YC1gljSNd955Bz/99BNOnjyJypUr44EHHsCECRNc2FIiz3I6KQ2Hz6WiXkSI/bzhjMvA/GfzB8sANtW4H0sPRGHLkg3YcSIJVzLlK+mguk2CZKl4ofM3n5WEiKiUMWCm4ms3HIjuZZyBq1J9t6qSYW3A39tvv4358+djypQpqF27Ng4dOoTExPxT6xKRdTNij+HlOTuRqxmPvUd0qYfr61dGdm4uMnM0ZOfkIjtHQ9i5Lbh+x6sISzue7zkk1eKJvyUvOd50XbC/hhY1K2LL0Ut5wmspEyeVL4iIXIUBMzmHBMluFCgLSV3Zvn07wsLC0KBBA9P1ixcvxh133GGayKROnToubCWR50jNyMb/NhzFhAV7TdfJ2LwfVh9WJ10gsvFswG+4y38e/A0aTmqV8VdOZ4z0X5gnL7lM5VoYXK8S2tWuiJbVQ7F/0yrc2r8j5mw7jVfm7EKOprGmMhG5BQbM5LX27NmDtLQ0dOrUKc+Av/79++P111/Hhg0bMHjwYNx5550IDeX0uUTWaJqGzUcvYuam4/hrx2lcybQ+hiI6MgQVywWhXu4xPHHpA9TJOqSuXx/WB9+HPobFh9LwY3a/PHnJvwxsheuijWkXWVlZOHj1Yzokpja6N4pkTWUichsMmMlr6fnL7dq1y3P9q6++qoLk33//HW+88Yb6X6bPLnZeOJEXOZucjtlbTmLWpuM4dC7VdH2timVVLWTLlInpD3VAVNwPwNK3gZxMoGwlNZ6hc7PbUScpDUveX4oE7VpeckFpFqypTETuhAEzeS0ZyCcna5o1a6ZOI0aMQI0aNXDixAkGzARfH8BXs0JZxJ1OUUHy8v2JyJEkZQDlgvzRv2UUBsfUQoc6FVVvs3nKxGf9KiBq7mDg6BrjEzbqBwz4HChfVf0rge97A1syzYKIPBYDZvIpH3zwgQqQO3TogNzcXEycOBFNmjRRJyJfH8BnSYLjwR1q4ZZWUQg1q30sKRM3RGXh3JE41MzYj/A1HwOZl4GgUKDvBONAYIu650yzICJPxoCZfEp6erqqknH06FHVo3zjjTfi77//hr+/v6ubRuSSnuWxs3fmK/h2X+c6GNGlLqIjbeT2b5mGqvOeRlXz+uu1rwPumAxUqmfz9ZhmQUSeigEz+ZTx48erExEBP64+YqU6MlT6hdVgOScb2DUb+PNJixsMwMBvgAq1S6qpREQuxYCZiMgHTV9/FN+sMlayMJdvMJ7UjTu+Edg5C4ibC6Raq1muARePMmAmIq/FgJmIyMf8uOYw3pwXpy53bRCBdfHnkKPh2mC8sDJAwk5g52/ArjlA0rFrDy5TAUhPyjtzn8zwKZMWERF5KQbMREQ+5JuV8aaJRx7pUR9j+zXB2ZOHcO7oHlStGIqIxBnAV78BidcmJ1GD+ZrcCrQcBNS/Adj+CzDvGUDLMQbLAz51u4mLiIiciQGzB5k0aZI6yQx2RESFNWnZQfx30T51+akbG+DZ3o1g2PA1qv79MqpaZjP7BwEN+xiD5IZ9gSCzNA2pghHdC7hwyNizzGCZiLwcA2YPMnr0aHVKTk5mzWAiKtRsfZ/+ewCfLTmg/n+udyM81SQZmDUCiPs9/wP6vAu0ux8oY2c/I0EyA2Ui8hEMmH3ky5Kci+uUPOm9Kr3KXy2PRxlkYHLrw+h58ENg1TbbD4pqbT9YJiLyMQyYvZheWzgrKwtly7L2qTPJOhWs30zuHixPWLAHS1evxusBS3BvmTUI3pdilnLRF9g3HzCvp8wBfERE+TBg9mKBgYEIDg5GUlISypcvD4PFzFtU9CBE1qmsW1nHRG4l6SRwIR5aeG3MmjcPNxz8Ba8G7zbelg2gQh2gw0NA2/uAkAg1CQkH8BER2ceA2ctFRETg5MmTOHHihMp7lgDPUwNnmco6MzNTzdbn5+fnkkBZepYlWL58+bKaYpvIrajg92lTj/Fg+eMP5MIPfo36AjEPA9E3AuafHw7gIyIqEANmLxcWFqbOz507pwJnTyYBa1pamkovcWXQLz3LEizr65bILcjkIn8+ZaqPLJ8QSbU/UG8YGt3xClChlu3HcgAfEZFdDJh9gAR2cpLeUU8uSSftX7lyJbp37+6yVAjJWWYaBrmV5FPAyo+AzVPyTiYiQbMBaNRjmP1gmYiICsSA2YdIoOfJwZ4Eq9nZ2ShTpoxHLweRU6ScAVZ/DGz6EcjJUFdJj7L5jy/Zmh/OB1ZHVde1kojIKzBgJiLyJKnngDWfQtv4HQzZaeqqDblN8HHW3ajjl4AJAd8jwJCrguVXskfizowKDJiJiIqJATMRkZs7cyIeFw5uRO2LG1A2bgb8sq6oHOUtuQ0wMfturEdLdG8ciVn7ErEyoxXq+p3BkdyqSDRE4NkIsxn6iIioSBgwExG5sdjfJqL9zrdQ1SzVYntufXySPQi7ynbEsG51MLFjbVQLL4MZscfwypxdSMitDH+DARMGtkBUOGuwExEVFwNmIiI3dWL3OnTY+VaevOQczYBPK72OgT074Zvm1RAUcK1E3JCY2ujeKBJHzl1B3YhyDJaJiJyEATMRkZs5kwb8OHM2Bu0fkydYFv4GDc/HBKF56+pWHytBMgNlIiLnYsBMROQGsnNy8e+es5i29jBqHl2FtwN+RLAh22rli4g6TVzZVCIin8OAmYjIhRJTMlTu8c8bjiEx6TLGB0zFfYFLjLfV7IMjYR3Qdvf7psoXW1qNR8ea0a5uNhGRT2HATERUik4npeFwYipS0rMwf2cCFu46jawcDZG4iFllPkcb7IMGA3J7vIzIHi8g0s8PZ04Mwrmje1XPMoNlIqLSx4CZiKgUpGflYNKyg/hy6UGL+fiAe6JOY/yV91E2IxFacBg21HgY7bs+B38/44C+qjWj1YmIiFyDAbMHmTRpkjp58vTWRF7XW3wuFfUiQkwD7XJzNZy4mIY9CcnYl5CCvQnJ2JuQonqVLQNlSU3+u9shNN78JpCbBUQ2QfagqTizfp9LloeIiKxjwOxBRo8erU7JyckIDw93dXOIfJrkHb88ZydyZVAegJh6lZCVk4v9CSlIzSz4oDYIWXgjYCoaxy41XtF0AHDHZMCvDAAGzERE7oQBMxFRIR08exljZ+809RjL+cbDF0y3B/n7oUGVUDSJKo8m1eQUhoohgbj9yzWoop1HW7+DeCzgD7TyO6LylQ03jgO6jTGWw8jKctlyERGRdQyYiYgcpGkaFu1OUD3LlukV4qkbG2BA6+qoGxGCQP9rE4rofu1wAB12vAE/g/HR2X7BCBj6P6Bh71JoPRERFRUDZiIiBxy/cAVv/LkbS/aetXq7TEU9tFNt25OGnN2LjjvfAK4GyyJAywKqNCupJhMRkZMwYCYiskPykr9ffRif/XsAaVk5CPQ34NEe0agaVgbj/9iNHE1TwfKEgS2sB8u5OcCWacDi168mb5jRcoELh4DwGqW2PEREVHgMmImIbNh89AJembML+86kqP871auEd+9sgQZVyqv/ezWtgiPnrqBuRDnrwfLhVcDfLwNndlp/AYM/UKl+iS4DEREVHwNmIvKpsm+OuHQlEx/8vRe/bDyu/q9YLhCv9m+Gu9rVgMFsnmp5TqvPe+Ew8M84YO9fxv/LhAM3vAwElAHmjwG0HGOwPOBT9i4TEXkABsxE5PVl3/wMwHsDW2JITO0CZ+CTusmTlsXjfGqmun5wh5p4+eamqBgSVPCLpicDqz4C1k8GcjIBgx/Q4SHghleAkMrG+zTsY0zDkJ5lBstERB6BATMReR0JfsdKJYurKcMSNL80eyeW7U1E7crlUKV8MCLLB6NK+TLqfPXBRLw1L07dTydl4d69owU61b8a6FqTdBK4EA9UrAscWg4seRtIvToosH5PoO8EoKrFoD4JkhkoExF5FAbMROR1JA1DD5bN/b07waHHS9LFDw90QO3KIbbvJAP55j1tHLhnrlK0MVBu1NdYV5mIiDweA2Yi8jqRocH5rpPY9fEe0UjPzsXZlAycTU5H4uUMnL6UhrSsvEGvxNonL6XbDpilZ9lasNzjJaDb80CAA+kbRETkMRgwE5HX2Xb8Up7/9bJv1nKYJX2jy/tL86RjyP2l8kU+ubnAgUXA0nfzB8uibjcGy0REXogBMxF5nd+3nlTnj/aojx6Nqtgu+3a10oUMCJTycTZrKmemAtt+Ng7mk5xla1gijojIazFgJiKvIj3G6w6dV5fv7VQHtSpZ6Sm2ID3P3RtF5q+pnHQC2PgNsHkKkJ5kvC44HGg/HCgXASx5iyXiiIh8AANmIvIqf247pQb8daxbyaFgWReFC4jyk97jaOBEArB+ErB7rjEgFhXrAZ0fA9rcCwSHGq9reTdLxBER+QAGzETklekYd7QtRABrq+KFnpfc+XFj1Qs//7y3sUQcEZFPYMBMRF5jz+lk7E1IQZC/H/q3jHLsQZJ28edTV2tjmGl6O9B9DBDVukTaSkREnsPP1Q0gInKWuVd7l29sUgXh5QILfsD5eODXe/MHy6LjKAbLRESksIeZiLxCTq6GP7adciwdIzsDWPMZsPIjICcj/+2seEFERGYYMBORV9hw6DwSktMRXjYQPZtE2r7j4VXAX88C5w9cm8Ja8pSXSW1lVrwgIqL8GDATkVcN9uvfKgrBARaD80TqOeCfccD2X4z/h1QB+r0HtLjLOA1g63tY8YKIiKxiwExEHi89KwcLdyWoy3eap2PIFNbnDgIJ24DVnwBpFyXfAujwENDrdaBshWv3ZcULIiKygQEzEXm8xXFncDkjGzUrlkX72hVtl4qr2tKYblGzg8vaSkREnodVMjzIpEmT0KxZM8TExLi6KURuWR3jjjY14OdnMPYsS6m4PHWVDcA9/2OwTEREhcaA2YOMHj0acXFxiI2NdXVTiNzG+csZWLE/MW91jJUfWikVpwGXjpV+A4mIyOMxYCYijzZ/52lk52poVTMcDSJDgMWvA5un5L8jS8UREVERMWAmIo82Z4sxHePO1tWAeU8Z6yuLprcZg2TBUnFERFQMHPRHRB7r8LlUbDt+CWX9sjHs2HjgwF+AwQ+49VOg/QPGXGaWiiMiomJiwExEHj3YrxzSMTPsSwQf2AL4BwF3fQc0u914B5aKIyIiJ2DATEQeSdM0LN26Bz8HvYsW6fFAYIixCkZ0T1c3jYiIvAwDZiLySLv27sXEyy+jkd9JaGUrwnDvbKBme1c3i4iIvBADZiLyPOcOouacO1DRLwGXAiJRYcRfQJUmrm4VERF5KVbJIKIiO52UhrXx59R56b3odmg/9EXFrAQcyq2Gff1/Y7BMREQlij3MRFQkM2KP4eU5O5GrATK53nsDW2JITO2Se0GpeBH3B7DsXRgyL2NXbl08F/Q6FrRqVXKvSURExICZiIpCepT1YFnI+StzdqJ7o0hEhZd1/gtumWac6vrq7H1nAmtiaMo4DO7YFAH+/KGMiIhKFr9piKhI9Y/1YFmXowFHzl1x/osl7s0TLIuIzFMIQRru1KfCJiIiKkEMmImoSAGzNbtOXnLei2SlocGZ+Qj4sW+eYFn4G3LRpVIymlcPc97rERER2cCAmYgK5ej5VLy/YK+6bLh6nX7+/t/7sGzf2eK9QE42sHkqAiZ3RPNTM2DIyh+cZ2t+aNmqLQwG/ZWJiIhKDgNmInJYRnYORv+8BSkZ2ehQpyJWvHgDfhnVGWvG9sTAtjWQk6vh8elbsP14EXqaNQ3YPRf4qjMw7ykYUk7jSmAlZN/6BTDgM8DgbwqWX8keiZs6tXX+AhIREVnBQX9E5LAJ8/dg18lkVCwXiM+HtkX1CmVRu1KIuu39u1oh8XIGVh04h4emxGLO49ejTmXjbQU6tBz49w3g1Fbj/2UrIafrc1hythr6tb4DCAwEGvTGn8tWY8L6DNSp1xA1K5YrwSUlIiK6hj3MROSQhTtPY+q6o+ryx4PbqGDZXFCAHybf117lFZ9PzcTwHzbi3OUM6+XhDq80np/cAky73XiSYFmmt+7xEvD0duR2fBS5fkGmh2lh1THpcBQSUJmD/YiIqFSxh5mICnTs/BW8+NsOdfnRHtHo2aSK1fuFBgfgxxExGPjVWhw9f0X1NEvKRkhwwLXycPOeBrTcvA/0CwRiRgLdngdCI43XZWXlucue0ynYdyYFQf5+uLllVEksJhERkVXsYSYih/OW29epiDF9Gtm9f5XyZTD1oY4qbWPHiST12KycXGOPsrVgucltwJObgJs/uBYsWzF9g7F3+/oGlRFeNtA5C0dEROQABsxEZNd7C/Zi58kkVCgXiC+GtkWgAxOFREeG4vsHY1Am0A/L9yWqSU20+KX5g2XR6T9Axbp2n++Xjcfw84Zj6vKKfYlqlkEiIqLSwoCZiOzmLU9Ze0Rd/nhw63x5y/a0q10RXw5tp2omh2z7Djl/Ppv/TlL5olJ9u88jwboE3DqpyPzKnF1qtkEiIqLSwBxmIheSoE8mAakXEVIyU0oXN295tjFv+ZEe9XFjk6qFfo6bauZidfVJiDq/Tv1/MbQBKqYeMvY0S7A84FMgPO8APk3TEHc6GYt2ncbvO/xxfN2GfM+bo2lqVkF3W2dEROSdGDATuYikFbw8Z6eaYtrPALw3sCWGxNR2iyB+/5kUlYqRkm7MW36+T+PCP5HUVP7rGUSlXUS2XzDeyBiGn8/fhE/7VUH9gLOIrNMUVWtGm/Kk1x+6gH/jzmDJnjM4lZR+9UmsT0zibzCgbgTLyhERUelgwEzkoqBUD5aFnEuaQfdGkS7tNTUP4kXZIH+H85ZN0pOBhS8B2382/h/VGv4Dv0XWigzkbjqOpxYmqkDYz7AXd7W/jMvp2Vi5PxGpmTmmp5Dc567RlRGRmYCnBt2IVfEX1PqRnmUJlicMbMHeZSIiKjUMmIlcQNIw9KDUXdIMLIN4kZGVg0LNPn10HfD7f4BLxwCDH9D1WaDHWBgCgvDEjamYsem46a7yOrM2nTD9X6V8MHo1rYrezarg+ugI+CMXCxYsQGT5YNXzLgcTsn6kZ5nBMhERlSYGzEQuIDnLEoeax8ySluHKNANrQbz8bzeIl1JxF+KB8NrA1mnA6k+M+ckVagN3fgPUuc501+MXrQ/SG9i2Oh7sUg8tqofDT1bCVVlZeStqSBsYKBMRkSswYCZyAQn8GlQJxYGzl03XdWsQ4dKAUAXxBhl052CusK1JSFoPM9ZULhOW7/klHs61eP4X+jVhIExERG6NZeWIXFSBQg+WH7iujjrfevwSUjOyXdYmCVpb1Qg3/W83V9jWJCT9PwHunJwvWNafXwY2yvMW+PxERERuhD3MRC7w69WJNyQvd/yA5lixPxFHzl/B7C0nMPw6+5N4lJSzyenYfSpZXZ5wZws1/bXNYPb4BuuTkEQ0tPsazEUmIiJPxB5molIm00TPvDrYbVjHWipvd0SXeur/H9ccQa5lInEp+XnjMWTnauhQpyKGdapjPZiVfI0dM4E/nyrSJCRCnve66MoMlomIyGMwYCYqZVJn+NzlDESEGqtCiEHta6J8mQA18G7ZvrOl3qbM7Fz87+rU08Ovt9HDnXoemPUAMGcUkJkCVKhjrIQhbExCQkRE5A2YkkFez91m0/t5o7G02uAONU31jUOCAzC0Y218s/IQvl992BRIl5ZFuxOQmJKhSrj1a14t/x32/Q38+SSQehbwC1Cl4lTJuMtngAuHjD3LDJaJiMhLsYfZBerWrQuDwZDv9N///tfVTfM6MhFHl/eXYti3G9S5/O9Kxy9cwaoDiVfzeWvlue2B6+vC38+AtfHnEXc1l7i0TFt3RJ0P61gbQQFmu4WMFGOg/MsQY7Ac2QR4eAnQ4wXAP8AYJNfrxmCZiIi8GgNmF4iNjcXp06dNp59/Ns6INnDgQFc3zetn0xs7ZyeOnU91WZtmbjqu0oC7NohAncoheW6rUaGsqXf3xzWHS61Nu08lIfbIRQT4GTCsU21jBYzDK4HdfwCTuxjLx0nV6OueAP6zAqjeptTaRkRE5A6YkuECkZGRef7/66+/0L17d0RHR7usTd7I2kQcEqze+sUaPHh9HTWwrVp4mVJrT3ZOLmbEGtMxJP3Cmoe61sP8nafxx7ZTeLFfE5UiUdKmrT2qzvu1qIaqB2fmLxcnk5JIqbi6XUu8LURERO7IZ3qYp0+fjkceeQQdOnRAcHCwSoGYMmVKgT3Bt9xyCypUqICQkBB07twZM2fOdGq7kpKS8Pvvv2PEiBFOfV4yTpRhTXJ6Fj5fehBdPliKx/+3Geviz0Mzn62jhCzdexZnUzJQOSQIvZtZz1FuX6ci2tSqgMycXExfbwxkS9KlK5mYu+2kuvxw62ArtZUNwL2/MVgmIiKf5jMB87hx4/DNN9/g6NGjiIqKKvD+y5YtQ5cuXbB69WoMHjwYjz76KBISEjBkyBBMnDjRae365Zdf4O/vj7vvvttpz0lG5y9n5vlfTZRxZwt8OawtOtarhJxcDQt2JmDot+vR99OV+Gn9UVy+OnGIpHOsjT+nzp3ll43G/OlBHWrmzRO20sss/rfhKNKzclDSKSIZ2bloGhWG1mXOWamtrBlzl4mIiHyYz6RkfPfdd2jYsCHq1KmD999/Hy+//LLN+2ZnZ2PUqFHw8/PDypUr0aaNMWfz9ddfR8eOHfHKK69g0KBB6rl0Y8eOxQcffGC3DdZ6MX/44QcVkEsPtjdwp4oUP60z9tD2blpVBaHmE2Xc2qo69iYkY9q6o5i79ST2n7mM1+buwgcL96JVzXCsP3RepXPIVM4yO51MuFEcJy+lYfl+42C/ewp4rptbVENUeBmcTkrHn9tP4c7WVqpWOIEcMMhBgj7boGH/V0WurUxEROTNfKaH+aabbsoT4NqzdOlSxMfHY9iwYaZgWYSHh6tgOTMzE1OnTs3zmDFjxmDPnj12T5Z2796t0j68JR2jqBUpSqI3N+lKFv7Ybkw1eKRHfasTZTSpFoYJd7bE+ld6YfyAZqgfEaJ6mKVKhflAwVfm7Cp222bGGgf7XVe/ss1UEZ2UmpOKGeKH1YdLLF1k+b6zOH4hDWFlAjAwdzGwYbLxhqtTV7O2MhERkY/1MBfG8uXL1XmfPn3y3da3b191vmLFinwD+SwH8xVEepel17trV/v5oRkZGeqkS042lhzLyspSJ3cgvaGWFSlemr0Tv20+jsohwQgNDlATc4QG+6vL+v9bjl3C1PXHVDApvbnv3N4Md7evafU19GV1ZJlnxEo6Qy6aVA1Fq+qhdh9T1h+4r2NNDOtQA9+vOYoP/9mf5/YcTUP8mWRElAsoxmA/48HD4PbVHWr/oLZR+Ozf/dibkILVV8vQOXtbT7laiePV6EMIXPSKupzT9Xnkth0Ow8VD0CrWB8KqywvDFQqzvb0Jl5vL7Qt8fbnJ8zBgtuLAgQPqXIJZS9WqVUNoaKjpPkUlaR8yEPGZZ54p8L7vvfce3nzzTat51uXKlYM7OJBkQK7mn+/62COXHH4OCbJfnbsbWcd2oIKd4hCLFy8u8Hm+3SZtMaB1SBIWLlzocBtCMuRR/tBksNtVBmiI37Ye5/P/SOCQXRcNSEj2R0iAhtxjW7HgxFaHHte+kh9Wn/HDxL+24D9NCl7uwjibBqw6GIB2hv2469C7MGi5OFq5B7Zdbgms3nb1XnKuX3YdZy63J+Fy+xYut2+4cuWKq5tARcSA2UblCj0Fw5qwsDDTfYpq/vz5OHfuHIYPH17gfSXf+rnnnsvTw1yrVi307NkTlStXhjtYsCsBiNuR5zrpMR7btzEC/A0q1SElPVud65dPJaVh/5m8NZElUI1u0xmd6lWyemQuO9fevXsjMDDQZltWHTyHxPVbVC/2y8NuVLPoFUZg7RMY90ecqbc8wN8Pnbp2RXRk0fLM/5guAXIi7ulUF7f1a+zw45qeS0Wfz9Zg90U/nE3Lxb232V/uwnhnwV5EG9ZhWtmJCMjNQm6D3qh+90+oLrP4uQlHt7e34XJzuX2Bry73+fPnXd0EKiL3+Xb0MbfffjtychyrgCBl8ORkSXYy7rCjkTJtHy4y9rhLv6ymV6QY2MLuYDnJC5ZcZ/NayfL46KphdperoOX+JdaYuzyofU1UCC38wMNhneuhZ9NqOJSYik/+3YdNRy7hmZk7MHd0F5QJzN+Lbo8soz7Yb1jnuoXaXo2iKuDGJlVUObqVp/3woJO2d2pGNlZu2Y2fgj5AaG4KUKM9/AZPhV+Q66cNt8Zd3ueljcvtW7jcvsGXltXb+Mygv8LQe5Zt9SJLD6+t3mdf9Mafu1UViNqVyuHf53rgl1GdsXpszwIrS8ggPKlAIcG1zs9gQFJa0XO8pB1L9pxRl+/r7NggT1tt69IgAl/d2x4RoUEql/id+XGFfp6ZsSfUAYH0mEdHhhb68SOvlpjbkFi89WLur9h9mKRNQE3DOWiVooFhM4Eg76jSQkREVBIYMFuh5y5by1OWWsyXL1+2mt/sixbuPI05W06q9IuPB7dGdJVQqxUpbJGgWoLrX0Z1QpfoymqA3XMztiMz27IesGN+3nBUBahdGlRGgyqFD1AtVSlfBhMHGyulTF9/TC1vYcq2SZ1jezP7FeT66MpoXDUUmbkGzNx8okjPYU7LzkDDZY+hmd9RpAVVguG+2UBIRLGfl4iIyJsxYLaiR48e6vyff/7Jd9uiRYvy3MeVEpLTnV6OrTDOJqfjld93qsuP3RCNDnXz5x07QoLr66Ij8Mk9bVCxXCDiTifji6WFH1SZkZ2DXzcaA9T7i9G7bKlHo0g82sM4bfmLs3fg+AXHBm2sPJCoerzDywaqaaeLQmaklBrJ4qf1x1XFjSLLzcW56Q+jXc52pGplkD10JlDJ2INNREREtjFgtqJXr16oX78+fv75Z2zbdq1KgKRoTJgwAUFBQQ4N1itp/b9YW+iax84itYEleLx4JQvNq4fh6V6NnNKb+84dLdXlr5bHY+uxi4V6/N+7EnA+NRPVwsrgpqbWp54uqjF9GqFt7QpqsOJTv25FlgOB6y8bjNvkrnY1C537bO62VtUQGqip0n2fLTlQ9AOkf8cj8sifyNL8MTN6AsrXiylym4iIiHyJny/N9Pfggw+q06xZs/JdJ5d1AQEB6v/c3Fx0794d//nPf9TEJK1bt8b+/ftV0Fy3rnFiidI0adIkNGvWDDExxkDH2ZNrFMb/NhzD8n2JaornT4e0sTvVc2H0bxWF21pXV+kMY2ZuR1qm41NDy6x9Ylin2qqyhTPJZCKf39NWTfKx9dglTLSo1WzpTHI6luw1Tik9tGOtYr12cKA/6oYaN/YXSw8W7gAp6SRweCWw/H1g7efqqpeyRuH6PoOL1SYiIiJf4jNVMlavXp1vdr41a9aok+7hhx82XZaSbfKY8ePHY8aMGaoETsuWLdX010OGDIErjB49Wp2sDTqU3N8j566UynTUMvX1u/ONRYlf6tcEDauWd+rzv3V7czU19aFzqfjg771447bmBT5m96kkbD56EQF+BtxTzADVllqVyuHDQa3w6PQt+HpFvMrVlnQNa2ZtOq6C/pi6FYu9fqRneffFawMj5QBJJonp3ijS/vbeMg2Y9zSgXesN/yDrHpyqewcaV3PuNiMiIvJmLu1hlok3xo0bp4JTGURXsWJF1KhRQ01Hff/996teXhlk5wxTpkxRaQS2TnK7pY4dO6pJLyQVQ4qNb9iwwWXBsiNOXCz5guiSQ/vsjG1Iy8pRA9JGXJ3C2ZkqlAvCB4NaqctT1h7B2oPnCnzM9PXG3mXJFZbUjpLSr0WUKT/6uRnbVB63pdxcDb/GFm+wn7mj56/kmUhFvYYGfPrvAaRn5djuWbYIluXS7znX44HrSv/XESIiIk9W6gFzamqqmrlOcoRvuukmld4g00yfPHkSISEhSE9Px65du/C///1PpULUqVMHgwYNytMTTEZSmcKc5BR/szJeHQCUFMkt3nb8kprW+qO7W8PPshFO0rNxFZVaIV74bYeq9WyLlFubu/WUujy8FILBV/s3RZNq5VW+9DMztqmeZHOrD57DiYtpKn3jlpZRxX69OpXLqdkGLc2IPY4bP1qOP7adVEF6HucP5gmW9Q97u/KX0LuZc/O7iYiIvF2pBsxff/01GjRogFdffVXNlvf2229jyZIlph7cEydOqFlwJP1h7969KoVi8ODBqlqF5BIPHDgQhw8fLs0mu7X5T16vah6vfPEG1ZMpcfKEBXvx4m87ilyWzZ7txy+pQWfinTtaoHqFkk3/ePWWpqq2s1SaeHue7RrIszefUD3ejauWVykQJU0G8H05rB3KBvpjbfx5TF5+MM/tv2w05hcPLOZgP11UeBkMqZ9rOkDyNwD3xNRC9fAyOJWUjqd/3YY7v1qD2CMXjHdITwbWfpHvebI1P8S0a+/0/G4iIiJvV6o5zE8++SSGDh2KF198ES1atLBbSqtRo0bqJKkZaWlpqsdZeqZ/+uknvP7666XZbLcl1SCaX50ae8KdLdCoaije/isOszafUD/jT76vHSqH5p8hsChk8N2zM429qbdeHZhX0mRKa+nFHvLNOrVMvRrnrxcsvel6Osb919VR753SIDWe376jBZ6ftR0fL96PTvUrI6ZuJZxNScfiOOPEKc7Mpb6uqobHB3bHyaRM1I0op3KXJR3j+9WH8dWyg9h+Igl3f70OIxulYWzyuwi8dAgwSLCeKytJBcuv5zyM57qxMgYREVFhlWpX0+7duzFt2jS7wbI1ZcuWVQPypEKFBNCUnwSKI7rUww8PxqB8cAA2HrmA2yetwb6EFKc8vwy+k6miq4YFq97l0gpMO9arhFHd6qvLr/4Rh8sWmRlrDhoHB4YGB+COtjVQmmTq7YFta6h84qd+2YpLVzLx2+YTyM7V0K52BTSpFubU15OeZvNJYaT3enTPBlj2gvEXhtv912LM0cdVsJwcWAWX71uAMyM3493I/6JrxmdIa3kvIpx0AEVERORLSjVglh7josjIyFDn/v7+qFfPdydasCwrZ80Njavg99HXq7xXyaO9a/JaLN1r7PEsqpX7E9XgO/HhoNZqUF5peq53I9V7LjnDMw/55cnR/mm9sV13tauhgubS9tYdLVAvIkRVsnji562YsuaI0wb7OapKWT+8V+YnfBb4JcoZMrAqpwVuSHkLHadeQucv9+Lb4zWQgMoqhYOIiIgKz62TGbds2aLKqFWvXvI//3sCWRdxcXGIjY21e78GVcpj7uNd0Ll+JVzOyMbIqZvw3apDRRoMKL2mL/y2XV2WGedslVErSdKT+vHgNqpk3PYLfvhzh7FyyqlLaab0h/ucOLNfYUiQ/uWwtvA3GNRgv7MpxoO79Czn55DbrIYxpT+w8f/Uv1q355E97DeEVa6GK5k5eYYKfr3ikMtmhSQiIvJkbhcwX7p0CV9++SXatm2relInT56sKmdQ4VQMCcK0hzqpSTMkTn5n/h68NHsHjp1PdXg6bbnPY//bgjPJGagfGYKxNzeFq7SoEY7RNxhTM976aw8SktLx84ZjKh3iuvqVnV4LujAqhQQh1+Jg5I0/d5d8cHpoBfB/3YETG4HgcGDorzD0eg09m0ap/GpLeq1uIiIi8tCJS/799198//33+OOPP1QKhvSGXnfddRgxYoRb1z52ZzL73oQ7W6JhlfJ4Z34cZm46oU5CKi68PqCZquRgzZwtJ/Dmn3GmHkopj1Y2qPgVH4rj0e718PuGgziWmo0nf9liys+WwX6uJBO5WPbdl+hEMhKcr/kUWPKWsXRc1ZbAkGlAJeMBhT4oUbaxebU56QWXAYNERETkQQHz8ePH8eOPP6rTsWPHVJAsE5dITWaZrvqHH35wZfO8ggzOe6hrPVQoF4jnZhpTK4QEUm/8GadOjpi8LB73dqpdKjMJ2iLl0O5rmIMPdwQi9sjFPGkjriQ5zKUSnCafAs7FARu/BeKXGK9rPQy49WMgMO92ke303sCWasp0Cd6lPRMGtnDp9iMiIvJUpR4wS43luXPnqt5kqcGck5OjJiy59957MXz4cNx4440ICAhQJ3KeasUc8FWaU2/bE+yHfBOFvDZ3N3o2qeKytpVGcFr7/AoEfPngtclIpGRc/4lA+wflqMjqY4bE1FbTZ8t200vRERERUeGVelQqA/guXLigej5lSmwJkmVCEgmaqXR7QeX/5c/fgGoWgVRCUhpu+Gi5W/6cn5ief847dwjmSzQ4TT6FNsd+sJjtTwMa9rEZLOukHQyUiYiIPGzQn8zkJ8Hys88+i59//lnVVWawXHq9oBL4CjmX/2tXDlG5zuYnuc7yvu7yc35kGS3flODuEszL+jGvk+wshvgl+afGlp7mC4ec+jpERETkJj3Mkps8a9YsfPzxx/j888/Rt29fFTTffvvtCAoq3fq+nliHWU6SxlLSvaDu+nN+hWDgndub4bU/9vhGbm7CLvgvfTP/9ZKSYTbIj4iIiLwoYJaBfBIo//rrryqP+a+//sL8+fMRFhaGwYMHcya/Auowyyk5ORnh4eFFeo7C/ETvrj/n392+Jno2reZ2wbzTnYkDpt0GQ/olpAZFoFzWBRikZ1mC5QGfAuGlO7MhERGRr3JJHebQ0FA11fW6devUdNnPPPOM6l3+9ttv0aNHD5WysW/fPhw9etQVzSMPUFLpD27j7B5g6gDgynnkRrXB8sZvI/uJbcADfwHP7ATaDXd1C4mIiHyGyycuadq0KSZOnKhKyc2cORN9+vRRAfOqVasQHR2NXr164aeffnJ1M4lKz9m9V4Plc0BUa+QM/Q3ZASFAWHWgXjf2LBMREflawKyTMnKDBg3CwoULceTIEbz55puoU6cOli1bpvKeiXxC4j5jsJyaCFRrBdw/FyhbwdWtIiIi8mluEzCbq1mzJl577TXEx8dj8eLFuOeee1zdJKKSl7gfmHIrkHrWOHvf8D+AcpVc3SoiIiKf5/azg0hKhpyIvNq5A8BUPVhuwWCZiIjIjbh9wEzk1ZJOAkdWAYvGAVcSgSrNgeF/AiGVXd0yIiIickVKRr9+/RAbG1ukx6ampuL9999XdYiJvMKWacCnLYDfHzEGy+WjgAcYLBMREfl0wJyYmIjOnTurKbF//PFHJCUlFfiY9evX44knnlADAN9++21UrVoVvkoOFpo1a4aYmBhXN4Wc0bM872njjH26y2eA7AxXtoqIiIhcnZKxefNmTJ06VVXAGDlyJEaNGoXGjRujffv2KhCuUKEC0tPTceHCBVWHedOmTUhJSYG/v78a+PfOO++gdu3a8FXOmLiE3MSF+LzBsvl01ywbR0RE5Ns5zA888ACGDx+OBQsWqF7m5cuXY/r06fnu5+fnh1atWuHOO+9Uk5xERUWVdlOJSk5gufzXcbprIiIit+SSQX8yMUn//v3VSezZswcnTpzA+fPnUbZsWURGRqJ58+bsRSXvtfqTvP9zumsiIiK35RZVMmS2PzkR+YS984G9fwF+AcB9cwCDn7FnmcEyERGRW3KLgJnIZ2RcBha8aLx8/ZNA/R6ubhERERF54kx/RF5r+XtA8gmgQh2g+9XAmYiIiNwaA2ai0nJ6B7B+svFy/4lAkJWBf0REROR2GDATlYbcHOCvZwAtB2h+J9Cwt6tbRERERA5iwExUGjb9AJzcDASHAf3ed3VriIiIqBAYMBOVtOTTwJK3jJd7vQ6Ur+bqFhEREVEhMGD2IJwa20MtehnISAaqtwM6POTq1hAREZE3BMzjxo3Db7/9ZvpfpseWyU00TYMvk2mx4+LiEBsb6+qmkKMO/Avs/t1Ya1kmJvHzd3WLiIiIyBsC5qlTp6rZ/kRqaipatGihZv6T8+PHj7u6eUSOybwCzH/OeLnz40BUa1e3iIiIiLwlYD537hzq16+vLv/+++8IDAzEyZMn0blzZ4wdO9bVzSNyzMr/ApeOAmE1gRtednVriIiIyJsC5ho1aph6kmfOnImRI0ciKioKY8aMwdKlS13dPKKCnYkD1n5uvHzLh0BwqKtbRERERN40NfZ9992HZ555BnfccQcWLlyIDz/8UF3v7++PpKQkVzePyL7cXOCvZ4HcbKBxf6BJf1e3iIiIiLwtYH7ttdfUAL/58+fjzTffRJMmTdT1mzZtQp06dVzdPCL7tv4EHF8PBIYYe5eJiIjIo5V6wHzkyBHUrVvX7n2kJ1kCZTmZkzzmoUOHlnALiYrhciKw+HXj5RtfBcJrurpFRERE5GkBswzmq1y5Mtq2bYv27dubTvXq1SvwsS+++GKptJGoSJJOAn+MBtIvAdVaAh0fcXWLiIiIyBMDZgmUd+/ejX///VedDAaDuj48PBzt2rXLE0RHR0eXdvOIimbLNODPpwBcrRXesC/g75YZT0RERFRIpf6NvnnzZmRlZWHnzp3YsmWL+l/Od+zYoSpgyEkPosPCwkxBtD7wj8jtnNmTN1gWqz8xzuoXXsOVLSMiIiIncEkXmNRVlkBYTg8//LC6LicnR/U8SwCtB9Hbt2/HsmXLsHz5cgbM5H5ysoEtU4B/JdfeYhZKLQe4cIgBMxERkRdwm9+MZaBfq1at1GnEiBHqutzcXDUltgTQRG7l4BJg0atA4h7rtxv8gUrGyXeIiIjIs7lNwGyNn5+fmhJbTgRMmjRJnaQ3nlwkcT/wzzjgwCLj/2UrAT1fAfwCjdNgS8+yBMsDPmXvMhERkZdw64CZ8ho9erQ6JScnq0GSVIquXABWfADEfmeckMQvwFgFo8cLQNmKxvs07G1Mw5CeZQbLREREXoMBM5GtEnEX4oEKdYB9C4Hl7xnLxYlGNwN93gEiGuR9jATJDJSJiIi8DgNmImsl4uY9DWi5ea+v0gzoOwGI7umqlhEREZELMGAmsuxZthYs9xoPXP8UaysTERH5ID9XN4DIrUgahmWwLGrGMFgmIiLyUQyYicxVktkljRPnmLBEHBERkU9jwExkTgbt1TfLUWaJOCIiIp/H35iJLKUmGs+7vwC0H8FgmYiIyMcxYCYydzkROLPTeFnqLIdGurpFRERE5GJMySAyd3iF8bxqCwbLREREpDBgJrIWMNe/wdUtISIiIjfBgJnI3KHlxnMGzERERHQVA2Yi3YXDwKVjgF8AUPs6V7eGiIiI3AQDZiLL3uWaHYHgUFe3hoiIiNwEA2aifOkYPVzdEiIiInIjDJiJRG4ucHil8TLzl4mIiMgMA2YPMmnSJDRr1gwxMTGubor3kdrLaReAoFCgRntXt4aIiIjcCANmDzJ69GjExcUhNjbW1U3xPoeulpOr0wXwD3R1a4iIiMiNMGAmEiwnR0RERDYwYCbKzgCOrjVe5oA/IiIissCAmehELJCdBoREAlWaubo1RERE5GYYMBOZp2MYDK5uDREREbkZBsxE+oC/ekzHICIiovwYMJNvS08CTm42XuaAPyIiIrKCATP5tiNrAC0HqFQfqFDL1a0hIiIiN8SAmXzb4avpGOxdJiIiIhsYMJNv0wf8MX+ZiIiIbGDATL4rJQFI3AvAANTr7urWEBERkZtiwEy+S6+OEdUaKFfJ1a0hIiIiN8WAmXyXqf4y0zGIiIjINgbM5Js0jQP+iIiIyCEMmMk3nT8IJJ8E/IOAWp1d3RoiIiJyYwyYybfTMWp1AoLKubo1RERE5MYYMJOP5y8zHYOIiIjsY8BMvic3BziyyniZATMREREVgAEz+Z7T24D0JCA4HIhq4+rWEBERkZtjwEy+m45RtyvgH+Dq1hAREZGbY8BMvof5y0RERFQIDJjJt2SlAcc2GC8zYCYiIiIHMGAm33JsPZCTAZSPAiIauro1RERE5AEYMJNvMZ/dz2BwdWuIiIjIAzBg9iCTJk1Cs2bNEBMT4+qmeH7+cr0erm4JEREReQgGzB5k9OjRiIuLQ2xsrKub4pmuXABObTNers+AmYiIiBzDgJl8x5HVADQgojEQVt3VrSEiIiIPwYCZfLCcHHuXiYiIyHEMmMk3B/wREREROYgBM/mGS8eB8wcBgx9Qp4urW0NEREQehAEz+VbvcvV2QNkKrm4NEREReRAGzGRb0kng8Erjuac7xHQMIiIiKpqAIj6OvN2WacC8pwEt15jGMOAzoN1weCRNM8tf5oA/IiIiKhz2MFN+0qOsB8tCzuc947k9zYl7gctngICyQM2Orm4NEREReRgGzJTfhfhrwbJOywEuHIJHivvDeF69DRBYxtWtISIiIg/DgJnyq1Q//3UGf+vXe0JqyfL3jJePrTf+T0RERFQIDJgpv4tH8/6vcpg/BcJrwCNTS0w0z04tISIiIpdgwEz5bfoh7//dX/DMAX/n9ntXagkRERG5BANmyiv1HLDnT+Pl6F7XrvNEBxZ7T2oJERERuQwDZspr2/+AnEwgqg3Q4i7jdZ7YI3s8Ftjw9bWUEnXu75mpJURERORSrMNM1+TmApunGC93eOhaT6xUzfAkGSnAnIeN6RctBgG93zIG/bI8DJaJiIiokBgw0zUyuYcElsFhxt7lrCvG65NOANkZQEAwPMLfY4GLR4DwWkD/icapsBkoExERURExJYPyD/ZrNRgIDgVCIoGg8saBc5aVM9xV3J/A1umSfwHc+bUxWCYiIiIqBgbMZJSSAOxbYLzcfoTx3GAAKtXznLSM5FPAvKeMl7s8DdTt6uoWERERkRdgwExGW38CcrOBWp2Aai2uXV852nh+Pt7986/nPgakXQSiWgM9X3V1i4iIiMhLMGAmIDcH2Dw1b++yrlK0Z1TK2DAZOLQcCCgLDPwOCAhydYuIiIjISzBgJuDgEiDpOFCmAtD8jry3eUKljDO7gX/fMF7u+w4Q2cjVLSIiIiIvwoCZrg32azMMCCyb9zZTSoab9jBnpQOzHzbWjm7UD+gw0tUtIiIiIi/DgNnXScm4A4usp2OYp2RID7SUlnM3S94EzsYZK3rc9qVxoCIRERGREzFg9nVbphnLxtXtZj2VISTCWFoOmrG2sbtIOgms/hRY/5Xx/9snAaGRrm4VEREReSFOXOLLcrKNAbNo/6D1+0iPbeX6wOntxkoZkY1LtYlWm7RtOrDgOWOgL+p0BRr1dXWziIiIyEuxh9mX7f8bSDkNlIsAmg6wfT83qpRRJvMC/M2DZXFsnbHHmYiIiKgEMGD2Zfpgv7b32Z/22o0qZYRmJMBgHiwLLcctgnkiIiLyTgyYfdWFw0D8EuPl9g/Yv68bTV5yObgaNMuBfQb/a0E9ERERkZMxYPZVW65OVBJ9Y8HBpikl4zBcLT2oErRGt+YNlgd8CoTXcGWziIiIyItx0J8vys4Etk43Xu7wUMH31wNqKS0ndY8Dy8Clcq6Wt5Oay93GMFgmIiKiEsUeZl+09y8gNREIrWac7KMgUlouOMw9SstpuTCc2Gi83OZeBstERERU4hgwu0BKSgoeffRRVK9eHSEhIWjbti1+++230muAPtiv3XDAP7Dg+0vOsGngn2sH15VPPw1D+iUgoCwQ1cqlbSEiIiLfwIDZBZ599lksX74cM2fOxM6dOzF48GDcc8892LFjR8m/+JHVwJFVEgUbA2ZHuUmljEqp+40XanZwLNgnIiIiKiYGzC6wfv16PPjgg+jatSvq16+Pl19+GeHh4diyZUvJvrBMUjJFHzCnAYeWOf5YN6mUUfny1YC5dmeXtoOIiIh8h88EzNOnT8cjjzyCDh06IDg4GAaDAVOmTLH7mNjYWNxyyy2oUKGCSp3o3Lmz6hUuruuvvx5//PEHEhISoGkaZs2ahYyMDPTo0QMlRib2mPe0MVDWzXvG8Qk/3GTyElMPMwNmIiIiKiU+UyVj3LhxOHr0KCIiIhAVFaUu27Ns2TL07dsXZcqUUekS5cuXx+zZszFkyBAcP34cY8aMKXJbPv/8czz00EOqHQEBAShXrhzmzJmDevXqocRIKoWtCT8cGTjnDjnMKacRkpkIzeAHQ82OrmsHERER+RSf6WH+7rvvcOTIESQmJqoBd/ZkZ2dj1KhR8PPzw8qVK/HNN99g4sSJ2L59Oxo1aoRXXnklX8A9duxY1Wtt76T77LPP1HMtXLgQmzZtwgsvvKAC8bi4uBJbfvhbmcmvMBN+6CkZSSeMpeVcwFQdo0pzoIxU7SAiIiIqeT7Tw3zTTTc5fN+lS5ciPj4eI0aMQJs2bUzXS56xBMuSfzx16lS8/vrrptukx1muL0haWhpee+01zJs3T/Vgi9atW2PFihX46quv8OWXX6JErJ+U9//CTvhRrjIQHA5kJBlLy1VpgtJmOL5BnefW6gT/Un91IiIi8lU+EzAXhlSwEH369Ml3mx7kSoBrLjIyUp0KkpWVpU7+/nlDPvk/N9ciZeIqyW+Wky45OTnPcxXEcGwtAuL+UKkM2ffMhME/AFrF+kBYdXmSAh9vamPFuvBL2I7ss/ugVbza41yK/I+tU+fZUe2RW4h2ezp9Gzuyrb0Jl5vL7Qu43L653OR5GDBbceDAAXXesGHDfLdVq1YNoaGhpvsUVlhYGLp164bnn39e9SZLLeY///wTixcvxoIFC6w+5r333sObb75pNc9a8p/t0nLRY994VJCKcpVvwI69V67esO3qyXHt08uipsx7snYB4ku5WEZAThpuObNLXV5+KAPpJ6yvK28m7xFfxOX2LVxu3+Jry33liv4dTJ6GAbMVSUlJphQMW0Gvfp+i+PXXX/HSSy/h7rvvVs/ToEEDVbFD7722JGXnnnvuuTw9zLVq1ULPnj1RuXJlu69l2P4zArYdhRZcHjXv+wo1Zda+IvJbsR1YvR5Nqwaj8S23oDQZDq+AYYeGK0ER6NZ/CAIDA32qR0K+VHr37s3l9gFcbi63L/DV5T5//ryrm0BFxIDZBaRX+aeffnL4/lIGT06WZCdjd0eTkQIsf1ddNPR4CYEVolAsEcYed/9Lh+Ff2ju4k7Hq7HxII1QraLm9VIHb20txuX0Ll9u3+Npy+9KyehufqZJRGHrPsq1eZOnhtdX77FZWfwJcPmOshNHxkeI/n2nyEheUlruav3whJH+aDBEREVFJYsBshZ67bC1PWSYbuXz5stX8Zrdy8Siw9mrFjT7vAAFBxX9OffKSZCktl4ZSk5MNnNikLp4PbVR6r0tERETEgNk6fca9f/75J99tixYtynMft/XveCAnA6jXHWjspHzjcpWMpeWElJYrLWd2Almp0ILDkFLGwTJ4RERERE7CgNmKXr16oX79+vj555+xbdu1ShKSojFhwgQEBQVh+PDhcFtH1wG7fwcMfkDf9wCzSVOKRZ6n8tWJTs6XYpmMY+vVmSaz+8kyEREREZWiAF+a6W/16tXq8s6dO03X6TWXu3btiocfflhdlumq5TapWtG9e/c8U2PLDH8fffQR6tatW+rLMGnSJHXKycmxfSep5fz3WOPldsOBai2c2whJyzi1tXSnyL6av6zV6gQUvTgJERERUZH4TMAswbLMzmduzZo16qTTA2YhJdvkMePHj8eMGTNUCZyWLVvigw8+UNNYu8Lo0aPVye6gwx2/Aqe3AUHlgZ7jnN8IfSrtC6XUw6xpwLENZgHzpdJ5XSIiIiJfC5ilzrGcCqNjx45YuHAhPEbGZeDfqxOc9HgBCC145sGiV8oopYBZcqUvJwB+gdCi2gK7lpXO6xIRERFdxYRQb7LmU2NwWbEu0OnRknkNvVLGhcMozfxlVG8LBJYtndckIiIiMsOA2VtcOgas/cKsjFz+iU6cmpJRWqXlruYvo3ankn8tIiIiIisYMHuLf98AstOBut2AJreW3OtIabky4aXXy6z3MNe+ruRfi4iIiMgKBszeQAbF7Zotdd+Afk4sI2eNPLcpLaOEK2VcuQCc22e8LAP+iIiIiFyAAbMHkZJyzZo1Q0xMjJ0yci1LviGlVSnjuLE6BiIaASERJftaRERERDYwYPYgUlIuLi4OsbGx167cMQM4tcVYRu7GEigj58pKGXr+MnuXiYiIyIUYMHsy6eFd9IrxcvfngdAqpfO6pZWSwfxlIiIicgM+U4fZGwX80BvQi2EEh5XeC5tSMkowYM5KN84oKGp3LrnXISIiIioAe5g9mAHatX8WPA8knSzdlIzkk0DmlZJ5DQmWczKBkCrXAnQiIiIiF2DA7C20nJJPkdCVrXittJzMxFei9Zc7l2zVDyIiIqICMGD2Fgb/0uuJzVNaLr6E85eZjkFERESuxYDZg2nwvxYsD/gUCK9Rei9ekpUypFSeXlKOATMRERG5GAf9eVgdZjnl5OSo/7MfWQVoF409y6UZLJf0wD+ZrCT9EhBYDqjWyvnPT0RERFQI7GH25DrM5aOAet1KP1gu6dJyev5yzQ6Af6Dzn5+IiIioEBgwk/ulZOj5y7WYjkFERESux4CZipeSkXLK+aXlOOCPiIiI3AgDZiqacpWAMhWMly8edt7zJp8CLh0FDH5AzRjnPS8RERFRETFgJvdKy9B7l6u2AMqU4uyFRERERDYwYCb3qpTBdAwiIiJyMwyYqehKYvKS4wyYiYiIyL0wYCYnpGQ4qYc5IwVI2Gm8zAoZRERE5CYYMHsQmbSkWbNmiImJ8c6UjBOxgJYLVKjtmtrSRERERFYwYPbkiUu8rbQc6y8TERGRG2LATMUrLVe2ovN6mfUZ/pi/TERERG6EATO5R1pGThZwYrPxcu3rit8uIiIiIidhwEzuUSlDBvtlpQJlwoHIJk5pGhEREZEzMGAm95i8xJS/3Anw49uSiIiI3AcjE3JSSkYxp8dm/jIRERG5KQbM5PqUDE0Djm8wXmb+MhEREbkZBsxUPJX10nKngczUoj3HxcPA5TOAfxBQvZ1Tm0dERERUXAyYqXikrJyptFwR0zL2LTSeV2kGBJZxXtuIiIiInIABM7k2LWPLNGDRq8bLp7cb/yciIiJyIwyYPYjbTY1d3EoZSSeBeU9LEvPVKzRg3jPG64mIiIjcBANmD+J2U2MXd/IS6ZHWcvNep+U4Z9ZAIiIiIidhwExOTMkoZKB75UL+6wz+1wJwIiIiIjfAgJmcVymjMCkZKWeAhS9e/cdw9cwfGPApEF7D+W0kIiIiKqKAoj6QyETvEb6cYCwtFxRi//65OcDskcZScpFNgSE/ASkJxudhsExERERuhj3M5KTScpUcT8tY/h5wZBUQGAIMngZENATqdWOwTERERG6JATOVbqWMA/8CK/9rvHzb50Bko5JvGxEREVExMGCm0quUkXQCmDPKeLnDSKDloNJpGxEREVExMGCm0pm8JCcLmDUCSLsARLUG+k4o1eYRERERFRUDZnJySoaNHuZ/3wBObASCw4G7p3IKbCIiIvIYDJjJOSrVs52SsWcesO5L4+U7vrp2XyIiIiIPwICZnJuSIaXlMi5fu/7CYWDuaOPl654Amt7qmvYRERERFREDZnKOshWAcpXz9jJnpQOzHgAykoBanYCb3nBpE4mIiIiKggGzB5k0aRKaNWuGmJgYeESljEUvA6e3G2s0D/oR8A90afOIiIiIioIBswcZPXo04uLiEBsbC7evlLFjFrDpB+O013d9y0lJiIiIyGNxamxyfqWMnbOv9TJ3fwFocJNLm0VERERUHAyYyXmSThrPz+42nsuU1zeMdWmTiIiIiIqLKRnkvGB567S818k02SkJrmoRERERkVMwYCbnkLxlLTfvdfK/vamyiYiIiDwAA2Zy3oA/g8XbyeB/rXIGERERkYdiwEzOIVUwBnxmDJKFnA/4lNUxiIiIyONx0B85T7vhQHQvYxqG9CwzWCYiIiIvwICZnEuCZAbKRERE5EWYkkFEREREZAcDZiIiIiIiOxgwExERERHZwYCZiIiIiMgOBsxERERERHYwYCYiIiIisoMBMxERERGRHQyYPcikSZPQrFkzxMTEuLopRERERD6DAbMHGT16NOLi4hAbG+vqphARERH5DAbMRERERER2MGAmIiIiIrIjwN6N5J40TVPnKSkpCAwMhK/IysrClStXkJyczOX2AVxuLrcv4HL71nLL97b59zh5DgbMHuj8+fPqvF69eq5uChERERXhezw8PNzVzaBCYMDsgSpVqqTOjx075lMfOOmJqFWrFo4fP46wsDD4Ci43l9sXcLm53L4gKSkJtWvXNn2Pk+dgwOyB/PyMqecSLPvSjkYny8zl9h1cbt/C5fYtvrrc+vc4eQ5uMSIiIiIiOxgwExERERHZwYDZAwUHB2P8+PHq3JdwubncvoDLzeX2BVxu31pub2DQWNuEiIiIiMgm9jATEREREdnBgJmIiIiIyA4GzEREREREdjBgJiIiIiKygwEzEREREZEdDJhLWWxsLG655RZUqFABISEh6Ny5M2bOnFnk57t48SJq1KgBg8GAfv362bzfokWL0KNHD5QvX17NqtSzZ08sWbIE3rzccput04MPPghPWO4pU6bYXY7ly5eXyOt64nLXrVvX5v1vuOEGlAZnrfezZ8/i2WefRcOGDVGmTBlUrlwZ1113HSZPnuzVn+/CLLc3fL7tvWf106pVq7xuexdlub1he4tTp07h6aefRrNmzdRzVK1aFV27dsVPP/2EnJwcq49x9fYmI06NXYqWLVuGvn37qi+Ce+65R735Z8+ejSFDhuD48eMYM2ZMoZ/ziSeeUHPT2zN9+nTcf//9iIyMNO1YZsyYgd69e6sP+6BBg+CNyy3q1KljdWfapk0blDRnLvftt99utc3yxVOSr+tJy61PF//MM884fH93XO5t27ahT58+6qCwf//+6vN5+fJl7NmzB/PmzcNjjz3mlZ/vwi63N3y+5b166dKlfNefO3cOkyZNQsWKFRETE+N127soy+0N2/vQoUPo1KkTzp8/r55rwIABSE5Oxty5czF8+HAsXboUP/74o1ttbzIjdZip5GVlZWnR0dFacHCwtnXrVtP1ly5d0ho1aqQFBQVpR44cKdRz/vbbb1JDW/vyyy/Ved++ffPd58KFC1qFChW0iIgI7fjx46br5bJcJ6fk5GTN25ZbyG09evTQXMFZy/3jjz+q5ZDz0nxdT1tuUadOHXVyBWctd1JSkla7dm0tMjJS2759u9XX8cbPd2GX21s+37Z89NFHavmefPJJr9zehV1ub9nejz32mFqOTz/9NM/1Fy9eVO9/uc38eVy9vSkvpmSUEjlyjI+Px7Bhw/IcDUuP2CuvvILMzExMnTrV4edLTExUPS5y5Cm9MbbMmjVLHck/+eSTqFmzpul6uSy9tHJE//vvv8PbltvVnL3c7v667vL6ruKs5f7qq69w7NgxvP/++2jVqlW+2wMCArzy813Y5Xa1kn6ff//99+p85MiRXrm9C7vcruas5ZYeZiFpHeYkxUPSMoRsQ3fZ3pSXe+2FvJiecyk/OVqSn2bEihUrHH6+Rx99FP7+/vjss8/spiYU9LpvvPGGel35OcibllsnO5tvvvlG7VgqVaqELl26oGXLlihpzl7urVu3qp/xsrOzVXrBTTfdpPI7S/p1PWW5dRkZGSr/WfIEJddPftaVn0BLmrOWW35qlZzMu+66C/v27cM///yDtLQ0NGnSROXqBwUFeeXnu7DL7W2fb3Nr165VaSgdOnRA69atvXJ7F3a5vWV7t2jRQuUjL1iwQOUxmy/XmjVrUK1aNZXb7C7bmyxY9DhTCRk0aJD6uWXTpk1Wbw8NDdVq1arl0HP99NNP6rnmzp2r/j98+LDN1IQOHTqo286dO5fvNrlObuvWrZvmbcst5DZrp379+mlnzpzRSpKzlltPTbA8lS1bVnv//fdL7HU9bbmFpGNYe0xMTIx28OBBrSQ5Y7kzMjI0f39/rUqVKtrbb7+t+fn55VmO+vXrazt27PC6z3dRlttbPt/WPPTQQ+q5v/7663y3ecP2Lspye8v2TkhIUCkcBoNBtfvFF1/UHn30Ua1atWrqfb5u3Tq32t6UF1MySoneGyo/4VgjvWGO9JhKz9lTTz2FoUOHqgFRxXldeU3z+3jTcgsZhCG9FtIbIQMr5PLNN9+Mv//+G7feeqvNEcnutNz16tXDF198gf379+PKlSs4ceIEpk2bpnpXxo4dq24ridf1tOUWI0aMUCPHz5w5g9TUVNU7Lak7MrK9V69eSElJgTsv94ULF9R7UnrU33rrLXz44YdqWWTZX3vtNRw+fFgNEkpPT/eqz3dRlttbPt+WZJCjDOQqV66c2tcV5nU9ZXsXZbm9ZXtLRYx169apX02k3fJe//rrr9VjpZfYsmfd1dubLFgE0FRCevfurY4GDxw4YPX26tWra2FhYQU+z80336x6YhITE03X2etpbdiwobrN2qCZzMxMdVurVq00b1tuW3JyctTAEXnc7NmzNXdfblt27dqllSlTRqtUqVKebVvSr+uuy23P/fffr9o0ceJEzZ2X++TJk6Zes6effjrf7YMHD1a3yS8t3vT5Lspye+vn+7vvvlPP+8ADD1i93Ru2d1GW21u2tzy+SZMmqud41apVWkpKihrA995776lfWa677jotOzvbbbY35cUe5lKiHyHaOhqUI2ZbR686GVSwcOFCVXYnIiKi2K8rr2l+H29ablv8/PwwatQodVlyxtx5ue1p3ry5GiQivXOS91dar+uuy23PI4884hHb2/z22267Ld/t+nWbNm3yqs93UZbbWz/f+qC3hx9+uNCv6ynbuyjL7S3bW8rCHT16VJVJlP1YaGioGsAnv5rJwD7pff7111/dZntTXgyYS4kU4hcHDhzId1tCQoL6SUq/jy3yE7O4++678xRtl5+vhQwmkP/NR/Hae139uoJe1xOX2x496Jaf7d15uYuyHKXxuu643M68v6uWWyYxkMl49FHzlvTrZDCcN32+i7Lc3rC9LcXFxamASQY66hUTCvO6nrK9i7Lc3rC9JSVMgvqmTZuqwX2WZDIS8+87d9jelBcD5lIis/QIGf1tSQI+8/vYIjNeSbkdy5MUThdypCr/Dxw40Kmv64nLbc+GDRtKfDKLkl7vkq+n97hJMf/Sel13XW5v2d433nijKYiwpF9nvhzesr0Lu9zesr0LW1LNW7a3M0vJecr2ltJzlmXjLEumiuDgYKe+LjmRRYoGlRDJQZJRsPYKn0tOru7UqVPanj171O0FsZfLK4XPw8PDXVro3hXLLaPqJcfL0po1a7Ry5cppgYGBJVo5wVnLbW1UtuS4Pf/882rZe/bsWazX9ZblludITU3N9xi5Xkagy2NWrFihuftyy/tT2tq8eXM1mYHu9OnTWo0aNVQFiX379nnd57uwy+0tn2+dLItM2iLttlfxwVu2d2GX21u2d+PGjdX7/Ntvv81zvbznJbdZblu8eLHbbG/KiwFzKVq6dKn6YJcvX14bNWqU9txzz5lKYckMR+Zk8IOjM50VNPhNL8cmO6YnnnhCneSylLaZOXOm5o3LLc8jO5M77rhDzRolryn3k2WWL9/JkydrnrDc+qCO++67T3vppZfU88gOWq6vWbOmFh8fX6zX9ZblHj9+vHq9/v37a48//rj2wgsvaLfffrtqhzzm5Zdf9ojlFvI4uU3KVMmyyHPJgFe5bsKECV77+S7McnvL59ty9tKBAwcW+Lresr0Ls9zesr0XLFigBQQEqNt69eqlOgBGjhyptp9cd9ddd7nd9qZrGDCXsg0bNqj6izKiVmrKduzYUfv111/z3c+ZAbNYuHChqtcYEhKiakbKyGLzI1lvW+45c+aogKlevXpqmWVHJ1/EQ4cOVW3xlOUeM2aM1qVLF61q1apqGWRZWrdurY0bN071PhT3db1luZcvX66qKciocnlN+VKSnmV5DyxatEjztPe5XC8j6aX3TJa9a9eu6j3t7Z9vR5fbWz7f5lWA5HYJqBzhLdvb0eX2pu29ceNG7e6779aioqLUfkq2n9SK/+KLL/JUyHCn7U1GBvnjzBQPIiIiIiJvwkF/RERERER2MGAmIiIiIrKDATMRERERkR0MmImIiIiI7GDATERERERkBwNmIiIiIiI7GDATEREREdnBgJmIiIiIyA4GzEREREREdjBgJiIiIiKygwEzEZEH0TQN7du3R58+fYr9XPv27UNAQAC++uorp7SNiMhbMWAmIrLhxx9/hMFgwNtvv233funp6ahbt64KPrdv316ibZo2bRq2bNmCt956y3TdsGHDVDt/+eUXu49NTk5GuXLlUKFCBaSlpaFx48YYOnQo3nzzTaSkpJRou4mIPBkDZiIiG1q2bKnOd+3aZfd+H330EY4ePYr//Oc/aN26dYm1Jzc3F2+88Qa6deuGzp07m64fOXKkOv/hhx/sPl4CagmUJUguW7asuu7FF1/E2bNn8fnnn5dYu4mIPJ1Bk9/3iIgoHwkuQ0ND0aRJE+zevdvqfU6dOoVGjRohODgYBw4cQKVKlUqsPfPnz8ett96Kb7/9Fg8//LDpetmNR0dHq6D98OHDqF27ttXHd+rUCRs3bkRsbCw6dOhgul6C/KSkJBw6dAh+fuxHISKyxD0jEZEN0gvboEEDFQhnZWVZvc/YsWORmpqKd955p0SDZfMUkbvuuivP9XLdiBEjVA+03McaCfglWG7VqlWeYFkMHjxYBdvLli0r0fYTEXkqBsxERAWkZUiwvHfv3ny3SQA6ffp01UMr6RglSXqRJaCVvOOKFSvmu/3BBx9UvcNTpkxR97WkB9J6+oa56667Tp0vWbKkRNpOROTpGDATEdkhPbLCWkrGM888o4LTL774Av7+/iXajj179uDChQuqQoY1tWrVUpUzjhw5gqVLl+a5LTs7WwX2kjZy33335Xus3uO8Zs2aEmo9EZFnY8BMRFSEgX8///wz1q1bh3vuuUcNwitpJ06cUOdVq1a1eR9bg//++usvnDlzBrfffrvVtJGwsDCUKVPG9BpERJQXA2YiIgd6mM0D5itXruCll15CSEgI/vvf/5ZKO86fP6/OpSScLRIQR0ZG4vfff1eD+HR6AG0tHUMngfS5c+ec2mYiIm/BgJmIyI769eurwNg8YP7www9Vb+wrr7yCmjVrlko79DJwUvPZlsDAQNx///2quof0gIuEhAQsXLhQVc646aabbD5WHiM1momIKD8GzEREdkgFiubNm6tybdKzLIGy9CpLGbcxY8bku7/kC0utZLld0hxq1KihAmvdqlWr0LFjR3Vbly5dMG/ePJX/LM9tj/QcC8ljtkfvRf7+++/V+U8//aTaJFU0bJWMk+oa0iOtvwYREeXFgJmIyIG0DAkq4+LiVCqGBLeffPKJGkRnSWYFlJxhqVYhU0/LYLs2bdqo27Zu3Yp+/fqp1IkdO3ao4PaBBx5QwXVBvbsStEvAK89pT7NmzdSkJps3b1avoZeik4DZFimbJ8un52sTEVFeARb/ExGRBT2Q/O6771SqgwS9AwYMsHrfxYsX44477jANBKxTp47ptieffBL33nsvXn31VfW/THgyadIklfZREMldlsB906ZNKri1N8GIBOLr16/H448/rqpr9O7dO087LG3YsEGd9+jRo8B2EBH5IvYwExE5OPDv//7v/1Se8Keffmrzvv3798f48eNVQC3pEJcvX1bXx8fHq7JterCsk15q/fkLcueddyIlJUUFw/YMGTJE5V3rZeLsDfbTg/yAgAA1iyAREeXHgJmIqADmqQpPP/20mjzEFgmId+7cqdIiJJdZUiQkP3jbtm2qEoV5T29OTo5Kh3A0YJbpsCWwlTQPe8qXL69m7xPymtLjbYukl8ydO1cFy9WrV3eoHUREvsagWZsSioiIiu3UqVNq0J9U2Ni/f7+aNCQ5Odk0yYkEvlLVQgYU1q1b16HnlPvPnz9fTWUtgXFxSZrJqFGjsGLFCnTv3r3Yz0dE5I0YMBMROckHH3ygAmSZOU/yjCdOnIi1a9eqgPn06dMqV/n5559XAapMqy0zBUoPr3nN5IJIoNykSRO89tpreapvFIVUz5A8aulB/+OPP4r1XERE3owpGURETiI1kqVKhlTF6NmzpwqG//77b9WjLPWav/nmG0ybNg2tW7fGn3/+iWHDhqkSc4UhKR1Tp051Su/ysWPHMHz4cHz88cfFfi4iIm/GHmYiIhfIyMhA27Zt8dRTT+HRRx91dXOIiMgOBsxERKVg5cqVanpr6X2W3Oa33npLpWlImbigoCBXN4+IiOxgHWYiolIgwfHYsWPVuVSjkPJzM2bMYLBMROQB2MNMRERERGQHB/0REREREdnBgJmIiIiIyA4GzEREREREdjBgJiIiIiKygwEzEREREZEdDJiJiIiIiOxgwExEREREZAcDZiIiIiIiOxgwExERERHZwYCZiIiIiMgOBsxERERERLDt/wFaj2LymjOryAAAAABJRU5ErkJggg==",
      "text/plain": [
       "<Figure size 640x480 with 1 Axes>"
      ]
     },
     "metadata": {},
     "output_type": "display_data"
    }
   ],
   "source": [
    "#Plot data in log scale\n",
    "vsgp=vdd-vgp_actual # compute the gate voltage from Vdd for plotting more sensibly\n",
    "plt.semilogy(vsgp, idp_meas,'.-') \n",
    "plt.semilogy(vsgp, isp_meas,'.-') \n",
    "plt.xlim(0.4,0.8)\n",
    "plt.legend(['$I_d$','$I_s$'])\n",
    "\n",
    "plt.xlabel('$V_{sg}$ (V)')\n",
    "plt.ylabel('$I_{s}$ (A)')\n",
    "plt.title(f'Fig. 3.2 PFET Source current vs gate voltage with Vsd={vs_p-vd_p}V')\n",
    "plt.grid(True) # turn on grid\n",
    "plt.show()\n",
    "\n",
    "# Id_corrected=Id_meas-Id0 # compute the current with offset subtracted\n",
    "# note that this correction could make estimate of I_0 (the off current) meaningless?  \n",
    "# or could you still estimate it from the intercept of the fit to the currents?\n"
   ]
  },
  {
   "cell_type": "code",
   "execution_count": 64,
   "metadata": {},
   "outputs": [
    {
     "name": "stderr",
     "output_type": "stream",
     "text": [
      "\u001b[0;36m[INFO]: 2025-09-30 15:08:39,836 - saveloadvars - Saved to data/lab2/lab2.dill variables [ datapath timers times vs_n v vd_n vg_n ids_n I0n n_samples vgn_low vgn_high vgn_set vgn_actual idn_meas isn_meas delay n idn_corrected idlog vg_masked vg0 vg1 x y fit idn_fit i0n U_T q v_per_efold kappa kappa_n v_per_efold_n vdd vb_p vs_p vd_p vg_p ids_p I0p vg_high vg_low vgp_set vgp_actual isp_meas idp_meas vsgp pre nfet_label pfet_label ut log_in_smooth k_n i0p kappa_p v_per_efold_p ] (File \"/Users/mariusfauteux/Documents/CoACH-labs/.conda/lib/python3.9/site-packages/jupyter_save_load_vars.py\", line 219, in savevars)\u001b[0m\n",
      "\u001b[31;21m[WARNING]: 2025-09-30 15:08:39,837 - saveloadvars - could not pickle: ['p', 'd', 'Q', 'idix', 'idx', 'n_spline'] (File \"/Users/mariusfauteux/Documents/CoACH-labs/.conda/lib/python3.9/site-packages/jupyter_save_load_vars.py\", line 221, in savevars)\u001b[0m\n"
     ]
    }
   ],
   "source": [
    "# if the data looks good it might be good to save it too\n",
    "savevars(datapath/'lab2')"
   ]
  },
  {
   "cell_type": "markdown",
   "metadata": {},
   "source": [
    "#### Fitting an exponential to the PFET data\n",
    "\n",
    "* <font color=#108ee9>Fit a line to the valid region in log plot and try to extract $I_0$ and $\\kappa$.</font>\n",
    "\n",
    "We have adapted the NFET code for you; you can just adjust it for your data.\n",
    "\n",
    "* <font color=#108ee9>Can you improve the fit and curve by subtracting $I_{\\rm leak}$, the instrumentation leakage current?</font>"
   ]
  },
  {
   "cell_type": "code",
   "execution_count": 86,
   "metadata": {},
   "outputs": [
    {
     "name": "stdout",
     "output_type": "stream",
     "text": [
      "Current range: 3.66e-09 to 1.00e-06 A\n",
      "Voltage range: 0.401 to 1.401 V\n",
      "Number of points in fitting range [0.4V to 0.8V]: 199\n",
      "Current range in fit: 1.49e-08 to 9.99e-07 A\n"
     ]
    },
    {
     "data": {
      "image/png": "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",
      "text/plain": [
       "<Figure size 640x480 with 1 Axes>"
      ]
     },
     "metadata": {},
     "output_type": "display_data"
    },
    {
     "name": "stdout",
     "output_type": "stream",
     "text": [
      "Exponential fit between 0.4V and 0.8V:\n",
      "i0n = 5.62e-11 A (3.51e+08 e/s)\n",
      "inverse slope = 7.42e-02 V/e-fold\n",
      "kappa = 0.337 (U_T = 2.50e-02 V)\n"
     ]
    }
   ],
   "source": [
    "idn_corrected = idn_meas # use raw measured current without offset\n",
    "\n",
    "# Debug: Check data range\n",
    "print(f\"Current range: {np.min(isp_meas):.2e} to {np.max(isp_meas):.2e} A\")\n",
    "print(f\"Voltage range: {np.min(vsgp):.3f} to {np.max(vsgp):.3f} V\")\n",
    "\n",
    "# Find indices where current is positive for log fit\n",
    "idix = np.where(isp_meas>0)\n",
    "idlog = np.log(isp_meas[idix])\n",
    "vg_masked = vsgp[idix]\n",
    "\n",
    "# Set voltage range for fitting - use lower range where current varies\n",
    "vg0 = 0.4  # lower limit\n",
    "vg1 = 0.8  # upper limit - reduced to avoid saturated region\n",
    "\n",
    "# Get data points within voltage range\n",
    "idx = np.where((vg_masked>vg0) & (vg_masked<vg1))\n",
    "x2 = vg_masked[idx]\n",
    "y2 = idlog[idx]\n",
    "\n",
    "# Debug: Check fitting data\n",
    "print(f\"Number of points in fitting range [{vg0}V to {vg1}V]: {len(x)}\")\n",
    "if len(x) > 0:\n",
    "    print(f\"Current range in fit: {np.exp(np.min(y)):.2e} to {np.exp(np.max(y)):.2e} A\")\n",
    "else:\n",
    "    print(\"WARNING: No data points found in fitting range!\")\n",
    "\n",
    "# Fit line to log(Id) vs Vg\n",
    "fit = stats.linregress(x2,y2)   \n",
    "idp_fit = np.exp(fit.intercept + x2*fit.slope)\n",
    "i0p = np.exp(fit.intercept)\n",
    "\n",
    "# Calculate parameters\n",
    "U_T = 25e-3  # thermal voltage\n",
    "q = 1.6e-19  # elementary charge\n",
    "v_per_efold = 1/fit.slope\n",
    "kappa = U_T/v_per_efold\n",
    "\n",
    "# Plot results\n",
    "plt.semilogy(vsgp, isp_meas, '.-', label='measured')\n",
    "plt.semilogy(x2, idp_fit, '-', label='fit')\n",
    "plt.xlim(0.4,0.8)\n",
    "plt.xlabel('$V_{sg}$ (V)')\n",
    "plt.ylabel('$I_d$ (A)')\n",
    "plt.title('PFET Drain Current vs Gate Voltage')\n",
    "plt.grid(True)\n",
    "plt.legend()\n",
    "\n",
    "# Save plot\n",
    "os.makedirs('data', exist_ok=True)\n",
    "plt.savefig(datapath/'lab2-nfet-ids-vs-vgs-fitted.pdf')\n",
    "plt.show()\n",
    "\n",
    "# Print results\n",
    "print(f'Exponential fit between {vg0}V and {vg1}V:')\n",
    "print(f'i0n = {i0p:.2e} A ({i0p/q:.2e} e/s)')\n",
    "print(f'inverse slope = {v_per_efold:.2e} V/e-fold')\n",
    "print(f'kappa = {kappa:.3f} (U_T = {U_T:.2e} V)')\n",
    "\n",
    "# Save parameters for later\n",
    "kappa_p = kappa\n",
    "v_per_efold_p = v_per_efold"
   ]
  },
  {
   "cell_type": "markdown",
   "metadata": {},
   "source": [
    "## Final summary plot of subthreshold transconductance behavior\n",
    "\n",
    "* <font color=#108ee9>Plot NFET and PFET offset-corrected data together in one plot.</font>\n",
    "\n",
    "Use `plt.legend` with f=strings to annotate the sumamry $I_0$ mV/e-fold and $\\kappa$ values for each FET type."
   ]
  },
  {
   "cell_type": "code",
   "execution_count": 105,
   "metadata": {},
   "outputs": [
    {
     "data": {
      "image/png": "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",
      "text/plain": [
       "<Figure size 1200x800 with 1 Axes>"
      ]
     },
     "metadata": {},
     "output_type": "display_data"
    }
   ],
   "source": [
    "# Complete plotting code with available variables\n",
    "plt.figure(figsize=(12, 8))\n",
    "\n",
    "# Plot NFET data\n",
    "plt.semilogy(abs(vgn_actual), abs(idn_corrected), 'o-', label='NFET data', alpha=0.7, markersize=4)\n",
    "\n",
    "# Plot PFET data\n",
    "plt.semilogy(abs(vsgp), abs(isp_meas), 's-', label='PFET data', alpha=0.7, markersize=4)\n",
    "plt.xlim(0.4,0.8)\n",
    "\n",
    "# Add fit lines\n",
    "plt.semilogy(x, abs(idn_fit), '-', label='NFET fit', color='blue')\n",
    "plt.semilogy(x2, abs(idp_fit), '-', label='PFET fit', color='red')\n",
    "\n",
    "pre=0 # digits precision for labels\n",
    "nfet_label=f'NFET: $I_0$={ef(abs(i0n),precision=pre)}A $\\kappa$={ef(kappa_n,precision=pre)}, ${ef(v_per_efold_n,precision=pre)}V$'\n",
    "pfet_label=f'PFET: $I_0$={ef(abs(i0p),precision=pre)}A $\\kappa$={ef(kappa_p,precision=pre)}, ${ef(v_per_efold_p,precision=pre)}V$'\n",
    "plt.legend([nfet_label,pfet_label,'NFET fit','PFET fit'])\n",
    "\n",
    "plt.xlabel('$V_{gs}$ (V)')\n",
    "plt.ylabel('$I_d$ (A)')\n",
    "plt.title('Subthreshold Transconductance Behavior')\n",
    "plt.grid(True)\n",
    "plt.show()\n"
   ]
  },
  {
   "cell_type": "markdown",
   "metadata": {},
   "source": [
    "* <font color=#108ee9>Include here a summary of your final data and what the results mean.</font>"
   ]
  },
  {
   "cell_type": "markdown",
   "metadata": {},
   "source": []
  },
  {
   "cell_type": "markdown",
   "metadata": {},
   "source": [
    "## Clean up"
   ]
  },
  {
   "cell_type": "code",
   "execution_count": 107,
   "metadata": {},
   "outputs": [
    {
     "name": "stderr",
     "output_type": "stream",
     "text": [
      "\u001b[0;36m[INFO]: 2025-09-30 15:30:20,998 - saveloadvars - Saved to data/lab2/lab2_final.dill variables [ datapath timers times vs_n v vd_n vg_n ids_n I0n n_samples vgn_low vgn_high vgn_set vgn_actual idn_meas isn_meas delay n idn_corrected idlog vg_masked vg0 vg1 x y fit idn_fit i0n U_T q v_per_efold kappa kappa_n v_per_efold_n vdd vb_p vs_p vd_p vg_p ids_p I0p vg_high vg_low vgp_set vgp_actual isp_meas idp_meas vsgp pre nfet_label pfet_label ut log_in_smooth k_n i0p kappa_p v_per_efold_p idp_fit x2 y2 ] (File \"/Users/mariusfauteux/Documents/CoACH-labs/.conda/lib/python3.9/site-packages/jupyter_save_load_vars.py\", line 219, in savevars)\u001b[0m\n",
      "\u001b[31;21m[WARNING]: 2025-09-30 15:30:20,998 - saveloadvars - could not pickle: ['p', 'd', 'Q', 'idix', 'idx', 'n_spline'] (File \"/Users/mariusfauteux/Documents/CoACH-labs/.conda/lib/python3.9/site-packages/jupyter_save_load_vars.py\", line 221, in savevars)\u001b[0m\n"
     ]
    }
   ],
   "source": [
    "# maybe you want to save your data?\n",
    "savevars(datapath/'lab2_final') # save your data so you can load it later for better analysis"
   ]
  },
  {
   "cell_type": "markdown",
   "metadata": {},
   "source": [
    "## Postlab"
   ]
  },
  {
   "cell_type": "markdown",
   "metadata": {},
   "source": [
    "_The answers to the postlab should be included below._"
   ]
  },
  {
   "cell_type": "markdown",
   "metadata": {},
   "source": [
    "Today, most processes are double-well or _twin-tub_ both n- and p-wells are implanted in a lightly doped epitaxially-grown p-substrate.  \n",
    "_Epitaxially_ means that the layer is grown atom by atom by chemical vapor deposition, resulting in a very regular and pure crystal structure.\n",
    "\n",
    "The classchips you are using were fabricated in a 180nm process.\n",
    "For an _n_-well device, the _n_-type material of the well is the bulk, while the active areas (source and drain) are _p_-type. \n",
    "The gate voltage must force all the electrons in the _n_-well away from the surface.\n",
    "The resulting depletion region provides a channel for holes through enemy territory (n-well) separating the\n",
    "p-type source and drain.\n",
    "If the bulk is heavily doped, the gate must work harder to repel electrons.\n",
    "\n",
    "Another way of saying this is that the capacitance of this depletion layer and the gate oxide capacitance form a _capacitive divider_ that determines how much of the gate voltage appears at the surface channel.\n",
    "If the depletion layer is thin, the depletion capacitance will be large and hence the divider ratio will be unfavorable."
   ]
  },
  {
   "cell_type": "markdown",
   "metadata": {},
   "source": [
    "**(1)** <font color=#108ee9>How does the thickness of the depletion region depend on the doping density and\n",
    "on the channel (surface) potential? Assume that the doping density is uniform.</font>\n"
   ]
  },
  {
   "cell_type": "markdown",
   "metadata": {},
   "source": [
    "\n",
    "At equilibrium, diffusion of carriers creates a depletion region at the pn-junction that contains only fixed, ionized donor and acceptor atoms no mobile carriers.  \n",
    "The width of this depletion region depends on the doping concentrations and applied voltage with relations summarized in the following formula:\n",
    "\n",
    "$$\n",
    "W = \\sqrt{\\frac{2 \\, \\varepsilon_s}{q} \\cdot \\frac{N_A + N_D}{N_A N_D} \\cdot (V_{bi} + V_R)}\n",
    "$$\n",
    "\n",
    "Where:  \n",
    "- $\\varepsilon_s$ = permittivity of the semiconductor  \n",
    "- $q$ = electronic charge  \n",
    "- $N_A$ = acceptor doping concentration  \n",
    "- $N_D$ = donor doping concentration  \n",
    "- $V_{bi}$ = built-in potential  \n",
    "- $V_R$ = applied reverse bias  \n",
    "\n",
    "In the formula we see how a higher doping concentration ($N_A$ or $N_D$) results in a narrower region, wheres a lower doping concentration results in a wider depletion region. Higher doping densities lead to a narrower depletion region because more ionized atoms are present, creating a shorter distance over which the electric field must drop to zero.  \n",
    "\n",
    "The depletion region width's dependece on surface potential follows the following mathematical relation:\n",
    "\n",
    "\n",
    "$$\n",
    "W_{dep} = \\frac{|Q_{dep}|}{q N_A}\n",
    "$$\n",
    "\n",
    "Where we can substitute the follwing relation for the depletion charge Substituting the expression for $Q_{dep}=2 \\, \\varepsilon_s \\, \\psi_s$:\n",
    "\n",
    "$$\n",
    "W_{dep} = \\sqrt{\\frac{2 \\, \\varepsilon_s \\, \\psi_s}{q N_A}}\n",
    "$$\n",
    "\n",
    "Where:  \n",
    "- $\\varepsilon_s$ = permittivity of silicon  \n",
    "- $q$ = electronic charge  \n",
    "- $N_A$ = acceptor doping density (for nMOS; we would use $N_D$ for pMOS)  \n",
    "- $\\psi_s$ = surface potential at the semiconductor–oxide interface  \n",
    "\n",
    "We here see that the surface potential and deplition width are proptionally related, where the depletion region width grows with the squareroot of the the surface potential:\n",
    "  $W_{dep} \\propto \\sqrt{\\psi_s}$  \n",
    "\n",
    "and like before it is evident that the width decreases with doping density \n",
    "  $W_{dep} \\propto \\dfrac{1}{\\sqrt{N_A}}$  \n",
    "\n",
    "\n"
   ]
  },
  {
   "cell_type": "markdown",
   "metadata": {},
   "source": [
    "**(2)** <font color=#108ee9>Explain why $\\kappa$ varies with the source voltage at constant current (as in the source follower).</font>"
   ]
  },
  {
   "cell_type": "markdown",
   "metadata": {},
   "source": [
    "Kappa is strongly related to gate-oxide and depletion capacitance in the following relation:\n",
    "$$\n",
    "\\kappa=\\frac{C_{ox}}{C_{ox}+C_{dep}}\n",
    "$$\n",
    "To understand the source voltages effect on the kappa, we look at the body effect (for NMOS/source follower in this example). Since the body (bulk) is typically bounded to ground (to ensure no forward bias as the body has lower voltage potential than drain and source at all times), and increase in source voltage will result in an increased voltagedrop for source-body voltage ($V_{SB}$). As a result of this body bias increase, the depletion region under the channel changes (Depletion region widens), thus lowering the depletion capasitance. Looking at the denominator of the aforementioned formula, it is evident that an decrease in $C_{dep}$ results in a increase in $\\kappa$.\n",
    "\n",
    "So $\\kappa$ is not constant — it varies with the body bias (body effect), which in a source follower changes with the source voltage."
   ]
  },
  {
   "cell_type": "markdown",
   "metadata": {},
   "source": [
    "**(3)** <font color=#108ee9>Is there a difference in your measured $\\kappa$ between the n- and p-type devices? Explain the possible reason(s).\n",
    "</font>"
   ]
  },
  {
   "cell_type": "markdown",
   "metadata": {},
   "source": [
    "Yes, and this is again related to the aforementioned formula, where the depletion capacitance $C_{dep}$ varies across NMOS and PMOS. As mentioned before the $C_{dep}$ is directly correlated with depletion region width which in turn depend on the doping concetration, which differs between our PMOS and NMOS. Higher doping results in a narrower depletion region, width increased $C_{dep}$, i.e lower $\\kappa$."
   ]
  },
  {
   "cell_type": "markdown",
   "metadata": {},
   "source": [
    "**(4)** <font color=#108ee9>From your results in the experiments, plot data to test \n",
    "the assumption that $\\kappa$ is constant is reasonable.</font> \n",
    "\n",
    "_Hint:_ You can plot the derivative of $\\log(I_{ds})$ vs $V_{gs}$; how is this slope related to the instantaneous $\\kappa$ value? You will get terrible results unless you smooth the data using e.g. a spline method. Here is a little code snippet to start you on the right direction:"
   ]
  },
  {
   "cell_type": "code",
   "execution_count": 31,
   "metadata": {},
   "outputs": [
    {
     "data": {
      "image/png": "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",
      "text/plain": [
       "<Figure size 640x480 with 1 Axes>"
      ]
     },
     "metadata": {},
     "output_type": "display_data"
    },
    {
     "data": {
      "image/png": "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",
      "text/plain": [
       "<Figure size 640x480 with 1 Axes>"
      ]
     },
     "metadata": {},
     "output_type": "display_data"
    }
   ],
   "source": [
    "# computing slope from raw data is extremely noisy. We use spline here to fit data and then np.gradient\n",
    "# https://docs.scipy.org/doc/scipy/reference/generated/scipy.interpolate.splrep.html#scipy.interpolate.splrep\n",
    "# https://docs.scipy.org/doc/scipy/reference/generated/scipy.interpolate.splev.html#scipy.interpolate.splev\n",
    "from scipy.interpolate import splrep, splev \n",
    "import numpy as np\n",
    "import matplotlib.pyplot as plt\n",
    "ut=25e-3 # thermal voltage\n",
    "log_in_smooth=np.log(idn_corrected) # compute log current\n",
    "n_spline=splrep(vgn_actual,log_in_smooth,k=5,s=3) # compute the spline parameters n_spline\n",
    "k_n=ut*np.gradient(splev(vgn_actual,n_spline),vgn_actual) # evaluate the spline and compute its derivative\n",
    "# plot kappa vs Vg\n",
    "plt.plot(vgn_actual,k_n,'-o',markersize=4)\n",
    "plt.xlabel('V_g (V)')\n",
    "plt.ylabel('kappa')\n",
    "plt.title('NFET kappa vs Vg')\n",
    "plt.grid(True)\n",
    "plt.show()\n",
    "\n",
    "#plot log(i_d) vs Vg\n",
    "plt.plot(vgn_actual,np.log(idn_corrected),'-o',markersize=4)\n",
    "plt.xlabel('V_g (V)')\n",
    "plt.ylabel('log(I_d) (A)')\n",
    "plt.title('NFET log(Id) vs Vg')\n",
    "plt.grid(True)\n",
    "plt.show()"
   ]
  },
  {
   "cell_type": "markdown",
   "metadata": {},
   "source": [
    "We the inverse slope on a semilog plot (voltage per e-fold) to derive kappa:\n",
    "$$\n",
    "V_0 = \\left( \\frac{d \\text{ln}(I_d)}{dV_g} \\right)^{-1} = \\frac{U_T}{\\kappa} \n",
    "$$\n",
    "$$\n",
    "\\Updownarrow\n",
    "$$\n",
    "$$\n",
    "\\kappa = \\frac{d \\text{ln}(I_d)}{dV_g} \\cdot U_T\n",
    "$$\n",
    "as reasoned earlier, the kappa value should increase with the gate voltage. This is not what we observe?"
   ]
  },
  {
   "cell_type": "markdown",
   "metadata": {},
   "source": [
    "* <font color=#108ee9>Comment on your results. Do they show the expected behavior of $\\kappa$ with $V_g$?</font>"
   ]
  },
  {
   "cell_type": "markdown",
   "metadata": {},
   "source": [
    "no it shows quite the opposite - Do you get i Marius?"
   ]
  },
  {
   "cell_type": "markdown",
   "metadata": {},
   "source": [
    "Bravo! If you managed to complete this entire exercise you did very well. "
   ]
  },
  {
   "cell_type": "markdown",
   "metadata": {},
   "source": [
    "## Upload your report (this notebook)\n",
    "<font color=#108ee9>Upload your report to the course dropbox as either HTML or PDF (not ipynb, which is hard for us to assess).</font>"
   ]
  },
  {
   "cell_type": "markdown",
   "metadata": {},
   "source": [
    "## What we expect you to learn\n",
    "Please see the [NE1 exam preparation guide](https://drive.google.com/file/d/1nOq3UbcEv_ik425VBYqcH9hAET7FyIeP/view?usp=drive_link)\n"
   ]
  }
 ],
 "metadata": {
  "kernelspec": {
   "display_name": "Python 3 (ipykernel)",
   "language": "python",
   "name": "python3"
  },
  "language_info": {
   "codemirror_mode": {
    "name": "ipython",
    "version": 3
   },
   "file_extension": ".py",
   "mimetype": "text/x-python",
   "name": "python",
   "nbconvert_exporter": "python",
   "pygments_lexer": "ipython3",
<<<<<<< Updated upstream
   "version": "3.9.6"
=======
   "version": "3.12.5"
>>>>>>> Stashed changes
  }
 },
 "nbformat": 4,
 "nbformat_minor": 4
}
